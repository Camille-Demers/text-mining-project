{
 "cells": [
  {
   "cell_type": "markdown",
   "metadata": {},
   "source": [
    "## **1. Regroupement en sous-corpus**\n",
    "Nous allons extraire automatiquement des tags en déconstruisant les URLs des pages aspirées et afin de créer des sous-dossiers correspondant à différents sous-niveaux dans l'arborescence du site.  "
   ]
  },
  {
   "cell_type": "code",
   "execution_count": null,
   "metadata": {},
   "outputs": [],
   "source": [
    "from pandas import *\n",
    "import os\n",
    "acteurs = []\n",
    "base_path = '../01-corpus/2-data/1-fr/'\n",
    "for file in os.listdir(base_path):\n",
    "    if file.endswith('.csv'):\n",
    "        acteurs.append({'acteur':file[:-4]})"
   ]
  },
  {
   "cell_type": "code",
   "execution_count": null,
   "metadata": {},
   "outputs": [],
   "source": [
    "x = 0 # À modifier manuellement\n",
    "path = '../01-corpus/2-data/1-fr/'\n",
    "acteur = acteurs[x]['acteur']\n",
    "\n",
    "# encoding= 'ISO-8859-1' \"utf-8\"\n",
    "with open(path + acteur  + '.csv', encoding='utf-8') as f:\n",
    "    csv = read_csv(f, sep=';')[[\"Address\", 'Title', 'Type', \"text\"]]\n",
    "\n",
    "csv"
   ]
  },
  {
   "cell_type": "code",
   "execution_count": null,
   "metadata": {},
   "outputs": [],
   "source": [
    "liste = [lien.replace('//', \"/\") for lien in csv['Address'].tolist() if not 'actualites' in lien and not 'propos' in lien and not 'joindre' in lien and not 'communiques' in lien and not 'about' in lien and not 'nouvelles' in lien]\n",
    "print(str(len(liste)) + ' liens.')\n",
    "liste "
   ]
  },
  {
   "cell_type": "code",
   "execution_count": null,
   "metadata": {},
   "outputs": [],
   "source": [
    "\"\"\"\n",
    "0 = http/s\n",
    "1 = //\n",
    "2 = domaine principal (ex. INSPQ)\n",
    "3 = 1e sous-niveau\n",
    "4 = 2e sous-niveau\n",
    "5 = 3e sous-niveau\n",
    "etc.\n",
    "\"\"\"\n",
    "\n",
    "liens = []\n",
    "for i in range (2, 9): # On prend les liens de niveau 2 à 8\n",
    "    try:\n",
    "        liens += [lien for lien in liste if len(lien.split('/')) > i]\n",
    "    except Exception as e:\n",
    "        True"
   ]
  },
  {
   "cell_type": "code",
   "execution_count": null,
   "metadata": {},
   "outputs": [],
   "source": [
    "regroupements = {}\n",
    "\n",
    "for lien in liens:\n",
    "    for i in range(2,9):\n",
    "        try:\n",
    "            tag = lien.split('/')[i-1]\n",
    "            if tag in regroupements:\n",
    "                regroupements[tag].append(lien)\n",
    "                \n",
    "            else:\n",
    "                if len(tag)>1:\n",
    "                    regroupements[tag] = []\n",
    "\n",
    "        except Exception as e:\n",
    "            True\n",
    "\n",
    "tags = list(regroupements.keys())\n",
    "tags = [tag for tag in regroupements if len(regroupements[tag]) > 20]"
   ]
  },
  {
   "cell_type": "code",
   "execution_count": null,
   "metadata": {},
   "outputs": [],
   "source": [
    "tags"
   ]
  },
  {
   "cell_type": "code",
   "execution_count": null,
   "metadata": {},
   "outputs": [],
   "source": [
    "print('Ça nous donne {} tags.'.format(len(tags)))\n",
    "tags"
   ]
  },
  {
   "cell_type": "code",
   "execution_count": null,
   "metadata": {},
   "outputs": [],
   "source": [
    "import os, shutil\n",
    "from pathlib import Path\n",
    "from slugify import slugify\n",
    "\n",
    "# Créer un sous-dossier où on va stocker des nouveaux fichiers CSV correspondant aux sous-corpus\n",
    "folder_path ='../01-corpus/2-sous-corpus/'\n",
    "\n",
    "#Path(folder_path).mkdir(parents=True, exist_ok=True)\n",
    "\n",
    "\n",
    "for tag in tags:\n",
    "    file_name =  acteur + \"_\" + slugify(str(tag).strip('\\n'))\n",
    "\n",
    "    # Aller chercher les documents du sous-corpus dans le CSV du corpus principal et les copier dans un nouveau CSV\n",
    "    try:\n",
    "        data = csv[csv[\"Address\"].str.match('.*[\\-\\_\\/]'+tag+'.*')]\n",
    "        data.to_csv(folder_path + file_name + \".csv\") #encoding='ISO-8859-1'\n",
    "    except Exception as e:\n",
    "        print(tag, str(e))\n",
    "                    "
   ]
  },
  {
   "cell_type": "code",
   "execution_count": null,
   "metadata": {},
   "outputs": [],
   "source": [
    "with open(folder_path + acteur + '_sous-corpus.txt', 'w') as f:\n",
    "    for file in os.listdir(folder_path):\n",
    "        f.write(file + '\\n')"
   ]
  },
  {
   "cell_type": "markdown",
   "metadata": {},
   "source": [
    "_____________________________________________________________________________________________________________________"
   ]
  },
  {
   "cell_type": "markdown",
   "metadata": {},
   "source": [
    "### **Étape d'indexation manuelle**"
   ]
  },
  {
   "cell_type": "markdown",
   "metadata": {},
   "source": [
    "_____________________________________________________________________________________________________________________"
   ]
  },
  {
   "cell_type": "markdown",
   "metadata": {},
   "source": [
    "Après avoir manuellement indexé"
   ]
  },
  {
   "cell_type": "code",
   "execution_count": null,
   "metadata": {},
   "outputs": [],
   "source": [
    "from pandas import read_csv\n",
    "filepath = '../01-corpus/2-sous-corpus/' + acteur + '.csv'\n",
    "with open(filepath, 'r', encoding = 'utf-8') as f:\n",
    "    csv = read_csv(f, sep=';')\n",
    "    \n",
    "csv = csv[csv['Sous-corpus'] != 'x']\n",
    "csv = csv[csv['Sous-corpus'] != 'X']\n",
    "\n",
    "csv"
   ]
  },
  {
   "cell_type": "code",
   "execution_count": null,
   "metadata": {},
   "outputs": [],
   "source": [
    "# tags = list(set([tag for tag in csv['oui/non'].tolist()]))\n",
    "tags = list(set([tag for tag in csv['Sous-corpus'].tolist()]))\n",
    "\n",
    "tags"
   ]
  },
  {
   "cell_type": "code",
   "execution_count": null,
   "metadata": {},
   "outputs": [],
   "source": [
    "regroupements = {tag : [] for tag in tags}\n",
    "for tag in tags:\n",
    "        tuples = csv[csv['Sous-corpus'] == tag]\n",
    "        liste = [str(t).strip('\\n') for t in tuples[\"Dossier\"].tolist()]\n",
    "        regroupements[tag] = liste\n"
   ]
  },
  {
   "cell_type": "code",
   "execution_count": null,
   "metadata": {},
   "outputs": [],
   "source": [
    "regroupements"
   ]
  },
  {
   "cell_type": "code",
   "execution_count": null,
   "metadata": {},
   "outputs": [],
   "source": [
    "import pandas\n",
    "from slugify import slugify\n",
    "\n",
    "# Créer de nouveaux CSV contenant les données regroupées selon le tag qui leur est associé\n",
    "path='../01-corpus/2-sous-corpus/'\n",
    "\n",
    "for tag in regroupements:\n",
    "\n",
    "    # Aller chercher les éléments correspondant au sous-corpus dans le csv principal et les copier dans un nouveau CSV \n",
    "    dfs = []\n",
    "    path='../01-corpus/2-sous-corpus/'\n",
    "    for doc in regroupements[tag]:\n",
    "        with open(path + doc, 'r', encoding='utf-8') as f:\n",
    "            csv = read_csv(f)\n",
    "            dfs.append(csv)\n",
    "\n",
    "    # Concatenate all data into one DataFrame\n",
    "    try:\n",
    "        path='../01-corpus/2-data/1-fr/' + acteur +'/'\n",
    "        file_path = path + acteur + '_'  + slugify(str(tag)) + '.csv'\n",
    "        big_frame = pandas.concat(dfs, ignore_index=True)\n",
    "        big_frame['Sous-corpus'] = tag\n",
    "        big_frame['Corpus'] = acteur\n",
    "        big_frame = big_frame[[\"Corpus\", \"Sous-corpus\",\t\"Address\",\t\"Title\", \"Type\",\t\"text\"]]\n",
    "        big_frame.to_csv(file_path)\n",
    "        print(tag + \"\\t\" + str(len(big_frame)))\n",
    "\n",
    "    except Exception as e:\n",
    "        print(tag, str(e))"
   ]
  }
 ],
 "metadata": {
  "kernelspec": {
   "display_name": "Python 3",
   "language": "python",
   "name": "python3"
  },
  "language_info": {
   "codemirror_mode": {
    "name": "ipython",
    "version": 3
   },
   "file_extension": ".py",
   "mimetype": "text/x-python",
   "name": "python",
   "nbconvert_exporter": "python",
   "pygments_lexer": "ipython3",
   "version": "3.10.4 (v3.10.4:9d38120e33, Mar 23 2022, 17:29:05) [Clang 13.0.0 (clang-1300.0.29.30)]"
  },
  "orig_nbformat": 4,
  "vscode": {
   "interpreter": {
    "hash": "aee8b7b246df8f9039afb4144a1f6fd8d2ca17a180786b69acc140d282b71a49"
   }
  }
 },
 "nbformat": 4,
 "nbformat_minor": 2
}
