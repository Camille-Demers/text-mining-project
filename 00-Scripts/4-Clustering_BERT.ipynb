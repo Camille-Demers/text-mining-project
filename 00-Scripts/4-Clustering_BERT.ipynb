{
 "cells": [
  {
   "cell_type": "markdown",
   "metadata": {},
   "source": [
    "## **4. Keywords Clustering**\n",
    "BERT Sentence transformers embeddings | Community Detection Algorithm\n",
    "\n",
    "We will compare models implemeting different combinations of these parameters:\n",
    "- **Accuracy** : ranging from 65% to 100%\n",
    "- **Minimum size of clusters** : 2 to 20\n",
    "\n",
    "We will choose the set of parameters which maximizes accuracy and minimizes the resulting number of orphan terms (terms not assigned to any cluster)\n",
    "\n",
    "Online tutorial followed :  \n",
    "https://colab.research.google.com/github/searchsolved/search-solved-public-seo/blob/main/search_engine_journal/SEJ_Semantic_Clustering_Tool_by_LeeFootSEO.ipynb"
   ]
  },
  {
   "cell_type": "markdown",
   "metadata": {},
   "source": [
    "____________________________________________________________________________________________________________________"
   ]
  },
  {
   "cell_type": "markdown",
   "metadata": {},
   "source": [
    "### **Embedding** : BERT Sentence Transformers"
   ]
  },
  {
   "cell_type": "markdown",
   "metadata": {},
   "source": [
    "> \"A **transformer** is a deep learning model that adopts the mechanism of self-attention, differentially weighting the significance of each part  of the input data.\n",
    "Transformers are increasingly the model of choice for NLP problems, replacing RNN models such as long short-term memory (LSTM). The additional  training parallelization allows training on larger datasets. This led to the development of pretrained systems such as BERT (Bidirectional Encoder Representations from Transformers) and GPT (Generative Pre-trained Transformer), which were trained with large language datasets, such as the Wikipedia Corpus and Common Crawl, and can be fine-tuned for specific tasks.\"   \n",
    "  \n",
    "(https://en.wikipedia.org/wiki/Transformer_(machine_learning_model))\n"
   ]
  },
  {
   "cell_type": "code",
   "execution_count": 1,
   "metadata": {},
   "outputs": [
    {
     "name": "stderr",
     "output_type": "stream",
     "text": [
      "c:\\Users\\p1115145\\AppData\\Local\\Programs\\Python\\Python310\\lib\\site-packages\\tqdm\\auto.py:22: TqdmWarning: IProgress not found. Please update jupyter and ipywidgets. See https://ipywidgets.readthedocs.io/en/stable/user_install.html\n",
      "  from .autonotebook import tqdm as notebook_tqdm\n",
      "c:\\Users\\p1115145\\AppData\\Local\\Programs\\Python\\Python310\\lib\\site-packages\\huggingface_hub\\snapshot_download.py:6: FutureWarning: snapshot_download.py has been made private and will no longer be available from version 0.11. Please use `from huggingface_hub import snapshot_download` to import the only public function in this module. Other members of the file may be changed without a deprecation notice.\n",
      "  warnings.warn(\n",
      "c:\\Users\\p1115145\\AppData\\Local\\Programs\\Python\\Python310\\lib\\site-packages\\huggingface_hub\\file_download.py:560: FutureWarning: `cached_download` is the legacy way to download files from the HF hub, please consider upgrading to `hf_hub_download`\n",
      "  warnings.warn(\n"
     ]
    }
   ],
   "source": [
    "import pandas as pd\n",
    "from sentence_transformers import SentenceTransformer, util\n",
    "model =  SentenceTransformer(\"dangvantuan/sentence-camembert-base\")"
   ]
  },
  {
   "cell_type": "code",
   "execution_count": 2,
   "metadata": {},
   "outputs": [
    {
     "data": {
      "text/html": [
       "<div>\n",
       "<style scoped>\n",
       "    .dataframe tbody tr th:only-of-type {\n",
       "        vertical-align: middle;\n",
       "    }\n",
       "\n",
       "    .dataframe tbody tr th {\n",
       "        vertical-align: top;\n",
       "    }\n",
       "\n",
       "    .dataframe thead th {\n",
       "        text-align: right;\n",
       "    }\n",
       "</style>\n",
       "<table border=\"1\" class=\"dataframe\">\n",
       "  <thead>\n",
       "    <tr style=\"text-align: right;\">\n",
       "      <th></th>\n",
       "      <th>Accuracy</th>\n",
       "      <th>Minimum cluster size</th>\n",
       "      <th>Number of orphans</th>\n",
       "    </tr>\n",
       "  </thead>\n",
       "  <tbody>\n",
       "    <tr>\n",
       "      <th>0</th>\n",
       "      <td>65</td>\n",
       "      <td>2</td>\n",
       "      <td>None</td>\n",
       "    </tr>\n",
       "    <tr>\n",
       "      <th>1</th>\n",
       "      <td>65</td>\n",
       "      <td>5</td>\n",
       "      <td>None</td>\n",
       "    </tr>\n",
       "    <tr>\n",
       "      <th>2</th>\n",
       "      <td>65</td>\n",
       "      <td>10</td>\n",
       "      <td>None</td>\n",
       "    </tr>\n",
       "    <tr>\n",
       "      <th>3</th>\n",
       "      <td>65</td>\n",
       "      <td>25</td>\n",
       "      <td>None</td>\n",
       "    </tr>\n",
       "    <tr>\n",
       "      <th>4</th>\n",
       "      <td>65</td>\n",
       "      <td>50</td>\n",
       "      <td>None</td>\n",
       "    </tr>\n",
       "    <tr>\n",
       "      <th>...</th>\n",
       "      <td>...</td>\n",
       "      <td>...</td>\n",
       "      <td>...</td>\n",
       "    </tr>\n",
       "    <tr>\n",
       "      <th>59</th>\n",
       "      <td>100</td>\n",
       "      <td>25</td>\n",
       "      <td>None</td>\n",
       "    </tr>\n",
       "    <tr>\n",
       "      <th>60</th>\n",
       "      <td>100</td>\n",
       "      <td>50</td>\n",
       "      <td>None</td>\n",
       "    </tr>\n",
       "    <tr>\n",
       "      <th>61</th>\n",
       "      <td>100</td>\n",
       "      <td>100</td>\n",
       "      <td>None</td>\n",
       "    </tr>\n",
       "    <tr>\n",
       "      <th>62</th>\n",
       "      <td>100</td>\n",
       "      <td>500</td>\n",
       "      <td>None</td>\n",
       "    </tr>\n",
       "    <tr>\n",
       "      <th>63</th>\n",
       "      <td>100</td>\n",
       "      <td>1000</td>\n",
       "      <td>None</td>\n",
       "    </tr>\n",
       "  </tbody>\n",
       "</table>\n",
       "<p>64 rows × 3 columns</p>\n",
       "</div>"
      ],
      "text/plain": [
       "    Accuracy  Minimum cluster size Number of orphans\n",
       "0         65                     2              None\n",
       "1         65                     5              None\n",
       "2         65                    10              None\n",
       "3         65                    25              None\n",
       "4         65                    50              None\n",
       "..       ...                   ...               ...\n",
       "59       100                    25              None\n",
       "60       100                    50              None\n",
       "61       100                   100              None\n",
       "62       100                   500              None\n",
       "63       100                  1000              None\n",
       "\n",
       "[64 rows x 3 columns]"
      ]
     },
     "execution_count": 2,
     "metadata": {},
     "output_type": "execute_result"
    }
   ],
   "source": [
    "cluster_accuracy = 65  # 0-100 (100 = very tight clusters, but higher percentage of no_cluster groups)\n",
    "min_cluster_size = 2  # set the minimum size of cluster groups. (Lower number = tighter groups)\n",
    "\n",
    "\n",
    "accuracy = [65, 70, 75, 80, 85, 90, 95, 100]\n",
    "size = [2, 5, 10, 25, 50, 100, 500, 1000]\n",
    " \n",
    "results= []\n",
    "for a in accuracy:\n",
    "    for s in size:\n",
    "        results.append({'Accuracy' : a, 'Minimum cluster size': s, 'Number of orphans': None})\n",
    "\n",
    "\n",
    "# On veut sélectionner les paramètres qui vont maximiser le accuracy et minimiser le nombre d'orphans\n",
    "results = pd.DataFrame(results)\n",
    "results"
   ]
  },
  {
   "cell_type": "code",
   "execution_count": 3,
   "metadata": {},
   "outputs": [
    {
     "data": {
      "text/html": [
       "<div>\n",
       "<style scoped>\n",
       "    .dataframe tbody tr th:only-of-type {\n",
       "        vertical-align: middle;\n",
       "    }\n",
       "\n",
       "    .dataframe tbody tr th {\n",
       "        vertical-align: top;\n",
       "    }\n",
       "\n",
       "    .dataframe thead th {\n",
       "        text-align: right;\n",
       "    }\n",
       "</style>\n",
       "<table border=\"1\" class=\"dataframe\">\n",
       "  <thead>\n",
       "    <tr style=\"text-align: right;\">\n",
       "      <th></th>\n",
       "      <th>Corpora</th>\n",
       "      <th>Terme</th>\n",
       "      <th>Structure syntaxique</th>\n",
       "      <th>Forme lemmatisée</th>\n",
       "      <th>isMeSHTerm</th>\n",
       "      <th>MeSHID</th>\n",
       "      <th>MesH_prefLabel_fr</th>\n",
       "      <th>MesH_prefLabel_en</th>\n",
       "      <th>isTaxoTerm</th>\n",
       "      <th>Log Likelihood</th>\n",
       "      <th>TF</th>\n",
       "      <th>DF</th>\n",
       "      <th>TF*IDF</th>\n",
       "      <th>OKapiBM25</th>\n",
       "      <th>TF + DF</th>\n",
       "    </tr>\n",
       "  </thead>\n",
       "  <tbody>\n",
       "    <tr>\n",
       "      <th>0</th>\n",
       "      <td>['chum', 'chuqc', 'chusj', 'cisss_ca', 'cisss_...</td>\n",
       "      <td>services sociaux</td>\n",
       "      <td>NOM ADJ</td>\n",
       "      <td>service social</td>\n",
       "      <td>True</td>\n",
       "      <td>D012947</td>\n",
       "      <td>Services sociaux et travail social (activité)</td>\n",
       "      <td>Social Work</td>\n",
       "      <td>True</td>\n",
       "      <td>1674.908057</td>\n",
       "      <td>40189</td>\n",
       "      <td>15418</td>\n",
       "      <td>1.000000</td>\n",
       "      <td>26.361483</td>\n",
       "      <td>55607</td>\n",
       "    </tr>\n",
       "    <tr>\n",
       "      <th>1</th>\n",
       "      <td>['chum', 'chuqc', 'cisss_ca', 'cisss_cotenord'...</td>\n",
       "      <td>santé publique</td>\n",
       "      <td>NOM ADJ</td>\n",
       "      <td>santé public</td>\n",
       "      <td>True</td>\n",
       "      <td>D011634</td>\n",
       "      <td>Santé publique</td>\n",
       "      <td>Public Health</td>\n",
       "      <td>True</td>\n",
       "      <td>1572.987576</td>\n",
       "      <td>32510</td>\n",
       "      <td>11194</td>\n",
       "      <td>1.000000</td>\n",
       "      <td>18.947189</td>\n",
       "      <td>43704</td>\n",
       "    </tr>\n",
       "    <tr>\n",
       "      <th>2</th>\n",
       "      <td>['chum', 'chuqc', 'chusj', 'cisss_ca', 'cisss_...</td>\n",
       "      <td>santé mentale</td>\n",
       "      <td>NOM ADJ</td>\n",
       "      <td>santé mental</td>\n",
       "      <td>True</td>\n",
       "      <td>D008603</td>\n",
       "      <td>Santé mentale</td>\n",
       "      <td>Mental Health</td>\n",
       "      <td>True</td>\n",
       "      <td>1579.080827</td>\n",
       "      <td>13229</td>\n",
       "      <td>4795</td>\n",
       "      <td>1.000000</td>\n",
       "      <td>24.142062</td>\n",
       "      <td>18024</td>\n",
       "    </tr>\n",
       "    <tr>\n",
       "      <th>3</th>\n",
       "      <td>['chuqc', 'chusj', 'cisss_ca', 'cisss_cotenord...</td>\n",
       "      <td>ministère de la santé</td>\n",
       "      <td>NOM PRP DET:ART NOM</td>\n",
       "      <td>ministère de le santé</td>\n",
       "      <td>False</td>\n",
       "      <td>NaN</td>\n",
       "      <td>NaN</td>\n",
       "      <td>NaN</td>\n",
       "      <td>False</td>\n",
       "      <td>1411.378559</td>\n",
       "      <td>10741</td>\n",
       "      <td>7142</td>\n",
       "      <td>0.553007</td>\n",
       "      <td>21.734060</td>\n",
       "      <td>17883</td>\n",
       "    </tr>\n",
       "    <tr>\n",
       "      <th>4</th>\n",
       "      <td>['chuqc', 'chusj', 'cisss_ca', 'cisss_cotenord...</td>\n",
       "      <td>ministère de la santé et des services</td>\n",
       "      <td>NOM PRP DET:ART NOM KON PRP:det NOM</td>\n",
       "      <td>ministère de le santé et des service</td>\n",
       "      <td>False</td>\n",
       "      <td>NaN</td>\n",
       "      <td>NaN</td>\n",
       "      <td>NaN</td>\n",
       "      <td>False</td>\n",
       "      <td>1107.888160</td>\n",
       "      <td>10560</td>\n",
       "      <td>7061</td>\n",
       "      <td>0.553007</td>\n",
       "      <td>31.111185</td>\n",
       "      <td>17621</td>\n",
       "    </tr>\n",
       "    <tr>\n",
       "      <th>...</th>\n",
       "      <td>...</td>\n",
       "      <td>...</td>\n",
       "      <td>...</td>\n",
       "      <td>...</td>\n",
       "      <td>...</td>\n",
       "      <td>...</td>\n",
       "      <td>...</td>\n",
       "      <td>...</td>\n",
       "      <td>...</td>\n",
       "      <td>...</td>\n",
       "      <td>...</td>\n",
       "      <td>...</td>\n",
       "      <td>...</td>\n",
       "      <td>...</td>\n",
       "      <td>...</td>\n",
       "    </tr>\n",
       "    <tr>\n",
       "      <th>12609</th>\n",
       "      <td>['santeestrie']</td>\n",
       "      <td>centre de crise</td>\n",
       "      <td>NOM PRP NOM</td>\n",
       "      <td>centre de crise</td>\n",
       "      <td>False</td>\n",
       "      <td>NaN</td>\n",
       "      <td>NaN</td>\n",
       "      <td>NaN</td>\n",
       "      <td>True</td>\n",
       "      <td>84.828851</td>\n",
       "      <td>3</td>\n",
       "      <td>3</td>\n",
       "      <td>0.136894</td>\n",
       "      <td>8.582629</td>\n",
       "      <td>6</td>\n",
       "    </tr>\n",
       "    <tr>\n",
       "      <th>12610</th>\n",
       "      <td>['inesss']</td>\n",
       "      <td>carcinome rénal</td>\n",
       "      <td>NOM ADJ</td>\n",
       "      <td>carcinome rénal</td>\n",
       "      <td>True</td>\n",
       "      <td>D002292</td>\n",
       "      <td>Néphrocarcinome</td>\n",
       "      <td>Carcinoma, Renal Cell</td>\n",
       "      <td>False</td>\n",
       "      <td>61.813956</td>\n",
       "      <td>3</td>\n",
       "      <td>3</td>\n",
       "      <td>0.141561</td>\n",
       "      <td>18.359316</td>\n",
       "      <td>6</td>\n",
       "    </tr>\n",
       "    <tr>\n",
       "      <th>12611</th>\n",
       "      <td>['inesss']</td>\n",
       "      <td>durée de vie</td>\n",
       "      <td>NOM PRP NOM</td>\n",
       "      <td>durée de vie</td>\n",
       "      <td>True</td>\n",
       "      <td>D008136</td>\n",
       "      <td>Longévité</td>\n",
       "      <td>Longevity</td>\n",
       "      <td>False</td>\n",
       "      <td>434.083437</td>\n",
       "      <td>3</td>\n",
       "      <td>3</td>\n",
       "      <td>0.184051</td>\n",
       "      <td>21.441105</td>\n",
       "      <td>6</td>\n",
       "    </tr>\n",
       "    <tr>\n",
       "      <th>12612</th>\n",
       "      <td>['laval_sante']</td>\n",
       "      <td>commotion cérébrale</td>\n",
       "      <td>NOM ADJ</td>\n",
       "      <td>commotion cérébral</td>\n",
       "      <td>True</td>\n",
       "      <td>D001924</td>\n",
       "      <td>Commotion de l'encéphale</td>\n",
       "      <td>Brain Concussion</td>\n",
       "      <td>True</td>\n",
       "      <td>388.209903</td>\n",
       "      <td>3</td>\n",
       "      <td>3</td>\n",
       "      <td>0.557684</td>\n",
       "      <td>13.725435</td>\n",
       "      <td>6</td>\n",
       "    </tr>\n",
       "    <tr>\n",
       "      <th>12613</th>\n",
       "      <td>['iucpq']</td>\n",
       "      <td>tomographie par émission de positrons</td>\n",
       "      <td>NOM PRP NOM PRP NOM</td>\n",
       "      <td>tomographie par émission de positron</td>\n",
       "      <td>True</td>\n",
       "      <td>D049268</td>\n",
       "      <td>Tomographie par émission de positons</td>\n",
       "      <td>Positron-Emission Tomography</td>\n",
       "      <td>False</td>\n",
       "      <td>389.442395</td>\n",
       "      <td>2</td>\n",
       "      <td>1</td>\n",
       "      <td>0.317463</td>\n",
       "      <td>21.257671</td>\n",
       "      <td>3</td>\n",
       "    </tr>\n",
       "  </tbody>\n",
       "</table>\n",
       "<p>12614 rows × 15 columns</p>\n",
       "</div>"
      ],
      "text/plain": [
       "                                                 Corpora  \\\n",
       "0      ['chum', 'chuqc', 'chusj', 'cisss_ca', 'cisss_...   \n",
       "1      ['chum', 'chuqc', 'cisss_ca', 'cisss_cotenord'...   \n",
       "2      ['chum', 'chuqc', 'chusj', 'cisss_ca', 'cisss_...   \n",
       "3      ['chuqc', 'chusj', 'cisss_ca', 'cisss_cotenord...   \n",
       "4      ['chuqc', 'chusj', 'cisss_ca', 'cisss_cotenord...   \n",
       "...                                                  ...   \n",
       "12609                                    ['santeestrie']   \n",
       "12610                                         ['inesss']   \n",
       "12611                                         ['inesss']   \n",
       "12612                                    ['laval_sante']   \n",
       "12613                                          ['iucpq']   \n",
       "\n",
       "                                       Terme  \\\n",
       "0                           services sociaux   \n",
       "1                             santé publique   \n",
       "2                              santé mentale   \n",
       "3                      ministère de la santé   \n",
       "4      ministère de la santé et des services   \n",
       "...                                      ...   \n",
       "12609                        centre de crise   \n",
       "12610                        carcinome rénal   \n",
       "12611                           durée de vie   \n",
       "12612                    commotion cérébrale   \n",
       "12613  tomographie par émission de positrons   \n",
       "\n",
       "                      Structure syntaxique  \\\n",
       "0                                  NOM ADJ   \n",
       "1                                  NOM ADJ   \n",
       "2                                  NOM ADJ   \n",
       "3                      NOM PRP DET:ART NOM   \n",
       "4      NOM PRP DET:ART NOM KON PRP:det NOM   \n",
       "...                                    ...   \n",
       "12609                          NOM PRP NOM   \n",
       "12610                              NOM ADJ   \n",
       "12611                          NOM PRP NOM   \n",
       "12612                              NOM ADJ   \n",
       "12613                  NOM PRP NOM PRP NOM   \n",
       "\n",
       "                           Forme lemmatisée  isMeSHTerm   MeSHID  \\\n",
       "0                            service social        True  D012947   \n",
       "1                              santé public        True  D011634   \n",
       "2                              santé mental        True  D008603   \n",
       "3                     ministère de le santé       False      NaN   \n",
       "4      ministère de le santé et des service       False      NaN   \n",
       "...                                     ...         ...      ...   \n",
       "12609                       centre de crise       False      NaN   \n",
       "12610                       carcinome rénal        True  D002292   \n",
       "12611                          durée de vie        True  D008136   \n",
       "12612                    commotion cérébral        True  D001924   \n",
       "12613  tomographie par émission de positron        True  D049268   \n",
       "\n",
       "                                   MesH_prefLabel_fr  \\\n",
       "0      Services sociaux et travail social (activité)   \n",
       "1                                     Santé publique   \n",
       "2                                      Santé mentale   \n",
       "3                                                NaN   \n",
       "4                                                NaN   \n",
       "...                                              ...   \n",
       "12609                                            NaN   \n",
       "12610                                Néphrocarcinome   \n",
       "12611                                      Longévité   \n",
       "12612                       Commotion de l'encéphale   \n",
       "12613           Tomographie par émission de positons   \n",
       "\n",
       "                  MesH_prefLabel_en  isTaxoTerm  Log Likelihood     TF     DF  \\\n",
       "0                       Social Work        True     1674.908057  40189  15418   \n",
       "1                     Public Health        True     1572.987576  32510  11194   \n",
       "2                     Mental Health        True     1579.080827  13229   4795   \n",
       "3                               NaN       False     1411.378559  10741   7142   \n",
       "4                               NaN       False     1107.888160  10560   7061   \n",
       "...                             ...         ...             ...    ...    ...   \n",
       "12609                           NaN        True       84.828851      3      3   \n",
       "12610         Carcinoma, Renal Cell       False       61.813956      3      3   \n",
       "12611                     Longevity       False      434.083437      3      3   \n",
       "12612              Brain Concussion        True      388.209903      3      3   \n",
       "12613  Positron-Emission Tomography       False      389.442395      2      1   \n",
       "\n",
       "         TF*IDF  OKapiBM25  TF + DF  \n",
       "0      1.000000  26.361483    55607  \n",
       "1      1.000000  18.947189    43704  \n",
       "2      1.000000  24.142062    18024  \n",
       "3      0.553007  21.734060    17883  \n",
       "4      0.553007  31.111185    17621  \n",
       "...         ...        ...      ...  \n",
       "12609  0.136894   8.582629        6  \n",
       "12610  0.141561  18.359316        6  \n",
       "12611  0.184051  21.441105        6  \n",
       "12612  0.557684  13.725435        6  \n",
       "12613  0.317463  21.257671        3  \n",
       "\n",
       "[12614 rows x 15 columns]"
      ]
     },
     "execution_count": 3,
     "metadata": {},
     "output_type": "execute_result"
    }
   ],
   "source": [
    "file_path = '../06-clustering/candidate_terms.csv'\n",
    "with open(file_path, encoding='utf-8') as f:\n",
    "    df = pd.read_csv(f).drop(columns=[\"Unnamed: 0\"])\n",
    "    df['Terme'] = df['Terme'].astype('str')\n",
    "    df['TF + DF'] = df['TF'] + df['DF']\n",
    "\n",
    "# store the data\n",
    "cluster_name_list = []\n",
    "corpus_sentences_list = []\n",
    "df_all = []\n",
    "\n",
    "corpus_set = set(df['Terme'])\n",
    "corpus_set_all = corpus_set\n",
    "cluster = True\n",
    "\n",
    "df"
   ]
  },
  {
   "cell_type": "code",
   "execution_count": 4,
   "metadata": {},
   "outputs": [
    {
     "data": {
      "text/html": [
       "<div>\n",
       "<style scoped>\n",
       "    .dataframe tbody tr th:only-of-type {\n",
       "        vertical-align: middle;\n",
       "    }\n",
       "\n",
       "    .dataframe tbody tr th {\n",
       "        vertical-align: top;\n",
       "    }\n",
       "\n",
       "    .dataframe thead th {\n",
       "        text-align: right;\n",
       "    }\n",
       "</style>\n",
       "<table border=\"1\" class=\"dataframe\">\n",
       "  <thead>\n",
       "    <tr style=\"text-align: right;\">\n",
       "      <th></th>\n",
       "      <th>Corpora</th>\n",
       "      <th>Terme</th>\n",
       "      <th>Structure syntaxique</th>\n",
       "      <th>Forme lemmatisée</th>\n",
       "      <th>isMeSHTerm</th>\n",
       "      <th>MeSHID</th>\n",
       "      <th>MesH_prefLabel_fr</th>\n",
       "      <th>MesH_prefLabel_en</th>\n",
       "      <th>isTaxoTerm</th>\n",
       "      <th>Log Likelihood</th>\n",
       "      <th>TF</th>\n",
       "      <th>DF</th>\n",
       "      <th>TF*IDF</th>\n",
       "      <th>OKapiBM25</th>\n",
       "      <th>TF + DF</th>\n",
       "      <th>tokens</th>\n",
       "    </tr>\n",
       "  </thead>\n",
       "  <tbody>\n",
       "    <tr>\n",
       "      <th>0</th>\n",
       "      <td>['chum', 'chuqc', 'chusj', 'cisss_ca', 'cisss_...</td>\n",
       "      <td>services sociaux</td>\n",
       "      <td>NOM ADJ</td>\n",
       "      <td>service social</td>\n",
       "      <td>True</td>\n",
       "      <td>D012947</td>\n",
       "      <td>Services sociaux et travail social (activité)</td>\n",
       "      <td>Social Work</td>\n",
       "      <td>True</td>\n",
       "      <td>1674.908057</td>\n",
       "      <td>40189</td>\n",
       "      <td>15418</td>\n",
       "      <td>1.000000</td>\n",
       "      <td>26.361483</td>\n",
       "      <td>55607</td>\n",
       "      <td>[services, sociaux]</td>\n",
       "    </tr>\n",
       "    <tr>\n",
       "      <th>1</th>\n",
       "      <td>['chum', 'chuqc', 'cisss_ca', 'cisss_cotenord'...</td>\n",
       "      <td>santé publique</td>\n",
       "      <td>NOM ADJ</td>\n",
       "      <td>santé public</td>\n",
       "      <td>True</td>\n",
       "      <td>D011634</td>\n",
       "      <td>Santé publique</td>\n",
       "      <td>Public Health</td>\n",
       "      <td>True</td>\n",
       "      <td>1572.987576</td>\n",
       "      <td>32510</td>\n",
       "      <td>11194</td>\n",
       "      <td>1.000000</td>\n",
       "      <td>18.947189</td>\n",
       "      <td>43704</td>\n",
       "      <td>[publique, santé]</td>\n",
       "    </tr>\n",
       "    <tr>\n",
       "      <th>2</th>\n",
       "      <td>['chum', 'chuqc', 'chusj', 'cisss_ca', 'cisss_...</td>\n",
       "      <td>santé mentale</td>\n",
       "      <td>NOM ADJ</td>\n",
       "      <td>santé mental</td>\n",
       "      <td>True</td>\n",
       "      <td>D008603</td>\n",
       "      <td>Santé mentale</td>\n",
       "      <td>Mental Health</td>\n",
       "      <td>True</td>\n",
       "      <td>1579.080827</td>\n",
       "      <td>13229</td>\n",
       "      <td>4795</td>\n",
       "      <td>1.000000</td>\n",
       "      <td>24.142062</td>\n",
       "      <td>18024</td>\n",
       "      <td>[mentale, santé]</td>\n",
       "    </tr>\n",
       "    <tr>\n",
       "      <th>3</th>\n",
       "      <td>['chuqc', 'chusj', 'cisss_ca', 'cisss_cotenord...</td>\n",
       "      <td>ministère de la santé</td>\n",
       "      <td>NOM PRP DET:ART NOM</td>\n",
       "      <td>ministère de le santé</td>\n",
       "      <td>False</td>\n",
       "      <td>NaN</td>\n",
       "      <td>NaN</td>\n",
       "      <td>NaN</td>\n",
       "      <td>False</td>\n",
       "      <td>1411.378559</td>\n",
       "      <td>10741</td>\n",
       "      <td>7142</td>\n",
       "      <td>0.553007</td>\n",
       "      <td>21.734060</td>\n",
       "      <td>17883</td>\n",
       "      <td>[ministère, santé]</td>\n",
       "    </tr>\n",
       "    <tr>\n",
       "      <th>4</th>\n",
       "      <td>['chuqc', 'chusj', 'cisss_ca', 'cisss_cotenord...</td>\n",
       "      <td>ministère de la santé et des services</td>\n",
       "      <td>NOM PRP DET:ART NOM KON PRP:det NOM</td>\n",
       "      <td>ministère de le santé et des service</td>\n",
       "      <td>False</td>\n",
       "      <td>NaN</td>\n",
       "      <td>NaN</td>\n",
       "      <td>NaN</td>\n",
       "      <td>False</td>\n",
       "      <td>1107.888160</td>\n",
       "      <td>10560</td>\n",
       "      <td>7061</td>\n",
       "      <td>0.553007</td>\n",
       "      <td>31.111185</td>\n",
       "      <td>17621</td>\n",
       "      <td>[ministère, santé, services]</td>\n",
       "    </tr>\n",
       "    <tr>\n",
       "      <th>...</th>\n",
       "      <td>...</td>\n",
       "      <td>...</td>\n",
       "      <td>...</td>\n",
       "      <td>...</td>\n",
       "      <td>...</td>\n",
       "      <td>...</td>\n",
       "      <td>...</td>\n",
       "      <td>...</td>\n",
       "      <td>...</td>\n",
       "      <td>...</td>\n",
       "      <td>...</td>\n",
       "      <td>...</td>\n",
       "      <td>...</td>\n",
       "      <td>...</td>\n",
       "      <td>...</td>\n",
       "      <td>...</td>\n",
       "    </tr>\n",
       "    <tr>\n",
       "      <th>12609</th>\n",
       "      <td>['santeestrie']</td>\n",
       "      <td>centre de crise</td>\n",
       "      <td>NOM PRP NOM</td>\n",
       "      <td>centre de crise</td>\n",
       "      <td>False</td>\n",
       "      <td>NaN</td>\n",
       "      <td>NaN</td>\n",
       "      <td>NaN</td>\n",
       "      <td>True</td>\n",
       "      <td>84.828851</td>\n",
       "      <td>3</td>\n",
       "      <td>3</td>\n",
       "      <td>0.136894</td>\n",
       "      <td>8.582629</td>\n",
       "      <td>6</td>\n",
       "      <td>[centre, crise]</td>\n",
       "    </tr>\n",
       "    <tr>\n",
       "      <th>12610</th>\n",
       "      <td>['inesss']</td>\n",
       "      <td>carcinome rénal</td>\n",
       "      <td>NOM ADJ</td>\n",
       "      <td>carcinome rénal</td>\n",
       "      <td>True</td>\n",
       "      <td>D002292</td>\n",
       "      <td>Néphrocarcinome</td>\n",
       "      <td>Carcinoma, Renal Cell</td>\n",
       "      <td>False</td>\n",
       "      <td>61.813956</td>\n",
       "      <td>3</td>\n",
       "      <td>3</td>\n",
       "      <td>0.141561</td>\n",
       "      <td>18.359316</td>\n",
       "      <td>6</td>\n",
       "      <td>[carcinome, rénal]</td>\n",
       "    </tr>\n",
       "    <tr>\n",
       "      <th>12611</th>\n",
       "      <td>['inesss']</td>\n",
       "      <td>durée de vie</td>\n",
       "      <td>NOM PRP NOM</td>\n",
       "      <td>durée de vie</td>\n",
       "      <td>True</td>\n",
       "      <td>D008136</td>\n",
       "      <td>Longévité</td>\n",
       "      <td>Longevity</td>\n",
       "      <td>False</td>\n",
       "      <td>434.083437</td>\n",
       "      <td>3</td>\n",
       "      <td>3</td>\n",
       "      <td>0.184051</td>\n",
       "      <td>21.441105</td>\n",
       "      <td>6</td>\n",
       "      <td>[durée]</td>\n",
       "    </tr>\n",
       "    <tr>\n",
       "      <th>12612</th>\n",
       "      <td>['laval_sante']</td>\n",
       "      <td>commotion cérébrale</td>\n",
       "      <td>NOM ADJ</td>\n",
       "      <td>commotion cérébral</td>\n",
       "      <td>True</td>\n",
       "      <td>D001924</td>\n",
       "      <td>Commotion de l'encéphale</td>\n",
       "      <td>Brain Concussion</td>\n",
       "      <td>True</td>\n",
       "      <td>388.209903</td>\n",
       "      <td>3</td>\n",
       "      <td>3</td>\n",
       "      <td>0.557684</td>\n",
       "      <td>13.725435</td>\n",
       "      <td>6</td>\n",
       "      <td>[commotion, cérébrale]</td>\n",
       "    </tr>\n",
       "    <tr>\n",
       "      <th>12613</th>\n",
       "      <td>['iucpq']</td>\n",
       "      <td>tomographie par émission de positrons</td>\n",
       "      <td>NOM PRP NOM PRP NOM</td>\n",
       "      <td>tomographie par émission de positron</td>\n",
       "      <td>True</td>\n",
       "      <td>D049268</td>\n",
       "      <td>Tomographie par émission de positons</td>\n",
       "      <td>Positron-Emission Tomography</td>\n",
       "      <td>False</td>\n",
       "      <td>389.442395</td>\n",
       "      <td>2</td>\n",
       "      <td>1</td>\n",
       "      <td>0.317463</td>\n",
       "      <td>21.257671</td>\n",
       "      <td>3</td>\n",
       "      <td>[positrons, tomographie, émission]</td>\n",
       "    </tr>\n",
       "  </tbody>\n",
       "</table>\n",
       "<p>12614 rows × 16 columns</p>\n",
       "</div>"
      ],
      "text/plain": [
       "                                                 Corpora  \\\n",
       "0      ['chum', 'chuqc', 'chusj', 'cisss_ca', 'cisss_...   \n",
       "1      ['chum', 'chuqc', 'cisss_ca', 'cisss_cotenord'...   \n",
       "2      ['chum', 'chuqc', 'chusj', 'cisss_ca', 'cisss_...   \n",
       "3      ['chuqc', 'chusj', 'cisss_ca', 'cisss_cotenord...   \n",
       "4      ['chuqc', 'chusj', 'cisss_ca', 'cisss_cotenord...   \n",
       "...                                                  ...   \n",
       "12609                                    ['santeestrie']   \n",
       "12610                                         ['inesss']   \n",
       "12611                                         ['inesss']   \n",
       "12612                                    ['laval_sante']   \n",
       "12613                                          ['iucpq']   \n",
       "\n",
       "                                       Terme  \\\n",
       "0                           services sociaux   \n",
       "1                             santé publique   \n",
       "2                              santé mentale   \n",
       "3                      ministère de la santé   \n",
       "4      ministère de la santé et des services   \n",
       "...                                      ...   \n",
       "12609                        centre de crise   \n",
       "12610                        carcinome rénal   \n",
       "12611                           durée de vie   \n",
       "12612                    commotion cérébrale   \n",
       "12613  tomographie par émission de positrons   \n",
       "\n",
       "                      Structure syntaxique  \\\n",
       "0                                  NOM ADJ   \n",
       "1                                  NOM ADJ   \n",
       "2                                  NOM ADJ   \n",
       "3                      NOM PRP DET:ART NOM   \n",
       "4      NOM PRP DET:ART NOM KON PRP:det NOM   \n",
       "...                                    ...   \n",
       "12609                          NOM PRP NOM   \n",
       "12610                              NOM ADJ   \n",
       "12611                          NOM PRP NOM   \n",
       "12612                              NOM ADJ   \n",
       "12613                  NOM PRP NOM PRP NOM   \n",
       "\n",
       "                           Forme lemmatisée  isMeSHTerm   MeSHID  \\\n",
       "0                            service social        True  D012947   \n",
       "1                              santé public        True  D011634   \n",
       "2                              santé mental        True  D008603   \n",
       "3                     ministère de le santé       False      NaN   \n",
       "4      ministère de le santé et des service       False      NaN   \n",
       "...                                     ...         ...      ...   \n",
       "12609                       centre de crise       False      NaN   \n",
       "12610                       carcinome rénal        True  D002292   \n",
       "12611                          durée de vie        True  D008136   \n",
       "12612                    commotion cérébral        True  D001924   \n",
       "12613  tomographie par émission de positron        True  D049268   \n",
       "\n",
       "                                   MesH_prefLabel_fr  \\\n",
       "0      Services sociaux et travail social (activité)   \n",
       "1                                     Santé publique   \n",
       "2                                      Santé mentale   \n",
       "3                                                NaN   \n",
       "4                                                NaN   \n",
       "...                                              ...   \n",
       "12609                                            NaN   \n",
       "12610                                Néphrocarcinome   \n",
       "12611                                      Longévité   \n",
       "12612                       Commotion de l'encéphale   \n",
       "12613           Tomographie par émission de positons   \n",
       "\n",
       "                  MesH_prefLabel_en  isTaxoTerm  Log Likelihood     TF     DF  \\\n",
       "0                       Social Work        True     1674.908057  40189  15418   \n",
       "1                     Public Health        True     1572.987576  32510  11194   \n",
       "2                     Mental Health        True     1579.080827  13229   4795   \n",
       "3                               NaN       False     1411.378559  10741   7142   \n",
       "4                               NaN       False     1107.888160  10560   7061   \n",
       "...                             ...         ...             ...    ...    ...   \n",
       "12609                           NaN        True       84.828851      3      3   \n",
       "12610         Carcinoma, Renal Cell       False       61.813956      3      3   \n",
       "12611                     Longevity       False      434.083437      3      3   \n",
       "12612              Brain Concussion        True      388.209903      3      3   \n",
       "12613  Positron-Emission Tomography       False      389.442395      2      1   \n",
       "\n",
       "         TF*IDF  OKapiBM25  TF + DF                              tokens  \n",
       "0      1.000000  26.361483    55607                 [services, sociaux]  \n",
       "1      1.000000  18.947189    43704                   [publique, santé]  \n",
       "2      1.000000  24.142062    18024                    [mentale, santé]  \n",
       "3      0.553007  21.734060    17883                  [ministère, santé]  \n",
       "4      0.553007  31.111185    17621        [ministère, santé, services]  \n",
       "...         ...        ...      ...                                 ...  \n",
       "12609  0.136894   8.582629        6                     [centre, crise]  \n",
       "12610  0.141561  18.359316        6                  [carcinome, rénal]  \n",
       "12611  0.184051  21.441105        6                             [durée]  \n",
       "12612  0.557684  13.725435        6              [commotion, cérébrale]  \n",
       "12613  0.317463  21.257671        3  [positrons, tomographie, émission]  \n",
       "\n",
       "[12614 rows x 16 columns]"
      ]
     },
     "execution_count": 4,
     "metadata": {},
     "output_type": "execute_result"
    }
   ],
   "source": [
    "from nltk.tokenize import RegexpTokenizer\n",
    "regex = \"[\\w+-]+|\\([\\s+\\w+\\d+-]+\\)|\\w+|\\w\"\n",
    "tokenizex = RegexpTokenizer(regex)\n",
    "\n",
    "file_path = \"../04-filtrage/stopwords.txt\"\n",
    "with open(file_path, 'r', encoding=\"utf-8\") as f:\n",
    "    stop = [t.lower().strip('\\n') for t in f.readlines()]\n",
    "\n",
    "def to_tokens(kw, min_chars=2):\n",
    "    tokens = tokenizex.tokenize(str(kw)) # split the string into a list of words\n",
    "    tokens = [word for word in tokens if len(word) > min_chars] \n",
    "    tokens = [str(word) for word in tokens if word not in stop] \n",
    "    \n",
    "    tokens = set(tokens) # to remove duplicates\n",
    "    tokens = sorted(tokens) # converts our set back to a list and sorts words in alphabetical order\n",
    "    return tokens\n",
    "\n",
    "df[\"tokens\"] = df[\"Terme\"].apply(lambda x: to_tokens(\n",
    "    x,\n",
    "    min_chars=3,\n",
    "))\n",
    "df"
   ]
  },
  {
   "cell_type": "code",
   "execution_count": 5,
   "metadata": {},
   "outputs": [],
   "source": [
    "# keep looping through until no more clusters are created\n",
    "def community_clusters(cluster_accuracy, min_cluster_size, corpus_set=corpus_set):\n",
    "    cluster_accuracy = cluster_accuracy / 100\n",
    "    cluster = True\n",
    "    while cluster:\n",
    "        corpus_sentences = list(corpus_set)\n",
    "        check_len = len(corpus_sentences)\n",
    "\n",
    "        corpus_embeddings = model.encode(corpus_sentences, batch_size=256, show_progress_bar=True, convert_to_tensor=True)\n",
    "        clusters = util.community_detection(corpus_embeddings, min_community_size= min_cluster_size, threshold=cluster_accuracy, init_max_size=len(corpus_embeddings))\n",
    "\n",
    "        for keyword, cluster in enumerate(clusters):\n",
    "            print(\"\\nCluster {}, #{} Elements \".format(keyword + 1, len(cluster)))\n",
    "\n",
    "            for sentence_id in cluster[0:]:\n",
    "                print(\"\\t\", corpus_sentences[sentence_id])\n",
    "                corpus_sentences_list.append(corpus_sentences[sentence_id])\n",
    "                cluster_name_list.append(\"Cluster {}, #{} Elements \".format(keyword + 1, len(cluster)))\n",
    "\n",
    "        df_new = pd.DataFrame(None)\n",
    "        df_new['Cluster Name'] = cluster_name_list\n",
    "        df_new[\"Terme\"] = corpus_sentences_list\n",
    "\n",
    "        df_all.append(df_new)\n",
    "        have = set(df_new[\"Terme\"])\n",
    "\n",
    "        corpus_set = corpus_set_all - have\n",
    "        remaining = len(corpus_set)\n",
    "        print(\"Total Unclustered Keywords: \", remaining)\n",
    "        if check_len == remaining:\n",
    "            break"
   ]
  },
  {
   "cell_type": "code",
   "execution_count": null,
   "metadata": {},
   "outputs": [],
   "source": [
    "for a in accuracy:\n",
    "    for s in size:\n",
    "        score = community_clusters(a, s)\n",
    "        results.loc[((results['Accuracy'] == a) & (results['Minimum cluster size'] == s)), \\\n",
    "        'Number of orphans'] = score"
   ]
  },
  {
   "cell_type": "code",
   "execution_count": null,
   "metadata": {},
   "outputs": [],
   "source": [
    "# Ensuite, on voudrait représenter sur un graphique le accuracy, la taille des clusters et le nombre d'orphelins pour prendre\n",
    "# la valeur combinaison de valeurs maximisant l'accuracy et minimisant le nombre de clusters orphelins\n",
    "\n",
    "file_path = '../06-Clustering/results_BERT_communityDetection.csv'\n",
    "results.to_csv(file_path)"
   ]
  },
  {
   "cell_type": "code",
   "execution_count": null,
   "metadata": {},
   "outputs": [],
   "source": [
    "########################################\n",
    "# En fonction du graphique, on choisit nos paramètres\n",
    "########################################\n",
    "import seaborn as sns\n",
    "import numpy as np\n",
    "results['Number of orphans'] = pd.to_numeric(results['Number of orphans'])\n",
    "results_pivot = results.pivot(index= 'Accuracy', columns='Minimum cluster size', values = 'Number of orphans')\n",
    "\n",
    "fig = sns.heatmap(results_pivot, annot=True, fmt=\"d\", cmap='binary').get_figure()\n",
    "file_path = '../06-Clustering/figure_BERT_communityDetection.tiff'\n",
    "fig.savefig(file_path) "
   ]
  },
  {
   "cell_type": "markdown",
   "metadata": {},
   "source": [
    "____________________________________________________________________\n",
    "Choix des paramètres \n",
    "____________________________________________________________________"
   ]
  },
  {
   "cell_type": "code",
   "execution_count": 15,
   "metadata": {},
   "outputs": [
    {
     "name": "stderr",
     "output_type": "stream",
     "text": [
      "Batches: 100%|██████████| 12/12 [00:45<00:00,  3.78s/it]"
     ]
    },
    {
     "name": "stdout",
     "output_type": "stream",
     "text": [
      "Total Unclustered Keywords:  3055\n"
     ]
    },
    {
     "name": "stderr",
     "output_type": "stream",
     "text": [
      "\n"
     ]
    }
   ],
   "source": [
    "############################\n",
    "# Choix des paramètres\n",
    "\n",
    "cluster_accuracy = 75\n",
    "min_cluster_size = 5\n",
    "\n",
    "############################\n",
    "\n",
    "cluster_accuracy = cluster_accuracy / 100\n",
    "cluster = True\n",
    "while cluster:\n",
    "    corpus_sentences = list(corpus_set)\n",
    "    check_len = len(corpus_sentences)\n",
    "\n",
    "    corpus_embeddings = model.encode(corpus_sentences, batch_size=256, show_progress_bar=True, convert_to_tensor=True)\n",
    "    clusters = util.community_detection(corpus_embeddings, min_community_size= min_cluster_size, threshold=cluster_accuracy, init_max_size=len(corpus_embeddings))\n",
    "\n",
    "    for keyword, cluster in enumerate(clusters):\n",
    "        print(\"\\nCluster {}, #{} Elements \".format(keyword + 1, len(cluster)))\n",
    "\n",
    "        for sentence_id in cluster[0:]:\n",
    "            print(\"\\t\", corpus_sentences[sentence_id])\n",
    "            corpus_sentences_list.append(corpus_sentences[sentence_id])\n",
    "            cluster_name_list.append(\"Cluster {}, #{} Elements \".format(keyword + 1, len(cluster)))\n",
    "\n",
    "    df_new = pd.DataFrame(None)\n",
    "    df_new['Cluster Name'] = cluster_name_list\n",
    "    df_new[\"Terme\"] = corpus_sentences_list\n",
    "\n",
    "    df_all.append(df_new)\n",
    "    have = set(df_new[\"Terme\"])\n",
    "\n",
    "    corpus_set = corpus_set_all - have\n",
    "    remaining = len(corpus_set)\n",
    "    print(\"Total Unclustered Keywords: \", remaining)\n",
    "    if check_len == remaining:\n",
    "        break"
   ]
  },
  {
   "cell_type": "markdown",
   "metadata": {},
   "source": [
    "## **4. Keywords Clustering**\n",
    "One-Hot embeddings | K-Means Expectation maximization\n",
    "\n",
    "https://colab.research.google.com/drive/1HHNFjKlip1AaFIuvvn0AicWyv6egLOZw?usp=sharing#scrollTo=Ya0TkMAJYvAM"
   ]
  },
  {
   "cell_type": "code",
   "execution_count": 7,
   "metadata": {},
   "outputs": [],
   "source": [
    "# make a new dataframe from the list of dataframe and merge back into the orginal df\n",
    "df_new = pd.concat(df_all)\n",
    "df = df.merge(df_new.drop_duplicates('Terme'), how='left', on=\"Terme\")\n",
    "\n",
    "df['Cluster Name'] = df['Cluster Name'].fillna(\"zzz_no_cluster\")"
   ]
  },
  {
   "cell_type": "code",
   "execution_count": 8,
   "metadata": {},
   "outputs": [
    {
     "data": {
      "text/html": [
       "<div>\n",
       "<style scoped>\n",
       "    .dataframe tbody tr th:only-of-type {\n",
       "        vertical-align: middle;\n",
       "    }\n",
       "\n",
       "    .dataframe tbody tr th {\n",
       "        vertical-align: top;\n",
       "    }\n",
       "\n",
       "    .dataframe thead th {\n",
       "        text-align: right;\n",
       "    }\n",
       "</style>\n",
       "<table border=\"1\" class=\"dataframe\">\n",
       "  <thead>\n",
       "    <tr style=\"text-align: right;\">\n",
       "      <th></th>\n",
       "      <th>Corpora</th>\n",
       "      <th>Terme</th>\n",
       "      <th>Structure syntaxique</th>\n",
       "      <th>Forme lemmatisée</th>\n",
       "      <th>isMeSHTerm</th>\n",
       "      <th>MeSHID</th>\n",
       "      <th>MesH_prefLabel_fr</th>\n",
       "      <th>MesH_prefLabel_en</th>\n",
       "      <th>isTaxoTerm</th>\n",
       "      <th>Log Likelihood</th>\n",
       "      <th>TF</th>\n",
       "      <th>DF</th>\n",
       "      <th>TF*IDF</th>\n",
       "      <th>OKapiBM25</th>\n",
       "      <th>TF + DF</th>\n",
       "      <th>tokens</th>\n",
       "      <th>Cluster Name</th>\n",
       "    </tr>\n",
       "  </thead>\n",
       "  <tbody>\n",
       "    <tr>\n",
       "      <th>0</th>\n",
       "      <td>['chum', 'chuqc', 'chusj', 'cisss_ca', 'cisss_...</td>\n",
       "      <td>services sociaux</td>\n",
       "      <td>NOM ADJ</td>\n",
       "      <td>service social</td>\n",
       "      <td>True</td>\n",
       "      <td>D012947</td>\n",
       "      <td>Services sociaux et travail social (activité)</td>\n",
       "      <td>Social Work</td>\n",
       "      <td>True</td>\n",
       "      <td>1674.908057</td>\n",
       "      <td>40189</td>\n",
       "      <td>15418</td>\n",
       "      <td>1.000000</td>\n",
       "      <td>26.361483</td>\n",
       "      <td>55607</td>\n",
       "      <td>[services, sociaux]</td>\n",
       "      <td>Cluster 30, #24 Elements</td>\n",
       "    </tr>\n",
       "    <tr>\n",
       "      <th>1</th>\n",
       "      <td>['chum', 'chuqc', 'cisss_ca', 'cisss_cotenord'...</td>\n",
       "      <td>santé publique</td>\n",
       "      <td>NOM ADJ</td>\n",
       "      <td>santé public</td>\n",
       "      <td>True</td>\n",
       "      <td>D011634</td>\n",
       "      <td>Santé publique</td>\n",
       "      <td>Public Health</td>\n",
       "      <td>True</td>\n",
       "      <td>1572.987576</td>\n",
       "      <td>32510</td>\n",
       "      <td>11194</td>\n",
       "      <td>1.000000</td>\n",
       "      <td>18.947189</td>\n",
       "      <td>43704</td>\n",
       "      <td>[publique, santé]</td>\n",
       "      <td>Cluster 67, #15 Elements</td>\n",
       "    </tr>\n",
       "    <tr>\n",
       "      <th>2</th>\n",
       "      <td>['chum', 'chuqc', 'chusj', 'cisss_ca', 'cisss_...</td>\n",
       "      <td>santé mentale</td>\n",
       "      <td>NOM ADJ</td>\n",
       "      <td>santé mental</td>\n",
       "      <td>True</td>\n",
       "      <td>D008603</td>\n",
       "      <td>Santé mentale</td>\n",
       "      <td>Mental Health</td>\n",
       "      <td>True</td>\n",
       "      <td>1579.080827</td>\n",
       "      <td>13229</td>\n",
       "      <td>4795</td>\n",
       "      <td>1.000000</td>\n",
       "      <td>24.142062</td>\n",
       "      <td>18024</td>\n",
       "      <td>[mentale, santé]</td>\n",
       "      <td>Cluster 1, #261 Elements</td>\n",
       "    </tr>\n",
       "    <tr>\n",
       "      <th>3</th>\n",
       "      <td>['chuqc', 'chusj', 'cisss_ca', 'cisss_cotenord...</td>\n",
       "      <td>ministère de la santé</td>\n",
       "      <td>NOM PRP DET:ART NOM</td>\n",
       "      <td>ministère de le santé</td>\n",
       "      <td>False</td>\n",
       "      <td>NaN</td>\n",
       "      <td>NaN</td>\n",
       "      <td>NaN</td>\n",
       "      <td>False</td>\n",
       "      <td>1411.378559</td>\n",
       "      <td>10741</td>\n",
       "      <td>7142</td>\n",
       "      <td>0.553007</td>\n",
       "      <td>21.734060</td>\n",
       "      <td>17883</td>\n",
       "      <td>[ministère, santé]</td>\n",
       "      <td>Cluster 2, #170 Elements</td>\n",
       "    </tr>\n",
       "    <tr>\n",
       "      <th>4</th>\n",
       "      <td>['chuqc', 'chusj', 'cisss_ca', 'cisss_cotenord...</td>\n",
       "      <td>ministère de la santé et des services</td>\n",
       "      <td>NOM PRP DET:ART NOM KON PRP:det NOM</td>\n",
       "      <td>ministère de le santé et des service</td>\n",
       "      <td>False</td>\n",
       "      <td>NaN</td>\n",
       "      <td>NaN</td>\n",
       "      <td>NaN</td>\n",
       "      <td>False</td>\n",
       "      <td>1107.888160</td>\n",
       "      <td>10560</td>\n",
       "      <td>7061</td>\n",
       "      <td>0.553007</td>\n",
       "      <td>31.111185</td>\n",
       "      <td>17621</td>\n",
       "      <td>[ministère, santé, services]</td>\n",
       "      <td>Cluster 29, #24 Elements</td>\n",
       "    </tr>\n",
       "    <tr>\n",
       "      <th>...</th>\n",
       "      <td>...</td>\n",
       "      <td>...</td>\n",
       "      <td>...</td>\n",
       "      <td>...</td>\n",
       "      <td>...</td>\n",
       "      <td>...</td>\n",
       "      <td>...</td>\n",
       "      <td>...</td>\n",
       "      <td>...</td>\n",
       "      <td>...</td>\n",
       "      <td>...</td>\n",
       "      <td>...</td>\n",
       "      <td>...</td>\n",
       "      <td>...</td>\n",
       "      <td>...</td>\n",
       "      <td>...</td>\n",
       "      <td>...</td>\n",
       "    </tr>\n",
       "    <tr>\n",
       "      <th>12609</th>\n",
       "      <td>['santeestrie']</td>\n",
       "      <td>centre de crise</td>\n",
       "      <td>NOM PRP NOM</td>\n",
       "      <td>centre de crise</td>\n",
       "      <td>False</td>\n",
       "      <td>NaN</td>\n",
       "      <td>NaN</td>\n",
       "      <td>NaN</td>\n",
       "      <td>True</td>\n",
       "      <td>84.828851</td>\n",
       "      <td>3</td>\n",
       "      <td>3</td>\n",
       "      <td>0.136894</td>\n",
       "      <td>8.582629</td>\n",
       "      <td>6</td>\n",
       "      <td>[centre, crise]</td>\n",
       "      <td>Cluster 998, #3 Elements</td>\n",
       "    </tr>\n",
       "    <tr>\n",
       "      <th>12610</th>\n",
       "      <td>['inesss']</td>\n",
       "      <td>carcinome rénal</td>\n",
       "      <td>NOM ADJ</td>\n",
       "      <td>carcinome rénal</td>\n",
       "      <td>True</td>\n",
       "      <td>D002292</td>\n",
       "      <td>Néphrocarcinome</td>\n",
       "      <td>Carcinoma, Renal Cell</td>\n",
       "      <td>False</td>\n",
       "      <td>61.813956</td>\n",
       "      <td>3</td>\n",
       "      <td>3</td>\n",
       "      <td>0.141561</td>\n",
       "      <td>18.359316</td>\n",
       "      <td>6</td>\n",
       "      <td>[carcinome, rénal]</td>\n",
       "      <td>zzz_no_cluster</td>\n",
       "    </tr>\n",
       "    <tr>\n",
       "      <th>12611</th>\n",
       "      <td>['inesss']</td>\n",
       "      <td>durée de vie</td>\n",
       "      <td>NOM PRP NOM</td>\n",
       "      <td>durée de vie</td>\n",
       "      <td>True</td>\n",
       "      <td>D008136</td>\n",
       "      <td>Longévité</td>\n",
       "      <td>Longevity</td>\n",
       "      <td>False</td>\n",
       "      <td>434.083437</td>\n",
       "      <td>3</td>\n",
       "      <td>3</td>\n",
       "      <td>0.184051</td>\n",
       "      <td>21.441105</td>\n",
       "      <td>6</td>\n",
       "      <td>[durée]</td>\n",
       "      <td>Cluster 63, #16 Elements</td>\n",
       "    </tr>\n",
       "    <tr>\n",
       "      <th>12612</th>\n",
       "      <td>['laval_sante']</td>\n",
       "      <td>commotion cérébrale</td>\n",
       "      <td>NOM ADJ</td>\n",
       "      <td>commotion cérébral</td>\n",
       "      <td>True</td>\n",
       "      <td>D001924</td>\n",
       "      <td>Commotion de l'encéphale</td>\n",
       "      <td>Brain Concussion</td>\n",
       "      <td>True</td>\n",
       "      <td>388.209903</td>\n",
       "      <td>3</td>\n",
       "      <td>3</td>\n",
       "      <td>0.557684</td>\n",
       "      <td>13.725435</td>\n",
       "      <td>6</td>\n",
       "      <td>[commotion, cérébrale]</td>\n",
       "      <td>Cluster 682, #4 Elements</td>\n",
       "    </tr>\n",
       "    <tr>\n",
       "      <th>12613</th>\n",
       "      <td>['iucpq']</td>\n",
       "      <td>tomographie par émission de positrons</td>\n",
       "      <td>NOM PRP NOM PRP NOM</td>\n",
       "      <td>tomographie par émission de positron</td>\n",
       "      <td>True</td>\n",
       "      <td>D049268</td>\n",
       "      <td>Tomographie par émission de positons</td>\n",
       "      <td>Positron-Emission Tomography</td>\n",
       "      <td>False</td>\n",
       "      <td>389.442395</td>\n",
       "      <td>2</td>\n",
       "      <td>1</td>\n",
       "      <td>0.317463</td>\n",
       "      <td>21.257671</td>\n",
       "      <td>3</td>\n",
       "      <td>[positrons, tomographie, émission]</td>\n",
       "      <td>zzz_no_cluster</td>\n",
       "    </tr>\n",
       "  </tbody>\n",
       "</table>\n",
       "<p>12614 rows × 17 columns</p>\n",
       "</div>"
      ],
      "text/plain": [
       "                                                 Corpora  \\\n",
       "0      ['chum', 'chuqc', 'chusj', 'cisss_ca', 'cisss_...   \n",
       "1      ['chum', 'chuqc', 'cisss_ca', 'cisss_cotenord'...   \n",
       "2      ['chum', 'chuqc', 'chusj', 'cisss_ca', 'cisss_...   \n",
       "3      ['chuqc', 'chusj', 'cisss_ca', 'cisss_cotenord...   \n",
       "4      ['chuqc', 'chusj', 'cisss_ca', 'cisss_cotenord...   \n",
       "...                                                  ...   \n",
       "12609                                    ['santeestrie']   \n",
       "12610                                         ['inesss']   \n",
       "12611                                         ['inesss']   \n",
       "12612                                    ['laval_sante']   \n",
       "12613                                          ['iucpq']   \n",
       "\n",
       "                                       Terme  \\\n",
       "0                           services sociaux   \n",
       "1                             santé publique   \n",
       "2                              santé mentale   \n",
       "3                      ministère de la santé   \n",
       "4      ministère de la santé et des services   \n",
       "...                                      ...   \n",
       "12609                        centre de crise   \n",
       "12610                        carcinome rénal   \n",
       "12611                           durée de vie   \n",
       "12612                    commotion cérébrale   \n",
       "12613  tomographie par émission de positrons   \n",
       "\n",
       "                      Structure syntaxique  \\\n",
       "0                                  NOM ADJ   \n",
       "1                                  NOM ADJ   \n",
       "2                                  NOM ADJ   \n",
       "3                      NOM PRP DET:ART NOM   \n",
       "4      NOM PRP DET:ART NOM KON PRP:det NOM   \n",
       "...                                    ...   \n",
       "12609                          NOM PRP NOM   \n",
       "12610                              NOM ADJ   \n",
       "12611                          NOM PRP NOM   \n",
       "12612                              NOM ADJ   \n",
       "12613                  NOM PRP NOM PRP NOM   \n",
       "\n",
       "                           Forme lemmatisée  isMeSHTerm   MeSHID  \\\n",
       "0                            service social        True  D012947   \n",
       "1                              santé public        True  D011634   \n",
       "2                              santé mental        True  D008603   \n",
       "3                     ministère de le santé       False      NaN   \n",
       "4      ministère de le santé et des service       False      NaN   \n",
       "...                                     ...         ...      ...   \n",
       "12609                       centre de crise       False      NaN   \n",
       "12610                       carcinome rénal        True  D002292   \n",
       "12611                          durée de vie        True  D008136   \n",
       "12612                    commotion cérébral        True  D001924   \n",
       "12613  tomographie par émission de positron        True  D049268   \n",
       "\n",
       "                                   MesH_prefLabel_fr  \\\n",
       "0      Services sociaux et travail social (activité)   \n",
       "1                                     Santé publique   \n",
       "2                                      Santé mentale   \n",
       "3                                                NaN   \n",
       "4                                                NaN   \n",
       "...                                              ...   \n",
       "12609                                            NaN   \n",
       "12610                                Néphrocarcinome   \n",
       "12611                                      Longévité   \n",
       "12612                       Commotion de l'encéphale   \n",
       "12613           Tomographie par émission de positons   \n",
       "\n",
       "                  MesH_prefLabel_en  isTaxoTerm  Log Likelihood     TF     DF  \\\n",
       "0                       Social Work        True     1674.908057  40189  15418   \n",
       "1                     Public Health        True     1572.987576  32510  11194   \n",
       "2                     Mental Health        True     1579.080827  13229   4795   \n",
       "3                               NaN       False     1411.378559  10741   7142   \n",
       "4                               NaN       False     1107.888160  10560   7061   \n",
       "...                             ...         ...             ...    ...    ...   \n",
       "12609                           NaN        True       84.828851      3      3   \n",
       "12610         Carcinoma, Renal Cell       False       61.813956      3      3   \n",
       "12611                     Longevity       False      434.083437      3      3   \n",
       "12612              Brain Concussion        True      388.209903      3      3   \n",
       "12613  Positron-Emission Tomography       False      389.442395      2      1   \n",
       "\n",
       "         TF*IDF  OKapiBM25  TF + DF                              tokens  \\\n",
       "0      1.000000  26.361483    55607                 [services, sociaux]   \n",
       "1      1.000000  18.947189    43704                   [publique, santé]   \n",
       "2      1.000000  24.142062    18024                    [mentale, santé]   \n",
       "3      0.553007  21.734060    17883                  [ministère, santé]   \n",
       "4      0.553007  31.111185    17621        [ministère, santé, services]   \n",
       "...         ...        ...      ...                                 ...   \n",
       "12609  0.136894   8.582629        6                     [centre, crise]   \n",
       "12610  0.141561  18.359316        6                  [carcinome, rénal]   \n",
       "12611  0.184051  21.441105        6                             [durée]   \n",
       "12612  0.557684  13.725435        6              [commotion, cérébrale]   \n",
       "12613  0.317463  21.257671        3  [positrons, tomographie, émission]   \n",
       "\n",
       "                    Cluster Name  \n",
       "0      Cluster 30, #24 Elements   \n",
       "1      Cluster 67, #15 Elements   \n",
       "2      Cluster 1, #261 Elements   \n",
       "3      Cluster 2, #170 Elements   \n",
       "4      Cluster 29, #24 Elements   \n",
       "...                          ...  \n",
       "12609  Cluster 998, #3 Elements   \n",
       "12610             zzz_no_cluster  \n",
       "12611  Cluster 63, #16 Elements   \n",
       "12612  Cluster 682, #4 Elements   \n",
       "12613             zzz_no_cluster  \n",
       "\n",
       "[12614 rows x 17 columns]"
      ]
     },
     "execution_count": 8,
     "metadata": {},
     "output_type": "execute_result"
    }
   ],
   "source": [
    "df"
   ]
  },
  {
   "cell_type": "code",
   "execution_count": 9,
   "metadata": {},
   "outputs": [],
   "source": [
    "# Attribuer un label significatif aux clusters \n",
    "# Deux options :\n",
    "#   1 - S'il y a un token en commun  entre les termes d'un même clusters, le clusters sera désigné par celui-ci\n",
    "#   2 - Sinon, on prend le terme dont la somme TF + DF est la plus élevée \n",
    "# rename the clusters to the shortest keyword in the cluster\n",
    "\n",
    "labels = set(df['Cluster Name'].tolist())\n",
    "desired_labels = {x : None for x in labels} # (on initialise à None)\n",
    "for label in labels:\n",
    "    d = df[df['Cluster Name'] == label]['tokens'].tolist()\n",
    "    new_label = list(set.intersection(*map(set,d)))\n",
    "    try:\n",
    "        desired_labels[label] = new_label[0]\n",
    "    except:\n",
    "            cluster = df[df[\"Cluster Name\"] == label]\n",
    "            max_freq = cluster['TF + DF'].max()\n",
    "            new_label = cluster[cluster['TF + DF'] == max_freq]['Terme'].values\n",
    "            desired_labels[label] = new_label[0]\n",
    "\n",
    "df['Cluster'] = df['Cluster Name'].map(desired_labels)"
   ]
  },
  {
   "cell_type": "code",
   "execution_count": 10,
   "metadata": {},
   "outputs": [],
   "source": [
    "# move the cluster and keyword columns to the front\n",
    "col = df.pop(\"Terme\")\n",
    "df.insert(1, col.name, col)\n",
    "\n",
    "col = df.pop('Cluster')\n",
    "df.insert(1, col.name, col)\n",
    "\n",
    "df.sort_values([\"Cluster\", \"Terme\"], ascending=[True, True], inplace=True)"
   ]
  },
  {
   "cell_type": "code",
   "execution_count": 11,
   "metadata": {},
   "outputs": [
    {
     "data": {
      "text/html": [
       "<div>\n",
       "<style scoped>\n",
       "    .dataframe tbody tr th:only-of-type {\n",
       "        vertical-align: middle;\n",
       "    }\n",
       "\n",
       "    .dataframe tbody tr th {\n",
       "        vertical-align: top;\n",
       "    }\n",
       "\n",
       "    .dataframe thead th {\n",
       "        text-align: right;\n",
       "    }\n",
       "</style>\n",
       "<table border=\"1\" class=\"dataframe\">\n",
       "  <thead>\n",
       "    <tr style=\"text-align: right;\">\n",
       "      <th></th>\n",
       "      <th>Corpora</th>\n",
       "      <th>Cluster</th>\n",
       "      <th>Terme</th>\n",
       "      <th>Structure syntaxique</th>\n",
       "      <th>Forme lemmatisée</th>\n",
       "      <th>isMeSHTerm</th>\n",
       "      <th>MeSHID</th>\n",
       "      <th>MesH_prefLabel_fr</th>\n",
       "      <th>MesH_prefLabel_en</th>\n",
       "      <th>isTaxoTerm</th>\n",
       "      <th>Log Likelihood</th>\n",
       "      <th>TF</th>\n",
       "      <th>DF</th>\n",
       "      <th>TF*IDF</th>\n",
       "      <th>OKapiBM25</th>\n",
       "      <th>TF + DF</th>\n",
       "      <th>tokens</th>\n",
       "      <th>Cluster Name</th>\n",
       "    </tr>\n",
       "  </thead>\n",
       "  <tbody>\n",
       "    <tr>\n",
       "      <th>11510</th>\n",
       "      <td>['inesss']</td>\n",
       "      <td>(cancer colorectal métastatique)</td>\n",
       "      <td>abevmy (cancer colorectal métastatique)</td>\n",
       "      <td>NOM PUN NOM ADJ ADJ PUN</td>\n",
       "      <td>abevmy (cancer colorectal métastatique )</td>\n",
       "      <td>False</td>\n",
       "      <td>NaN</td>\n",
       "      <td>NaN</td>\n",
       "      <td>NaN</td>\n",
       "      <td>False</td>\n",
       "      <td>267.978979</td>\n",
       "      <td>39</td>\n",
       "      <td>39</td>\n",
       "      <td>0.008728</td>\n",
       "      <td>10.536159</td>\n",
       "      <td>78</td>\n",
       "      <td>[(cancer colorectal métastatique), abevmy]</td>\n",
       "      <td>Cluster 1310, #2 Elements</td>\n",
       "    </tr>\n",
       "    <tr>\n",
       "      <th>11439</th>\n",
       "      <td>['inesss']</td>\n",
       "      <td>(cancer colorectal métastatique)</td>\n",
       "      <td>aybintio (cancer colorectal métastatique)</td>\n",
       "      <td>NOM PUN NOM ADJ ADJ PUN</td>\n",
       "      <td>aybintio (cancer colorectal métastatique )</td>\n",
       "      <td>False</td>\n",
       "      <td>NaN</td>\n",
       "      <td>NaN</td>\n",
       "      <td>NaN</td>\n",
       "      <td>False</td>\n",
       "      <td>289.445249</td>\n",
       "      <td>39</td>\n",
       "      <td>39</td>\n",
       "      <td>0.008728</td>\n",
       "      <td>12.443722</td>\n",
       "      <td>78</td>\n",
       "      <td>[(cancer colorectal métastatique), aybintio]</td>\n",
       "      <td>Cluster 1310, #2 Elements</td>\n",
       "    </tr>\n",
       "    <tr>\n",
       "      <th>800</th>\n",
       "      <td>['cisss_iles', 'cisss_outaouais', 'ciusss_at',...</td>\n",
       "      <td>(chsld)</td>\n",
       "      <td>durée (chsld)</td>\n",
       "      <td>NOM PUN NOM PUN</td>\n",
       "      <td>durée (chsld )</td>\n",
       "      <td>False</td>\n",
       "      <td>NaN</td>\n",
       "      <td>NaN</td>\n",
       "      <td>NaN</td>\n",
       "      <td>False</td>\n",
       "      <td>525.643231</td>\n",
       "      <td>524</td>\n",
       "      <td>455</td>\n",
       "      <td>0.452913</td>\n",
       "      <td>23.949148</td>\n",
       "      <td>979</td>\n",
       "      <td>[(chsld), durée]</td>\n",
       "      <td>Cluster 1863, #2 Elements</td>\n",
       "    </tr>\n",
       "    <tr>\n",
       "      <th>5988</th>\n",
       "      <td>['ciusss_mcq']</td>\n",
       "      <td>(chsld)</td>\n",
       "      <td>hébergement (chsld)</td>\n",
       "      <td>NOM PUN NOM PUN</td>\n",
       "      <td>hébergement (chsld )</td>\n",
       "      <td>False</td>\n",
       "      <td>NaN</td>\n",
       "      <td>NaN</td>\n",
       "      <td>NaN</td>\n",
       "      <td>False</td>\n",
       "      <td>798.167800</td>\n",
       "      <td>85</td>\n",
       "      <td>83</td>\n",
       "      <td>0.531501</td>\n",
       "      <td>16.015980</td>\n",
       "      <td>168</td>\n",
       "      <td>[(chsld), hébergement]</td>\n",
       "      <td>Cluster 1863, #2 Elements</td>\n",
       "    </tr>\n",
       "    <tr>\n",
       "      <th>8218</th>\n",
       "      <td>['ciusss_centresud']</td>\n",
       "      <td>(crds)</td>\n",
       "      <td>demandes (crds)</td>\n",
       "      <td>NOM PUN NOM PUN</td>\n",
       "      <td>demande (crds )</td>\n",
       "      <td>False</td>\n",
       "      <td>NaN</td>\n",
       "      <td>NaN</td>\n",
       "      <td>NaN</td>\n",
       "      <td>False</td>\n",
       "      <td>603.821792</td>\n",
       "      <td>65</td>\n",
       "      <td>56</td>\n",
       "      <td>0.122942</td>\n",
       "      <td>9.633273</td>\n",
       "      <td>121</td>\n",
       "      <td>[(crds), demandes]</td>\n",
       "      <td>Cluster 1639, #2 Elements</td>\n",
       "    </tr>\n",
       "    <tr>\n",
       "      <th>...</th>\n",
       "      <td>...</td>\n",
       "      <td>...</td>\n",
       "      <td>...</td>\n",
       "      <td>...</td>\n",
       "      <td>...</td>\n",
       "      <td>...</td>\n",
       "      <td>...</td>\n",
       "      <td>...</td>\n",
       "      <td>...</td>\n",
       "      <td>...</td>\n",
       "      <td>...</td>\n",
       "      <td>...</td>\n",
       "      <td>...</td>\n",
       "      <td>...</td>\n",
       "      <td>...</td>\n",
       "      <td>...</td>\n",
       "      <td>...</td>\n",
       "      <td>...</td>\n",
       "    </tr>\n",
       "    <tr>\n",
       "      <th>1180</th>\n",
       "      <td>['msss']</td>\n",
       "      <td>évolution</td>\n",
       "      <td>tableau synthèse de l'évolution des données</td>\n",
       "      <td>NOM NOM PRP DET:ART NOM PRP:det NOM</td>\n",
       "      <td>tableau synthèse de le évolution des donnée</td>\n",
       "      <td>False</td>\n",
       "      <td>NaN</td>\n",
       "      <td>NaN</td>\n",
       "      <td>NaN</td>\n",
       "      <td>False</td>\n",
       "      <td>-inf</td>\n",
       "      <td>366</td>\n",
       "      <td>366</td>\n",
       "      <td>0.104796</td>\n",
       "      <td>23.143103</td>\n",
       "      <td>732</td>\n",
       "      <td>[données, synthèse, tableau, évolution]</td>\n",
       "      <td>Cluster 1722, #2 Elements</td>\n",
       "    </tr>\n",
       "    <tr>\n",
       "      <th>6986</th>\n",
       "      <td>['ciusss_cn']</td>\n",
       "      <td>évènements</td>\n",
       "      <td>municipalités et évènements</td>\n",
       "      <td>NOM KON NOM</td>\n",
       "      <td>municipalité et évènements</td>\n",
       "      <td>False</td>\n",
       "      <td>NaN</td>\n",
       "      <td>NaN</td>\n",
       "      <td>NaN</td>\n",
       "      <td>False</td>\n",
       "      <td>1387.580036</td>\n",
       "      <td>69</td>\n",
       "      <td>53</td>\n",
       "      <td>0.456666</td>\n",
       "      <td>9.356082</td>\n",
       "      <td>122</td>\n",
       "      <td>[municipalités, évènements]</td>\n",
       "      <td>Cluster 139, #2 Elements</td>\n",
       "    </tr>\n",
       "    <tr>\n",
       "      <th>4397</th>\n",
       "      <td>['msss']</td>\n",
       "      <td>évènements</td>\n",
       "      <td>registre des évènements</td>\n",
       "      <td>NOM PRP:det NOM</td>\n",
       "      <td>registre des évènements</td>\n",
       "      <td>False</td>\n",
       "      <td>NaN</td>\n",
       "      <td>NaN</td>\n",
       "      <td>NaN</td>\n",
       "      <td>False</td>\n",
       "      <td>-inf</td>\n",
       "      <td>131</td>\n",
       "      <td>112</td>\n",
       "      <td>0.395966</td>\n",
       "      <td>14.591255</td>\n",
       "      <td>243</td>\n",
       "      <td>[registre, évènements]</td>\n",
       "      <td>Cluster 139, #2 Elements</td>\n",
       "    </tr>\n",
       "    <tr>\n",
       "      <th>5376</th>\n",
       "      <td>['cisss_iles']</td>\n",
       "      <td>îles</td>\n",
       "      <td>cisss des îles</td>\n",
       "      <td>NOM PRP:det NOM</td>\n",
       "      <td>cisss des île</td>\n",
       "      <td>False</td>\n",
       "      <td>NaN</td>\n",
       "      <td>NaN</td>\n",
       "      <td>NaN</td>\n",
       "      <td>False</td>\n",
       "      <td>1079.751879</td>\n",
       "      <td>101</td>\n",
       "      <td>39</td>\n",
       "      <td>1.000000</td>\n",
       "      <td>6.522820</td>\n",
       "      <td>140</td>\n",
       "      <td>[cisss, îles]</td>\n",
       "      <td>Cluster 1629, #2 Elements</td>\n",
       "    </tr>\n",
       "    <tr>\n",
       "      <th>10937</th>\n",
       "      <td>['cisss_iles']</td>\n",
       "      <td>îles</td>\n",
       "      <td>csss des îles</td>\n",
       "      <td>NOM PRP:det NOM</td>\n",
       "      <td>csss des île</td>\n",
       "      <td>False</td>\n",
       "      <td>NaN</td>\n",
       "      <td>NaN</td>\n",
       "      <td>NaN</td>\n",
       "      <td>False</td>\n",
       "      <td>467.496693</td>\n",
       "      <td>44</td>\n",
       "      <td>44</td>\n",
       "      <td>0.685670</td>\n",
       "      <td>3.604067</td>\n",
       "      <td>88</td>\n",
       "      <td>[csss, îles]</td>\n",
       "      <td>Cluster 1629, #2 Elements</td>\n",
       "    </tr>\n",
       "  </tbody>\n",
       "</table>\n",
       "<p>12614 rows × 18 columns</p>\n",
       "</div>"
      ],
      "text/plain": [
       "                                                 Corpora  \\\n",
       "11510                                         ['inesss']   \n",
       "11439                                         ['inesss']   \n",
       "800    ['cisss_iles', 'cisss_outaouais', 'ciusss_at',...   \n",
       "5988                                      ['ciusss_mcq']   \n",
       "8218                                ['ciusss_centresud']   \n",
       "...                                                  ...   \n",
       "1180                                            ['msss']   \n",
       "6986                                       ['ciusss_cn']   \n",
       "4397                                            ['msss']   \n",
       "5376                                      ['cisss_iles']   \n",
       "10937                                     ['cisss_iles']   \n",
       "\n",
       "                                Cluster  \\\n",
       "11510  (cancer colorectal métastatique)   \n",
       "11439  (cancer colorectal métastatique)   \n",
       "800                             (chsld)   \n",
       "5988                            (chsld)   \n",
       "8218                             (crds)   \n",
       "...                                 ...   \n",
       "1180                          évolution   \n",
       "6986                         évènements   \n",
       "4397                         évènements   \n",
       "5376                               îles   \n",
       "10937                              îles   \n",
       "\n",
       "                                             Terme  \\\n",
       "11510      abevmy (cancer colorectal métastatique)   \n",
       "11439    aybintio (cancer colorectal métastatique)   \n",
       "800                                  durée (chsld)   \n",
       "5988                           hébergement (chsld)   \n",
       "8218                               demandes (crds)   \n",
       "...                                            ...   \n",
       "1180   tableau synthèse de l'évolution des données   \n",
       "6986                   municipalités et évènements   \n",
       "4397                       registre des évènements   \n",
       "5376                                cisss des îles   \n",
       "10937                                csss des îles   \n",
       "\n",
       "                      Structure syntaxique  \\\n",
       "11510              NOM PUN NOM ADJ ADJ PUN   \n",
       "11439              NOM PUN NOM ADJ ADJ PUN   \n",
       "800                        NOM PUN NOM PUN   \n",
       "5988                       NOM PUN NOM PUN   \n",
       "8218                       NOM PUN NOM PUN   \n",
       "...                                    ...   \n",
       "1180   NOM NOM PRP DET:ART NOM PRP:det NOM   \n",
       "6986                           NOM KON NOM   \n",
       "4397                       NOM PRP:det NOM   \n",
       "5376                       NOM PRP:det NOM   \n",
       "10937                      NOM PRP:det NOM   \n",
       "\n",
       "                                  Forme lemmatisée  isMeSHTerm MeSHID  \\\n",
       "11510     abevmy (cancer colorectal métastatique )       False    NaN   \n",
       "11439   aybintio (cancer colorectal métastatique )       False    NaN   \n",
       "800                                 durée (chsld )       False    NaN   \n",
       "5988                          hébergement (chsld )       False    NaN   \n",
       "8218                               demande (crds )       False    NaN   \n",
       "...                                            ...         ...    ...   \n",
       "1180   tableau synthèse de le évolution des donnée       False    NaN   \n",
       "6986                    municipalité et évènements       False    NaN   \n",
       "4397                       registre des évènements       False    NaN   \n",
       "5376                                 cisss des île       False    NaN   \n",
       "10937                                 csss des île       False    NaN   \n",
       "\n",
       "      MesH_prefLabel_fr MesH_prefLabel_en  isTaxoTerm  Log Likelihood   TF  \\\n",
       "11510               NaN               NaN       False      267.978979   39   \n",
       "11439               NaN               NaN       False      289.445249   39   \n",
       "800                 NaN               NaN       False      525.643231  524   \n",
       "5988                NaN               NaN       False      798.167800   85   \n",
       "8218                NaN               NaN       False      603.821792   65   \n",
       "...                 ...               ...         ...             ...  ...   \n",
       "1180                NaN               NaN       False            -inf  366   \n",
       "6986                NaN               NaN       False     1387.580036   69   \n",
       "4397                NaN               NaN       False            -inf  131   \n",
       "5376                NaN               NaN       False     1079.751879  101   \n",
       "10937               NaN               NaN       False      467.496693   44   \n",
       "\n",
       "        DF    TF*IDF  OKapiBM25  TF + DF  \\\n",
       "11510   39  0.008728  10.536159       78   \n",
       "11439   39  0.008728  12.443722       78   \n",
       "800    455  0.452913  23.949148      979   \n",
       "5988    83  0.531501  16.015980      168   \n",
       "8218    56  0.122942   9.633273      121   \n",
       "...    ...       ...        ...      ...   \n",
       "1180   366  0.104796  23.143103      732   \n",
       "6986    53  0.456666   9.356082      122   \n",
       "4397   112  0.395966  14.591255      243   \n",
       "5376    39  1.000000   6.522820      140   \n",
       "10937   44  0.685670   3.604067       88   \n",
       "\n",
       "                                             tokens  \\\n",
       "11510    [(cancer colorectal métastatique), abevmy]   \n",
       "11439  [(cancer colorectal métastatique), aybintio]   \n",
       "800                                [(chsld), durée]   \n",
       "5988                         [(chsld), hébergement]   \n",
       "8218                             [(crds), demandes]   \n",
       "...                                             ...   \n",
       "1180        [données, synthèse, tableau, évolution]   \n",
       "6986                    [municipalités, évènements]   \n",
       "4397                         [registre, évènements]   \n",
       "5376                                  [cisss, îles]   \n",
       "10937                                  [csss, îles]   \n",
       "\n",
       "                     Cluster Name  \n",
       "11510  Cluster 1310, #2 Elements   \n",
       "11439  Cluster 1310, #2 Elements   \n",
       "800    Cluster 1863, #2 Elements   \n",
       "5988   Cluster 1863, #2 Elements   \n",
       "8218   Cluster 1639, #2 Elements   \n",
       "...                           ...  \n",
       "1180   Cluster 1722, #2 Elements   \n",
       "6986    Cluster 139, #2 Elements   \n",
       "4397    Cluster 139, #2 Elements   \n",
       "5376   Cluster 1629, #2 Elements   \n",
       "10937  Cluster 1629, #2 Elements   \n",
       "\n",
       "[12614 rows x 18 columns]"
      ]
     },
     "execution_count": 11,
     "metadata": {},
     "output_type": "execute_result"
    }
   ],
   "source": [
    "df"
   ]
  },
  {
   "cell_type": "code",
   "execution_count": 12,
   "metadata": {},
   "outputs": [],
   "source": [
    "file_path = '../06-clustering/clusters_BERT_communityDetection.csv'\n",
    "df.drop(columns=['Cluster Name', 'tokens']).to_csv(file_path, index=False)"
   ]
  },
  {
   "cell_type": "code",
   "execution_count": 13,
   "metadata": {},
   "outputs": [
    {
     "name": "stdout",
     "output_type": "stream",
     "text": [
      "75.78087838909148 % of rows clustered successfully!\n"
     ]
    }
   ],
   "source": [
    "uncluster_percent = (remaining / len(df)) * 100\n",
    "clustered_percent = 100 - uncluster_percent\n",
    "print(clustered_percent,\"% of rows clustered successfully!\")"
   ]
  },
  {
   "cell_type": "markdown",
   "metadata": {},
   "source": [
    "## **Visualisation**\n",
    "https://inside-machinelearning.com/en/efficient-sentences-embedding-visualization-tsne/"
   ]
  },
  {
   "cell_type": "code",
   "execution_count": 14,
   "metadata": {},
   "outputs": [],
   "source": [
    "# On va d'abord choisir les clusters qu'on veut visualiser (ajouter une colonne = Visualize Y/N)\n",
    "clusters = pd.DataFrame(set(df['Cluster'].tolist()), columns=['Cluster'])\n",
    "\n",
    "file_path = '../06-clustering/clusters_to_visualize.csv'\n",
    "clusters.to_csv(file_path)"
   ]
  },
  {
   "cell_type": "markdown",
   "metadata": {},
   "source": [
    "__________________________________________________________________________________________\n",
    "Étape d'indexation manuelle\n",
    "__________________________________________________________________________________________"
   ]
  },
  {
   "cell_type": "code",
   "execution_count": 16,
   "metadata": {},
   "outputs": [
    {
     "data": {
      "text/plain": [
       "['hémato-oncologie',\n",
       " 'alimentation alternative',\n",
       " 'cardiologie',\n",
       " 'philippe-pinel',\n",
       " 'jeunesse (dpj)',\n",
       " 'prise de sang',\n",
       " 'rhumatisme',\n",
       " 'travailleurs immunosupprimés',\n",
       " 'psychothérapie',\n",
       " 'asthme',\n",
       " 'anticoagulants',\n",
       " 'fumée',\n",
       " 'infections nosocomiales',\n",
       " 'jeunes adultes',\n",
       " 'résidence privée',\n",
       " 'intoxications',\n",
       " 'grossesse gynéchologie',\n",
       " 'dépressif',\n",
       " 'autosoins',\n",
       " 'malentendants',\n",
       " 'cyberdépendance',\n",
       " 'paralysie',\n",
       " 'infections',\n",
       " 'traumatologie',\n",
       " 'littérature',\n",
       " 'palliatifs',\n",
       " 'infirmière clinicienne',\n",
       " 'génériques',\n",
       " 'dermatite',\n",
       " 'cancer colorectal',\n",
       " 'insuffisance cardiaque',\n",
       " 'risques infectieux',\n",
       " 'infections transmissibles',\n",
       " 'implant cochléaire',\n",
       " 'maternité',\n",
       " 'maladie de parkinson',\n",
       " 'grand-parentalité',\n",
       " 'centre intégré universitaire',\n",
       " 'médicaments biosimilaires',\n",
       " 'environnement',\n",
       " 'défavorisation',\n",
       " 'prise en charge médicale',\n",
       " 'enceintes',\n",
       " 'déficience',\n",
       " 'développement des enfants',\n",
       " 'allergie',\n",
       " 'déficience visuelle',\n",
       " 'pollution',\n",
       " 'vieillissement',\n",
       " 'reconstruction mammaire',\n",
       " 'cancérologie',\n",
       " 'alzheimer',\n",
       " 'prélèvements sanguins',\n",
       " 'schizophrénie',\n",
       " 'immunodéficience',\n",
       " 'mammographie',\n",
       " 'populations',\n",
       " 'cigarette',\n",
       " 'mesures de prévention',\n",
       " 'dépendances',\n",
       " 'soins infirmiers',\n",
       " 'allaitement',\n",
       " 'troubles cognitifs',\n",
       " 'cardiopathies',\n",
       " 'itinérance',\n",
       " 'nutrition',\n",
       " 'soutien psychosocial',\n",
       " 'traumatisme craniocérébral',\n",
       " 'recherche neurosciences',\n",
       " 'neurofibromatose',\n",
       " 'département de pharmacie',\n",
       " 'département de radiologie',\n",
       " 'dermatoses',\n",
       " 'troubles psychotiques',\n",
       " 'traitement pharmacologique',\n",
       " 'protocole médical national',\n",
       " 'cannabis',\n",
       " 'smog',\n",
       " 'autonomie des personnes âgées',\n",
       " 'infirmières praticiennes',\n",
       " 'symptômes psychologiques et comportementaux',\n",
       " 'prévention des traumatismes',\n",
       " 'biosurveillance',\n",
       " 'maladie pulmonaire',\n",
       " 'maison de naissance']"
      ]
     },
     "execution_count": 16,
     "metadata": {},
     "output_type": "execute_result"
    }
   ],
   "source": [
    "with open(file_path, encoding = 'utf-8') as f:\n",
    "    clusters = pd.read_csv(f, sep=';')\n",
    "    clusters = clusters[clusters['Visualize (Y/N)'] == 'Y']['Cluster'].tolist()\n",
    "\n",
    "clusters"
   ]
  },
  {
   "cell_type": "code",
   "execution_count": 17,
   "metadata": {},
   "outputs": [
    {
     "data": {
      "text/html": [
       "<div>\n",
       "<style scoped>\n",
       "    .dataframe tbody tr th:only-of-type {\n",
       "        vertical-align: middle;\n",
       "    }\n",
       "\n",
       "    .dataframe tbody tr th {\n",
       "        vertical-align: top;\n",
       "    }\n",
       "\n",
       "    .dataframe thead th {\n",
       "        text-align: right;\n",
       "    }\n",
       "</style>\n",
       "<table border=\"1\" class=\"dataframe\">\n",
       "  <thead>\n",
       "    <tr style=\"text-align: right;\">\n",
       "      <th></th>\n",
       "      <th>Corpora</th>\n",
       "      <th>Cluster</th>\n",
       "      <th>Terme</th>\n",
       "      <th>Structure syntaxique</th>\n",
       "      <th>Forme lemmatisée</th>\n",
       "      <th>isMeSHTerm</th>\n",
       "      <th>MeSHID</th>\n",
       "      <th>MesH_prefLabel_fr</th>\n",
       "      <th>MesH_prefLabel_en</th>\n",
       "      <th>isTaxoTerm</th>\n",
       "      <th>Log Likelihood</th>\n",
       "      <th>TF</th>\n",
       "      <th>DF</th>\n",
       "      <th>TF*IDF</th>\n",
       "      <th>OKapiBM25</th>\n",
       "      <th>TF + DF</th>\n",
       "      <th>tokens</th>\n",
       "      <th>Cluster Name</th>\n",
       "    </tr>\n",
       "  </thead>\n",
       "  <tbody>\n",
       "    <tr>\n",
       "      <th>2931</th>\n",
       "      <td>['ciusss_at']</td>\n",
       "      <td>alimentation alternative</td>\n",
       "      <td>alimentation alternative</td>\n",
       "      <td>NOM ADJ</td>\n",
       "      <td>alimentation alternatif</td>\n",
       "      <td>False</td>\n",
       "      <td>NaN</td>\n",
       "      <td>NaN</td>\n",
       "      <td>NaN</td>\n",
       "      <td>False</td>\n",
       "      <td>-inf</td>\n",
       "      <td>168</td>\n",
       "      <td>84</td>\n",
       "      <td>0.055972</td>\n",
       "      <td>2.610970</td>\n",
       "      <td>252</td>\n",
       "      <td>[alimentation, alternative]</td>\n",
       "      <td>Cluster 569, #4 Elements</td>\n",
       "    </tr>\n",
       "    <tr>\n",
       "      <th>5314</th>\n",
       "      <td>['ciusss_at', 'ciusss_nordmtl']</td>\n",
       "      <td>alimentation alternative</td>\n",
       "      <td>maison alternative</td>\n",
       "      <td>NOM ADJ</td>\n",
       "      <td>maison alternatif</td>\n",
       "      <td>False</td>\n",
       "      <td>NaN</td>\n",
       "      <td>NaN</td>\n",
       "      <td>NaN</td>\n",
       "      <td>False</td>\n",
       "      <td>1047.188893</td>\n",
       "      <td>103</td>\n",
       "      <td>26</td>\n",
       "      <td>1.000000</td>\n",
       "      <td>8.291842</td>\n",
       "      <td>129</td>\n",
       "      <td>[alternative, maison]</td>\n",
       "      <td>Cluster 569, #4 Elements</td>\n",
       "    </tr>\n",
       "    <tr>\n",
       "      <th>5124</th>\n",
       "      <td>['inesss']</td>\n",
       "      <td>alimentation alternative</td>\n",
       "      <td>normes disponibles alternatives</td>\n",
       "      <td>NOM ADJ ADJ</td>\n",
       "      <td>norme disponible alternatif</td>\n",
       "      <td>False</td>\n",
       "      <td>NaN</td>\n",
       "      <td>NaN</td>\n",
       "      <td>NaN</td>\n",
       "      <td>False</td>\n",
       "      <td>-inf</td>\n",
       "      <td>107</td>\n",
       "      <td>107</td>\n",
       "      <td>0.059649</td>\n",
       "      <td>27.873693</td>\n",
       "      <td>214</td>\n",
       "      <td>[alternatives, disponibles, normes]</td>\n",
       "      <td>Cluster 569, #4 Elements</td>\n",
       "    </tr>\n",
       "    <tr>\n",
       "      <th>8757</th>\n",
       "      <td>['ciusss_nordmtl']</td>\n",
       "      <td>alimentation alternative</td>\n",
       "      <td>protocole alternatives</td>\n",
       "      <td>NOM ADJ</td>\n",
       "      <td>protocole alternatif</td>\n",
       "      <td>False</td>\n",
       "      <td>NaN</td>\n",
       "      <td>NaN</td>\n",
       "      <td>NaN</td>\n",
       "      <td>False</td>\n",
       "      <td>525.792755</td>\n",
       "      <td>60</td>\n",
       "      <td>60</td>\n",
       "      <td>0.169313</td>\n",
       "      <td>9.155886</td>\n",
       "      <td>120</td>\n",
       "      <td>[alternatives, protocole]</td>\n",
       "      <td>Cluster 569, #4 Elements</td>\n",
       "    </tr>\n",
       "    <tr>\n",
       "      <th>9933</th>\n",
       "      <td>['ciusss_cn']</td>\n",
       "      <td>allaitement</td>\n",
       "      <td>allaitement alimentation vaccination</td>\n",
       "      <td>NOM NOM NOM</td>\n",
       "      <td>allaitement alimentation vaccination</td>\n",
       "      <td>False</td>\n",
       "      <td>NaN</td>\n",
       "      <td>NaN</td>\n",
       "      <td>NaN</td>\n",
       "      <td>False</td>\n",
       "      <td>751.448129</td>\n",
       "      <td>51</td>\n",
       "      <td>51</td>\n",
       "      <td>0.152911</td>\n",
       "      <td>7.691492</td>\n",
       "      <td>102</td>\n",
       "      <td>[alimentation, allaitement, vaccination]</td>\n",
       "      <td>Cluster 1065, #3 Elements</td>\n",
       "    </tr>\n",
       "    <tr>\n",
       "      <th>...</th>\n",
       "      <td>...</td>\n",
       "      <td>...</td>\n",
       "      <td>...</td>\n",
       "      <td>...</td>\n",
       "      <td>...</td>\n",
       "      <td>...</td>\n",
       "      <td>...</td>\n",
       "      <td>...</td>\n",
       "      <td>...</td>\n",
       "      <td>...</td>\n",
       "      <td>...</td>\n",
       "      <td>...</td>\n",
       "      <td>...</td>\n",
       "      <td>...</td>\n",
       "      <td>...</td>\n",
       "      <td>...</td>\n",
       "      <td>...</td>\n",
       "      <td>...</td>\n",
       "    </tr>\n",
       "    <tr>\n",
       "      <th>7075</th>\n",
       "      <td>['ciusss_cn']</td>\n",
       "      <td>vieillissement</td>\n",
       "      <td>cours du vieillissement développement</td>\n",
       "      <td>NOM PRP:det NOM NOM</td>\n",
       "      <td>cour du vieillissement développement</td>\n",
       "      <td>False</td>\n",
       "      <td>NaN</td>\n",
       "      <td>NaN</td>\n",
       "      <td>NaN</td>\n",
       "      <td>False</td>\n",
       "      <td>858.896962</td>\n",
       "      <td>67</td>\n",
       "      <td>64</td>\n",
       "      <td>0.091229</td>\n",
       "      <td>21.338439</td>\n",
       "      <td>131</td>\n",
       "      <td>[cours, développement, vieillissement]</td>\n",
       "      <td>Cluster 230, #7 Elements</td>\n",
       "    </tr>\n",
       "    <tr>\n",
       "      <th>3413</th>\n",
       "      <td>['ciusss_cn']</td>\n",
       "      <td>vieillissement</td>\n",
       "      <td>excellence sur le vieillissement</td>\n",
       "      <td>NOM PRP DET:ART NOM</td>\n",
       "      <td>excellence sur le vieillissement</td>\n",
       "      <td>False</td>\n",
       "      <td>NaN</td>\n",
       "      <td>NaN</td>\n",
       "      <td>NaN</td>\n",
       "      <td>False</td>\n",
       "      <td>-inf</td>\n",
       "      <td>156</td>\n",
       "      <td>72</td>\n",
       "      <td>0.384555</td>\n",
       "      <td>6.390874</td>\n",
       "      <td>228</td>\n",
       "      <td>[excellence, vieillissement]</td>\n",
       "      <td>Cluster 230, #7 Elements</td>\n",
       "    </tr>\n",
       "    <tr>\n",
       "      <th>6398</th>\n",
       "      <td>['ciusss_cn']</td>\n",
       "      <td>vieillissement</td>\n",
       "      <td>langage au cours du vieillissement</td>\n",
       "      <td>NOM PRP:det NOM PRP:det NOM</td>\n",
       "      <td>langage au cour du vieillissement</td>\n",
       "      <td>False</td>\n",
       "      <td>NaN</td>\n",
       "      <td>NaN</td>\n",
       "      <td>NaN</td>\n",
       "      <td>False</td>\n",
       "      <td>1385.428784</td>\n",
       "      <td>79</td>\n",
       "      <td>64</td>\n",
       "      <td>0.243677</td>\n",
       "      <td>10.763848</td>\n",
       "      <td>143</td>\n",
       "      <td>[cours, langage, vieillissement]</td>\n",
       "      <td>Cluster 230, #7 Elements</td>\n",
       "    </tr>\n",
       "    <tr>\n",
       "      <th>7061</th>\n",
       "      <td>['ciusss_cn']</td>\n",
       "      <td>vieillissement</td>\n",
       "      <td>langage au cours du vieillissement développement</td>\n",
       "      <td>NOM PRP:det NOM PRP:det NOM NOM</td>\n",
       "      <td>langage au cour du vieillissement développement</td>\n",
       "      <td>False</td>\n",
       "      <td>NaN</td>\n",
       "      <td>NaN</td>\n",
       "      <td>NaN</td>\n",
       "      <td>False</td>\n",
       "      <td>858.896962</td>\n",
       "      <td>67</td>\n",
       "      <td>64</td>\n",
       "      <td>0.091229</td>\n",
       "      <td>9.018718</td>\n",
       "      <td>131</td>\n",
       "      <td>[cours, développement, langage, vieillissement]</td>\n",
       "      <td>Cluster 230, #7 Elements</td>\n",
       "    </tr>\n",
       "    <tr>\n",
       "      <th>4672</th>\n",
       "      <td>['ciusss_cn']</td>\n",
       "      <td>vieillissement</td>\n",
       "      <td>santé centre d'excellence sur le vieillissement</td>\n",
       "      <td>NOM NOM PRP NOM PRP DET:ART NOM</td>\n",
       "      <td>santé centre de excellence sur le vieillissement</td>\n",
       "      <td>False</td>\n",
       "      <td>NaN</td>\n",
       "      <td>NaN</td>\n",
       "      <td>NaN</td>\n",
       "      <td>False</td>\n",
       "      <td>-inf</td>\n",
       "      <td>120</td>\n",
       "      <td>60</td>\n",
       "      <td>0.250875</td>\n",
       "      <td>11.513934</td>\n",
       "      <td>180</td>\n",
       "      <td>[centre, excellence, santé, vieillissement]</td>\n",
       "      <td>Cluster 230, #7 Elements</td>\n",
       "    </tr>\n",
       "  </tbody>\n",
       "</table>\n",
       "<p>536 rows × 18 columns</p>\n",
       "</div>"
      ],
      "text/plain": [
       "                              Corpora                   Cluster  \\\n",
       "2931                    ['ciusss_at']  alimentation alternative   \n",
       "5314  ['ciusss_at', 'ciusss_nordmtl']  alimentation alternative   \n",
       "5124                       ['inesss']  alimentation alternative   \n",
       "8757               ['ciusss_nordmtl']  alimentation alternative   \n",
       "9933                    ['ciusss_cn']               allaitement   \n",
       "...                               ...                       ...   \n",
       "7075                    ['ciusss_cn']            vieillissement   \n",
       "3413                    ['ciusss_cn']            vieillissement   \n",
       "6398                    ['ciusss_cn']            vieillissement   \n",
       "7061                    ['ciusss_cn']            vieillissement   \n",
       "4672                    ['ciusss_cn']            vieillissement   \n",
       "\n",
       "                                                 Terme  \\\n",
       "2931                          alimentation alternative   \n",
       "5314                                maison alternative   \n",
       "5124                   normes disponibles alternatives   \n",
       "8757                            protocole alternatives   \n",
       "9933              allaitement alimentation vaccination   \n",
       "...                                                ...   \n",
       "7075             cours du vieillissement développement   \n",
       "3413                  excellence sur le vieillissement   \n",
       "6398                langage au cours du vieillissement   \n",
       "7061  langage au cours du vieillissement développement   \n",
       "4672   santé centre d'excellence sur le vieillissement   \n",
       "\n",
       "                 Structure syntaxique  \\\n",
       "2931                          NOM ADJ   \n",
       "5314                          NOM ADJ   \n",
       "5124                      NOM ADJ ADJ   \n",
       "8757                          NOM ADJ   \n",
       "9933                      NOM NOM NOM   \n",
       "...                               ...   \n",
       "7075              NOM PRP:det NOM NOM   \n",
       "3413              NOM PRP DET:ART NOM   \n",
       "6398      NOM PRP:det NOM PRP:det NOM   \n",
       "7061  NOM PRP:det NOM PRP:det NOM NOM   \n",
       "4672  NOM NOM PRP NOM PRP DET:ART NOM   \n",
       "\n",
       "                                      Forme lemmatisée  isMeSHTerm MeSHID  \\\n",
       "2931                           alimentation alternatif       False    NaN   \n",
       "5314                                 maison alternatif       False    NaN   \n",
       "5124                       norme disponible alternatif       False    NaN   \n",
       "8757                              protocole alternatif       False    NaN   \n",
       "9933              allaitement alimentation vaccination       False    NaN   \n",
       "...                                                ...         ...    ...   \n",
       "7075              cour du vieillissement développement       False    NaN   \n",
       "3413                  excellence sur le vieillissement       False    NaN   \n",
       "6398                 langage au cour du vieillissement       False    NaN   \n",
       "7061   langage au cour du vieillissement développement       False    NaN   \n",
       "4672  santé centre de excellence sur le vieillissement       False    NaN   \n",
       "\n",
       "     MesH_prefLabel_fr MesH_prefLabel_en  isTaxoTerm  Log Likelihood   TF  \\\n",
       "2931               NaN               NaN       False            -inf  168   \n",
       "5314               NaN               NaN       False     1047.188893  103   \n",
       "5124               NaN               NaN       False            -inf  107   \n",
       "8757               NaN               NaN       False      525.792755   60   \n",
       "9933               NaN               NaN       False      751.448129   51   \n",
       "...                ...               ...         ...             ...  ...   \n",
       "7075               NaN               NaN       False      858.896962   67   \n",
       "3413               NaN               NaN       False            -inf  156   \n",
       "6398               NaN               NaN       False     1385.428784   79   \n",
       "7061               NaN               NaN       False      858.896962   67   \n",
       "4672               NaN               NaN       False            -inf  120   \n",
       "\n",
       "       DF    TF*IDF  OKapiBM25  TF + DF  \\\n",
       "2931   84  0.055972   2.610970      252   \n",
       "5314   26  1.000000   8.291842      129   \n",
       "5124  107  0.059649  27.873693      214   \n",
       "8757   60  0.169313   9.155886      120   \n",
       "9933   51  0.152911   7.691492      102   \n",
       "...   ...       ...        ...      ...   \n",
       "7075   64  0.091229  21.338439      131   \n",
       "3413   72  0.384555   6.390874      228   \n",
       "6398   64  0.243677  10.763848      143   \n",
       "7061   64  0.091229   9.018718      131   \n",
       "4672   60  0.250875  11.513934      180   \n",
       "\n",
       "                                               tokens  \\\n",
       "2931                      [alimentation, alternative]   \n",
       "5314                            [alternative, maison]   \n",
       "5124              [alternatives, disponibles, normes]   \n",
       "8757                        [alternatives, protocole]   \n",
       "9933         [alimentation, allaitement, vaccination]   \n",
       "...                                               ...   \n",
       "7075           [cours, développement, vieillissement]   \n",
       "3413                     [excellence, vieillissement]   \n",
       "6398                 [cours, langage, vieillissement]   \n",
       "7061  [cours, développement, langage, vieillissement]   \n",
       "4672      [centre, excellence, santé, vieillissement]   \n",
       "\n",
       "                    Cluster Name  \n",
       "2931   Cluster 569, #4 Elements   \n",
       "5314   Cluster 569, #4 Elements   \n",
       "5124   Cluster 569, #4 Elements   \n",
       "8757   Cluster 569, #4 Elements   \n",
       "9933  Cluster 1065, #3 Elements   \n",
       "...                          ...  \n",
       "7075   Cluster 230, #7 Elements   \n",
       "3413   Cluster 230, #7 Elements   \n",
       "6398   Cluster 230, #7 Elements   \n",
       "7061   Cluster 230, #7 Elements   \n",
       "4672   Cluster 230, #7 Elements   \n",
       "\n",
       "[536 rows x 18 columns]"
      ]
     },
     "execution_count": 17,
     "metadata": {},
     "output_type": "execute_result"
    }
   ],
   "source": [
    "# To speed up the learning process, I suggest to reduce the amount of data. \n",
    "to_visualize = df.query('Cluster in @clusters')\n",
    "to_visualize"
   ]
  },
  {
   "cell_type": "code",
   "execution_count": 18,
   "metadata": {},
   "outputs": [
    {
     "name": "stderr",
     "output_type": "stream",
     "text": [
      "c:\\Users\\p1115145\\AppData\\Local\\Programs\\Python\\Python310\\lib\\site-packages\\sklearn\\manifold\\_t_sne.py:795: FutureWarning: The default initialization in TSNE will change from 'random' to 'pca' in 1.2.\n",
      "  warnings.warn(\n",
      "c:\\Users\\p1115145\\AppData\\Local\\Programs\\Python\\Python310\\lib\\site-packages\\sklearn\\manifold\\_t_sne.py:805: FutureWarning: The default learning rate in TSNE will change from 200.0 to 'auto' in 1.2.\n",
      "  warnings.warn(\n"
     ]
    }
   ],
   "source": [
    "import numpy as np\n",
    "from sklearn.manifold import TSNE\n",
    "\n",
    "sentences = to_visualize['Terme'].tolist()\n",
    "X = list(model.encode(sentences))\n",
    "\n",
    "X_embedded = TSNE(n_components=2).fit_transform(X)"
   ]
  },
  {
   "cell_type": "code",
   "execution_count": 19,
   "metadata": {},
   "outputs": [],
   "source": [
    "df_embeddings = pd.DataFrame(X_embedded)\n",
    "df_embeddings = df_embeddings.rename(columns={0:'x',1:'y'})\n",
    "df_embeddings = df_embeddings.assign(label=to_visualize.Cluster.values)"
   ]
  },
  {
   "cell_type": "code",
   "execution_count": 20,
   "metadata": {},
   "outputs": [],
   "source": [
    "df_embeddings = df_embeddings.assign(text=to_visualize.Terme.values)"
   ]
  },
  {
   "cell_type": "code",
   "execution_count": 21,
   "metadata": {},
   "outputs": [
    {
     "data": {
      "application/vnd.plotly.v1+json": {
       "config": {
        "plotlyServerURL": "https://plot.ly"
       },
       "data": [
        {
         "customdata": [
          [
           "alimentation alternative"
          ],
          [
           "maison alternative"
          ],
          [
           "normes disponibles alternatives"
          ],
          [
           "protocole alternatives"
          ]
         ],
         "hovertemplate": "label=alimentation alternative<br>x=%{x}<br>y=%{y}<br>text=%{customdata[0]}<extra></extra>",
         "legendgroup": "alimentation alternative",
         "marker": {
          "color": "#636efa",
          "symbol": "circle"
         },
         "mode": "markers",
         "name": "alimentation alternative",
         "orientation": "v",
         "showlegend": true,
         "type": "scatter",
         "x": [
          3.721142530441284,
          3.718451738357544,
          3.426222801208496,
          3.6539907455444336
         ],
         "xaxis": "x",
         "y": [
          18.240812301635742,
          18.223251342773438,
          19.122922897338867,
          18.781841278076172
         ],
         "yaxis": "y"
        },
        {
         "customdata": [
          [
           "allaitement alimentation vaccination"
          ],
          [
           "allaitement alimentation vaccination langage"
          ],
          [
           "allaitement maternel information générale"
          ],
          [
           "allaitement maternel information générale statistiques"
          ],
          [
           "bébé allaitement alimentation vaccination"
          ],
          [
           "documentation références allaitement"
          ],
          [
           "semaine mondiale de l'allaitement maternel"
          ],
          [
           "thèmes associés allaitement"
          ]
         ],
         "hovertemplate": "label=allaitement<br>x=%{x}<br>y=%{y}<br>text=%{customdata[0]}<extra></extra>",
         "legendgroup": "allaitement",
         "marker": {
          "color": "#EF553B",
          "symbol": "circle"
         },
         "mode": "markers",
         "name": "allaitement",
         "orientation": "v",
         "showlegend": true,
         "type": "scatter",
         "x": [
          0.24309203028678894,
          0.0660514310002327,
          0.6107690334320068,
          0.5156773924827576,
          0.4225415587425232,
          1.657321810722351,
          1.174151062965393,
          1.6097520589828491
         ],
         "xaxis": "x",
         "y": [
          30.251728057861328,
          29.776683807373047,
          32.072994232177734,
          32.160369873046875,
          30.654144287109375,
          31.41543197631836,
          32.43022918701172,
          31.424938201904297
         ],
         "yaxis": "y"
        },
        {
         "customdata": [
          [
           "allergie pnc retardée"
          ],
          [
           "allergie pnc retardée non-grave"
          ]
         ],
         "hovertemplate": "label=allergie<br>x=%{x}<br>y=%{y}<br>text=%{customdata[0]}<extra></extra>",
         "legendgroup": "allergie",
         "marker": {
          "color": "#00cc96",
          "symbol": "circle"
         },
         "mode": "markers",
         "name": "allergie",
         "orientation": "v",
         "showlegend": true,
         "type": "scatter",
         "x": [
          -1.1297389268875122,
          -1.114069938659668
         ],
         "xaxis": "x",
         "y": [
          7.358667373657227,
          7.359664440155029
         ],
         "yaxis": "y"
        },
        {
         "customdata": [
          [
           "maladie d'alzheimer"
          ],
          [
           "maladie d'alzheimer conférences"
          ]
         ],
         "hovertemplate": "label=alzheimer<br>x=%{x}<br>y=%{y}<br>text=%{customdata[0]}<extra></extra>",
         "legendgroup": "alzheimer",
         "marker": {
          "color": "#ab63fa",
          "symbol": "circle"
         },
         "mode": "markers",
         "name": "alzheimer",
         "orientation": "v",
         "showlegend": true,
         "type": "scatter",
         "x": [
          9.34496784210205,
          9.353447914123535
         ],
         "xaxis": "x",
         "y": [
          7.9558424949646,
          7.947414875030518
         ],
         "yaxis": "y"
        },
        {
         "customdata": [
          [
           "anticoagulants oraux"
          ],
          [
           "anticoagulants oraux direct"
          ],
          [
           "anticoagulants oraux direct (aod)"
          ],
          [
           "guide d'utilisation des anticoagulants"
          ],
          [
           "guide d'utilisation des anticoagulants oraux"
          ],
          [
           "guide d'utilisation des anticoagulants oraux direct"
          ],
          [
           "utilisation des anticoagulants"
          ],
          [
           "utilisation des anticoagulants oraux"
          ],
          [
           "utilisation des anticoagulants oraux direct"
          ]
         ],
         "hovertemplate": "label=anticoagulants<br>x=%{x}<br>y=%{y}<br>text=%{customdata[0]}<extra></extra>",
         "legendgroup": "anticoagulants",
         "marker": {
          "color": "#FFA15A",
          "symbol": "circle"
         },
         "mode": "markers",
         "name": "anticoagulants",
         "orientation": "v",
         "showlegend": true,
         "type": "scatter",
         "x": [
          -12.749994277954102,
          -12.938172340393066,
          -12.436962127685547,
          -14.206277847290039,
          -14.235142707824707,
          -14.063851356506348,
          -13.435040473937988,
          -13.42507553100586,
          -13.493741989135742
         ],
         "xaxis": "x",
         "y": [
          13.42441177368164,
          14.420416831970215,
          14.192904472351074,
          12.757555961608887,
          13.54349136352539,
          14.284289360046387,
          12.564284324645996,
          13.374430656433105,
          14.12780475616455
         ],
         "yaxis": "y"
        },
        {
         "customdata": [
          [
           "asthme sévère"
          ],
          [
           "asthme sévère de type"
          ],
          [
           "asthme sévère pré-ac"
          ],
          [
           "asthme sévère pré-ac en attente"
          ],
          [
           "asthme éosinophile"
          ],
          [
           "asthme éosinophile sévère"
          ],
          [
           "entretien de l'asthme"
          ],
          [
           "entretien de l'asthme éosinophile"
          ],
          [
           "entretien de l'asthme éosinophile sévère"
          ],
          [
           "traitement d'entretien de l'asthme"
          ],
          [
           "traitement d'entretien de l'asthme éosinophile"
          ],
          [
           "traitement d'entretien de l'asthme éosinophile sévère"
          ],
          [
           "traitement de l'asthme"
          ],
          [
           "traitement de l'asthme sévère"
          ],
          [
           "traitement de l'asthme sévère de type"
          ]
         ],
         "hovertemplate": "label=asthme<br>x=%{x}<br>y=%{y}<br>text=%{customdata[0]}<extra></extra>",
         "legendgroup": "asthme",
         "marker": {
          "color": "#19d3f3",
          "symbol": "circle"
         },
         "mode": "markers",
         "name": "asthme",
         "orientation": "v",
         "showlegend": true,
         "type": "scatter",
         "x": [
          15.18480396270752,
          15.490436553955078,
          14.393210411071777,
          14.191071510314941,
          16.548145294189453,
          16.66398048400879,
          17.786951065063477,
          17.059524536132812,
          16.89837074279785,
          18.555679321289062,
          17.99978256225586,
          17.860923767089844,
          17.442138671875,
          16.758150100708008,
          16.712411880493164
         ],
         "xaxis": "x",
         "y": [
          14.653477668762207,
          14.855769157409668,
          15.48279094696045,
          15.63028621673584,
          10.978142738342285,
          11.242942810058594,
          14.50821590423584,
          13.025575637817383,
          13.096115112304688,
          13.794829368591309,
          12.909758567810059,
          12.909526824951172,
          14.362083435058594,
          14.276134490966797,
          14.706269264221191
         ],
         "yaxis": "y"
        },
        {
         "customdata": [
          [
           "approche adaptée à la personne âgée"
          ],
          [
           "autonomie des personnes âgées"
          ],
          [
           "maladies chroniques personnes âgées"
          ],
          [
           "pharmacien personnes âgées"
          ],
          [
           "père personnes âgées"
          ],
          [
           "père personnes âgées petit"
          ]
         ],
         "hovertemplate": "label=autonomie des personnes âgées<br>x=%{x}<br>y=%{y}<br>text=%{customdata[0]}<extra></extra>",
         "legendgroup": "autonomie des personnes âgées",
         "marker": {
          "color": "#FF6692",
          "symbol": "circle"
         },
         "mode": "markers",
         "name": "autonomie des personnes âgées",
         "orientation": "v",
         "showlegend": true,
         "type": "scatter",
         "x": [
          10.507658958435059,
          11.338139533996582,
          11.425392150878906,
          11.926137924194336,
          11.963379859924316,
          11.367629051208496
         ],
         "xaxis": "x",
         "y": [
          3.6135947704315186,
          3.7648377418518066,
          4.248182773590088,
          3.889124870300293,
          3.6815648078918457,
          3.1224308013916016
         ],
         "yaxis": "y"
        },
        {
         "customdata": [
          [
           "guide autosoins"
          ],
          [
           "guides autosoins"
          ]
         ],
         "hovertemplate": "label=autosoins<br>x=%{x}<br>y=%{y}<br>text=%{customdata[0]}<extra></extra>",
         "legendgroup": "autosoins",
         "marker": {
          "color": "#B6E880",
          "symbol": "circle"
         },
         "mode": "markers",
         "name": "autosoins",
         "orientation": "v",
         "showlegend": true,
         "type": "scatter",
         "x": [
          -16.86970329284668,
          -16.86954116821289
         ],
         "xaxis": "x",
         "y": [
          -12.811225891113281,
          -12.809179306030273
         ],
         "yaxis": "y"
        },
        {
         "customdata": [
          [
           "asss avc bénéficiaire bilan biosurveillance bourse"
          ],
          [
           "bilan biosurveillance"
          ],
          [
           "bilan biosurveillance bourse"
          ]
         ],
         "hovertemplate": "label=biosurveillance<br>x=%{x}<br>y=%{y}<br>text=%{customdata[0]}<extra></extra>",
         "legendgroup": "biosurveillance",
         "marker": {
          "color": "#FF97FF",
          "symbol": "circle"
         },
         "mode": "markers",
         "name": "biosurveillance",
         "orientation": "v",
         "showlegend": true,
         "type": "scatter",
         "x": [
          -6.0298871994018555,
          -6.697261333465576,
          -6.5325236320495605
         ],
         "xaxis": "x",
         "y": [
          -0.12763969600200653,
          -0.059537116438150406,
          -0.07266011834144592
         ],
         "yaxis": "y"
        },
        {
         "customdata": [
          [
           "cancer colorectal"
          ],
          [
           "chirurgie colorectale"
          ]
         ],
         "hovertemplate": "label=cancer colorectal<br>x=%{x}<br>y=%{y}<br>text=%{customdata[0]}<extra></extra>",
         "legendgroup": "cancer colorectal",
         "marker": {
          "color": "#FECB52",
          "symbol": "circle"
         },
         "mode": "markers",
         "name": "cancer colorectal",
         "orientation": "v",
         "showlegend": true,
         "type": "scatter",
         "x": [
          -10.869318962097168,
          -10.873798370361328
         ],
         "xaxis": "x",
         "y": [
          9.189314842224121,
          9.179667472839355
         ],
         "yaxis": "y"
        },
        {
         "customdata": [
          [
           "cancer cancérologie"
          ],
          [
           "cancer cancérologie cannabis"
          ],
          [
           "cancérologie (cic)"
          ],
          [
           "cancérologie (cric)"
          ],
          [
           "centre intégré de cancérologie"
          ],
          [
           "réponses rapides disponibles cancérologie"
          ]
         ],
         "hovertemplate": "label=cancérologie<br>x=%{x}<br>y=%{y}<br>text=%{customdata[0]}<extra></extra>",
         "legendgroup": "cancérologie",
         "marker": {
          "color": "#636efa",
          "symbol": "circle"
         },
         "mode": "markers",
         "name": "cancérologie",
         "orientation": "v",
         "showlegend": true,
         "type": "scatter",
         "x": [
          -10.180647850036621,
          -10.0109224319458,
          -10.106410026550293,
          -10.137401580810547,
          -10.713685035705566,
          -9.453655242919922
         ],
         "xaxis": "x",
         "y": [
          -6.4843950271606445,
          -5.941900730133057,
          -7.186758995056152,
          -7.621711730957031,
          -6.897995471954346,
          -6.67920446395874
         ],
         "yaxis": "y"
        },
        {
         "customdata": [
          [
           "consommation de cannabis"
          ],
          [
           "documentation cannabis"
          ],
          [
           "documentation cannabis information générale"
          ],
          [
           "interventions documentation cannabis"
          ],
          [
           "légalisation du cannabis"
          ]
         ],
         "hovertemplate": "label=cannabis<br>x=%{x}<br>y=%{y}<br>text=%{customdata[0]}<extra></extra>",
         "legendgroup": "cannabis",
         "marker": {
          "color": "#EF553B",
          "symbol": "circle"
         },
         "mode": "markers",
         "name": "cannabis",
         "orientation": "v",
         "showlegend": true,
         "type": "scatter",
         "x": [
          1.1474264860153198,
          0.8976407051086426,
          0.4248390793800354,
          0.496426522731781,
          1.3092691898345947
         ],
         "xaxis": "x",
         "y": [
          -8.774724960327148,
          -8.870037078857422,
          -8.321089744567871,
          -9.446703910827637,
          -8.898850440979004
         ],
         "yaxis": "y"
        },
        {
         "customdata": [
          [
           "axe de recherche en cardiologie"
          ],
          [
           "directeur de l'axe de recherche en cardiologie"
          ],
          [
           "institut de cardiologie"
          ],
          [
           "institut universitaire de cardiologie"
          ],
          [
           "institut universitaire de cardiologie et de pneumologie"
          ],
          [
           "médecins de l'institut de cardiologie"
          ],
          [
           "recherche de l'institut de cardiologie"
          ],
          [
           "recherche de l'institut universitaire de cardiologie"
          ],
          [
           "recherche en cardiologie"
          ]
         ],
         "hovertemplate": "label=cardiologie<br>x=%{x}<br>y=%{y}<br>text=%{customdata[0]}<extra></extra>",
         "legendgroup": "cardiologie",
         "marker": {
          "color": "#00cc96",
          "symbol": "circle"
         },
         "mode": "markers",
         "name": "cardiologie",
         "orientation": "v",
         "showlegend": true,
         "type": "scatter",
         "x": [
          -14.533982276916504,
          -14.100584983825684,
          -14.449860572814941,
          -13.51257610321045,
          -12.503499031066895,
          -13.556068420410156,
          -13.723470687866211,
          -12.874298095703125,
          -14.891161918640137
         ],
         "xaxis": "x",
         "y": [
          -0.9811912775039673,
          -0.9208803772926331,
          0.7073705792427063,
          0.9362131357192993,
          1.0609962940216064,
          0.08437898010015488,
          0.041873764246702194,
          0.1505771279335022,
          0.424102783203125
         ],
         "yaxis": "y"
        },
        {
         "customdata": [
          [
           "cardiopathies congénitales"
          ],
          [
           "cardiopathies congénitales adultes"
          ],
          [
           "centre de cardiopathies congénitales"
          ]
         ],
         "hovertemplate": "label=cardiopathies<br>x=%{x}<br>y=%{y}<br>text=%{customdata[0]}<extra></extra>",
         "legendgroup": "cardiopathies",
         "marker": {
          "color": "#ab63fa",
          "symbol": "circle"
         },
         "mode": "markers",
         "name": "cardiopathies",
         "orientation": "v",
         "showlegend": true,
         "type": "scatter",
         "x": [
          -12.989914894104004,
          -12.976449966430664,
          -13.531392097473145
         ],
         "xaxis": "x",
         "y": [
          5.11430549621582,
          5.144009590148926,
          4.624658584594727
         ],
         "yaxis": "y"
        },
        {
         "customdata": [
          [
           "affaires universitaires"
          ],
          [
           "centre intégré universitaire"
          ],
          [
           "centre universitaire"
          ],
          [
           "centres intégrés universitaires"
          ],
          [
           "enseignement universitaire"
          ],
          [
           "hôpital universitaire"
          ],
          [
           "institut universitaire"
          ],
          [
           "médecine universitaire"
          ]
         ],
         "hovertemplate": "label=centre intégré universitaire<br>x=%{x}<br>y=%{y}<br>text=%{customdata[0]}<extra></extra>",
         "legendgroup": "centre intégré universitaire",
         "marker": {
          "color": "#FFA15A",
          "symbol": "circle"
         },
         "mode": "markers",
         "name": "centre intégré universitaire",
         "orientation": "v",
         "showlegend": true,
         "type": "scatter",
         "x": [
          -2.607379674911499,
          -2.707016706466675,
          -1.851292610168457,
          -2.892206907272339,
          -1.8483076095581055,
          -1.2509994506835938,
          -1.5104657411575317,
          -1.348160982131958
         ],
         "xaxis": "x",
         "y": [
          19.524580001831055,
          18.276338577270508,
          19.03158187866211,
          18.694713592529297,
          20.09276008605957,
          19.95818519592285,
          19.001121520996094,
          19.655439376831055
         ],
         "yaxis": "y"
        },
        {
         "customdata": [
          [
           "chien chsld cigarette"
          ],
          [
           "chien chsld cigarette citoyen"
          ],
          [
           "chien chsld cigarette citoyen clinique"
          ]
         ],
         "hovertemplate": "label=cigarette<br>x=%{x}<br>y=%{y}<br>text=%{customdata[0]}<extra></extra>",
         "legendgroup": "cigarette",
         "marker": {
          "color": "#19d3f3",
          "symbol": "circle"
         },
         "mode": "markers",
         "name": "cigarette",
         "orientation": "v",
         "showlegend": true,
         "type": "scatter",
         "x": [
          3.028763771057129,
          3.301698684692383,
          3.4407052993774414
         ],
         "xaxis": "x",
         "y": [
          12.819348335266113,
          12.890323638916016,
          12.94015121459961
         ],
         "yaxis": "y"
        },
        {
         "customdata": [
          [
           "argent cyberdépendance"
          ],
          [
           "argent cyberdépendance centre"
          ]
         ],
         "hovertemplate": "label=cyberdépendance<br>x=%{x}<br>y=%{y}<br>text=%{customdata[0]}<extra></extra>",
         "legendgroup": "cyberdépendance",
         "marker": {
          "color": "#FF6692",
          "symbol": "circle"
         },
         "mode": "markers",
         "name": "cyberdépendance",
         "orientation": "v",
         "showlegend": true,
         "type": "scatter",
         "x": [
          12.646470069885254,
          12.642024040222168
         ],
         "xaxis": "x",
         "y": [
          -11.115628242492676,
          -11.122650146484375
         ],
         "yaxis": "y"
        },
        {
         "customdata": [
          [
           "dermatite atopique"
          ],
          [
           "dermatite atopique modérée"
          ],
          [
           "dermatite atopique modérée ou sévère"
          ],
          [
           "traitement de la dermatite"
          ],
          [
           "traitement de la dermatite atopique"
          ],
          [
           "traitement de la dermatite atopique modérée"
          ]
         ],
         "hovertemplate": "label=dermatite<br>x=%{x}<br>y=%{y}<br>text=%{customdata[0]}<extra></extra>",
         "legendgroup": "dermatite",
         "marker": {
          "color": "#B6E880",
          "symbol": "circle"
         },
         "mode": "markers",
         "name": "dermatite",
         "orientation": "v",
         "showlegend": true,
         "type": "scatter",
         "x": [
          23.247011184692383,
          22.815176010131836,
          22.778766632080078,
          21.85740089416504,
          22.240276336669922,
          22.1063175201416
         ],
         "xaxis": "x",
         "y": [
          7.760445594787598,
          8.322093963623047,
          8.430130004882812,
          6.859657287597656,
          7.338660717010498,
          8.038968086242676
         ],
         "yaxis": "y"
        },
        {
         "customdata": [
          [
           "dermatoses sensibles"
          ],
          [
           "soulagement des dermatoses"
          ],
          [
           "soulagement des dermatoses sensibles"
          ]
         ],
         "hovertemplate": "label=dermatoses<br>x=%{x}<br>y=%{y}<br>text=%{customdata[0]}<extra></extra>",
         "legendgroup": "dermatoses",
         "marker": {
          "color": "#FF97FF",
          "symbol": "circle"
         },
         "mode": "markers",
         "name": "dermatoses",
         "orientation": "v",
         "showlegend": true,
         "type": "scatter",
         "x": [
          20.043729782104492,
          19.458715438842773,
          19.74294662475586
         ],
         "xaxis": "x",
         "y": [
          7.986665725708008,
          7.690850734710693,
          7.823094367980957
         ],
         "yaxis": "y"
        },
        {
         "customdata": [
          [
           "défavorisation matérielle"
          ],
          [
           "défavorisation matérielle et sociale"
          ]
         ],
         "hovertemplate": "label=défavorisation<br>x=%{x}<br>y=%{y}<br>text=%{customdata[0]}<extra></extra>",
         "legendgroup": "défavorisation",
         "marker": {
          "color": "#FECB52",
          "symbol": "circle"
         },
         "mode": "markers",
         "name": "défavorisation",
         "orientation": "v",
         "showlegend": true,
         "type": "scatter",
         "x": [
          19.207368850708008,
          19.2069091796875
         ],
         "xaxis": "x",
         "y": [
          -27.506546020507812,
          -27.52956199645996
         ],
         "yaxis": "y"
        },
        {
         "customdata": [
          [
           "autisme et déficience"
          ],
          [
           "autisme et déficience physique"
          ],
          [
           "centres de réadaptation en déficience intellectuelle"
          ],
          [
           "chute communauté déficience"
          ],
          [
           "communauté déficience"
          ],
          [
           "déficience auditive déficience"
          ],
          [
           "déficience et handicap"
          ],
          [
           "déficience et handicap déficience"
          ],
          [
           "déficience motrice déficience"
          ],
          [
           "déficience motrice déficience auditive"
          ],
          [
           "déficience motrice déficience auditive déficience"
          ],
          [
           "déficience motrice programmes de réadaptation"
          ],
          [
           "déficience motrice programmes de réadaptation cliniques"
          ],
          [
           "déficience physique déficience"
          ],
          [
           "déficience physique déficience motrice"
          ],
          [
           "déficience physique déficience motrice déficience"
          ],
          [
           "déficience physique déficience motrice déficience auditive"
          ],
          [
           "déficience physique déficience motrice programmes"
          ],
          [
           "déficience visuelle surdicécité"
          ],
          [
           "déficience visuelle surdicécité déficience"
          ],
          [
           "déficience visuelle surdicécité déficience intellectuelle"
          ],
          [
           "familles des personnes ayant une déficience"
          ],
          [
           "handicap déficience"
          ],
          [
           "handicap déficience auditive"
          ],
          [
           "handicap déficience motrice"
          ],
          [
           "handicap déficience motrice programmes"
          ],
          [
           "langage déficience"
          ],
          [
           "langage déficience visuelle"
          ],
          [
           "langage déficience visuelle surdicécité"
          ],
          [
           "programme en déficience"
          ],
          [
           "réadaptation en déficience"
          ],
          [
           "réadaptation en déficience intellectuelle"
          ],
          [
           "services déficience"
          ],
          [
           "services déficience et handicap"
          ],
          [
           "services en déficience"
          ],
          [
           "services pour les personnes ayant une déficience"
          ],
          [
           "surdicécité déficience"
          ],
          [
           "surdicécité déficience intellectuelle"
          ],
          [
           "surdicécité déficience intellectuelle trouble"
          ],
          [
           "vêtement compressif déficience motrice"
          ],
          [
           "vêtement compressif déficience motrice déficience"
          ],
          [
           "équipements en déficience"
          ],
          [
           "équipements en déficience physique"
          ],
          [
           "équipements en déficience physique aides"
          ],
          [
           "équipements en déficience physique déficience"
          ],
          [
           "équipements en déficience physique déficience motrice"
          ]
         ],
         "hovertemplate": "label=déficience<br>x=%{x}<br>y=%{y}<br>text=%{customdata[0]}<extra></extra>",
         "legendgroup": "déficience",
         "marker": {
          "color": "#636efa",
          "symbol": "circle"
         },
         "mode": "markers",
         "name": "déficience",
         "orientation": "v",
         "showlegend": true,
         "type": "scatter",
         "x": [
          15.980722427368164,
          15.301024436950684,
          7.271248817443848,
          15.612366676330566,
          13.848278999328613,
          11.966039657592773,
          16.112091064453125,
          15.63879108428955,
          10.994245529174805,
          10.427281379699707,
          10.491110801696777,
          6.605322360992432,
          6.554018974304199,
          14.839188575744629,
          11.940455436706543,
          11.692511558532715,
          10.599519729614258,
          12.133028030395508,
          7.476441860198975,
          8.220864295959473,
          7.645226955413818,
          13.31252670288086,
          14.404767990112305,
          10.708650588989258,
          11.056357383728027,
          11.157255172729492,
          13.369333267211914,
          9.85214900970459,
          7.889228820800781,
          13.90267276763916,
          12.588687896728516,
          12.102258682250977,
          13.981584548950195,
          15.27229118347168,
          13.605403900146484,
          13.2988920211792,
          8.849035263061523,
          8.063940048217773,
          7.761630535125732,
          9.666574478149414,
          9.7420072555542,
          13.50063705444336,
          13.945303916931152,
          14.46483325958252,
          13.687949180603027,
          12.537866592407227
         ],
         "xaxis": "x",
         "y": [
          -32.406314849853516,
          -28.383134841918945,
          -27.842227935791016,
          -33.758358001708984,
          -33.87031555175781,
          -33.80717086791992,
          -30.90514373779297,
          -31.151294708251953,
          -29.549911499023438,
          -32.089332580566406,
          -31.61920928955078,
          -26.67329216003418,
          -26.61942481994629,
          -27.52762222290039,
          -28.390209197998047,
          -29.099905014038086,
          -30.864032745361328,
          -27.634321212768555,
          -33.254791259765625,
          -32.69011688232422,
          -32.34577178955078,
          -30.530746459960938,
          -32.89377212524414,
          -33.306922912597656,
          -28.690919876098633,
          -27.8659610748291,
          -33.4329948425293,
          -33.46022033691406,
          -33.22294235229492,
          -31.646154403686523,
          -31.988861083984375,
          -31.767988204956055,
          -33.287925720214844,
          -30.801605224609375,
          -31.69451332092285,
          -30.469276428222656,
          -31.19246482849121,
          -31.20279312133789,
          -31.203868865966797,
          -28.700428009033203,
          -28.82268524169922,
          -32.039180755615234,
          -29.067556381225586,
          -28.92536163330078,
          -28.788801193237305,
          -29.012317657470703
         ],
         "yaxis": "y"
        },
        {
         "customdata": [
          [
           "aides visuelles"
          ],
          [
           "audition aides visuelles"
          ],
          [
           "déficience visuelle"
          ]
         ],
         "hovertemplate": "label=déficience visuelle<br>x=%{x}<br>y=%{y}<br>text=%{customdata[0]}<extra></extra>",
         "legendgroup": "déficience visuelle",
         "marker": {
          "color": "#EF553B",
          "symbol": "circle"
         },
         "mode": "markers",
         "name": "déficience visuelle",
         "orientation": "v",
         "showlegend": true,
         "type": "scatter",
         "x": [
          9.659136772155762,
          9.42886734008789,
          9.926170349121094
         ],
         "xaxis": "x",
         "y": [
          -35.585079193115234,
          -34.915771484375,
          -36.076072692871094
         ],
         "yaxis": "y"
        },
        {
         "customdata": [
          [
           "attention du pharmacien"
          ],
          [
           "attention du pharmacien communautaire"
          ],
          [
           "consultation avec un pharmacien"
          ],
          [
           "dentistes et pharmaciens"
          ],
          [
           "département de pharmacie"
          ],
          [
           "espace pharmaciens"
          ],
          [
           "liaison à l'attention du pharmacien"
          ],
          [
           "modernisation de la pharmacie"
          ],
          [
           "nutrition pharmacie"
          ],
          [
           "santé espace pharmaciens"
          ],
          [
           "tables des pharmaciens"
          ],
          [
           "urgence consultation avec un pharmacien"
          ]
         ],
         "hovertemplate": "label=département de pharmacie<br>x=%{x}<br>y=%{y}<br>text=%{customdata[0]}<extra></extra>",
         "legendgroup": "département de pharmacie",
         "marker": {
          "color": "#00cc96",
          "symbol": "circle"
         },
         "mode": "markers",
         "name": "département de pharmacie",
         "orientation": "v",
         "showlegend": true,
         "type": "scatter",
         "x": [
          -14.198240280151367,
          -13.3445405960083,
          -14.309483528137207,
          -15.534557342529297,
          -15.75703239440918,
          -14.8146390914917,
          -13.523354530334473,
          -15.935347557067871,
          -15.65141487121582,
          -14.38156509399414,
          -15.036823272705078,
          -14.492717742919922
         ],
         "xaxis": "x",
         "y": [
          19.954679489135742,
          20.498207092285156,
          18.99259376525879,
          20.083337783813477,
          19.1159725189209,
          19.913774490356445,
          19.233123779296875,
          19.206356048583984,
          18.4315128326416,
          20.986528396606445,
          20.660802841186523,
          18.730785369873047
         ],
         "yaxis": "y"
        },
        {
         "customdata": [
          [
           "département de radiologie"
          ],
          [
           "image radiologique"
          ]
         ],
         "hovertemplate": "label=département de radiologie<br>x=%{x}<br>y=%{y}<br>text=%{customdata[0]}<extra></extra>",
         "legendgroup": "département de radiologie",
         "marker": {
          "color": "#ab63fa",
          "symbol": "circle"
         },
         "mode": "markers",
         "name": "département de radiologie",
         "orientation": "v",
         "showlegend": true,
         "type": "scatter",
         "x": [
          -10.790699005126953,
          -10.793975830078125
         ],
         "xaxis": "x",
         "y": [
          -3.959123373031616,
          -3.83060884475708
         ],
         "yaxis": "y"
        },
        {
         "customdata": [
          [
           "centre canadien sur les dépendances"
          ],
          [
           "centre canadien sur les dépendances et l'usage"
          ],
          [
           "dents dépendances dépistage"
          ],
          [
           "déficience dents dépendances"
          ],
          [
           "déficience dents dépendances dépistage"
          ]
         ],
         "hovertemplate": "label=dépendances<br>x=%{x}<br>y=%{y}<br>text=%{customdata[0]}<extra></extra>",
         "legendgroup": "dépendances",
         "marker": {
          "color": "#FFA15A",
          "symbol": "circle"
         },
         "mode": "markers",
         "name": "dépendances",
         "orientation": "v",
         "showlegend": true,
         "type": "scatter",
         "x": [
          14.676533699035645,
          14.66439151763916,
          16.275009155273438,
          16.60806655883789,
          16.52235221862793
         ],
         "xaxis": "x",
         "y": [
          -8.112689018249512,
          -8.062300682067871,
          -9.161906242370605,
          -9.890864372253418,
          -9.650097846984863
         ],
         "yaxis": "y"
        },
        {
         "customdata": [
          [
           "trouble dépressif"
          ],
          [
           "trouble dépressif caractérisé"
          ],
          [
           "épisode dépressif"
          ],
          [
           "épisode dépressif troubles"
          ],
          [
           "épisode dépressif troubles de l'humeur"
          ]
         ],
         "hovertemplate": "label=dépressif<br>x=%{x}<br>y=%{y}<br>text=%{customdata[0]}<extra></extra>",
         "legendgroup": "dépressif",
         "marker": {
          "color": "#19d3f3",
          "symbol": "circle"
         },
         "mode": "markers",
         "name": "dépressif",
         "orientation": "v",
         "showlegend": true,
         "type": "scatter",
         "x": [
          4.7796406745910645,
          5.198654651641846,
          4.532919883728027,
          5.4363603591918945,
          5.378503322601318
         ],
         "xaxis": "x",
         "y": [
          -10.80298137664795,
          -11.119166374206543,
          -10.947861671447754,
          -10.674461364746094,
          -10.1910982131958
         ],
         "yaxis": "y"
        },
        {
         "customdata": [
          [
           "communautés pour le développement des enfants"
          ],
          [
           "dépendance enfant"
          ],
          [
           "déplacements par enfant"
          ],
          [
           "développement de l'enfant"
          ],
          [
           "développement des enfants"
          ],
          [
           "enfant enfants"
          ],
          [
           "jeunes enfants"
          ],
          [
           "nombre d'enfants"
          ],
          [
           "parents d'enfants"
          ],
          [
           "parents et enfants"
          ],
          [
           "placement de l'enfant"
          ],
          [
           "proportion des enfants"
          ],
          [
           "réadaptation pour les enfants"
          ],
          [
           "santé des enfants"
          ],
          [
           "santé des enfants services"
          ],
          [
           "taux d'enfants"
          ],
          [
           "taux d'enfants faisant l'objet"
          ],
          [
           "terme des enfants"
          ],
          [
           "unité pour les enfants"
          ],
          [
           "vaccination des enfants"
          ],
          [
           "âges jeunes enfants"
          ]
         ],
         "hovertemplate": "label=développement des enfants<br>x=%{x}<br>y=%{y}<br>text=%{customdata[0]}<extra></extra>",
         "legendgroup": "développement des enfants",
         "marker": {
          "color": "#FF6692",
          "symbol": "circle"
         },
         "mode": "markers",
         "name": "développement des enfants",
         "orientation": "v",
         "showlegend": true,
         "type": "scatter",
         "x": [
          5.710697174072266,
          6.469954490661621,
          5.729362487792969,
          5.4959917068481445,
          7.5414299964904785,
          7.421098709106445,
          7.5388407707214355,
          9.054634094238281,
          8.949095726013184,
          8.74893569946289,
          5.598102569580078,
          7.591991424560547,
          6.9447808265686035,
          7.820043563842773,
          8.44483470916748,
          8.490067481994629,
          9.481794357299805,
          7.108183860778809,
          6.660796165466309,
          8.120476722717285,
          6.751728534698486
         ],
         "xaxis": "x",
         "y": [
          32.81851577758789,
          29.63601303100586,
          30.151138305664062,
          31.597522735595703,
          31.184223175048828,
          29.674278259277344,
          30.171056747436523,
          30.981101989746094,
          31.549562454223633,
          29.642044067382812,
          31.41013526916504,
          32.25649642944336,
          33.24583435058594,
          31.617210388183594,
          33.51007080078125,
          30.919694900512695,
          32.18666076660156,
          31.637596130371094,
          32.32538986206055,
          32.25070571899414,
          30.81524085998535
         ],
         "yaxis": "y"
        },
        {
         "customdata": [
          [
           "femmes enceintes"
          ],
          [
           "travailleuses enceintes"
          ]
         ],
         "hovertemplate": "label=enceintes<br>x=%{x}<br>y=%{y}<br>text=%{customdata[0]}<extra></extra>",
         "legendgroup": "enceintes",
         "marker": {
          "color": "#B6E880",
          "symbol": "circle"
         },
         "mode": "markers",
         "name": "enceintes",
         "orientation": "v",
         "showlegend": true,
         "type": "scatter",
         "x": [
          0.6791892051696777,
          0.6824902296066284
         ],
         "xaxis": "x",
         "y": [
          23.1138916015625,
          23.12727928161621
         ],
         "yaxis": "y"
        },
        {
         "customdata": [
          [
           "aliments contamination de l'eau environnement"
          ],
          [
           "contamination de l'eau environnement"
          ],
          [
           "environnement favorable organismes"
          ],
          [
           "environnement jeunes maladies"
          ],
          [
           "environnement jeunes maladies infectieuses"
          ],
          [
           "environnement urbain et saines"
          ],
          [
           "environnement urbain et saines habitudes"
          ],
          [
           "gestion environnement favorable organismes"
          ],
          [
           "problèmes de santé liés à l'environnement chaleur"
          ],
          [
           "santé liés à l'environnement chaleur"
          ]
         ],
         "hovertemplate": "label=environnement<br>x=%{x}<br>y=%{y}<br>text=%{customdata[0]}<extra></extra>",
         "legendgroup": "environnement",
         "marker": {
          "color": "#FF97FF",
          "symbol": "circle"
         },
         "mode": "markers",
         "name": "environnement",
         "orientation": "v",
         "showlegend": true,
         "type": "scatter",
         "x": [
          5.838155269622803,
          5.829282283782959,
          1.1653923988342285,
          18.95931625366211,
          19.025524139404297,
          4.221489429473877,
          4.245575904846191,
          1.1957402229309082,
          3.8513240814208984,
          3.829270601272583
         ],
         "xaxis": "x",
         "y": [
          5.457812786102295,
          5.409984111785889,
          4.726593494415283,
          3.7015645503997803,
          3.644906997680664,
          -0.056388970464468,
          -0.08786331862211227,
          4.711879730224609,
          3.5814831256866455,
          3.5632638931274414
         ],
         "yaxis": "y"
        },
        {
         "customdata": [
          [
           "environnement sans fumée"
          ],
          [
           "environnements sans fumée"
          ],
          [
           "formation fumée"
          ],
          [
           "mode de vie sans fumée"
          ],
          [
           "vie sans fumée"
          ],
          [
           "vie sans fumée programme"
          ]
         ],
         "hovertemplate": "label=fumée<br>x=%{x}<br>y=%{y}<br>text=%{customdata[0]}<extra></extra>",
         "legendgroup": "fumée",
         "marker": {
          "color": "#FECB52",
          "symbol": "circle"
         },
         "mode": "markers",
         "name": "fumée",
         "orientation": "v",
         "showlegend": true,
         "type": "scatter",
         "x": [
          0.09792139381170273,
          0.4177946150302887,
          0.2461654245853424,
          -0.5572507381439209,
          0.05231586471199989,
          0.03754027932882309
         ],
         "xaxis": "x",
         "y": [
          11.73193359375,
          11.969985961914062,
          10.872817039489746,
          11.955897331237793,
          11.741860389709473,
          12.727773666381836
         ],
         "yaxis": "y"
        },
        {
         "customdata": [
          [
           "grand-parentalité au masculin"
          ],
          [
           "management la grand-parentalité"
          ]
         ],
         "hovertemplate": "label=grand-parentalité<br>x=%{x}<br>y=%{y}<br>text=%{customdata[0]}<extra></extra>",
         "legendgroup": "grand-parentalité",
         "marker": {
          "color": "#636efa",
          "symbol": "circle"
         },
         "mode": "markers",
         "name": "grand-parentalité",
         "orientation": "v",
         "showlegend": true,
         "type": "scatter",
         "x": [
          -1.1193196773529053,
          -1.0934070348739624
         ],
         "xaxis": "x",
         "y": [
          34.91030502319336,
          34.88649368286133
         ],
         "yaxis": "y"
        },
        {
         "customdata": [
          [
           "examen gynécologique"
          ],
          [
           "grossesse gynéchologie"
          ],
          [
           "grossesse gynéchologie handicapé"
          ]
         ],
         "hovertemplate": "label=grossesse gynéchologie<br>x=%{x}<br>y=%{y}<br>text=%{customdata[0]}<extra></extra>",
         "legendgroup": "grossesse gynéchologie",
         "marker": {
          "color": "#EF553B",
          "symbol": "circle"
         },
         "mode": "markers",
         "name": "grossesse gynéchologie",
         "orientation": "v",
         "showlegend": true,
         "type": "scatter",
         "x": [
          -8.97141170501709,
          -8.420223236083984,
          -8.423418998718262
         ],
         "xaxis": "x",
         "y": [
          14.372296333312988,
          14.341517448425293,
          14.344963073730469
         ],
         "yaxis": "y"
        },
        {
         "customdata": [
          [
           "médicaments génériques"
          ],
          [
           "médicaments génériques produits"
          ],
          [
           "versions génériques"
          ]
         ],
         "hovertemplate": "label=génériques<br>x=%{x}<br>y=%{y}<br>text=%{customdata[0]}<extra></extra>",
         "legendgroup": "génériques",
         "marker": {
          "color": "#00cc96",
          "symbol": "circle"
         },
         "mode": "markers",
         "name": "génériques",
         "orientation": "v",
         "showlegend": true,
         "type": "scatter",
         "x": [
          -16.951993942260742,
          -16.872882843017578,
          -17.219465255737305
         ],
         "xaxis": "x",
         "y": [
          14.581056594848633,
          14.533186912536621,
          14.313528060913086
         ],
         "yaxis": "y"
        },
        {
         "customdata": [
          [
           "bloc opératoire soins médico-chirurgicaux hémato-oncologie"
          ],
          [
           "centre de jour d'hémato-oncologie"
          ],
          [
           "hémato-oncologie des alliés"
          ],
          [
           "hémato-oncologie des alliés indispensables"
          ],
          [
           "jour d'hémato-oncologie"
          ],
          [
           "soins médico-chirurgicaux hémato-oncologie"
          ]
         ],
         "hovertemplate": "label=hémato-oncologie<br>x=%{x}<br>y=%{y}<br>text=%{customdata[0]}<extra></extra>",
         "legendgroup": "hémato-oncologie",
         "marker": {
          "color": "#ab63fa",
          "symbol": "circle"
         },
         "mode": "markers",
         "name": "hémato-oncologie",
         "orientation": "v",
         "showlegend": true,
         "type": "scatter",
         "x": [
          -8.446676254272461,
          -7.280656337738037,
          -6.855195045471191,
          -6.9911699295043945,
          -7.335938453674316,
          -8.362646102905273
         ],
         "xaxis": "x",
         "y": [
          -11.15585994720459,
          -10.461590766906738,
          -8.623292922973633,
          -8.769343376159668,
          -10.347434043884277,
          -11.096182823181152
         ],
         "yaxis": "y"
        },
        {
         "customdata": [
          [
           "immunodéficience humaine (vih)"
          ],
          [
           "infection par le virus de l'immunodéficience"
          ],
          [
           "infection par le virus de l'immunodéficience humaine"
          ],
          [
           "santé naturels virus de l'immunodéficience"
          ],
          [
           "santé naturels virus de l'immunodéficience humaine"
          ],
          [
           "virus de l'immunodéficience"
          ],
          [
           "virus de l'immunodéficience humaine"
          ],
          [
           "virus de l'immunodéficience humaine (vih)"
          ]
         ],
         "hovertemplate": "label=immunodéficience<br>x=%{x}<br>y=%{y}<br>text=%{customdata[0]}<extra></extra>",
         "legendgroup": "immunodéficience",
         "marker": {
          "color": "#FFA15A",
          "symbol": "circle"
         },
         "mode": "markers",
         "name": "immunodéficience",
         "orientation": "v",
         "showlegend": true,
         "type": "scatter",
         "x": [
          29.67180061340332,
          27.927350997924805,
          28.22876739501953,
          27.155595779418945,
          27.323015213012695,
          27.790008544921875,
          28.185794830322266,
          28.882328033447266
         ],
         "xaxis": "x",
         "y": [
          1.0930988788604736,
          0.5925211310386658,
          0.27578526735305786,
          0.9260244369506836,
          0.5153956413269043,
          1.621559739112854,
          1.3361914157867432,
          0.9166157841682434
         ],
         "yaxis": "y"
        },
        {
         "customdata": [
          [
           "implant cochléaire"
          ],
          [
           "implant cochléaire information sur les services"
          ],
          [
           "implant cochléaire langue"
          ],
          [
           "implantation cochléaire"
          ],
          [
           "implants cochléaires"
          ]
         ],
         "hovertemplate": "label=implant cochléaire<br>x=%{x}<br>y=%{y}<br>text=%{customdata[0]}<extra></extra>",
         "legendgroup": "implant cochléaire",
         "marker": {
          "color": "#19d3f3",
          "symbol": "circle"
         },
         "mode": "markers",
         "name": "implant cochléaire",
         "orientation": "v",
         "showlegend": true,
         "type": "scatter",
         "x": [
          -1.7344729900360107,
          -2.065605878829956,
          -1.0725388526916504,
          -1.995833396911621,
          -1.5785033702850342
         ],
         "xaxis": "x",
         "y": [
          -30.02151107788086,
          -29.366037368774414,
          -30.463459014892578,
          -30.06829071044922,
          -29.687339782714844
         ],
         "yaxis": "y"
        },
        {
         "customdata": [
          [
           "comité sur les infections nosocomiales du québec"
          ],
          [
           "infections bactériennes aiguës"
          ],
          [
           "infections nosocomiales du québec"
          ],
          [
           "patients adultes atteints d'infections"
          ],
          [
           "patients adultes atteints d'infections bactériennes"
          ],
          [
           "patients adultes atteints d'infections bactériennes aiguës"
          ]
         ],
         "hovertemplate": "label=infections<br>x=%{x}<br>y=%{y}<br>text=%{customdata[0]}<extra></extra>",
         "legendgroup": "infections",
         "marker": {
          "color": "#FF6692",
          "symbol": "circle"
         },
         "mode": "markers",
         "name": "infections",
         "orientation": "v",
         "showlegend": true,
         "type": "scatter",
         "x": [
          21.951581954956055,
          22.03428077697754,
          21.690717697143555,
          23.456987380981445,
          23.002038955688477,
          22.646730422973633
         ],
         "xaxis": "x",
         "y": [
          0.6791331171989441,
          -3.0788002014160156,
          0.4289848506450653,
          -3.3532676696777344,
          -3.248375415802002,
          -3.1891398429870605
         ],
         "yaxis": "y"
        },
        {
         "customdata": [
          [
           "infection nosocomiale"
          ],
          [
           "infections nosocomiales"
          ],
          [
           "infections nosocomiales (spin)"
          ]
         ],
         "hovertemplate": "label=infections nosocomiales<br>x=%{x}<br>y=%{y}<br>text=%{customdata[0]}<extra></extra>",
         "legendgroup": "infections nosocomiales",
         "marker": {
          "color": "#B6E880",
          "symbol": "circle"
         },
         "mode": "markers",
         "name": "infections nosocomiales",
         "orientation": "v",
         "showlegend": true,
         "type": "scatter",
         "x": [
          21.14957046508789,
          21.102094650268555,
          20.634016036987305
         ],
         "xaxis": "x",
         "y": [
          -0.6486807465553284,
          -0.5163701772689819,
          -0.3412792682647705
         ],
         "yaxis": "y"
        },
        {
         "customdata": [
          [
           "dépistage des infections transmissibles"
          ],
          [
           "infection transmissible"
          ],
          [
           "infection transmissible sexuellement"
          ],
          [
           "infections et maladies transmissibles"
          ],
          [
           "infections transmissibles"
          ],
          [
           "infections transmissibles sexuellement"
          ],
          [
           "maladies transmissibles"
          ],
          [
           "maladies transmissibles environnements"
          ],
          [
           "portrait des infections transmissibles"
          ],
          [
           "prévention des infections transmissibles"
          ]
         ],
         "hovertemplate": "label=infections transmissibles<br>x=%{x}<br>y=%{y}<br>text=%{customdata[0]}<extra></extra>",
         "legendgroup": "infections transmissibles",
         "marker": {
          "color": "#FF97FF",
          "symbol": "circle"
         },
         "mode": "markers",
         "name": "infections transmissibles",
         "orientation": "v",
         "showlegend": true,
         "type": "scatter",
         "x": [
          25.370222091674805,
          26.878787994384766,
          25.564537048339844,
          26.368614196777344,
          26.405580520629883,
          25.514644622802734,
          26.7899112701416,
          27.302330017089844,
          25.62563705444336,
          25.44154167175293
         ],
         "xaxis": "x",
         "y": [
          -5.180665493011475,
          -6.657708168029785,
          -7.121488571166992,
          -4.7391276359558105,
          -6.026120662689209,
          -6.811380386352539,
          -6.2392168045043945,
          -5.576872825622559,
          -4.706815242767334,
          -4.9242844581604
         ],
         "yaxis": "y"
        },
        {
         "customdata": [
          [
           "infirmière clinicienne"
          ],
          [
           "infirmières cliniciennes"
          ]
         ],
         "hovertemplate": "label=infirmière clinicienne<br>x=%{x}<br>y=%{y}<br>text=%{customdata[0]}<extra></extra>",
         "legendgroup": "infirmière clinicienne",
         "marker": {
          "color": "#FECB52",
          "symbol": "circle"
         },
         "mode": "markers",
         "name": "infirmière clinicienne",
         "orientation": "v",
         "showlegend": true,
         "type": "scatter",
         "x": [
          -14.725722312927246,
          -14.756464004516602
         ],
         "xaxis": "x",
         "y": [
          -16.877971649169922,
          -16.881271362304688
         ],
         "yaxis": "y"
        },
        {
         "customdata": [
          [
           "infirmière praticienne"
          ],
          [
           "infirmières praticiennes"
          ],
          [
           "infirmières praticiennes good"
          ],
          [
           "infirmières praticiennes spécialisées"
          ]
         ],
         "hovertemplate": "label=infirmières praticiennes<br>x=%{x}<br>y=%{y}<br>text=%{customdata[0]}<extra></extra>",
         "legendgroup": "infirmières praticiennes",
         "marker": {
          "color": "#636efa",
          "symbol": "circle"
         },
         "mode": "markers",
         "name": "infirmières praticiennes",
         "orientation": "v",
         "showlegend": true,
         "type": "scatter",
         "x": [
          -14.059520721435547,
          -14.265366554260254,
          -14.495074272155762,
          -13.92819595336914
         ],
         "xaxis": "x",
         "y": [
          -18.410676956176758,
          -18.898401260375977,
          -19.1156005859375,
          -19.10425567626953
         ],
         "yaxis": "y"
        },
        {
         "customdata": [
          [
           "arrêt cardiaque"
          ],
          [
           "arythmies cardiaques"
          ],
          [
           "chirurgie cardiaque"
          ],
          [
           "chirurgie cardiovasculaire"
          ],
          [
           "défaillance cardiaque"
          ],
          [
           "fréquence cardiaque"
          ],
          [
           "génétique cardiovasculaire"
          ],
          [
           "imagerie cardiaque"
          ],
          [
           "insuffisance cardiaque"
          ],
          [
           "irm cardiaque"
          ],
          [
           "maladie cardiaque"
          ],
          [
           "maladie cardiovasculaire"
          ],
          [
           "maladies cardiaques"
          ],
          [
           "muscle cardiaque"
          ],
          [
           "problèmes cardiaques"
          ],
          [
           "rythme cardiaque"
          ],
          [
           "réadaptation cardiaque"
          ],
          [
           "traitement de l'insuffisance cardiaque"
          ],
          [
           "transplantation cardiaque"
          ],
          [
           "valves cardiaques"
          ],
          [
           "échographie cardiaque"
          ]
         ],
         "hovertemplate": "label=insuffisance cardiaque<br>x=%{x}<br>y=%{y}<br>text=%{customdata[0]}<extra></extra>",
         "legendgroup": "insuffisance cardiaque",
         "marker": {
          "color": "#EF553B",
          "symbol": "circle"
         },
         "mode": "markers",
         "name": "insuffisance cardiaque",
         "orientation": "v",
         "showlegend": true,
         "type": "scatter",
         "x": [
          -19.064212799072266,
          -20.032785415649414,
          -17.648107528686523,
          -15.600946426391602,
          -19.717592239379883,
          -19.17464828491211,
          -15.760910034179688,
          -17.674123764038086,
          -18.545175552368164,
          -20.794174194335938,
          -18.32347869873047,
          -15.920197486877441,
          -18.593730926513672,
          -18.785964965820312,
          -19.359956741333008,
          -19.62579345703125,
          -17.30100440979004,
          -17.99980354309082,
          -17.963592529296875,
          -18.937114715576172,
          -17.174564361572266
         ],
         "xaxis": "x",
         "y": [
          3.024290084838867,
          0.6895331740379333,
          2.895662546157837,
          2.3270137310028076,
          2.555936336517334,
          2.336421251296997,
          2.7768027782440186,
          4.402231216430664,
          2.3717703819274902,
          2.5550248622894287,
          3.119582176208496,
          2.350818157196045,
          1.415184736251831,
          3.6963000297546387,
          1.4649035930633545,
          3.467505693435669,
          1.3532167673110962,
          0.3442009389400482,
          2.223109722137451,
          0.7470901012420654,
          4.324079990386963
         ],
         "yaxis": "y"
        },
        {
         "customdata": [
          [
           "amiante intoxications"
          ],
          [
           "amiante intoxications moisissures"
          ],
          [
           "amiante intoxications moisissures pollution"
          ],
          [
           "infections et intoxications morsures"
          ],
          [
           "intoxications alimentaires"
          ],
          [
           "intoxications alimentaires dernière"
          ],
          [
           "intoxications moisissures"
          ],
          [
           "intoxications moisissures pollution"
          ],
          [
           "intoxications morsures"
          ],
          [
           "intoxications morsures et prévention"
          ],
          [
           "travail amiante intoxications"
          ],
          [
           "travail amiante intoxications moisissures"
          ]
         ],
         "hovertemplate": "label=intoxications<br>x=%{x}<br>y=%{y}<br>text=%{customdata[0]}<extra></extra>",
         "legendgroup": "intoxications",
         "marker": {
          "color": "#00cc96",
          "symbol": "circle"
         },
         "mode": "markers",
         "name": "intoxications",
         "orientation": "v",
         "showlegend": true,
         "type": "scatter",
         "x": [
          16.118526458740234,
          16.67304229736328,
          16.29775619506836,
          18.031118392944336,
          14.881227493286133,
          14.848273277282715,
          17.34623146057129,
          17.013412475585938,
          18.32244873046875,
          18.384784698486328,
          16.11555290222168,
          16.833982467651367
         ],
         "xaxis": "x",
         "y": [
          -1.6845182180404663,
          -0.7578650116920471,
          -0.6389395594596863,
          -4.672656059265137,
          -4.126974582672119,
          -4.136511325836182,
          0.16953425109386444,
          0.20098114013671875,
          -4.695375442504883,
          -4.697671890258789,
          -1.8429261445999146,
          -1.0293009281158447
         ],
         "yaxis": "y"
        },
        {
         "customdata": [
          [
           "mcq l'itinérance"
          ],
          [
           "situation d'itinérance"
          ]
         ],
         "hovertemplate": "label=itinérance<br>x=%{x}<br>y=%{y}<br>text=%{customdata[0]}<extra></extra>",
         "legendgroup": "itinérance",
         "marker": {
          "color": "#ab63fa",
          "symbol": "circle"
         },
         "mode": "markers",
         "name": "itinérance",
         "orientation": "v",
         "showlegend": true,
         "type": "scatter",
         "x": [
          9.334956169128418,
          9.356476783752441
         ],
         "xaxis": "x",
         "y": [
          -3.6394312381744385,
          -3.632484197616577
         ],
         "yaxis": "y"
        },
        {
         "customdata": [
          [
           "clientèle adulte"
          ],
          [
           "dose adulte"
          ],
          [
           "jeunes adultes"
          ],
          [
           "patients adultes"
          ],
          [
           "population adulte"
          ],
          [
           "traitement des adultes"
          ],
          [
           "vie adulte"
          ],
          [
           "âge adulte"
          ]
         ],
         "hovertemplate": "label=jeunes adultes<br>x=%{x}<br>y=%{y}<br>text=%{customdata[0]}<extra></extra>",
         "legendgroup": "jeunes adultes",
         "marker": {
          "color": "#FFA15A",
          "symbol": "circle"
         },
         "mode": "markers",
         "name": "jeunes adultes",
         "orientation": "v",
         "showlegend": true,
         "type": "scatter",
         "x": [
          8.349601745605469,
          8.665495872497559,
          7.531495094299316,
          7.3798298835754395,
          8.356185913085938,
          7.965868949890137,
          9.050527572631836,
          8.954862594604492
         ],
         "xaxis": "x",
         "y": [
          24.900678634643555,
          24.00643539428711,
          23.78102684020996,
          24.128896713256836,
          24.550613403320312,
          22.924312591552734,
          24.72844123840332,
          24.064884185791016
         ],
         "yaxis": "y"
        },
        {
         "customdata": [
          [
           "bilan dpj"
          ],
          [
           "jeunesse (dpj)"
          ],
          [
           "signalement à la dpj"
          ]
         ],
         "hovertemplate": "label=jeunesse (dpj)<br>x=%{x}<br>y=%{y}<br>text=%{customdata[0]}<extra></extra>",
         "legendgroup": "jeunesse (dpj)",
         "marker": {
          "color": "#19d3f3",
          "symbol": "circle"
         },
         "mode": "markers",
         "name": "jeunesse (dpj)",
         "orientation": "v",
         "showlegend": true,
         "type": "scatter",
         "x": [
          7.516351699829102,
          7.354260444641113,
          7.841824531555176
         ],
         "xaxis": "x",
         "y": [
          13.937518119812012,
          13.817768096923828,
          14.093890190124512
         ],
         "yaxis": "y"
        },
        {
         "customdata": [
          [
           "revue de la littérature"
          ],
          [
           "revue de littérature"
          ]
         ],
         "hovertemplate": "label=littérature<br>x=%{x}<br>y=%{y}<br>text=%{customdata[0]}<extra></extra>",
         "legendgroup": "littérature",
         "marker": {
          "color": "#FF6692",
          "symbol": "circle"
         },
         "mode": "markers",
         "name": "littérature",
         "orientation": "v",
         "showlegend": true,
         "type": "scatter",
         "x": [
          -10.09298324584961,
          -10.095398902893066
         ],
         "xaxis": "x",
         "y": [
          -29.731292724609375,
          -29.730772018432617
         ],
         "yaxis": "y"
        },
        {
         "customdata": [
          [
           "centre des naissances"
          ],
          [
           "grossesse parmi les naissances"
          ],
          [
           "grossesse parmi les naissances survenues"
          ],
          [
           "maison de naissance"
          ],
          [
           "ministre naissance"
          ],
          [
           "tour du centre des naissances"
          ],
          [
           "unité des naissances"
          ]
         ],
         "hovertemplate": "label=maison de naissance<br>x=%{x}<br>y=%{y}<br>text=%{customdata[0]}<extra></extra>",
         "legendgroup": "maison de naissance",
         "marker": {
          "color": "#B6E880",
          "symbol": "circle"
         },
         "mode": "markers",
         "name": "maison de naissance",
         "orientation": "v",
         "showlegend": true,
         "type": "scatter",
         "x": [
          2.4300262928009033,
          2.8967862129211426,
          2.879512310028076,
          3.1347594261169434,
          3.3050146102905273,
          2.0877959728240967,
          2.4286582469940186
         ],
         "xaxis": "x",
         "y": [
          35.743492126464844,
          36.59733581542969,
          36.62099838256836,
          35.001338958740234,
          34.828887939453125,
          34.773990631103516,
          35.85105514526367
         ],
         "yaxis": "y"
        },
        {
         "customdata": [
          [
           "clinique des syndromes parkinsoniens"
          ],
          [
           "maladie de parkinson"
          ],
          [
           "syndromes parkinsoniens"
          ],
          [
           "syndromes parkinsoniens atypiques"
          ]
         ],
         "hovertemplate": "label=maladie de parkinson<br>x=%{x}<br>y=%{y}<br>text=%{customdata[0]}<extra></extra>",
         "legendgroup": "maladie de parkinson",
         "marker": {
          "color": "#FF97FF",
          "symbol": "circle"
         },
         "mode": "markers",
         "name": "maladie de parkinson",
         "orientation": "v",
         "showlegend": true,
         "type": "scatter",
         "x": [
          10.016716957092285,
          10.606313705444336,
          10.116949081420898,
          9.936237335205078
         ],
         "xaxis": "x",
         "y": [
          -14.97840690612793,
          -15.286096572875977,
          -14.9419527053833,
          -14.665953636169434
         ],
         "yaxis": "y"
        },
        {
         "customdata": [
          [
           "cancer pulmonaire"
          ],
          [
           "hypertension pulmonaire"
          ],
          [
           "maladie cardiaque ou pulmonaire infections"
          ],
          [
           "maladie pulmonaire"
          ],
          [
           "maladie pulmonaire obstructive"
          ],
          [
           "maladies pulmonaires"
          ],
          [
           "oncologie pulmonaire"
          ],
          [
           "réadaptation pulmonaire"
          ]
         ],
         "hovertemplate": "label=maladie pulmonaire<br>x=%{x}<br>y=%{y}<br>text=%{customdata[0]}<extra></extra>",
         "legendgroup": "maladie pulmonaire",
         "marker": {
          "color": "#FECB52",
          "symbol": "circle"
         },
         "mode": "markers",
         "name": "maladie pulmonaire",
         "orientation": "v",
         "showlegend": true,
         "type": "scatter",
         "x": [
          -5.0834197998046875,
          -5.604730129241943,
          -6.8822150230407715,
          -5.17332124710083,
          -5.723429203033447,
          -5.964730739593506,
          -6.384772300720215,
          -5.056328296661377
         ],
         "xaxis": "x",
         "y": [
          9.12452220916748,
          9.819360733032227,
          8.442669868469238,
          9.066634178161621,
          8.275555610656738,
          8.981078147888184,
          9.765111923217773,
          10.119561195373535
         ],
         "yaxis": "y"
        },
        {
         "customdata": [
          [
           "malentendants réadaptation"
          ],
          [
           "malentendants réadaptation en milieu"
          ],
          [
           "malentendants réadaptation en milieu scolaire"
          ],
          [
           "malentendants réadaptation en milieu scolaire spécialisé"
          ],
          [
           "services aux malentendants réadaptation"
          ],
          [
           "services aux malentendants réadaptation en milieu"
          ]
         ],
         "hovertemplate": "label=malentendants<br>x=%{x}<br>y=%{y}<br>text=%{customdata[0]}<extra></extra>",
         "legendgroup": "malentendants",
         "marker": {
          "color": "#636efa",
          "symbol": "circle"
         },
         "mode": "markers",
         "name": "malentendants",
         "orientation": "v",
         "showlegend": true,
         "type": "scatter",
         "x": [
          4.3076958656311035,
          3.9213104248046875,
          3.2667996883392334,
          3.0977463722229004,
          4.7706990242004395,
          4.598653793334961
         ],
         "xaxis": "x",
         "y": [
          -27.431987762451172,
          -27.494319915771484,
          -27.77240562438965,
          -27.868240356445312,
          -28.23855972290039,
          -28.2393798828125
         ],
         "yaxis": "y"
        },
        {
         "customdata": [
          [
           "effort mammographie monitorage"
          ],
          [
           "mammographie monitorage"
          ]
         ],
         "hovertemplate": "label=mammographie<br>x=%{x}<br>y=%{y}<br>text=%{customdata[0]}<extra></extra>",
         "legendgroup": "mammographie",
         "marker": {
          "color": "#EF553B",
          "symbol": "circle"
         },
         "mode": "markers",
         "name": "mammographie",
         "orientation": "v",
         "showlegend": true,
         "type": "scatter",
         "x": [
          -8.062631607055664,
          -8.059477806091309
         ],
         "xaxis": "x",
         "y": [
          2.8909261226654053,
          2.8879988193511963
         ],
         "yaxis": "y"
        },
        {
         "customdata": [
          [
           "maternité sans danger"
          ],
          [
           "maternité sans danger information générale"
          ],
          [
           "maternité sans danger information générale statistiques"
          ]
         ],
         "hovertemplate": "label=maternité<br>x=%{x}<br>y=%{y}<br>text=%{customdata[0]}<extra></extra>",
         "legendgroup": "maternité",
         "marker": {
          "color": "#00cc96",
          "symbol": "circle"
         },
         "mode": "markers",
         "name": "maternité",
         "orientation": "v",
         "showlegend": true,
         "type": "scatter",
         "x": [
          -25.083955764770508,
          -25.335664749145508,
          -25.537202835083008
         ],
         "xaxis": "x",
         "y": [
          29.411046981811523,
          29.054943084716797,
          28.991436004638672
         ],
         "yaxis": "y"
        },
        {
         "customdata": [
          [
           "centre de prévention"
          ],
          [
           "citoyenne au service de la prévention"
          ],
          [
           "complications protection et prévention"
          ],
          [
           "conseils et prévention"
          ],
          [
           "documentation système de prévention"
          ],
          [
           "documentation système de prévention clinique"
          ],
          [
           "genou la prévention"
          ],
          [
           "matière de prévention"
          ],
          [
           "mesures de prévention"
          ],
          [
           "mesures de prévention de base"
          ],
          [
           "morsures et prévention"
          ],
          [
           "moyens pour les prévenir"
          ],
          [
           "pavillon de prévention"
          ],
          [
           "pavillon de prévention des maladies"
          ],
          [
           "pharmacologie prévention"
          ],
          [
           "programme de prévention"
          ],
          [
           "programmes de prévention"
          ],
          [
           "projet de prévention"
          ],
          [
           "protection et prévention"
          ],
          [
           "protection et prévention facteur"
          ],
          [
           "santé conseils et prévention"
          ],
          [
           "santé prévention"
          ],
          [
           "service de la prévention"
          ],
          [
           "service de prévention"
          ],
          [
           "stratégies de prévention"
          ],
          [
           "système de prévention"
          ],
          [
           "système de prévention clinique"
          ],
          [
           "traitement prophylactique de prévention"
          ]
         ],
         "hovertemplate": "label=mesures de prévention<br>x=%{x}<br>y=%{y}<br>text=%{customdata[0]}<extra></extra>",
         "legendgroup": "mesures de prévention",
         "marker": {
          "color": "#ab63fa",
          "symbol": "circle"
         },
         "mode": "markers",
         "name": "mesures de prévention",
         "orientation": "v",
         "showlegend": true,
         "type": "scatter",
         "x": [
          -20.866714477539062,
          -24.011173248291016,
          -21.395336151123047,
          -19.691360473632812,
          -23.068359375,
          -22.47378158569336,
          -20.923812866210938,
          -21.83578872680664,
          -21.581926345825195,
          -23.19087028503418,
          -19.157756805419922,
          -22.774669647216797,
          -20.323657989501953,
          -19.446945190429688,
          -19.073585510253906,
          -22.046466827392578,
          -21.28177833557129,
          -22.072816848754883,
          -20.189987182617188,
          -20.168533325195312,
          -18.853845596313477,
          -21.431236267089844,
          -22.976097106933594,
          -22.407501220703125,
          -21.343923568725586,
          -20.676481246948242,
          -21.539756774902344,
          -20.354473114013672
         ],
         "xaxis": "x",
         "y": [
          26.5076847076416,
          26.02617835998535,
          29.23366928100586,
          27.13772964477539,
          24.837526321411133,
          23.77862548828125,
          27.253129959106445,
          26.129474639892578,
          26.828975677490234,
          27.275197982788086,
          27.697067260742188,
          28.63938331604004,
          26.078590393066406,
          24.983938217163086,
          28.757049560546875,
          25.507244110107422,
          25.917757034301758,
          27.300260543823242,
          27.899986267089844,
          28.948741912841797,
          26.461585998535156,
          28.175548553466797,
          26.088502883911133,
          26.601165771484375,
          25.131731033325195,
          25.500587463378906,
          23.857986450195312,
          23.91840934753418
         ],
         "yaxis": "y"
        },
        {
         "customdata": [
          [
           "médicaments biosimilaires"
          ],
          [
           "produit biosimilaire"
          ],
          [
           "tanvex produit biosimilaire"
          ]
         ],
         "hovertemplate": "label=médicaments biosimilaires<br>x=%{x}<br>y=%{y}<br>text=%{customdata[0]}<extra></extra>",
         "legendgroup": "médicaments biosimilaires",
         "marker": {
          "color": "#FFA15A",
          "symbol": "circle"
         },
         "mode": "markers",
         "name": "médicaments biosimilaires",
         "orientation": "v",
         "showlegend": true,
         "type": "scatter",
         "x": [
          -3.4586668014526367,
          -3.4347243309020996,
          -3.4130349159240723
         ],
         "xaxis": "x",
         "y": [
          -3.501413345336914,
          -3.4072768688201904,
          -3.038719415664673
         ],
         "yaxis": "y"
        },
        {
         "customdata": [
          [
           "centre d'expertise en neurofibromatose du chum"
          ],
          [
           "expertise en neurofibromatose"
          ],
          [
           "expertise en neurofibromatose du chum"
          ],
          [
           "neurofibromatose du chum"
          ]
         ],
         "hovertemplate": "label=neurofibromatose<br>x=%{x}<br>y=%{y}<br>text=%{customdata[0]}<extra></extra>",
         "legendgroup": "neurofibromatose",
         "marker": {
          "color": "#19d3f3",
          "symbol": "circle"
         },
         "mode": "markers",
         "name": "neurofibromatose",
         "orientation": "v",
         "showlegend": true,
         "type": "scatter",
         "x": [
          9.55429458618164,
          8.948233604431152,
          9.443620681762695,
          10.133625984191895
         ],
         "xaxis": "x",
         "y": [
          -18.9561824798584,
          -18.671024322509766,
          -18.879512786865234,
          -19.19913673400879
         ],
         "yaxis": "y"
        },
        {
         "customdata": [
          [
           "conseils de nutrition dans le cadre"
          ],
          [
           "synthèses de l'équipe nutrition"
          ]
         ],
         "hovertemplate": "label=nutrition<br>x=%{x}<br>y=%{y}<br>text=%{customdata[0]}<extra></extra>",
         "legendgroup": "nutrition",
         "marker": {
          "color": "#FF6692",
          "symbol": "circle"
         },
         "mode": "markers",
         "name": "nutrition",
         "orientation": "v",
         "showlegend": true,
         "type": "scatter",
         "x": [
          -22.62117576599121,
          -22.62971305847168
         ],
         "xaxis": "x",
         "y": [
          16.954259872436523,
          16.930700302124023
         ],
         "yaxis": "y"
        },
        {
         "customdata": [
          [
           "autonomie organismes communautaires soins palliatifs"
          ],
          [
           "fièvre soins palliatifs"
          ],
          [
           "mythes sur les soins palliatifs"
          ],
          [
           "organismes communautaires soins palliatifs"
          ],
          [
           "soins palliatifs"
          ],
          [
           "sédation palliative continue soins palliatifs"
          ]
         ],
         "hovertemplate": "label=palliatifs<br>x=%{x}<br>y=%{y}<br>text=%{customdata[0]}<extra></extra>",
         "legendgroup": "palliatifs",
         "marker": {
          "color": "#B6E880",
          "symbol": "circle"
         },
         "mode": "markers",
         "name": "palliatifs",
         "orientation": "v",
         "showlegend": true,
         "type": "scatter",
         "x": [
          -22.276155471801758,
          -22.08187484741211,
          -21.469554901123047,
          -22.299009323120117,
          -22.957786560058594,
          -21.585744857788086
         ],
         "xaxis": "x",
         "y": [
          -12.007704734802246,
          -11.243247032165527,
          -11.541866302490234,
          -11.642942428588867,
          -10.893585205078125,
          -10.68155288696289
         ],
         "yaxis": "y"
        },
        {
         "customdata": [
          [
           "paralysie supranucléaire"
          ],
          [
           "paralysie supranucléaire progressive"
          ]
         ],
         "hovertemplate": "label=paralysie<br>x=%{x}<br>y=%{y}<br>text=%{customdata[0]}<extra></extra>",
         "legendgroup": "paralysie",
         "marker": {
          "color": "#FF97FF",
          "symbol": "circle"
         },
         "mode": "markers",
         "name": "paralysie",
         "orientation": "v",
         "showlegend": true,
         "type": "scatter",
         "x": [
          -20.439546585083008,
          -20.436962127685547
         ],
         "xaxis": "x",
         "y": [
          7.418849468231201,
          7.433712482452393
         ],
         "yaxis": "y"
        },
        {
         "customdata": [
          [
           "institut national de psychiatrie légale philippe-pinel"
          ],
          [
           "psychiatrie légale philippe-pinel"
          ]
         ],
         "hovertemplate": "label=philippe-pinel<br>x=%{x}<br>y=%{y}<br>text=%{customdata[0]}<extra></extra>",
         "legendgroup": "philippe-pinel",
         "marker": {
          "color": "#FECB52",
          "symbol": "circle"
         },
         "mode": "markers",
         "name": "philippe-pinel",
         "orientation": "v",
         "showlegend": true,
         "type": "scatter",
         "x": [
          14.222983360290527,
          14.246625900268555
         ],
         "xaxis": "x",
         "y": [
          -15.26890754699707,
          -15.267701148986816
         ],
         "yaxis": "y"
        },
        {
         "customdata": [
          [
           "documentation pollution"
          ],
          [
           "documentation pollution atmosphérique"
          ],
          [
           "interventions documentation pollution"
          ],
          [
           "interventions documentation pollution atmosphérique"
          ],
          [
           "moisissures pollution"
          ],
          [
           "plomb pollution"
          ],
          [
           "thèmes associés pollution"
          ]
         ],
         "hovertemplate": "label=pollution<br>x=%{x}<br>y=%{y}<br>text=%{customdata[0]}<extra></extra>",
         "legendgroup": "pollution",
         "marker": {
          "color": "#636efa",
          "symbol": "circle"
         },
         "mode": "markers",
         "name": "pollution",
         "orientation": "v",
         "showlegend": true,
         "type": "scatter",
         "x": [
          3.6579110622406006,
          4.203516960144043,
          5.1197285652160645,
          5.079751014709473,
          3.9350945949554443,
          3.514167070388794,
          3.502700090408325
         ],
         "xaxis": "x",
         "y": [
          8.959129333496094,
          9.471002578735352,
          8.70183277130127,
          8.925361633300781,
          8.24862003326416,
          8.851460456848145,
          8.18351936340332
         ],
         "yaxis": "y"
        },
        {
         "customdata": [
          [
           "genres populations autochtones"
          ],
          [
           "genres populations autochtones travailleurs"
          ],
          [
           "infections populations prioritaires adolescents"
          ],
          [
           "populations autochtones travailleurs"
          ],
          [
           "populations prioritaires adolescents"
          ],
          [
           "populations prioritaires adolescents et jeunes"
          ]
         ],
         "hovertemplate": "label=populations<br>x=%{x}<br>y=%{y}<br>text=%{customdata[0]}<extra></extra>",
         "legendgroup": "populations",
         "marker": {
          "color": "#EF553B",
          "symbol": "circle"
         },
         "mode": "markers",
         "name": "populations",
         "orientation": "v",
         "showlegend": true,
         "type": "scatter",
         "x": [
          -28.734943389892578,
          -28.916324615478516,
          5.447349548339844,
          -29.05066680908203,
          5.415661334991455,
          5.37512731552124
         ],
         "xaxis": "x",
         "y": [
          -3.113293409347534,
          -3.2872684001922607,
          25.914710998535156,
          -3.4183104038238525,
          25.848501205444336,
          25.728466033935547
         ],
         "yaxis": "y"
        },
        {
         "customdata": [
          [
           "prise de sang"
          ],
          [
           "prises de sang"
          ],
          [
           "système du sang"
          ],
          [
           "système du sang-"
          ]
         ],
         "hovertemplate": "label=prise de sang<br>x=%{x}<br>y=%{y}<br>text=%{customdata[0]}<extra></extra>",
         "legendgroup": "prise de sang",
         "marker": {
          "color": "#00cc96",
          "symbol": "circle"
         },
         "mode": "markers",
         "name": "prise de sang",
         "orientation": "v",
         "showlegend": true,
         "type": "scatter",
         "x": [
          -24.439029693603516,
          -24.425975799560547,
          -23.978374481201172,
          -23.605159759521484
         ],
         "xaxis": "x",
         "y": [
          5.092082977294922,
          5.111787796020508,
          5.0241193771362305,
          5.0197625160217285
         ],
         "yaxis": "y"
        },
        {
         "customdata": [
          [
           "financement axé sur le patient"
          ],
          [
           "prise en charge des patients"
          ],
          [
           "prise en charge des patients atteints"
          ],
          [
           "prise en charge du patient"
          ],
          [
           "prise en charge médicale"
          ]
         ],
         "hovertemplate": "label=prise en charge médicale<br>x=%{x}<br>y=%{y}<br>text=%{customdata[0]}<extra></extra>",
         "legendgroup": "prise en charge médicale",
         "marker": {
          "color": "#ab63fa",
          "symbol": "circle"
         },
         "mode": "markers",
         "name": "prise en charge médicale",
         "orientation": "v",
         "showlegend": true,
         "type": "scatter",
         "x": [
          -12.978778839111328,
          -13.932021141052246,
          -14.109086036682129,
          -13.411762237548828,
          -13.91427993774414
         ],
         "xaxis": "x",
         "y": [
          -10.839142799377441,
          -10.576842308044434,
          -10.697633743286133,
          -10.503106117248535,
          -9.656715393066406
         ],
         "yaxis": "y"
        },
        {
         "customdata": [
          [
           "protocole médical national"
          ],
          [
           "protocoles médicaux nationaux"
          ]
         ],
         "hovertemplate": "label=protocole médical national<br>x=%{x}<br>y=%{y}<br>text=%{customdata[0]}<extra></extra>",
         "legendgroup": "protocole médical national",
         "marker": {
          "color": "#FFA15A",
          "symbol": "circle"
         },
         "mode": "markers",
         "name": "protocole médical national",
         "orientation": "v",
         "showlegend": true,
         "type": "scatter",
         "x": [
          -14.534891128540039,
          -14.544739723205566
         ],
         "xaxis": "x",
         "y": [
          -6.699897766113281,
          -6.715875625610352
         ],
         "yaxis": "y"
        },
        {
         "customdata": [
          [
           "prélèvement sanguin"
          ],
          [
           "prélèvements sanguins"
          ]
         ],
         "hovertemplate": "label=prélèvements sanguins<br>x=%{x}<br>y=%{y}<br>text=%{customdata[0]}<extra></extra>",
         "legendgroup": "prélèvements sanguins",
         "marker": {
          "color": "#19d3f3",
          "symbol": "circle"
         },
         "mode": "markers",
         "name": "prélèvements sanguins",
         "orientation": "v",
         "showlegend": true,
         "type": "scatter",
         "x": [
          -24.176456451416016,
          -24.165315628051758
         ],
         "xaxis": "x",
         "y": [
          3.108769655227661,
          3.179630994796753
         ],
         "yaxis": "y"
        },
        {
         "customdata": [
          [
           "clinique pour traumatismes"
          ],
          [
           "clinique pour traumatismes liés"
          ],
          [
           "prévention des blessures"
          ],
          [
           "prévention des traumatismes"
          ],
          [
           "registre des traumatismes"
          ],
          [
           "victimes de traumatismes"
          ]
         ],
         "hovertemplate": "label=prévention des traumatismes<br>x=%{x}<br>y=%{y}<br>text=%{customdata[0]}<extra></extra>",
         "legendgroup": "prévention des traumatismes",
         "marker": {
          "color": "#FF6692",
          "symbol": "circle"
         },
         "mode": "markers",
         "name": "prévention des traumatismes",
         "orientation": "v",
         "showlegend": true,
         "type": "scatter",
         "x": [
          -4.233701705932617,
          -4.062832832336426,
          -3.957428216934204,
          -4.437692165374756,
          -5.588119983673096,
          -5.705821514129639
         ],
         "xaxis": "x",
         "y": [
          -20.520463943481445,
          -20.457853317260742,
          -21.890239715576172,
          -21.27635383605957,
          -21.358959197998047,
          -21.4416561126709
         ],
         "yaxis": "y"
        },
        {
         "customdata": [
          [
           "autosoins à la psychothérapie"
          ],
          [
           "autosoins à la psychothérapie (pqptm)"
          ],
          [
           "séances de psychothérapie"
          ],
          [
           "séances de psychothérapie les experts"
          ]
         ],
         "hovertemplate": "label=psychothérapie<br>x=%{x}<br>y=%{y}<br>text=%{customdata[0]}<extra></extra>",
         "legendgroup": "psychothérapie",
         "marker": {
          "color": "#B6E880",
          "symbol": "circle"
         },
         "mode": "markers",
         "name": "psychothérapie",
         "orientation": "v",
         "showlegend": true,
         "type": "scatter",
         "x": [
          -12.325358390808105,
          -12.407623291015625,
          -11.868882179260254,
          -11.910365104675293
         ],
         "xaxis": "x",
         "y": [
          -14.342126846313477,
          -14.147768020629883,
          -15.166478157043457,
          -15.168789863586426
         ],
         "yaxis": "y"
        },
        {
         "customdata": [
          [
           "axe de recherche neurosciences"
          ],
          [
           "axe neurosciences"
          ],
          [
           "chum axe de recherche neurosciences"
          ],
          [
           "département de neurosciences"
          ],
          [
           "recherche neurosciences"
          ],
          [
           "service de neurologie"
          ]
         ],
         "hovertemplate": "label=recherche neurosciences<br>x=%{x}<br>y=%{y}<br>text=%{customdata[0]}<extra></extra>",
         "legendgroup": "recherche neurosciences",
         "marker": {
          "color": "#FF97FF",
          "symbol": "circle"
         },
         "mode": "markers",
         "name": "recherche neurosciences",
         "orientation": "v",
         "showlegend": true,
         "type": "scatter",
         "x": [
          6.33376407623291,
          5.571100234985352,
          6.717667579650879,
          5.621046543121338,
          5.5671706199646,
          4.8737945556640625
         ],
         "xaxis": "x",
         "y": [
          -17.137800216674805,
          -17.644548416137695,
          -17.141132354736328,
          -16.982637405395508,
          -17.538986206054688,
          -16.523286819458008
         ],
         "yaxis": "y"
        },
        {
         "customdata": [
          [
           "maltraitance mammaire"
          ],
          [
           "prothèses mammaires"
          ],
          [
           "reconstruction mammaire"
          ]
         ],
         "hovertemplate": "label=reconstruction mammaire<br>x=%{x}<br>y=%{y}<br>text=%{customdata[0]}<extra></extra>",
         "legendgroup": "reconstruction mammaire",
         "marker": {
          "color": "#FECB52",
          "symbol": "circle"
         },
         "mode": "markers",
         "name": "reconstruction mammaire",
         "orientation": "v",
         "showlegend": true,
         "type": "scatter",
         "x": [
          -4.399261474609375,
          -4.665952682495117,
          -4.519079685211182
         ],
         "xaxis": "x",
         "y": [
          4.222305774688721,
          3.774951696395874,
          4.04362678527832
         ],
         "yaxis": "y"
        },
        {
         "customdata": [
          [
           "rhumatisme psoriasique"
          ],
          [
           "rhumatisme psoriasique actif"
          ],
          [
           "traitement du rhumatisme"
          ],
          [
           "traitement du rhumatisme psoriasique"
          ],
          [
           "traitement du rhumatisme psoriasique actif"
          ]
         ],
         "hovertemplate": "label=rhumatisme<br>x=%{x}<br>y=%{y}<br>text=%{customdata[0]}<extra></extra>",
         "legendgroup": "rhumatisme",
         "marker": {
          "color": "#636efa",
          "symbol": "circle"
         },
         "mode": "markers",
         "name": "rhumatisme",
         "orientation": "v",
         "showlegend": true,
         "type": "scatter",
         "x": [
          23.487207412719727,
          23.2283935546875,
          24.31536293029785,
          23.711708068847656,
          23.4067325592041
         ],
         "xaxis": "x",
         "y": [
          12.439374923706055,
          12.216012954711914,
          11.520853996276855,
          11.871962547302246,
          11.7225341796875
         ],
         "yaxis": "y"
        },
        {
         "customdata": [
          [
           "clin infect"
          ],
          [
           "clin infect dis"
          ],
          [
           "risques infectieux"
          ]
         ],
         "hovertemplate": "label=risques infectieux<br>x=%{x}<br>y=%{y}<br>text=%{customdata[0]}<extra></extra>",
         "legendgroup": "risques infectieux",
         "marker": {
          "color": "#EF553B",
          "symbol": "circle"
         },
         "mode": "markers",
         "name": "risques infectieux",
         "orientation": "v",
         "showlegend": true,
         "type": "scatter",
         "x": [
          25.35537338256836,
          25.344453811645508,
          25.223834991455078
         ],
         "xaxis": "x",
         "y": [
          -1.9786189794540405,
          -1.9043858051300049,
          -2.5873351097106934
         ],
         "yaxis": "y"
        },
        {
         "customdata": [
          [
           "agence privée"
          ],
          [
           "assurance privée"
          ],
          [
           "cabinet privé"
          ],
          [
           "entreprise privée"
          ],
          [
           "lieu privé"
          ],
          [
           "ménage privé"
          ],
          [
           "rassemblements privés"
          ],
          [
           "régime privé"
          ],
          [
           "résidence privée"
          ],
          [
           "vie privée"
          ]
         ],
         "hovertemplate": "label=résidence privée<br>x=%{x}<br>y=%{y}<br>text=%{customdata[0]}<extra></extra>",
         "legendgroup": "résidence privée",
         "marker": {
          "color": "#00cc96",
          "symbol": "circle"
         },
         "mode": "markers",
         "name": "résidence privée",
         "orientation": "v",
         "showlegend": true,
         "type": "scatter",
         "x": [
          -5.1975579261779785,
          -4.971650123596191,
          -5.510974407196045,
          -4.671135902404785,
          -5.9496378898620605,
          -4.862344741821289,
          -6.771115303039551,
          -5.333558559417725,
          -5.726596355438232,
          -5.812839984893799
         ],
         "xaxis": "x",
         "y": [
          24.64151382446289,
          25.32417869567871,
          26.185983657836914,
          24.962488174438477,
          26.65401840209961,
          26.33904266357422,
          25.905338287353516,
          26.74955177307129,
          25.150453567504883,
          24.74032211303711
         ],
         "yaxis": "y"
        },
        {
         "customdata": [
          [
           "prévention de la schizophrénie"
          ],
          [
           "traitement de la schizophrénie"
          ],
          [
           "traitement de la schizophrénie pré-ac"
          ]
         ],
         "hovertemplate": "label=schizophrénie<br>x=%{x}<br>y=%{y}<br>text=%{customdata[0]}<extra></extra>",
         "legendgroup": "schizophrénie",
         "marker": {
          "color": "#ab63fa",
          "symbol": "circle"
         },
         "mode": "markers",
         "name": "schizophrénie",
         "orientation": "v",
         "showlegend": true,
         "type": "scatter",
         "x": [
          9.635889053344727,
          9.634786605834961,
          9.651004791259766
         ],
         "xaxis": "x",
         "y": [
          -8.675433158874512,
          -8.615316390991211,
          -8.171812057495117
         ],
         "yaxis": "y"
        },
        {
         "customdata": [
          [
           "air intérieur smog"
          ],
          [
           "interventions smog"
          ],
          [
           "interventions smog information générale"
          ],
          [
           "qualité de l'air intérieur smog"
          ],
          [
           "smog information générale"
          ],
          [
           "smog soins"
          ],
          [
           "smog soins soutien"
          ],
          [
           "smog soins soutien sport"
          ]
         ],
         "hovertemplate": "label=smog<br>x=%{x}<br>y=%{y}<br>text=%{customdata[0]}<extra></extra>",
         "legendgroup": "smog",
         "marker": {
          "color": "#FFA15A",
          "symbol": "circle"
         },
         "mode": "markers",
         "name": "smog",
         "orientation": "v",
         "showlegend": true,
         "type": "scatter",
         "x": [
          0.3068486750125885,
          -0.5736880898475647,
          -1.454223871231079,
          0.45871636271476746,
          -1.6440174579620361,
          -17.8844051361084,
          -18.034469604492188,
          -18.094335556030273
         ],
         "xaxis": "x",
         "y": [
          1.348347544670105,
          1.031172275543213,
          0.9846501350402832,
          1.4586799144744873,
          0.9726970195770264,
          -9.727874755859375,
          -9.36144733428955,
          -9.092402458190918
         ],
         "yaxis": "y"
        },
        {
         "customdata": [
          [
           "documentation en soins infirmiers"
          ],
          [
           "documentation en soins infirmiers guides"
          ],
          [
           "espace infirmiers"
          ],
          [
           "infirmiers documentation en soins infirmiers"
          ],
          [
           "offres en soins infirmiers"
          ],
          [
           "offres en soins infirmiers bloc"
          ],
          [
           "opportunités actuelles d'emploi en soins infirmiers"
          ],
          [
           "passion pour les soins infirmiers"
          ],
          [
           "personnel en soins infirmiers"
          ],
          [
           "personnel infirmier"
          ],
          [
           "recherche en soins infirmiers"
          ],
          [
           "recrues en soins infirmiers"
          ],
          [
           "semaine des soins infirmiers"
          ],
          [
           "soins infirmiers"
          ],
          [
           "soins infirmiers courants"
          ],
          [
           "soins infirmiers en santé"
          ],
          [
           "soins infirmiers infirmières"
          ],
          [
           "soins infirmiers infirmières postes"
          ]
         ],
         "hovertemplate": "label=soins infirmiers<br>x=%{x}<br>y=%{y}<br>text=%{customdata[0]}<extra></extra>",
         "legendgroup": "soins infirmiers",
         "marker": {
          "color": "#19d3f3",
          "symbol": "circle"
         },
         "mode": "markers",
         "name": "soins infirmiers",
         "orientation": "v",
         "showlegend": true,
         "type": "scatter",
         "x": [
          -21.194713592529297,
          -20.87714195251465,
          -23.20987319946289,
          -19.874736785888672,
          -21.060531616210938,
          -19.248668670654297,
          -19.9754581451416,
          -20.43054962158203,
          -21.519100189208984,
          -22.176876068115234,
          -20.78376579284668,
          -20.174835205078125,
          -21.151020050048828,
          -22.949039459228516,
          -22.339412689208984,
          -22.19447898864746,
          -21.171512603759766,
          -20.74411964416504
         ],
         "xaxis": "x",
         "y": [
          -15.300370216369629,
          -14.430715560913086,
          -15.998269081115723,
          -14.699287414550781,
          -16.11739158630371,
          -16.354290008544922,
          -17.410043716430664,
          -16.498462677001953,
          -15.945897102355957,
          -17.733858108520508,
          -15.61488151550293,
          -15.814722061157227,
          -16.755523681640625,
          -15.85502815246582,
          -15.081822395324707,
          -16.674516677856445,
          -18.13145637512207,
          -18.245716094970703
         ],
         "yaxis": "y"
        },
        {
         "customdata": [
          [
           "aide psychosociale"
          ],
          [
           "santé mentale et psychosociale"
          ],
          [
           "soutien psychosocial"
          ]
         ],
         "hovertemplate": "label=soutien psychosocial<br>x=%{x}<br>y=%{y}<br>text=%{customdata[0]}<extra></extra>",
         "legendgroup": "soutien psychosocial",
         "marker": {
          "color": "#FF6692",
          "symbol": "circle"
         },
         "mode": "markers",
         "name": "soutien psychosocial",
         "orientation": "v",
         "showlegend": true,
         "type": "scatter",
         "x": [
          6.871978282928467,
          6.441593170166016,
          6.946485996246338
         ],
         "xaxis": "x",
         "y": [
          -7.809217929840088,
          -7.634758472442627,
          -7.818581581115723
         ],
         "yaxis": "y"
        },
        {
         "customdata": [
          [
           "symptômes comportementaux"
          ],
          [
           "symptômes psychologiques et comportementaux"
          ],
          [
           "trouble du comportement"
          ],
          [
           "troubles comportementaux"
          ],
          [
           "troubles de comportement"
          ]
         ],
         "hovertemplate": "label=symptômes psychologiques et comportementaux<br>x=%{x}<br>y=%{y}<br>text=%{customdata[0]}<extra></extra>",
         "legendgroup": "symptômes psychologiques et comportementaux",
         "marker": {
          "color": "#B6E880",
          "symbol": "circle"
         },
         "mode": "markers",
         "name": "symptômes psychologiques et comportementaux",
         "orientation": "v",
         "showlegend": true,
         "type": "scatter",
         "x": [
          5.185879230499268,
          5.168242454528809,
          4.210646629333496,
          5.138359069824219,
          4.246503829956055
         ],
         "xaxis": "x",
         "y": [
          -4.04401969909668,
          -4.89597225189209,
          -4.075677871704102,
          -4.075335502624512,
          -4.039244174957275
         ],
         "yaxis": "y"
        },
        {
         "customdata": [
          [
           "traitement pharmacologique"
          ],
          [
           "équilibre pharmacocinétique"
          ]
         ],
         "hovertemplate": "label=traitement pharmacologique<br>x=%{x}<br>y=%{y}<br>text=%{customdata[0]}<extra></extra>",
         "legendgroup": "traitement pharmacologique",
         "marker": {
          "color": "#FF97FF",
          "symbol": "circle"
         },
         "mode": "markers",
         "name": "traitement pharmacologique",
         "orientation": "v",
         "showlegend": true,
         "type": "scatter",
         "x": [
          -17.269323348999023,
          -17.291860580444336
         ],
         "xaxis": "x",
         "y": [
          16.57870101928711,
          16.57867431640625
         ],
         "yaxis": "y"
        },
        {
         "customdata": [
          [
           "fonctions cognitives après un traumatisme cranio-cérébral"
          ],
          [
           "recherche traumatisme craniocérébral"
          ],
          [
           "recherche traumatisme craniocérébral léger"
          ],
          [
           "traumatisme cranio-cérébral"
          ],
          [
           "traumatisme cranio-cérébral groupes"
          ],
          [
           "traumatisme cranio-cérébral groupes de recherche"
          ],
          [
           "traumatisme craniocérébral"
          ],
          [
           "traumatisme craniocérébral léger"
          ],
          [
           "traumatismes craniocérébraux"
          ],
          [
           "traumatismes craniocérébraux déficience"
          ],
          [
           "traumatismes craniocérébraux déficience motrice"
          ],
          [
           "éthique de la recherche traumatisme craniocérébral"
          ]
         ],
         "hovertemplate": "label=traumatisme craniocérébral<br>x=%{x}<br>y=%{y}<br>text=%{customdata[0]}<extra></extra>",
         "legendgroup": "traumatisme craniocérébral",
         "marker": {
          "color": "#FECB52",
          "symbol": "circle"
         },
         "mode": "markers",
         "name": "traumatisme craniocérébral",
         "orientation": "v",
         "showlegend": true,
         "type": "scatter",
         "x": [
          1.6079663038253784,
          0.64387446641922,
          -0.04688792675733566,
          0.9728237390518188,
          1.4734325408935547,
          1.2697440385818481,
          0.7117677330970764,
          -0.12890852987766266,
          1.5612537860870361,
          2.2007791996002197,
          2.6716833114624023,
          0.42084747552871704
         ],
         "xaxis": "x",
         "y": [
          -19.382158279418945,
          -19.969017028808594,
          -20.169572830200195,
          -20.959348678588867,
          -21.660198211669922,
          -22.11779022216797,
          -21.01459312438965,
          -21.17088508605957,
          -20.568279266357422,
          -20.742156982421875,
          -20.89344024658203,
          -19.404220581054688
         ],
         "yaxis": "y"
        },
        {
         "customdata": [
          [
           "centre de traumatologie"
          ],
          [
           "centre intégré de traumatologie"
          ],
          [
           "continuum de services en traumatologie"
          ],
          [
           "continuum de services en traumatologie (cst)"
          ],
          [
           "performance en traumatologie"
          ],
          [
           "réseau de traumatologie"
          ],
          [
           "réseau québécois de traumatologie"
          ],
          [
           "services en traumatologie"
          ],
          [
           "services en traumatologie (cst)"
          ],
          [
           "unité d'évaluation en traumatologie"
          ],
          [
           "unité d'évaluation en traumatologie et en soins"
          ],
          [
           "évaluation en traumatologie"
          ],
          [
           "évaluation en traumatologie et en soins"
          ],
          [
           "évaluation en traumatologie et en soins critiques"
          ]
         ],
         "hovertemplate": "label=traumatologie<br>x=%{x}<br>y=%{y}<br>text=%{customdata[0]}<extra></extra>",
         "legendgroup": "traumatologie",
         "marker": {
          "color": "#636efa",
          "symbol": "circle"
         },
         "mode": "markers",
         "name": "traumatologie",
         "orientation": "v",
         "showlegend": true,
         "type": "scatter",
         "x": [
          -6.333045482635498,
          -7.069453239440918,
          -5.8124613761901855,
          -5.184689998626709,
          -5.494880199432373,
          -6.097537994384766,
          -7.0134429931640625,
          -5.464600563049316,
          -5.161316871643066,
          -8.05737590789795,
          -7.898573398590088,
          -6.152628421783447,
          -6.602307319641113,
          -6.851465225219727
         ],
         "xaxis": "x",
         "y": [
          -17.68010902404785,
          -17.59445571899414,
          -15.856657981872559,
          -15.788540840148926,
          -18.054174423217773,
          -18.275625228881836,
          -18.502376556396484,
          -17.50495719909668,
          -16.89240264892578,
          -16.69581413269043,
          -16.20172119140625,
          -17.19373893737793,
          -16.440448760986328,
          -15.92866039276123
         ],
         "yaxis": "y"
        },
        {
         "customdata": [
          [
           "hôte immunosupprimé"
          ],
          [
           "travailleurs immunosupprimés"
          ]
         ],
         "hovertemplate": "label=travailleurs immunosupprimés<br>x=%{x}<br>y=%{y}<br>text=%{customdata[0]}<extra></extra>",
         "legendgroup": "travailleurs immunosupprimés",
         "marker": {
          "color": "#EF553B",
          "symbol": "circle"
         },
         "mode": "markers",
         "name": "travailleurs immunosupprimés",
         "orientation": "v",
         "showlegend": true,
         "type": "scatter",
         "x": [
          25.906330108642578,
          25.907825469970703
         ],
         "xaxis": "x",
         "y": [
          2.8367738723754883,
          2.832105875015259
         ],
         "yaxis": "y"
        },
        {
         "customdata": [
          [
           "alcool troubles neurocognitifs"
          ],
          [
           "alcool troubles neurocognitifs document complémentaire"
          ],
          [
           "fonctions cognitives"
          ],
          [
           "troubles cognitifs"
          ],
          [
           "troubles neurocognitifs"
          ]
         ],
         "hovertemplate": "label=troubles cognitifs<br>x=%{x}<br>y=%{y}<br>text=%{customdata[0]}<extra></extra>",
         "legendgroup": "troubles cognitifs",
         "marker": {
          "color": "#00cc96",
          "symbol": "circle"
         },
         "mode": "markers",
         "name": "troubles cognitifs",
         "orientation": "v",
         "showlegend": true,
         "type": "scatter",
         "x": [
          5.774965763092041,
          5.905699729919434,
          5.479071617126465,
          5.984947204589844,
          5.525793552398682
         ],
         "xaxis": "x",
         "y": [
          -19.908063888549805,
          -19.859540939331055,
          -21.10639190673828,
          -21.30626106262207,
          -20.362319946289062
         ],
         "yaxis": "y"
        },
        {
         "customdata": [
          [
           "trouble psychotique"
          ],
          [
           "troubles psychotiques"
          ],
          [
           "troubles psychotiques risque"
          ],
          [
           "épisode maniaque troubles"
          ],
          [
           "épisode maniaque troubles psychotiques"
          ]
         ],
         "hovertemplate": "label=troubles psychotiques<br>x=%{x}<br>y=%{y}<br>text=%{customdata[0]}<extra></extra>",
         "legendgroup": "troubles psychotiques",
         "marker": {
          "color": "#ab63fa",
          "symbol": "circle"
         },
         "mode": "markers",
         "name": "troubles psychotiques",
         "orientation": "v",
         "showlegend": true,
         "type": "scatter",
         "x": [
          7.996253490447998,
          8.262160301208496,
          8.639859199523926,
          7.459343910217285,
          7.7181267738342285
         ],
         "xaxis": "x",
         "y": [
          -10.494307518005371,
          -10.774564743041992,
          -11.0372896194458,
          -11.641081809997559,
          -11.381972312927246
         ],
         "yaxis": "y"
        },
        {
         "customdata": [
          [
           "centre d'excellence sur le vieillissement"
          ],
          [
           "cours du vieillissement"
          ],
          [
           "cours du vieillissement développement"
          ],
          [
           "excellence sur le vieillissement"
          ],
          [
           "langage au cours du vieillissement"
          ],
          [
           "langage au cours du vieillissement développement"
          ],
          [
           "santé centre d'excellence sur le vieillissement"
          ]
         ],
         "hovertemplate": "label=vieillissement<br>x=%{x}<br>y=%{y}<br>text=%{customdata[0]}<extra></extra>",
         "legendgroup": "vieillissement",
         "marker": {
          "color": "#FFA15A",
          "symbol": "circle"
         },
         "mode": "markers",
         "name": "vieillissement",
         "orientation": "v",
         "showlegend": true,
         "type": "scatter",
         "x": [
          14.708565711975098,
          13.30100154876709,
          13.881830215454102,
          13.62863540649414,
          13.095598220825195,
          13.475858688354492,
          14.723675727844238
         ],
         "xaxis": "x",
         "y": [
          5.79258394241333,
          6.394043445587158,
          6.807154178619385,
          5.952972412109375,
          6.918729305267334,
          7.221253871917725,
          5.726828575134277
         ],
         "yaxis": "y"
        }
       ],
       "layout": {
        "legend": {
         "title": {
          "text": "label"
         },
         "tracegroupgap": 0
        },
        "template": {
         "data": {
          "bar": [
           {
            "error_x": {
             "color": "#2a3f5f"
            },
            "error_y": {
             "color": "#2a3f5f"
            },
            "marker": {
             "line": {
              "color": "#E5ECF6",
              "width": 0.5
             },
             "pattern": {
              "fillmode": "overlay",
              "size": 10,
              "solidity": 0.2
             }
            },
            "type": "bar"
           }
          ],
          "barpolar": [
           {
            "marker": {
             "line": {
              "color": "#E5ECF6",
              "width": 0.5
             },
             "pattern": {
              "fillmode": "overlay",
              "size": 10,
              "solidity": 0.2
             }
            },
            "type": "barpolar"
           }
          ],
          "carpet": [
           {
            "aaxis": {
             "endlinecolor": "#2a3f5f",
             "gridcolor": "white",
             "linecolor": "white",
             "minorgridcolor": "white",
             "startlinecolor": "#2a3f5f"
            },
            "baxis": {
             "endlinecolor": "#2a3f5f",
             "gridcolor": "white",
             "linecolor": "white",
             "minorgridcolor": "white",
             "startlinecolor": "#2a3f5f"
            },
            "type": "carpet"
           }
          ],
          "choropleth": [
           {
            "colorbar": {
             "outlinewidth": 0,
             "ticks": ""
            },
            "type": "choropleth"
           }
          ],
          "contour": [
           {
            "colorbar": {
             "outlinewidth": 0,
             "ticks": ""
            },
            "colorscale": [
             [
              0,
              "#0d0887"
             ],
             [
              0.1111111111111111,
              "#46039f"
             ],
             [
              0.2222222222222222,
              "#7201a8"
             ],
             [
              0.3333333333333333,
              "#9c179e"
             ],
             [
              0.4444444444444444,
              "#bd3786"
             ],
             [
              0.5555555555555556,
              "#d8576b"
             ],
             [
              0.6666666666666666,
              "#ed7953"
             ],
             [
              0.7777777777777778,
              "#fb9f3a"
             ],
             [
              0.8888888888888888,
              "#fdca26"
             ],
             [
              1,
              "#f0f921"
             ]
            ],
            "type": "contour"
           }
          ],
          "contourcarpet": [
           {
            "colorbar": {
             "outlinewidth": 0,
             "ticks": ""
            },
            "type": "contourcarpet"
           }
          ],
          "heatmap": [
           {
            "colorbar": {
             "outlinewidth": 0,
             "ticks": ""
            },
            "colorscale": [
             [
              0,
              "#0d0887"
             ],
             [
              0.1111111111111111,
              "#46039f"
             ],
             [
              0.2222222222222222,
              "#7201a8"
             ],
             [
              0.3333333333333333,
              "#9c179e"
             ],
             [
              0.4444444444444444,
              "#bd3786"
             ],
             [
              0.5555555555555556,
              "#d8576b"
             ],
             [
              0.6666666666666666,
              "#ed7953"
             ],
             [
              0.7777777777777778,
              "#fb9f3a"
             ],
             [
              0.8888888888888888,
              "#fdca26"
             ],
             [
              1,
              "#f0f921"
             ]
            ],
            "type": "heatmap"
           }
          ],
          "heatmapgl": [
           {
            "colorbar": {
             "outlinewidth": 0,
             "ticks": ""
            },
            "colorscale": [
             [
              0,
              "#0d0887"
             ],
             [
              0.1111111111111111,
              "#46039f"
             ],
             [
              0.2222222222222222,
              "#7201a8"
             ],
             [
              0.3333333333333333,
              "#9c179e"
             ],
             [
              0.4444444444444444,
              "#bd3786"
             ],
             [
              0.5555555555555556,
              "#d8576b"
             ],
             [
              0.6666666666666666,
              "#ed7953"
             ],
             [
              0.7777777777777778,
              "#fb9f3a"
             ],
             [
              0.8888888888888888,
              "#fdca26"
             ],
             [
              1,
              "#f0f921"
             ]
            ],
            "type": "heatmapgl"
           }
          ],
          "histogram": [
           {
            "marker": {
             "pattern": {
              "fillmode": "overlay",
              "size": 10,
              "solidity": 0.2
             }
            },
            "type": "histogram"
           }
          ],
          "histogram2d": [
           {
            "colorbar": {
             "outlinewidth": 0,
             "ticks": ""
            },
            "colorscale": [
             [
              0,
              "#0d0887"
             ],
             [
              0.1111111111111111,
              "#46039f"
             ],
             [
              0.2222222222222222,
              "#7201a8"
             ],
             [
              0.3333333333333333,
              "#9c179e"
             ],
             [
              0.4444444444444444,
              "#bd3786"
             ],
             [
              0.5555555555555556,
              "#d8576b"
             ],
             [
              0.6666666666666666,
              "#ed7953"
             ],
             [
              0.7777777777777778,
              "#fb9f3a"
             ],
             [
              0.8888888888888888,
              "#fdca26"
             ],
             [
              1,
              "#f0f921"
             ]
            ],
            "type": "histogram2d"
           }
          ],
          "histogram2dcontour": [
           {
            "colorbar": {
             "outlinewidth": 0,
             "ticks": ""
            },
            "colorscale": [
             [
              0,
              "#0d0887"
             ],
             [
              0.1111111111111111,
              "#46039f"
             ],
             [
              0.2222222222222222,
              "#7201a8"
             ],
             [
              0.3333333333333333,
              "#9c179e"
             ],
             [
              0.4444444444444444,
              "#bd3786"
             ],
             [
              0.5555555555555556,
              "#d8576b"
             ],
             [
              0.6666666666666666,
              "#ed7953"
             ],
             [
              0.7777777777777778,
              "#fb9f3a"
             ],
             [
              0.8888888888888888,
              "#fdca26"
             ],
             [
              1,
              "#f0f921"
             ]
            ],
            "type": "histogram2dcontour"
           }
          ],
          "mesh3d": [
           {
            "colorbar": {
             "outlinewidth": 0,
             "ticks": ""
            },
            "type": "mesh3d"
           }
          ],
          "parcoords": [
           {
            "line": {
             "colorbar": {
              "outlinewidth": 0,
              "ticks": ""
             }
            },
            "type": "parcoords"
           }
          ],
          "pie": [
           {
            "automargin": true,
            "type": "pie"
           }
          ],
          "scatter": [
           {
            "fillpattern": {
             "fillmode": "overlay",
             "size": 10,
             "solidity": 0.2
            },
            "type": "scatter"
           }
          ],
          "scatter3d": [
           {
            "line": {
             "colorbar": {
              "outlinewidth": 0,
              "ticks": ""
             }
            },
            "marker": {
             "colorbar": {
              "outlinewidth": 0,
              "ticks": ""
             }
            },
            "type": "scatter3d"
           }
          ],
          "scattercarpet": [
           {
            "marker": {
             "colorbar": {
              "outlinewidth": 0,
              "ticks": ""
             }
            },
            "type": "scattercarpet"
           }
          ],
          "scattergeo": [
           {
            "marker": {
             "colorbar": {
              "outlinewidth": 0,
              "ticks": ""
             }
            },
            "type": "scattergeo"
           }
          ],
          "scattergl": [
           {
            "marker": {
             "colorbar": {
              "outlinewidth": 0,
              "ticks": ""
             }
            },
            "type": "scattergl"
           }
          ],
          "scattermapbox": [
           {
            "marker": {
             "colorbar": {
              "outlinewidth": 0,
              "ticks": ""
             }
            },
            "type": "scattermapbox"
           }
          ],
          "scatterpolar": [
           {
            "marker": {
             "colorbar": {
              "outlinewidth": 0,
              "ticks": ""
             }
            },
            "type": "scatterpolar"
           }
          ],
          "scatterpolargl": [
           {
            "marker": {
             "colorbar": {
              "outlinewidth": 0,
              "ticks": ""
             }
            },
            "type": "scatterpolargl"
           }
          ],
          "scatterternary": [
           {
            "marker": {
             "colorbar": {
              "outlinewidth": 0,
              "ticks": ""
             }
            },
            "type": "scatterternary"
           }
          ],
          "surface": [
           {
            "colorbar": {
             "outlinewidth": 0,
             "ticks": ""
            },
            "colorscale": [
             [
              0,
              "#0d0887"
             ],
             [
              0.1111111111111111,
              "#46039f"
             ],
             [
              0.2222222222222222,
              "#7201a8"
             ],
             [
              0.3333333333333333,
              "#9c179e"
             ],
             [
              0.4444444444444444,
              "#bd3786"
             ],
             [
              0.5555555555555556,
              "#d8576b"
             ],
             [
              0.6666666666666666,
              "#ed7953"
             ],
             [
              0.7777777777777778,
              "#fb9f3a"
             ],
             [
              0.8888888888888888,
              "#fdca26"
             ],
             [
              1,
              "#f0f921"
             ]
            ],
            "type": "surface"
           }
          ],
          "table": [
           {
            "cells": {
             "fill": {
              "color": "#EBF0F8"
             },
             "line": {
              "color": "white"
             }
            },
            "header": {
             "fill": {
              "color": "#C8D4E3"
             },
             "line": {
              "color": "white"
             }
            },
            "type": "table"
           }
          ]
         },
         "layout": {
          "annotationdefaults": {
           "arrowcolor": "#2a3f5f",
           "arrowhead": 0,
           "arrowwidth": 1
          },
          "autotypenumbers": "strict",
          "coloraxis": {
           "colorbar": {
            "outlinewidth": 0,
            "ticks": ""
           }
          },
          "colorscale": {
           "diverging": [
            [
             0,
             "#8e0152"
            ],
            [
             0.1,
             "#c51b7d"
            ],
            [
             0.2,
             "#de77ae"
            ],
            [
             0.3,
             "#f1b6da"
            ],
            [
             0.4,
             "#fde0ef"
            ],
            [
             0.5,
             "#f7f7f7"
            ],
            [
             0.6,
             "#e6f5d0"
            ],
            [
             0.7,
             "#b8e186"
            ],
            [
             0.8,
             "#7fbc41"
            ],
            [
             0.9,
             "#4d9221"
            ],
            [
             1,
             "#276419"
            ]
           ],
           "sequential": [
            [
             0,
             "#0d0887"
            ],
            [
             0.1111111111111111,
             "#46039f"
            ],
            [
             0.2222222222222222,
             "#7201a8"
            ],
            [
             0.3333333333333333,
             "#9c179e"
            ],
            [
             0.4444444444444444,
             "#bd3786"
            ],
            [
             0.5555555555555556,
             "#d8576b"
            ],
            [
             0.6666666666666666,
             "#ed7953"
            ],
            [
             0.7777777777777778,
             "#fb9f3a"
            ],
            [
             0.8888888888888888,
             "#fdca26"
            ],
            [
             1,
             "#f0f921"
            ]
           ],
           "sequentialminus": [
            [
             0,
             "#0d0887"
            ],
            [
             0.1111111111111111,
             "#46039f"
            ],
            [
             0.2222222222222222,
             "#7201a8"
            ],
            [
             0.3333333333333333,
             "#9c179e"
            ],
            [
             0.4444444444444444,
             "#bd3786"
            ],
            [
             0.5555555555555556,
             "#d8576b"
            ],
            [
             0.6666666666666666,
             "#ed7953"
            ],
            [
             0.7777777777777778,
             "#fb9f3a"
            ],
            [
             0.8888888888888888,
             "#fdca26"
            ],
            [
             1,
             "#f0f921"
            ]
           ]
          },
          "colorway": [
           "#636efa",
           "#EF553B",
           "#00cc96",
           "#ab63fa",
           "#FFA15A",
           "#19d3f3",
           "#FF6692",
           "#B6E880",
           "#FF97FF",
           "#FECB52"
          ],
          "font": {
           "color": "#2a3f5f"
          },
          "geo": {
           "bgcolor": "white",
           "lakecolor": "white",
           "landcolor": "#E5ECF6",
           "showlakes": true,
           "showland": true,
           "subunitcolor": "white"
          },
          "hoverlabel": {
           "align": "left"
          },
          "hovermode": "closest",
          "mapbox": {
           "style": "light"
          },
          "paper_bgcolor": "white",
          "plot_bgcolor": "#E5ECF6",
          "polar": {
           "angularaxis": {
            "gridcolor": "white",
            "linecolor": "white",
            "ticks": ""
           },
           "bgcolor": "#E5ECF6",
           "radialaxis": {
            "gridcolor": "white",
            "linecolor": "white",
            "ticks": ""
           }
          },
          "scene": {
           "xaxis": {
            "backgroundcolor": "#E5ECF6",
            "gridcolor": "white",
            "gridwidth": 2,
            "linecolor": "white",
            "showbackground": true,
            "ticks": "",
            "zerolinecolor": "white"
           },
           "yaxis": {
            "backgroundcolor": "#E5ECF6",
            "gridcolor": "white",
            "gridwidth": 2,
            "linecolor": "white",
            "showbackground": true,
            "ticks": "",
            "zerolinecolor": "white"
           },
           "zaxis": {
            "backgroundcolor": "#E5ECF6",
            "gridcolor": "white",
            "gridwidth": 2,
            "linecolor": "white",
            "showbackground": true,
            "ticks": "",
            "zerolinecolor": "white"
           }
          },
          "shapedefaults": {
           "line": {
            "color": "#2a3f5f"
           }
          },
          "ternary": {
           "aaxis": {
            "gridcolor": "white",
            "linecolor": "white",
            "ticks": ""
           },
           "baxis": {
            "gridcolor": "white",
            "linecolor": "white",
            "ticks": ""
           },
           "bgcolor": "#E5ECF6",
           "caxis": {
            "gridcolor": "white",
            "linecolor": "white",
            "ticks": ""
           }
          },
          "title": {
           "x": 0.05
          },
          "xaxis": {
           "automargin": true,
           "gridcolor": "white",
           "linecolor": "white",
           "ticks": "",
           "title": {
            "standoff": 15
           },
           "zerolinecolor": "white",
           "zerolinewidth": 2
          },
          "yaxis": {
           "automargin": true,
           "gridcolor": "white",
           "linecolor": "white",
           "ticks": "",
           "title": {
            "standoff": 15
           },
           "zerolinecolor": "white",
           "zerolinewidth": 2
          }
         }
        },
        "title": {
         "text": "Quebec Health Care System Terminology Embedding Visualization"
        },
        "xaxis": {
         "anchor": "y",
         "domain": [
          0,
          1
         ],
         "title": {
          "text": "x"
         }
        },
        "yaxis": {
         "anchor": "x",
         "domain": [
          0,
          1
         ],
         "title": {
          "text": "y"
         }
        }
       }
      }
     },
     "metadata": {},
     "output_type": "display_data"
    },
    {
     "data": {
      "text/plain": [
       "'../06-clustering/BERT_communityDetection_visualization_sample.html'"
      ]
     },
     "execution_count": 21,
     "metadata": {},
     "output_type": "execute_result"
    }
   ],
   "source": [
    "import plotly.express as px\n",
    "import plotly\n",
    "\n",
    "fig = px.scatter(df_embeddings, x='x', y='y', color='label', labels={'color': 'label'}, \n",
    "hover_data=['text'], title = 'Quebec Health Care System Terminology Embedding Visualization')\n",
    "fig.show()\n",
    "\n",
    "# html file\n",
    "file_path = '../06-clustering/BERT_communityDetection_visualization_sample.html'\n",
    "plotly.offline.plot(fig, filename=file_path)\n"
   ]
  },
  {
   "cell_type": "code",
   "execution_count": null,
   "metadata": {},
   "outputs": [],
   "source": []
  }
 ],
 "metadata": {
  "kernelspec": {
   "display_name": "Python 3.10.5 64-bit",
   "language": "python",
   "name": "python3"
  },
  "language_info": {
   "codemirror_mode": {
    "name": "ipython",
    "version": 3
   },
   "file_extension": ".py",
   "mimetype": "text/x-python",
   "name": "python",
   "nbconvert_exporter": "python",
   "pygments_lexer": "ipython3",
   "version": "3.10.5"
  },
  "orig_nbformat": 4,
  "vscode": {
   "interpreter": {
    "hash": "79bb76bbc4f9ba1f8df5efe8db67aae07079a51dc7b5004f49990e90f5993a15"
   }
  }
 },
 "nbformat": 4,
 "nbformat_minor": 2
}
