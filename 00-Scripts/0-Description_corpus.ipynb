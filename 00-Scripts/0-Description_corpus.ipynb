{
 "cells": [
  {
   "cell_type": "markdown",
   "metadata": {},
   "source": [
    "## **Description du corpus**"
   ]
  },
  {
   "cell_type": "code",
   "execution_count": null,
   "metadata": {},
   "outputs": [],
   "source": [
    "from pandas import *\n",
    "from pathlib import Path\n",
    "import os, re, shutil, nltk, glob\n",
    "from nltk.tokenize import RegexpTokenizer\n",
    "tokenizer_re = RegexpTokenizer(r\"\\w\\'|\\w+\")\n",
    "\n",
    "corpus_global = []\n",
    "base_path = '../01-corpus/2-data/1-fr/'\n",
    "for file in os.listdir(base_path):\n",
    "    if file.endswith('.csv'):\n",
    "        with open(base_path + file, encoding = 'utf-8',) as f:\n",
    "            corpus_global.append({'acteur': file[:-4]})"
   ]
  },
  {
   "cell_type": "code",
   "execution_count": 24,
   "metadata": {},
   "outputs": [],
   "source": [
    "for x in range(len(corpus_global)) : \n",
    "    acteur = corpus_global[x]['acteur']\n",
    "\n",
    "    folder_path = os.path.join(base_path, acteur)\n",
    "    all_files = glob.glob(os.path.join(folder_path, \"*.csv\"))\n",
    "    nb_docs = 0\n",
    "\n",
    "    for file in all_files:\n",
    "        with open(file, encoding='utf-8') as f:\n",
    "            csv = read_csv(f, encoding='utf-8', sep=',')\n",
    "            csv = csv[~csv[\"Address\"].str.contains('pdf')] #  Problèmes \n",
    "        nb_docs += len(csv)\n",
    "    \n",
    "    corpus_global[x]['N docs'] = nb_docs"
   ]
  },
  {
   "cell_type": "code",
   "execution_count": 27,
   "metadata": {},
   "outputs": [],
   "source": [
    "base_path = '../01-corpus/'\n",
    "DataFrame(corpus_global).sort_values(by = 'N docs', ascending = False).to_csv(base_path + 'description_corpus.csv')"
   ]
  }
 ],
 "metadata": {
  "kernelspec": {
   "display_name": "Python 3.10.5 64-bit",
   "language": "python",
   "name": "python3"
  },
  "language_info": {
   "codemirror_mode": {
    "name": "ipython",
    "version": 3
   },
   "file_extension": ".py",
   "mimetype": "text/x-python",
   "name": "python",
   "nbconvert_exporter": "python",
   "pygments_lexer": "ipython3",
   "version": "3.10.5"
  },
  "orig_nbformat": 4,
  "vscode": {
   "interpreter": {
    "hash": "79bb76bbc4f9ba1f8df5efe8db67aae07079a51dc7b5004f49990e90f5993a15"
   }
  }
 },
 "nbformat": 4,
 "nbformat_minor": 2
}
