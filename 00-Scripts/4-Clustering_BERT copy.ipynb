{
 "cells": [
  {
   "cell_type": "code",
   "execution_count": 1,
   "metadata": {},
   "outputs": [
    {
     "name": "stderr",
     "output_type": "stream",
     "text": [
      "c:\\Users\\p1115145\\AppData\\Local\\Programs\\Python\\Python310\\lib\\site-packages\\tqdm\\auto.py:22: TqdmWarning: IProgress not found. Please update jupyter and ipywidgets. See https://ipywidgets.readthedocs.io/en/stable/user_install.html\n",
      "  from .autonotebook import tqdm as notebook_tqdm\n",
      "c:\\Users\\p1115145\\AppData\\Local\\Programs\\Python\\Python310\\lib\\site-packages\\huggingface_hub\\snapshot_download.py:6: FutureWarning: snapshot_download.py has been made private and will no longer be available from version 0.11. Please use `from huggingface_hub import snapshot_download` to import the only public function in this module. Other members of the file may be changed without a deprecation notice.\n",
      "  warnings.warn(\n",
      "c:\\Users\\p1115145\\AppData\\Local\\Programs\\Python\\Python310\\lib\\site-packages\\huggingface_hub\\file_download.py:560: FutureWarning: `cached_download` is the legacy way to download files from the HF hub, please consider upgrading to `hf_hub_download`\n",
      "  warnings.warn(\n"
     ]
    }
   ],
   "source": [
    "import pandas as pd\n",
    "from sentence_transformers import SentenceTransformer, util\n",
    "model =  SentenceTransformer(\"dangvantuan/sentence-camembert-base\")"
   ]
  },
  {
   "cell_type": "code",
   "execution_count": 2,
   "metadata": {},
   "outputs": [],
   "source": [
    "# cluster_accuracy = 65  # 0-100 (100 = very tight clusters, but higher percentage of no_cluster groups)\n",
    "# min_cluster_size = 2  # set the minimum size of cluster groups. (Lower number = tighter groups)\n",
    "\n",
    "\n",
    "# accuracy = [70, 80]\n",
    "# size = [2, 8]\n",
    " \n",
    "# results = []\n",
    "# for a in accuracy:\n",
    "#     for s in size:\n",
    "#         results.append({'Accuracy' : a, 'Minimum cluster size': s, 'Number of orphans': None})\n",
    "\n",
    "\n",
    "# # On veut sélectionner les paramètres qui vont maximiser le accuracy et minimiser le nombre d'orphans\n",
    "# results = pd.DataFrame(results)\n",
    "# results"
   ]
  },
  {
   "cell_type": "code",
   "execution_count": 3,
   "metadata": {},
   "outputs": [
    {
     "data": {
      "text/html": [
       "<div>\n",
       "<style scoped>\n",
       "    .dataframe tbody tr th:only-of-type {\n",
       "        vertical-align: middle;\n",
       "    }\n",
       "\n",
       "    .dataframe tbody tr th {\n",
       "        vertical-align: top;\n",
       "    }\n",
       "\n",
       "    .dataframe thead th {\n",
       "        text-align: right;\n",
       "    }\n",
       "</style>\n",
       "<table border=\"1\" class=\"dataframe\">\n",
       "  <thead>\n",
       "    <tr style=\"text-align: right;\">\n",
       "      <th></th>\n",
       "      <th>Corpora</th>\n",
       "      <th>Terme</th>\n",
       "      <th>Structure syntaxique</th>\n",
       "      <th>Forme lemmatisée</th>\n",
       "      <th>isMeSHTerm</th>\n",
       "      <th>MeSHID</th>\n",
       "      <th>MesH_prefLabel_fr</th>\n",
       "      <th>MesH_prefLabel_en</th>\n",
       "      <th>isTaxoTerm</th>\n",
       "      <th>Log Likelihood</th>\n",
       "      <th>TF</th>\n",
       "      <th>DF</th>\n",
       "      <th>TF*IDF</th>\n",
       "      <th>OKapiBM25</th>\n",
       "      <th>TF + DF</th>\n",
       "    </tr>\n",
       "  </thead>\n",
       "  <tbody>\n",
       "    <tr>\n",
       "      <th>58</th>\n",
       "      <td>['sante_mtl']</td>\n",
       "      <td>santé montréal accès aux espaces</td>\n",
       "      <td>NOM ADJ NOM PRP:det NOM</td>\n",
       "      <td>santé montréal accès aux espace</td>\n",
       "      <td>False</td>\n",
       "      <td>NaN</td>\n",
       "      <td>NaN</td>\n",
       "      <td>NaN</td>\n",
       "      <td>False</td>\n",
       "      <td>-inf</td>\n",
       "      <td>3046</td>\n",
       "      <td>3046</td>\n",
       "      <td>0.447214</td>\n",
       "      <td>15.885776</td>\n",
       "      <td>6092</td>\n",
       "    </tr>\n",
       "    <tr>\n",
       "      <th>5937</th>\n",
       "      <td>['chuqc', 'inesss']</td>\n",
       "      <td>lettre d'autorisation</td>\n",
       "      <td>NOM PRP NOM</td>\n",
       "      <td>lettre de autorisation</td>\n",
       "      <td>False</td>\n",
       "      <td>NaN</td>\n",
       "      <td>NaN</td>\n",
       "      <td>NaN</td>\n",
       "      <td>False</td>\n",
       "      <td>1368.005310</td>\n",
       "      <td>87</td>\n",
       "      <td>83</td>\n",
       "      <td>0.195134</td>\n",
       "      <td>20.264013</td>\n",
       "      <td>170</td>\n",
       "    </tr>\n",
       "    <tr>\n",
       "      <th>10392</th>\n",
       "      <td>['ciusss_cn']</td>\n",
       "      <td>thiamine thiosulfate de sodium</td>\n",
       "      <td>NOM NOM PRP NOM</td>\n",
       "      <td>thiamine thiosulfate de sodium</td>\n",
       "      <td>False</td>\n",
       "      <td>NaN</td>\n",
       "      <td>NaN</td>\n",
       "      <td>NaN</td>\n",
       "      <td>False</td>\n",
       "      <td>833.337158</td>\n",
       "      <td>48</td>\n",
       "      <td>48</td>\n",
       "      <td>0.081609</td>\n",
       "      <td>24.387984</td>\n",
       "      <td>96</td>\n",
       "    </tr>\n",
       "    <tr>\n",
       "      <th>5095</th>\n",
       "      <td>['inesss']</td>\n",
       "      <td>inspq visitez</td>\n",
       "      <td>NOM VER:pres</td>\n",
       "      <td>inspq visiter</td>\n",
       "      <td>False</td>\n",
       "      <td>NaN</td>\n",
       "      <td>NaN</td>\n",
       "      <td>NaN</td>\n",
       "      <td>False</td>\n",
       "      <td>-inf</td>\n",
       "      <td>107</td>\n",
       "      <td>107</td>\n",
       "      <td>0.059649</td>\n",
       "      <td>6.695343</td>\n",
       "      <td>214</td>\n",
       "    </tr>\n",
       "    <tr>\n",
       "      <th>4645</th>\n",
       "      <td>['cisss_cotenord']</td>\n",
       "      <td>population de la côte-nord</td>\n",
       "      <td>NOM PRP DET:ART NOM</td>\n",
       "      <td>population de le côte-nord</td>\n",
       "      <td>False</td>\n",
       "      <td>NaN</td>\n",
       "      <td>NaN</td>\n",
       "      <td>NaN</td>\n",
       "      <td>False</td>\n",
       "      <td>1332.166812</td>\n",
       "      <td>122</td>\n",
       "      <td>121</td>\n",
       "      <td>0.357195</td>\n",
       "      <td>11.782546</td>\n",
       "      <td>243</td>\n",
       "    </tr>\n",
       "    <tr>\n",
       "      <th>...</th>\n",
       "      <td>...</td>\n",
       "      <td>...</td>\n",
       "      <td>...</td>\n",
       "      <td>...</td>\n",
       "      <td>...</td>\n",
       "      <td>...</td>\n",
       "      <td>...</td>\n",
       "      <td>...</td>\n",
       "      <td>...</td>\n",
       "      <td>...</td>\n",
       "      <td>...</td>\n",
       "      <td>...</td>\n",
       "      <td>...</td>\n",
       "      <td>...</td>\n",
       "      <td>...</td>\n",
       "    </tr>\n",
       "    <tr>\n",
       "      <th>2815</th>\n",
       "      <td>['msss']</td>\n",
       "      <td>ventilation établissements sociosanitaires</td>\n",
       "      <td>NOM NOM ADJ</td>\n",
       "      <td>ventilation établissement sociosanitaires</td>\n",
       "      <td>False</td>\n",
       "      <td>NaN</td>\n",
       "      <td>NaN</td>\n",
       "      <td>NaN</td>\n",
       "      <td>False</td>\n",
       "      <td>-inf</td>\n",
       "      <td>172</td>\n",
       "      <td>172</td>\n",
       "      <td>0.134854</td>\n",
       "      <td>16.601194</td>\n",
       "      <td>344</td>\n",
       "    </tr>\n",
       "    <tr>\n",
       "      <th>5027</th>\n",
       "      <td>['msss']</td>\n",
       "      <td>portrait cumulatif depuis le début de l'année</td>\n",
       "      <td>NOM ADJ PRP DET:ART NOM PRP DET:ART NOM</td>\n",
       "      <td>portrait cumulatif depuis le début de le année</td>\n",
       "      <td>False</td>\n",
       "      <td>NaN</td>\n",
       "      <td>NaN</td>\n",
       "      <td>NaN</td>\n",
       "      <td>False</td>\n",
       "      <td>1436.070003</td>\n",
       "      <td>108</td>\n",
       "      <td>108</td>\n",
       "      <td>0.100534</td>\n",
       "      <td>8.938169</td>\n",
       "      <td>216</td>\n",
       "    </tr>\n",
       "    <tr>\n",
       "      <th>237</th>\n",
       "      <td>['cisss_ca', 'cisss_cotenord', 'cisss_gaspesie...</td>\n",
       "      <td>type familial</td>\n",
       "      <td>NOM ADJ</td>\n",
       "      <td>type familial</td>\n",
       "      <td>False</td>\n",
       "      <td>NaN</td>\n",
       "      <td>NaN</td>\n",
       "      <td>NaN</td>\n",
       "      <td>False</td>\n",
       "      <td>1217.898360</td>\n",
       "      <td>1228</td>\n",
       "      <td>605</td>\n",
       "      <td>1.000000</td>\n",
       "      <td>34.006775</td>\n",
       "      <td>1833</td>\n",
       "    </tr>\n",
       "    <tr>\n",
       "      <th>529</th>\n",
       "      <td>['ciusss_cn', 'inspq', 'quebec_sante']</td>\n",
       "      <td>centre antipoison</td>\n",
       "      <td>NOM ADJ</td>\n",
       "      <td>centre antipoison</td>\n",
       "      <td>False</td>\n",
       "      <td>NaN</td>\n",
       "      <td>NaN</td>\n",
       "      <td>NaN</td>\n",
       "      <td>True</td>\n",
       "      <td>623.113280</td>\n",
       "      <td>675</td>\n",
       "      <td>296</td>\n",
       "      <td>0.893326</td>\n",
       "      <td>21.400376</td>\n",
       "      <td>971</td>\n",
       "    </tr>\n",
       "    <tr>\n",
       "      <th>11014</th>\n",
       "      <td>['cusm']</td>\n",
       "      <td>hôpital neurologique</td>\n",
       "      <td>NOM ADJ</td>\n",
       "      <td>hôpital neurologique</td>\n",
       "      <td>False</td>\n",
       "      <td>NaN</td>\n",
       "      <td>NaN</td>\n",
       "      <td>NaN</td>\n",
       "      <td>False</td>\n",
       "      <td>357.558517</td>\n",
       "      <td>42</td>\n",
       "      <td>29</td>\n",
       "      <td>0.614516</td>\n",
       "      <td>4.441499</td>\n",
       "      <td>71</td>\n",
       "    </tr>\n",
       "  </tbody>\n",
       "</table>\n",
       "<p>1000 rows × 15 columns</p>\n",
       "</div>"
      ],
      "text/plain": [
       "                                                 Corpora  \\\n",
       "58                                         ['sante_mtl']   \n",
       "5937                                 ['chuqc', 'inesss']   \n",
       "10392                                      ['ciusss_cn']   \n",
       "5095                                          ['inesss']   \n",
       "4645                                  ['cisss_cotenord']   \n",
       "...                                                  ...   \n",
       "2815                                            ['msss']   \n",
       "5027                                            ['msss']   \n",
       "237    ['cisss_ca', 'cisss_cotenord', 'cisss_gaspesie...   \n",
       "529               ['ciusss_cn', 'inspq', 'quebec_sante']   \n",
       "11014                                           ['cusm']   \n",
       "\n",
       "                                               Terme  \\\n",
       "58                  santé montréal accès aux espaces   \n",
       "5937                           lettre d'autorisation   \n",
       "10392                 thiamine thiosulfate de sodium   \n",
       "5095                                   inspq visitez   \n",
       "4645                      population de la côte-nord   \n",
       "...                                              ...   \n",
       "2815      ventilation établissements sociosanitaires   \n",
       "5027   portrait cumulatif depuis le début de l'année   \n",
       "237                                    type familial   \n",
       "529                                centre antipoison   \n",
       "11014                           hôpital neurologique   \n",
       "\n",
       "                          Structure syntaxique  \\\n",
       "58                     NOM ADJ NOM PRP:det NOM   \n",
       "5937                               NOM PRP NOM   \n",
       "10392                          NOM NOM PRP NOM   \n",
       "5095                              NOM VER:pres   \n",
       "4645                       NOM PRP DET:ART NOM   \n",
       "...                                        ...   \n",
       "2815                               NOM NOM ADJ   \n",
       "5027   NOM ADJ PRP DET:ART NOM PRP DET:ART NOM   \n",
       "237                                    NOM ADJ   \n",
       "529                                    NOM ADJ   \n",
       "11014                                  NOM ADJ   \n",
       "\n",
       "                                     Forme lemmatisée  isMeSHTerm MeSHID  \\\n",
       "58                    santé montréal accès aux espace       False    NaN   \n",
       "5937                           lettre de autorisation       False    NaN   \n",
       "10392                  thiamine thiosulfate de sodium       False    NaN   \n",
       "5095                                    inspq visiter       False    NaN   \n",
       "4645                       population de le côte-nord       False    NaN   \n",
       "...                                               ...         ...    ...   \n",
       "2815        ventilation établissement sociosanitaires       False    NaN   \n",
       "5027   portrait cumulatif depuis le début de le année       False    NaN   \n",
       "237                                     type familial       False    NaN   \n",
       "529                                 centre antipoison       False    NaN   \n",
       "11014                            hôpital neurologique       False    NaN   \n",
       "\n",
       "      MesH_prefLabel_fr MesH_prefLabel_en  isTaxoTerm  Log Likelihood    TF  \\\n",
       "58                  NaN               NaN       False            -inf  3046   \n",
       "5937                NaN               NaN       False     1368.005310    87   \n",
       "10392               NaN               NaN       False      833.337158    48   \n",
       "5095                NaN               NaN       False            -inf   107   \n",
       "4645                NaN               NaN       False     1332.166812   122   \n",
       "...                 ...               ...         ...             ...   ...   \n",
       "2815                NaN               NaN       False            -inf   172   \n",
       "5027                NaN               NaN       False     1436.070003   108   \n",
       "237                 NaN               NaN       False     1217.898360  1228   \n",
       "529                 NaN               NaN        True      623.113280   675   \n",
       "11014               NaN               NaN       False      357.558517    42   \n",
       "\n",
       "         DF    TF*IDF  OKapiBM25  TF + DF  \n",
       "58     3046  0.447214  15.885776     6092  \n",
       "5937     83  0.195134  20.264013      170  \n",
       "10392    48  0.081609  24.387984       96  \n",
       "5095    107  0.059649   6.695343      214  \n",
       "4645    121  0.357195  11.782546      243  \n",
       "...     ...       ...        ...      ...  \n",
       "2815    172  0.134854  16.601194      344  \n",
       "5027    108  0.100534   8.938169      216  \n",
       "237     605  1.000000  34.006775     1833  \n",
       "529     296  0.893326  21.400376      971  \n",
       "11014    29  0.614516   4.441499       71  \n",
       "\n",
       "[1000 rows x 15 columns]"
      ]
     },
     "execution_count": 3,
     "metadata": {},
     "output_type": "execute_result"
    }
   ],
   "source": [
    "file_path = '../06-clustering/candidate_terms.csv'\n",
    "with open(file_path, encoding='utf-8') as f:\n",
    "    df = pd.read_csv(f).drop(columns=[\"Unnamed: 0\"]).sample(1000)\n",
    "    df['Terme'] = df['Terme'].astype('str')\n",
    "    df['TF + DF'] = df['TF'] + df['DF']\n",
    "\n",
    "# store the data\n",
    "cluster_name_list = []\n",
    "corpus_sentences_list = []\n",
    "df_all = []\n",
    "\n",
    "corpus_set = set(df['Terme'])\n",
    "corpus_set_all = corpus_set\n",
    "cluster = True\n",
    "\n",
    "df"
   ]
  },
  {
   "cell_type": "code",
   "execution_count": 4,
   "metadata": {},
   "outputs": [
    {
     "data": {
      "text/html": [
       "<div>\n",
       "<style scoped>\n",
       "    .dataframe tbody tr th:only-of-type {\n",
       "        vertical-align: middle;\n",
       "    }\n",
       "\n",
       "    .dataframe tbody tr th {\n",
       "        vertical-align: top;\n",
       "    }\n",
       "\n",
       "    .dataframe thead th {\n",
       "        text-align: right;\n",
       "    }\n",
       "</style>\n",
       "<table border=\"1\" class=\"dataframe\">\n",
       "  <thead>\n",
       "    <tr style=\"text-align: right;\">\n",
       "      <th></th>\n",
       "      <th>Corpora</th>\n",
       "      <th>Terme</th>\n",
       "      <th>Structure syntaxique</th>\n",
       "      <th>Forme lemmatisée</th>\n",
       "      <th>isMeSHTerm</th>\n",
       "      <th>MeSHID</th>\n",
       "      <th>MesH_prefLabel_fr</th>\n",
       "      <th>MesH_prefLabel_en</th>\n",
       "      <th>isTaxoTerm</th>\n",
       "      <th>Log Likelihood</th>\n",
       "      <th>TF</th>\n",
       "      <th>DF</th>\n",
       "      <th>TF*IDF</th>\n",
       "      <th>OKapiBM25</th>\n",
       "      <th>TF + DF</th>\n",
       "      <th>tokens</th>\n",
       "    </tr>\n",
       "  </thead>\n",
       "  <tbody>\n",
       "    <tr>\n",
       "      <th>58</th>\n",
       "      <td>['sante_mtl']</td>\n",
       "      <td>santé montréal accès aux espaces</td>\n",
       "      <td>NOM ADJ NOM PRP:det NOM</td>\n",
       "      <td>santé montréal accès aux espace</td>\n",
       "      <td>False</td>\n",
       "      <td>NaN</td>\n",
       "      <td>NaN</td>\n",
       "      <td>NaN</td>\n",
       "      <td>False</td>\n",
       "      <td>-inf</td>\n",
       "      <td>3046</td>\n",
       "      <td>3046</td>\n",
       "      <td>0.447214</td>\n",
       "      <td>15.885776</td>\n",
       "      <td>6092</td>\n",
       "      <td>[accès, espaces, santé]</td>\n",
       "    </tr>\n",
       "    <tr>\n",
       "      <th>5937</th>\n",
       "      <td>['chuqc', 'inesss']</td>\n",
       "      <td>lettre d'autorisation</td>\n",
       "      <td>NOM PRP NOM</td>\n",
       "      <td>lettre de autorisation</td>\n",
       "      <td>False</td>\n",
       "      <td>NaN</td>\n",
       "      <td>NaN</td>\n",
       "      <td>NaN</td>\n",
       "      <td>False</td>\n",
       "      <td>1368.005310</td>\n",
       "      <td>87</td>\n",
       "      <td>83</td>\n",
       "      <td>0.195134</td>\n",
       "      <td>20.264013</td>\n",
       "      <td>170</td>\n",
       "      <td>[autorisation, lettre]</td>\n",
       "    </tr>\n",
       "    <tr>\n",
       "      <th>10392</th>\n",
       "      <td>['ciusss_cn']</td>\n",
       "      <td>thiamine thiosulfate de sodium</td>\n",
       "      <td>NOM NOM PRP NOM</td>\n",
       "      <td>thiamine thiosulfate de sodium</td>\n",
       "      <td>False</td>\n",
       "      <td>NaN</td>\n",
       "      <td>NaN</td>\n",
       "      <td>NaN</td>\n",
       "      <td>False</td>\n",
       "      <td>833.337158</td>\n",
       "      <td>48</td>\n",
       "      <td>48</td>\n",
       "      <td>0.081609</td>\n",
       "      <td>24.387984</td>\n",
       "      <td>96</td>\n",
       "      <td>[sodium, thiamine, thiosulfate]</td>\n",
       "    </tr>\n",
       "    <tr>\n",
       "      <th>5095</th>\n",
       "      <td>['inesss']</td>\n",
       "      <td>inspq visitez</td>\n",
       "      <td>NOM VER:pres</td>\n",
       "      <td>inspq visiter</td>\n",
       "      <td>False</td>\n",
       "      <td>NaN</td>\n",
       "      <td>NaN</td>\n",
       "      <td>NaN</td>\n",
       "      <td>False</td>\n",
       "      <td>-inf</td>\n",
       "      <td>107</td>\n",
       "      <td>107</td>\n",
       "      <td>0.059649</td>\n",
       "      <td>6.695343</td>\n",
       "      <td>214</td>\n",
       "      <td>[inspq, visitez]</td>\n",
       "    </tr>\n",
       "    <tr>\n",
       "      <th>4645</th>\n",
       "      <td>['cisss_cotenord']</td>\n",
       "      <td>population de la côte-nord</td>\n",
       "      <td>NOM PRP DET:ART NOM</td>\n",
       "      <td>population de le côte-nord</td>\n",
       "      <td>False</td>\n",
       "      <td>NaN</td>\n",
       "      <td>NaN</td>\n",
       "      <td>NaN</td>\n",
       "      <td>False</td>\n",
       "      <td>1332.166812</td>\n",
       "      <td>122</td>\n",
       "      <td>121</td>\n",
       "      <td>0.357195</td>\n",
       "      <td>11.782546</td>\n",
       "      <td>243</td>\n",
       "      <td>[côte-nord, population]</td>\n",
       "    </tr>\n",
       "    <tr>\n",
       "      <th>...</th>\n",
       "      <td>...</td>\n",
       "      <td>...</td>\n",
       "      <td>...</td>\n",
       "      <td>...</td>\n",
       "      <td>...</td>\n",
       "      <td>...</td>\n",
       "      <td>...</td>\n",
       "      <td>...</td>\n",
       "      <td>...</td>\n",
       "      <td>...</td>\n",
       "      <td>...</td>\n",
       "      <td>...</td>\n",
       "      <td>...</td>\n",
       "      <td>...</td>\n",
       "      <td>...</td>\n",
       "      <td>...</td>\n",
       "    </tr>\n",
       "    <tr>\n",
       "      <th>2815</th>\n",
       "      <td>['msss']</td>\n",
       "      <td>ventilation établissements sociosanitaires</td>\n",
       "      <td>NOM NOM ADJ</td>\n",
       "      <td>ventilation établissement sociosanitaires</td>\n",
       "      <td>False</td>\n",
       "      <td>NaN</td>\n",
       "      <td>NaN</td>\n",
       "      <td>NaN</td>\n",
       "      <td>False</td>\n",
       "      <td>-inf</td>\n",
       "      <td>172</td>\n",
       "      <td>172</td>\n",
       "      <td>0.134854</td>\n",
       "      <td>16.601194</td>\n",
       "      <td>344</td>\n",
       "      <td>[sociosanitaires, ventilation, établissements]</td>\n",
       "    </tr>\n",
       "    <tr>\n",
       "      <th>5027</th>\n",
       "      <td>['msss']</td>\n",
       "      <td>portrait cumulatif depuis le début de l'année</td>\n",
       "      <td>NOM ADJ PRP DET:ART NOM PRP DET:ART NOM</td>\n",
       "      <td>portrait cumulatif depuis le début de le année</td>\n",
       "      <td>False</td>\n",
       "      <td>NaN</td>\n",
       "      <td>NaN</td>\n",
       "      <td>NaN</td>\n",
       "      <td>False</td>\n",
       "      <td>1436.070003</td>\n",
       "      <td>108</td>\n",
       "      <td>108</td>\n",
       "      <td>0.100534</td>\n",
       "      <td>8.938169</td>\n",
       "      <td>216</td>\n",
       "      <td>[année, cumulatif, portrait]</td>\n",
       "    </tr>\n",
       "    <tr>\n",
       "      <th>237</th>\n",
       "      <td>['cisss_ca', 'cisss_cotenord', 'cisss_gaspesie...</td>\n",
       "      <td>type familial</td>\n",
       "      <td>NOM ADJ</td>\n",
       "      <td>type familial</td>\n",
       "      <td>False</td>\n",
       "      <td>NaN</td>\n",
       "      <td>NaN</td>\n",
       "      <td>NaN</td>\n",
       "      <td>False</td>\n",
       "      <td>1217.898360</td>\n",
       "      <td>1228</td>\n",
       "      <td>605</td>\n",
       "      <td>1.000000</td>\n",
       "      <td>34.006775</td>\n",
       "      <td>1833</td>\n",
       "      <td>[familial, type]</td>\n",
       "    </tr>\n",
       "    <tr>\n",
       "      <th>529</th>\n",
       "      <td>['ciusss_cn', 'inspq', 'quebec_sante']</td>\n",
       "      <td>centre antipoison</td>\n",
       "      <td>NOM ADJ</td>\n",
       "      <td>centre antipoison</td>\n",
       "      <td>False</td>\n",
       "      <td>NaN</td>\n",
       "      <td>NaN</td>\n",
       "      <td>NaN</td>\n",
       "      <td>True</td>\n",
       "      <td>623.113280</td>\n",
       "      <td>675</td>\n",
       "      <td>296</td>\n",
       "      <td>0.893326</td>\n",
       "      <td>21.400376</td>\n",
       "      <td>971</td>\n",
       "      <td>[antipoison, centre]</td>\n",
       "    </tr>\n",
       "    <tr>\n",
       "      <th>11014</th>\n",
       "      <td>['cusm']</td>\n",
       "      <td>hôpital neurologique</td>\n",
       "      <td>NOM ADJ</td>\n",
       "      <td>hôpital neurologique</td>\n",
       "      <td>False</td>\n",
       "      <td>NaN</td>\n",
       "      <td>NaN</td>\n",
       "      <td>NaN</td>\n",
       "      <td>False</td>\n",
       "      <td>357.558517</td>\n",
       "      <td>42</td>\n",
       "      <td>29</td>\n",
       "      <td>0.614516</td>\n",
       "      <td>4.441499</td>\n",
       "      <td>71</td>\n",
       "      <td>[hôpital, neurologique]</td>\n",
       "    </tr>\n",
       "  </tbody>\n",
       "</table>\n",
       "<p>1000 rows × 16 columns</p>\n",
       "</div>"
      ],
      "text/plain": [
       "                                                 Corpora  \\\n",
       "58                                         ['sante_mtl']   \n",
       "5937                                 ['chuqc', 'inesss']   \n",
       "10392                                      ['ciusss_cn']   \n",
       "5095                                          ['inesss']   \n",
       "4645                                  ['cisss_cotenord']   \n",
       "...                                                  ...   \n",
       "2815                                            ['msss']   \n",
       "5027                                            ['msss']   \n",
       "237    ['cisss_ca', 'cisss_cotenord', 'cisss_gaspesie...   \n",
       "529               ['ciusss_cn', 'inspq', 'quebec_sante']   \n",
       "11014                                           ['cusm']   \n",
       "\n",
       "                                               Terme  \\\n",
       "58                  santé montréal accès aux espaces   \n",
       "5937                           lettre d'autorisation   \n",
       "10392                 thiamine thiosulfate de sodium   \n",
       "5095                                   inspq visitez   \n",
       "4645                      population de la côte-nord   \n",
       "...                                              ...   \n",
       "2815      ventilation établissements sociosanitaires   \n",
       "5027   portrait cumulatif depuis le début de l'année   \n",
       "237                                    type familial   \n",
       "529                                centre antipoison   \n",
       "11014                           hôpital neurologique   \n",
       "\n",
       "                          Structure syntaxique  \\\n",
       "58                     NOM ADJ NOM PRP:det NOM   \n",
       "5937                               NOM PRP NOM   \n",
       "10392                          NOM NOM PRP NOM   \n",
       "5095                              NOM VER:pres   \n",
       "4645                       NOM PRP DET:ART NOM   \n",
       "...                                        ...   \n",
       "2815                               NOM NOM ADJ   \n",
       "5027   NOM ADJ PRP DET:ART NOM PRP DET:ART NOM   \n",
       "237                                    NOM ADJ   \n",
       "529                                    NOM ADJ   \n",
       "11014                                  NOM ADJ   \n",
       "\n",
       "                                     Forme lemmatisée  isMeSHTerm MeSHID  \\\n",
       "58                    santé montréal accès aux espace       False    NaN   \n",
       "5937                           lettre de autorisation       False    NaN   \n",
       "10392                  thiamine thiosulfate de sodium       False    NaN   \n",
       "5095                                    inspq visiter       False    NaN   \n",
       "4645                       population de le côte-nord       False    NaN   \n",
       "...                                               ...         ...    ...   \n",
       "2815        ventilation établissement sociosanitaires       False    NaN   \n",
       "5027   portrait cumulatif depuis le début de le année       False    NaN   \n",
       "237                                     type familial       False    NaN   \n",
       "529                                 centre antipoison       False    NaN   \n",
       "11014                            hôpital neurologique       False    NaN   \n",
       "\n",
       "      MesH_prefLabel_fr MesH_prefLabel_en  isTaxoTerm  Log Likelihood    TF  \\\n",
       "58                  NaN               NaN       False            -inf  3046   \n",
       "5937                NaN               NaN       False     1368.005310    87   \n",
       "10392               NaN               NaN       False      833.337158    48   \n",
       "5095                NaN               NaN       False            -inf   107   \n",
       "4645                NaN               NaN       False     1332.166812   122   \n",
       "...                 ...               ...         ...             ...   ...   \n",
       "2815                NaN               NaN       False            -inf   172   \n",
       "5027                NaN               NaN       False     1436.070003   108   \n",
       "237                 NaN               NaN       False     1217.898360  1228   \n",
       "529                 NaN               NaN        True      623.113280   675   \n",
       "11014               NaN               NaN       False      357.558517    42   \n",
       "\n",
       "         DF    TF*IDF  OKapiBM25  TF + DF  \\\n",
       "58     3046  0.447214  15.885776     6092   \n",
       "5937     83  0.195134  20.264013      170   \n",
       "10392    48  0.081609  24.387984       96   \n",
       "5095    107  0.059649   6.695343      214   \n",
       "4645    121  0.357195  11.782546      243   \n",
       "...     ...       ...        ...      ...   \n",
       "2815    172  0.134854  16.601194      344   \n",
       "5027    108  0.100534   8.938169      216   \n",
       "237     605  1.000000  34.006775     1833   \n",
       "529     296  0.893326  21.400376      971   \n",
       "11014    29  0.614516   4.441499       71   \n",
       "\n",
       "                                               tokens  \n",
       "58                            [accès, espaces, santé]  \n",
       "5937                           [autorisation, lettre]  \n",
       "10392                 [sodium, thiamine, thiosulfate]  \n",
       "5095                                 [inspq, visitez]  \n",
       "4645                          [côte-nord, population]  \n",
       "...                                               ...  \n",
       "2815   [sociosanitaires, ventilation, établissements]  \n",
       "5027                     [année, cumulatif, portrait]  \n",
       "237                                  [familial, type]  \n",
       "529                              [antipoison, centre]  \n",
       "11014                         [hôpital, neurologique]  \n",
       "\n",
       "[1000 rows x 16 columns]"
      ]
     },
     "execution_count": 4,
     "metadata": {},
     "output_type": "execute_result"
    }
   ],
   "source": [
    "from nltk.tokenize import RegexpTokenizer\n",
    "regex = \"[\\w+-]+|\\([\\s+\\w+\\d+-]+\\)|\\w+|\\w\"\n",
    "tokenizex = RegexpTokenizer(regex)\n",
    "\n",
    "file_path = \"../04-filtrage/stopwords.txt\"\n",
    "with open(file_path, 'r', encoding=\"utf-8\") as f:\n",
    "    stop = [t.lower().strip('\\n') for t in f.readlines()]\n",
    "\n",
    "def to_tokens(kw, min_chars=2):\n",
    "    tokens = tokenizex.tokenize(str(kw)) # split the string into a list of words\n",
    "    tokens = [word for word in tokens if len(word) > min_chars] \n",
    "    tokens = [str(word) for word in tokens if word not in stop] \n",
    "    \n",
    "    tokens = set(tokens) # to remove duplicates\n",
    "    tokens = sorted(tokens) # converts our set back to a list and sorts words in alphabetical order\n",
    "    return tokens\n",
    "\n",
    "df[\"tokens\"] = df[\"Terme\"].apply(lambda x: to_tokens(\n",
    "    x,\n",
    "    min_chars=3,\n",
    "))\n",
    "df"
   ]
  },
  {
   "cell_type": "code",
   "execution_count": 5,
   "metadata": {},
   "outputs": [],
   "source": [
    "# # keep looping through until no more clusters are created\n",
    "# def community_clusters(cluster_accuracy, min_cluster_size, corpus_set=corpus_set):\n",
    "#     cluster_accuracy = cluster_accuracy / 100\n",
    "#     cluster = True\n",
    "#     while cluster:\n",
    "#         corpus_sentences = list(corpus_set)\n",
    "#         check_len = len(corpus_sentences)\n",
    "\n",
    "#         corpus_embeddings = model.encode(corpus_sentences, batch_size=256, show_progress_bar=True, convert_to_tensor=True)\n",
    "#         clusters = util.community_detection(corpus_embeddings, min_community_size= min_cluster_size, threshold=cluster_accuracy, init_max_size=len(corpus_embeddings))\n",
    "\n",
    "#         for keyword, cluster in enumerate(clusters):\n",
    "#             print(\"\\nCluster {}, #{} Elements \".format(keyword + 1, len(cluster)))\n",
    "\n",
    "#             for sentence_id in cluster[0:]:\n",
    "#                 print(\"\\t\", corpus_sentences[sentence_id])\n",
    "#                 corpus_sentences_list.append(corpus_sentences[sentence_id])\n",
    "#                 cluster_name_list.append(\"Cluster {}, #{} Elements \".format(keyword + 1, len(cluster)))\n",
    "\n",
    "#         df_new = pd.DataFrame(None)\n",
    "#         df_new['Cluster Name'] = cluster_name_list\n",
    "#         df_new['Cluster Name'].fillna(\"zzz_no_cluster\")\n",
    "\n",
    "#         df_new[\"Terme\"] = corpus_sentences_list\n",
    "\n",
    "#         df_all.append(df_new)\n",
    "#         have = set(df_new[\"Terme\"])\n",
    "\n",
    "#         corpus_set = corpus_set_all - have\n",
    "#         remaining = len(corpus_set)\n",
    "#         print(\"Total Unclustered Keywords: \", remaining)\n",
    "#         if check_len == remaining:\n",
    "#             break\n",
    "#         return remaining"
   ]
  },
  {
   "cell_type": "code",
   "execution_count": 6,
   "metadata": {},
   "outputs": [],
   "source": [
    "# for a in accuracy:\n",
    "#     for s in size:\n",
    "#         score = community_clusters(a, s)\n",
    "#         results.loc[((results['Accuracy'] == a) & (results['Minimum cluster size'] == s)), \\\n",
    "#         'Number of orphans'] = score"
   ]
  },
  {
   "cell_type": "code",
   "execution_count": 7,
   "metadata": {},
   "outputs": [],
   "source": [
    "# results\n",
    "\n",
    "# # Ensuite, on voudrait représenter sur un graphique le accuracy, la taille des clusters et le nombre d'orphelins pour prendre\n",
    "# # la valeur combinaison de valeurs maximisant l'accuracy et minimisant le nombre de clusters orphelins\n",
    "\n",
    "# file_path = '../06-Clustering/results_BERT_communityDetection_sample.csv'\n",
    "# results.to_csv(file_path)"
   ]
  },
  {
   "cell_type": "code",
   "execution_count": 8,
   "metadata": {},
   "outputs": [],
   "source": [
    "# ########################################\n",
    "# # En fonction du graphique, on choisit nos paramètres\n",
    "# ########################################\n",
    "# import seaborn as sns\n",
    "# import numpy as np\n",
    "# results['Number of orphans'] = pd.to_numeric(results['Number of orphans'])\n",
    "# results_pivot = results.pivot(index= 'Accuracy', columns='Minimum cluster size', values = 'Number of orphans')\n",
    "# results_pivot\n",
    "\n",
    "# fig = sns.heatmap(results_pivot, annot=True, fmt=\"d\", cmap='binary').get_figure()\n",
    "# file_path = '../06-Clustering/figure_BERT_communityDetection.tiff'\n",
    "# fig.savefig(file_path) "
   ]
  },
  {
   "cell_type": "code",
   "execution_count": 9,
   "metadata": {},
   "outputs": [
    {
     "name": "stderr",
     "output_type": "stream",
     "text": [
      "Batches: 100%|██████████| 4/4 [00:34<00:00,  8.62s/it]\n"
     ]
    },
    {
     "name": "stdout",
     "output_type": "stream",
     "text": [
      "\n",
      "Cluster 1, #84 Elements \n",
      "\t changement pertinent\n",
      "\t actions concrètes\n",
      "\t cliniques spécialisées\n",
      "\t changements majeurs\n",
      "\t consultations spécialisées\n",
      "\t drogues pluralité\n",
      "\t déficience auditive\n",
      "\t dose antérieure\n",
      "\t visiteur journalier\n",
      "\t médecine légale\n",
      "\t hôpital neurologique\n",
      "\t utérus persistant\n",
      "\t examen serviront\n",
      "\t planification globale\n",
      "\t membres supérieurs\n",
      "\t impacts négatifs\n",
      "\t sujets variés\n",
      "\t cellules présentant\n",
      "\t usagers actifs\n",
      "\t médecin traitant\n",
      "\t documentation références tuberculose\n",
      "\t garde éducatifs\n",
      "\t délais prévus\n",
      "\t tests rapides\n",
      "\t réussite éducative\n",
      "\t adolescence aire\n",
      "\t résultats sources\n",
      "\t lait maternel\n",
      "\t guichets spécifiques\n",
      "\t temps supplémentaire\n",
      "\t problèmes liés\n",
      "\t dose supplémentaire\n",
      "\t recours conformément\n",
      "\t études supérieures\n",
      "\t données de manière\n",
      "\t ensure plus formule\n",
      "\t garde éducatif\n",
      "\t gram négatif\n",
      "\t onglets représentent\n",
      "\t services de type\n",
      "\t veilleurs du programme\n",
      "\t sanis inscription\n",
      "\t enfant âgé\n",
      "\t trouble lié\n",
      "\t aide sociale\n",
      "\t génétique moléculaire\n",
      "\t québec version\n",
      "\t mois archives\n",
      "\t éducation données\n",
      "\t population pratiques prélèvements\n",
      "\t délai souhaité\n",
      "\t population pratiques\n",
      "\t rapports disponibles présentations\n",
      "\t association québécoise\n",
      "\t nombre moyen\n",
      "\t sos violence\n",
      "\t environnement social\n",
      "\t tissus mous\n",
      "\t clientèles prioritaires\n",
      "\t air en milieu\n",
      "\t assistance immédiate\n",
      "\t fabricant recommandation\n",
      "\t évaluation des produits\n",
      "\t cours de la dernière\n",
      "\t conseils pratiques\n",
      "\t risque associé\n",
      "\t indications reconnues décision\n",
      "\t réadaptation de qualité\n",
      "\t montage photo\n",
      "\t réadaptation pulmonaire\n",
      "\t pères québécois période\n",
      "\t afébrile et réponse\n",
      "\t publication autres liens nouveautés\n",
      "\t reprise au cours\n",
      "\t isolement pour connaître\n",
      "\t service vise\n",
      "\t sécurité sociale\n",
      "\t pubmed recherche\n",
      "\t glycémie recommandation\n",
      "\t transformation majeure des milieux\n",
      "\t enseignement et affaires\n",
      "\t présentation des manifestations\n",
      "\t données et résultats\n",
      "\t services offerts visent\n",
      "\n",
      "Cluster 2, #33 Elements \n",
      "\t enquêtes de santé\n",
      "\t enjeux de santé\n",
      "\t enjeu de santé\n",
      "\t évaluation en santé\n",
      "\t priorité santé\n",
      "\t éthique de santé publique\n",
      "\t institut national de santé\n",
      "\t spécialiste en santé publique\n",
      "\t travailleurs de la santé atteints\n",
      "\t drogues pour les professionnels de la santé\n",
      "\t consommation promotion de la santé\n",
      "\t programme national de santé publique\n",
      "\t éthique en santé et services\n",
      "\t accès aux services de santé\n",
      "\t maladies chroniques traité santé\n",
      "\t programme de santé mieux-être\n",
      "\t personnel du réseau de la santé\n",
      "\t vaccination conseils santé habitudes\n",
      "\t partenaires du réseau de la santé\n",
      "\t excellence du réseau de la santé\n",
      "\t mémoires avis de santé publique mémoires\n",
      "\t inégalités sociales de santé sécurité\n",
      "\t vie et maladies\n",
      "\t prévention risque pour la santé\n",
      "\t collaboration en santé mentale\n",
      "\t problèmes de santé liés à l'environnement\n",
      "\t santé publique à l'institut national de santé\n",
      "\t système de prévention clinique\n",
      "\t gestion en santé et services sociaux\n",
      "\t prévention clinique information générale statistiques\n",
      "\t services médicaux\n",
      "\t maison maladie\n",
      "\t pti en santé mentale constats\n",
      "\n",
      "Cluster 3, #22 Elements \n",
      "\t objet d'une évaluation\n",
      "\t clinique d'évaluation\n",
      "\t durée ayant une évaluation\n",
      "\t évaluation processus synchronisé d'évaluation\n",
      "\t attente d'évaluation tavneos\n",
      "\t processus synchronisé d'évaluation des tests\n",
      "\t cours d'évaluation mvasi\n",
      "\t résultat de test\n",
      "\t attente d'évaluation tezspire\n",
      "\t attente d'évaluation jardiance\n",
      "\t cours d'évaluation saphnelo\n",
      "\t pap test\n",
      "\t demande en attente d'évaluation vabysmo\n",
      "\t attente d'évaluation oxlumo\n",
      "\t cours d'évaluation beovu brolucizumab\n",
      "\t registre des traumatismes évaluation\n",
      "\t centre d'expertise\n",
      "\t cours d'évaluation addnutriv\n",
      "\t réévaluation en cours d'évaluation tepmetko\n",
      "\t cours d'évaluation rozlytrek entrectinib\n",
      "\t déroulement de l'examen\n",
      "\t attente d'évaluation dojolvi triheptanoïne\n",
      "\n",
      "Cluster 4, #20 Elements \n",
      "\t listes des médicaments\n",
      "\t administration de médicaments\n",
      "\t inscription d'un médicament\n",
      "\t description du médicament\n",
      "\t lien avec la médication\n",
      "\t fabricants des médicaments présentés dans le tableau\n",
      "\t conformité médicaments d'exception\n",
      "\t inscription médicaments en attente\n",
      "\t médicaments génériques\n",
      "\t résultats des traitements\n",
      "\t examens et traitements\n",
      "\t calculs pharmaceutiques\n",
      "\t obésité pharmacologie\n",
      "\t infirmières et pharmaceutiques\n",
      "\t liste des médicaments couverts par le régime\n",
      "\t endroit exact des traitements\n",
      "\t liste des médicaments couverts par le régime général\n",
      "\t paladin traitement des patients\n",
      "\t utilisation des anticoagulants oraux direct\n",
      "\t versions génériques\n",
      "\n",
      "Cluster 5, #15 Elements \n",
      "\t grossesse et accouchement enfance\n",
      "\t dépistage néonatal\n",
      "\t soins du bébé\n",
      "\t allaitement maternel\n",
      "\t diabète gestationnel\n",
      "\t tour du centre des naissances\n",
      "\t maison de naissance\n",
      "\t naissance natalité négociations\n",
      "\t naissance natalité\n",
      "\t interruption volontaire de grossesse\n",
      "\t adoption devenir famille\n",
      "\t corps après l'accouchement prendre\n",
      "\t type familial\n",
      "\t nicotine nomination obstétrique\n",
      "\t colite ulcéreuse chez l'enfant pré-ac en attente\n",
      "\n",
      "Cluster 6, #12 Elements \n",
      "\t soins infirmiers bloc\n",
      "\t offres en soins infirmiers\n",
      "\t personnel en soins infirmiers\n",
      "\t santé espace infirmiers\n",
      "\t soins infirmiers bien accompagnées\n",
      "\t hospitalisations aux soins intensifs prélèvements\n",
      "\t sciences infirmières\n",
      "\t milieux hospitaliers\n",
      "\t infirmières et infirmiers\n",
      "\t besoins hospitaliers traitements\n",
      "\t usagers cliniques médicales prise\n",
      "\t intérêt pour les soins\n",
      "\n",
      "Cluster 7, #12 Elements \n",
      "\t échographie cardiaque\n",
      "\t transplantation cardiaque\n",
      "\t irm cardiaque\n",
      "\t résonance magnétique cardiaque\n",
      "\t recherche de l'institut de cardiologie\n",
      "\t échocardiographie de stress\n",
      "\t tachycardie ventriculaire\n",
      "\t insuffisance cardiaque pré-ac\n",
      "\t échographie rénale échographie testiculaire échographie thyroïde\n",
      "\t imagerie médicale échographie abdominale échographie\n",
      "\t échographie pelvienne échographie rénale échographie\n",
      "\t service de radiographie\n",
      "\n",
      "Cluster 8, #11 Elements \n",
      "\t interventions documentation vaccination\n",
      "\t interventions documentation vaccination scolaire\n",
      "\t alimentation vaccination\n",
      "\t interventions documentation vih\n",
      "\t interventions documentation rougeole\n",
      "\t couverture vaccinale\n",
      "\t infirmiers documentation\n",
      "\t interventions documentation risques biologiques\n",
      "\t interventions documentation listériose\n",
      "\t interventions documentation variole simienne informations\n",
      "\t interventions documentation moisissures\n",
      "\n",
      "Cluster 9, #11 Elements \n",
      "\t réadaptation en déficience intellectuelle\n",
      "\t programme en déficience\n",
      "\t réadaptation en déficience physique\n",
      "\t déficience physique déficience motrice déficience\n",
      "\t déficience intellectuelle trouble\n",
      "\t handicap déficience auditive langue\n",
      "\t institut de réadaptation en déficience\n",
      "\t réadaptation pour les personnes amputées\n",
      "\t sang- traitement du déficit congénital\n",
      "\t programme québécois pour les troubles\n",
      "\t institut de réadaptation en déficience physique\n",
      "\n",
      "Cluster 10, #10 Elements \n",
      "\t alimentation et nutrition commodités\n",
      "\t conseils pratiques alimentation\n",
      "\t conduites alimentaires\n",
      "\t sources d'alimentation\n",
      "\t périodicité de l'alimentation\n",
      "\t situation alimentaire\n",
      "\t contamination des aliments\n",
      "\t environnements sains\n",
      "\t alimentation saine\n",
      "\t environnements sains et sécuritaires saine\n",
      "\n",
      "Cluster 11, #10 Elements \n",
      "\t clsc et centre de services\n",
      "\t orientations des services\n",
      "\t centre local de services\n",
      "\t pierreville centre d'hébergement et clsc\n",
      "\t plan de services\n",
      "\t traitements services et cliniques\n",
      "\t gamme de services\n",
      "\t tuque centre multiservices\n",
      "\t santé publique du cisss\n",
      "\t centre intégré de santé et de services sociaux\n",
      "\n",
      "Cluster 12, #9 Elements \n",
      "\t clinique de chirurgie\n",
      "\t douleur après l'opération\n",
      "\t consignes post-chirurgie\n",
      "\t consultations dans une clinique\n",
      "\t spécialiste consultations dans une clinique\n",
      "\t cliniques de radiologie\n",
      "\t soutien clinique\n",
      "\t consultation à la clinique\n",
      "\t type clinique\n",
      "\n",
      "Cluster 13, #9 Elements \n",
      "\t transformation transport travail\n",
      "\t transformation transport travail travaux\n",
      "\t problème de transport\n",
      "\t moyen de transport\n",
      "\t accidents du travail\n",
      "\t forme sur le lieu de travail\n",
      "\t sécurité du travail\n",
      "\t prise en charge travail en réseau utilisation\n",
      "\t accès en transport collectif\n",
      "\n",
      "Cluster 14, #8 Elements \n",
      "\t rétention urinaire\n",
      "\t infection urinaire\n",
      "\t premarin rétention urinaire\n",
      "\t premarin rétention urinaire aigüe sédation\n",
      "\t rétention urinaire aigüe sédation\n",
      "\t premarin rétention urinaire aigüe sédation palliative\n",
      "\t flow water\n",
      "\t eampoc écoulement urétral élimination\n",
      "\n",
      "Cluster 15, #8 Elements \n",
      "\t emplois covid-19 événements de recrutement\n",
      "\t prévention de la covid-19\n",
      "\t décès liés à la covid-19 selon le milieu\n",
      "\t dépistage pour la covid-19\n",
      "\t autoévaluation des symptômes de la covid-19\n",
      "\t réseau pour la covid-19\n",
      "\t découverture au clsc de l'est covid-19 local\n",
      "\t clsc de l'est covid-19 local update\n",
      "\n",
      "Cluster 16, #8 Elements \n",
      "\t travail au québec\n",
      "\t gouvernance québec\n",
      "\t services québec\n",
      "\t institut de la statistique du québec\n",
      "\t doses administrées au québec\n",
      "\t système du sang du québec\n",
      "\t programme québecois\n",
      "\t excellence sur le vieillissement de québec\n",
      "\n",
      "Cluster 17, #7 Elements \n",
      "\t niveau d'intervention\n",
      "\t modes d'intervention\n",
      "\t profil de l'intervention\n",
      "\t alertes régionales et d'intervention\n",
      "\t unité d'urgence\n",
      "\t situation d'urgence\n",
      "\t situation est urgente\n",
      "\n",
      "Cluster 18, #7 Elements \n",
      "\t service pour toute demande\n",
      "\t demande statut de la demande\n",
      "\t centres contactez-nous points\n",
      "\t préavis obligatoire demandé\n",
      "\t répartition des demandes (crds)\n",
      "\t options de consultation\n",
      "\t service de consultation\n",
      "\n",
      "Cluster 19, #6 Elements \n",
      "\t usagers actifs en soutien à domicile\n",
      "\t vie soutien à domicile\n",
      "\t service de soutien\n",
      "\t activité de jour ou de soutien\n",
      "\t autonomie personnes proches aidantes santé mentale\n",
      "\t perte d'autonomie organismes communautaires\n",
      "\n",
      "Cluster 20, #6 Elements \n",
      "\t demande du ministère\n",
      "\t gouvernement ministères\n",
      "\t données du ministre\n",
      "\t inscription avis au ministre\n",
      "\t banque de données du ministre\n",
      "\t initiative ministérielle sur la maladie\n",
      "\n",
      "Cluster 21, #6 Elements \n",
      "\t diagnostic de cancer\n",
      "\t société canadienne du cancer\n",
      "\t recherche cancer professeur\n",
      "\t traitement du cancer du sein métastatique\n",
      "\t emd serono traitement du cancer\n",
      "\t chum axe de recherche cancer professeur\n",
      "\n",
      "Cluster 22, #6 Elements \n",
      "\t benzodiazépines bicarbonate de sodium\n",
      "\t association avec le bortézomib et la dexaméthasone\n",
      "\t cyanocobalamine teligent injection de dimenhydrinate\n",
      "\t protamine pyridoxine sirop\n",
      "\t thiamine thiosulfate de sodium\n",
      "\t dimenhydrinate teligent injection de gentamicine\n",
      "\n",
      "Cluster 23, #5 Elements \n",
      "\t agression sexuelle\n",
      "\t violence sexuelle\n",
      "\t diversité sexuelle\n",
      "\t infection transmissible sexuellement\n",
      "\t relations sexuelles avec des hommes\n",
      "\n",
      "Cluster 24, #5 Elements \n",
      "\t études professionnelles\n",
      "\t responsabilités professionnelles\n",
      "\t chercheur professionnel\n",
      "\t membres du personnel\n",
      "\t documentation pour les formations\n",
      "\n",
      "Cluster 25, #5 Elements \n",
      "\t gestion des références bibliographiques\n",
      "\t infirmières références bibliographiques\n",
      "\t interventions documentation références\n",
      "\t cadre de référence\n",
      "\t interventions documentation références anciennes\n",
      "\n",
      "Cluster 26, #5 Elements \n",
      "\t bévacizumab amgen\n",
      "\t nom commercial à venir bevacizumab\n",
      "\t durvalumab azc\n",
      "\t hyrimoz adalimumab\n",
      "\t évaluation cablivi caplacizumab\n",
      "\n",
      "Cluster 27, #5 Elements \n",
      "\t vaccination information générale\n",
      "\t sédentarité information générale\n",
      "\t documentation tabac information générale\n",
      "\t travail information générale statistiques\n",
      "\t accès aux renseignements\n",
      "\n",
      "Cluster 28, #5 Elements \n",
      "\t fonction de la priorité médicale\n",
      "\t fonction de la priorité\n",
      "\t imagerie médicale\n",
      "\t référence d'un médecin\n",
      "\t espace médecin\n",
      "\n",
      "Cluster 29, #5 Elements \n",
      "\t consommation d'alcool consommation de drogues\n",
      "\t consommation d'alcool consommation\n",
      "\t services alcool\n",
      "\t consommation de substances psychoactives\n",
      "\t surdoses liées aux drogues vigie\n",
      "\n",
      "Cluster 30, #5 Elements \n",
      "\t institut de recherche du cusm\n",
      "\t frcpc chercheur\n",
      "\t moteur de recherche\n",
      "\t directeur de la recherche\n",
      "\t salles recherche\n",
      "\n",
      "Cluster 31, #4 Elements \n",
      "\t sandoz teriflunomide tériflunomide\n",
      "\t mar-teriflunomide tériflunomide marcan\n",
      "\t nat-teriflunomide tériflunomide natco inscription\n",
      "\t attente d'évaluation tezspire tézépélumab\n",
      "\n",
      "Cluster 32, #4 Elements \n",
      "\t simulation d'un cas\n",
      "\t études de cas clinique\n",
      "\t simulation d'un cas fictif\n",
      "\t titre d'exemple\n",
      "\n",
      "Cluster 33, #4 Elements \n",
      "\t ministère de la sécurité\n",
      "\t vélos sécurisés\n",
      "\t projet protection\n",
      "\t problème d'insécurité\n",
      "\n",
      "Cluster 34, #4 Elements \n",
      "\t orthèse plantaire orthèse crânienne\n",
      "\t orthèses plantaires\n",
      "\t orthèse plantaire\n",
      "\t tumeurs solides extracrâniennes\n",
      "\n",
      "Cluster 35, #4 Elements \n",
      "\t sévérité infection\n",
      "\t documentation infections\n",
      "\t prévention des infections transmissibles\n",
      "\t méningite bactérienne\n",
      "\n",
      "Cluster 36, #4 Elements \n",
      "\t service est offert\n",
      "\t programmes sont offerts\n",
      "\t service est offert secteur\n",
      "\t services sont offerts dans les locaux\n",
      "\n",
      "Cluster 37, #4 Elements \n",
      "\t plaques (sep)\n",
      "\t canada (irsc)\n",
      "\t ligne (gap)\n",
      "\t msss conception\n",
      "\n",
      "Cluster 38, #4 Elements \n",
      "\t hôte immunosupprimé\n",
      "\t usage optimal des immunoglobulines\n",
      "\t virus de l'immunodéficience humaine\n",
      "\t cytomégalovirus réfractaire\n",
      "\n",
      "Cluster 39, #4 Elements \n",
      "\t recherche du centre\n",
      "\t santé publique du centre\n",
      "\t recherche du centre hospitalier\n",
      "\t cadre du programme\n",
      "\n",
      "Cluster 40, #4 Elements \n",
      "\t mesure conférences formation réseau\n",
      "\t mesure conférences formation\n",
      "\t mesure conférences\n",
      "\t évaluation du réseau\n",
      "\n",
      "Cluster 41, #3 Elements \n",
      "\t lien avec l'usage et les effets\n",
      "\t guide d'usage optimal\n",
      "\t aggravation des effets secondaires\n",
      "\n",
      "Cluster 42, #3 Elements \n",
      "\t signalements soins de fin de vie\n",
      "\t sédation palliative continue soins palliatifs\n",
      "\t mythes sur les soins palliatifs\n",
      "\n",
      "Cluster 43, #3 Elements \n",
      "\t appels projets\n",
      "\t membres de l'équipe projet\n",
      "\t volet projet dans le cadre\n",
      "\n",
      "Cluster 44, #3 Elements \n",
      "\t surveillance des maladies infectieuses chez les utilisateurs\n",
      "\t environnement jeunes maladies infectieuses\n",
      "\t prévention des maladies\n",
      "\n",
      "Cluster 45, #3 Elements \n",
      "\t aide psychologique spécialisée\n",
      "\t aide psychologique spécialisée aux immigrants\n",
      "\t soutien psychosocial\n",
      "\n",
      "Cluster 46, #3 Elements \n",
      "\t enfant par le jeu\n",
      "\t drogues jeux\n",
      "\t risque dans le jeu libre\n",
      "\n",
      "Cluster 47, #3 Elements \n",
      "\t département de pharmacie comité régional\n",
      "\t département de pharmacie comité\n",
      "\t pharmacie comité régional\n",
      "\n",
      "Cluster 48, #3 Elements \n",
      "\t condition féminine\n",
      "\t âge femmes hommes\n",
      "\t expérience citoyenne\n",
      "\n",
      "Cluster 49, #3 Elements \n",
      "\t hôpital horaire imagerie\n",
      "\t chirurgies imagerie\n",
      "\t services services médicaux imagerie\n",
      "\n",
      "Cluster 50, #3 Elements \n",
      "\t évaluation intrarosa\n",
      "\t évaluation intrarosa prasterone\n",
      "\t demande en cours d'évaluation intrarosa prasterone\n",
      "\n",
      "Cluster 51, #3 Elements \n",
      "\t symptômes vasomoteurs modérés ou graves des patientes\n",
      "\t traitement des symptômes vasomoteurs modérés\n",
      "\t knight traitement des symptômes vasomoteurs\n",
      "\n",
      "Cluster 52, #3 Elements \n",
      "\t modification de la ventilation\n",
      "\t qualité de l'air en milieu intérieur\n",
      "\t pollution de l'air extérieur\n",
      "\n",
      "Cluster 53, #3 Elements \n",
      "\t nom du fabricant indication\n",
      "\t sang nom du fabricant\n",
      "\t fabricant indication type\n",
      "\n",
      "Cluster 54, #3 Elements \n",
      "\t douleur chronique diffuse\n",
      "\t néphropathie chronique\n",
      "\t volet maladies chroniques traité\n",
      "\n",
      "Cluster 55, #3 Elements \n",
      "\t pré-ac en attente\n",
      "\t âge pré-ac\n",
      "\t pss en attente\n",
      "\n",
      "Cluster 56, #3 Elements \n",
      "\t institut universitaire\n",
      "\t recherche de l'institut universitaire\n",
      "\t connaissances théoriques\n",
      "\n",
      "Cluster 57, #3 Elements \n",
      "\t pêche sportive\n",
      "\t pratique d'activités physiques\n",
      "\t limitations physiques\n",
      "\n",
      "Cluster 58, #3 Elements \n",
      "\t mise en oeuvre de la méthode\n",
      "\t élaboration et mise en oeuvre\n",
      "\t planification le déroulement\n",
      "\n",
      "Cluster 59, #3 Elements \n",
      "\t guichet d'accès di-tsa-dp\n",
      "\t services pour tous accès\n",
      "\t langue anglaise guichet d'accès bilingue\n",
      "\n",
      "Cluster 60, #3 Elements \n",
      "\t vih (pvvih)\n",
      "\t hépatite c (vhc)\n",
      "\t plancher pelvien\n",
      "\n",
      "Cluster 61, #3 Elements \n",
      "\t prélèvements contraception suivi\n",
      "\t prélèvements contraception\n",
      "\t visites de suivi post-traitements\n",
      "\n",
      "Cluster 62, #3 Elements \n",
      "\t produit biosimilaire\n",
      "\t médicaments biosimilaires\n",
      "\t médicaments biosimilaires évaluation d'une demande\n",
      "\n",
      "Cluster 63, #3 Elements \n",
      "\t adoption agrandissement aînés\n",
      "\t adoption agrandissement\n",
      "\t activité administratif adoption agrandissement\n",
      "\n",
      "Cluster 64, #3 Elements \n",
      "\t purpura thrombocytopénique acquis\n",
      "\t traitement du purpura\n",
      "\t fresenius traitement de la thrombose veineuse\n",
      "\n",
      "Cluster 65, #2 Elements \n",
      "\t trouble de développement\n",
      "\t recherche et développement\n",
      "\n",
      "Cluster 66, #2 Elements \n",
      "\t nypozi filgrastim tanvex produit\n",
      "\t évaluation nypozi filgrastim\n",
      "\n",
      "Cluster 67, #2 Elements \n",
      "\t jeunes en difficulté gestionnaire\n",
      "\t services sociaux gestionnaire\n",
      "\n",
      "Cluster 68, #2 Elements \n",
      "\t secrétariat à la condition\n",
      "\t mantra inscription -avec conditions\n",
      "\n",
      "Cluster 69, #2 Elements \n",
      "\t usagers (cu)\n",
      "\t décès (cumulatif)\n",
      "\n",
      "Cluster 70, #2 Elements \n",
      "\t évaluation saphnelo anifrolumab azc traitement\n",
      "\t cours d'évaluation saphnelo anifrolumab azc\n",
      "\n",
      "Cluster 71, #2 Elements \n",
      "\t halobétasol bauschhealth soulagement des dermatoses\n",
      "\t évaluation bryhali halobétasol bauschhealth\n",
      "\n",
      "Cluster 72, #2 Elements \n",
      "\t développement de la coordination webinaire bpue\n",
      "\t moyens de communication électroniques webinaire\n",
      "\n",
      "Cluster 73, #2 Elements \n",
      "\t patients adultes atteints d'un mélanome uvéal métastatique\n",
      "\t mélanome de stade iib\n",
      "\n",
      "Cluster 74, #2 Elements \n",
      "\t chemin de la côte\n",
      "\t population de la côte-nord\n",
      "\n",
      "Cluster 75, #2 Elements \n",
      "\t recherche du chum (crchum)\n",
      "\t masques pour le personnel du chum\n",
      "\n",
      "Cluster 76, #2 Elements \n",
      "\t suppléance fresenius agent\n",
      "\t fresenius agent de suppléance\n",
      "\n",
      "Cluster 77, #2 Elements \n",
      "\t documentation sols contaminés\n",
      "\t formation références terrains\n",
      "\n",
      "Cluster 78, #2 Elements \n",
      "\t mutation d'un gène\n",
      "\t code génétique\n",
      "\n",
      "Cluster 79, #2 Elements \n",
      "\t ventilation établissements sociosanitaires\n",
      "\t urgence services sociaux\n",
      "\n",
      "Cluster 80, #2 Elements \n",
      "\t solution d'acétylcystéine acétylcystéine\n",
      "\t acétylcystéine acétylcystéine sandoz\n",
      "\n",
      "Cluster 81, #2 Elements \n",
      "\t soins prolongés\n",
      "\t formations continues\n",
      "\n",
      "Cluster 82, #2 Elements \n",
      "\t fabricants avis aux fabricants échéancier\n",
      "\t échéancier prévu\n",
      "\n",
      "Cluster 83, #2 Elements \n",
      "\t côte-nord à l'intention des milieux de travail\n",
      "\t santé publique de la côte-nord à l'intention\n",
      "\n",
      "Cluster 84, #2 Elements \n",
      "\t injection de maléate d'ergonovine\n",
      "\t maléate d'ergonovine\n",
      "\n",
      "Cluster 85, #2 Elements \n",
      "\t traitement des adultes atteints\n",
      "\t perspective d'adultes présentant\n",
      "\n",
      "Cluster 86, #2 Elements \n",
      "\t évaluation tecentriq atézolizumab roche\n",
      "\t évaluation nucala mépolizumab gsk\n",
      "\n",
      "Cluster 87, #2 Elements \n",
      "\t traitement du rhumatisme psoriasique actif\n",
      "\t traitement du rhumatisme\n",
      "\n",
      "Cluster 88, #2 Elements \n",
      "\t emulsion lipidique ethanol flumazénil\n",
      "\t ethanol flumazénil fomépizole\n",
      "\n",
      "Cluster 89, #2 Elements \n",
      "\t ravulizumab alexion\n",
      "\t cours d'évaluation ultomiris ravulizumab\n",
      "\n",
      "Cluster 90, #2 Elements \n",
      "\t médecins des territoires\n",
      "\t montérégie territoire\n",
      "\n",
      "Cluster 91, #2 Elements \n",
      "\t surveillance itss chlamydia\n",
      "\t chlamydia et gonorrhoeae\n",
      "\n",
      "Cluster 92, #2 Elements \n",
      "\t vaccination contre l'influenza et le pneumocoque\n",
      "\t vaccination contre l'influenza\n",
      "\n",
      "Cluster 93, #2 Elements \n",
      "\t évaluation scientifique par l'inesss\n",
      "\t conseillère scientifique\n",
      "\n",
      "Cluster 94, #2 Elements \n",
      "\t travailleurs aux facteurs\n",
      "\t exposition des travailleurs aux facteurs\n",
      "\n",
      "Cluster 95, #2 Elements \n",
      "\t nombre quotidien de décès liés\n",
      "\t taux de mortalité\n",
      "\n",
      "Cluster 96, #2 Elements \n",
      "\t table de concertation\n",
      "\t projet collaboratif\n",
      "\n",
      "Cluster 97, #2 Elements \n",
      "\t aides au contrôle\n",
      "\t hiérarchie des mesures de contrôle\n",
      "\n",
      "Cluster 98, #2 Elements \n",
      "\t implantation cochléaire\n",
      "\t hyperacousie implant cochléaire\n",
      "\n",
      "Cluster 99, #2 Elements \n",
      "\t diseases society of america\n",
      "\t diseases society\n",
      "\n",
      "Cluster 100, #2 Elements \n",
      "\t modèles animaux\n",
      "\t sécurité de l'animal\n",
      "\n",
      "Cluster 101, #2 Elements \n",
      "\t épisodes hémorragiques chez les enfants\n",
      "\t prévention des épisodes hémorragiques\n",
      "\n",
      "Cluster 102, #2 Elements \n",
      "\t prévention des problèmes reliés\n",
      "\t cas de problèmes\n",
      "\n",
      "Cluster 103, #2 Elements \n",
      "\t documentation gestion des produits immunisants\n",
      "\t gestion des produits immunisants\n",
      "\n",
      "Cluster 104, #2 Elements \n",
      "\t regard sur la pandémie\n",
      "\t période de pandémie\n",
      "\n",
      "Cluster 105, #2 Elements \n",
      "\t mesure de la glycémie\n",
      "\t mesure de la glycémie recommandation\n",
      "\n",
      "Cluster 106, #2 Elements \n",
      "\t taro-lenalidomide lénalidomide taro inscription -avec\n",
      "\t taro-lenalidomide lénalidomide taro\n",
      "\n",
      "Cluster 107, #2 Elements \n",
      "\t mammographie monitorage ambulatoire\n",
      "\t mammographie monitorage\n",
      "\n",
      "Cluster 108, #2 Elements \n",
      "\t consultation téléphonique\n",
      "\t ligne téléphonique\n",
      "\n",
      "Cluster 109, #2 Elements \n",
      "\t réseau et ministériel\n",
      "\t ministères et organismes secrétariat\n",
      "\n",
      "Cluster 110, #2 Elements \n",
      "\t coronavirus du japon au québec\n",
      "\t contrat coronavirus\n",
      "\n",
      "Cluster 111, #2 Elements \n",
      "\t santé montréal accès aux espaces\n",
      "\t université de montréal titulaire chaire\n",
      "\n",
      "Cluster 112, #2 Elements \n",
      "\t construction contrat\n",
      "\t planification d'une collaboration ou d'un partenariatavec\n",
      "\n",
      "Cluster 113, #2 Elements \n",
      "\t québec midis-maillages chercheurs et cliniciens\n",
      "\t midis-maillages chercheurs et cliniciens\n",
      "\n",
      "Cluster 114, #2 Elements \n",
      "\t interventions documentation surdoses\n",
      "\t surdoses prévention des surdoses\n",
      "\n",
      "Cluster 115, #2 Elements \n",
      "\t famille d'aj athieu\n",
      "\t famille d'aj athieu sheu\n",
      "\n",
      "Cluster 116, #2 Elements \n",
      "\t masque de procédure\n",
      "\t centres administratifs\n",
      "\n",
      "Cluster 117, #2 Elements \n",
      "\t élèves des écoles\n",
      "\t année du primaire\n",
      "\n",
      "Cluster 118, #2 Elements \n",
      "\t réseau de distribution alimentaire inadéquat\n",
      "\t réseau de distribution alimentaire\n",
      "\n",
      "Cluster 119, #2 Elements \n",
      "\t poids population\n",
      "\t poids population pratiques\n",
      "\n",
      "Cluster 120, #2 Elements \n",
      "\t isolement pour connaître les consignes d'isolement\n",
      "\t chirurgie consignes\n",
      "Total Unclustered Keywords:  416\n"
     ]
    },
    {
     "name": "stderr",
     "output_type": "stream",
     "text": [
      "Batches: 100%|██████████| 2/2 [00:14<00:00,  7.29s/it]\n"
     ]
    },
    {
     "name": "stdout",
     "output_type": "stream",
     "text": [
      "\n",
      "Cluster 1, #7 Elements \n",
      "\t transport des usagers cliniques médicales prise\n",
      "\t usagers cliniques médicales\n",
      "\t présentation des manifestations cliniques\n",
      "\t recrutement de médecins\n",
      "\t douleur chronique pratiques cliniques\n",
      "\t effectifs médicaux (pem)\n",
      "\t services de type clinique\n",
      "\n",
      "Cluster 2, #6 Elements \n",
      "\t prélèvements santé mentale\n",
      "\t santé mentale et psychiatrie\n",
      "\t soins de collaboration en santé mentale\n",
      "\t soins infirmiers en santé mentale\n",
      "\t institut national de psychiatrie\n",
      "\t santé mentale et dépendance\n",
      "\n",
      "Cluster 3, #5 Elements \n",
      "\t milieu scolaire spécialisé réadaptation\n",
      "\t services spécialisés de réadaptation\n",
      "\t centre de réadaptation pour les jeunes en difficulté\n",
      "\t centre de réadaptation pour les jeunes\n",
      "\t naissances urgence réadaptation photos\n",
      "\n",
      "Cluster 4, #4 Elements \n",
      "\t gestion des risques\n",
      "\t traitements personnes à risques\n",
      "\t facteurs de risques associés aux lésions\n",
      "\t réduction du risque de conduite\n",
      "\n",
      "Cluster 5, #4 Elements \n",
      "\t pré-ac en attente d'évaluation dojolvi triheptanoïne\n",
      "\t demande en attente d'évaluation retevmo selpercatinib\n",
      "\t pré-ac en cours d'évaluation hulio\n",
      "\t cours d'évaluation osphena\n",
      "\n",
      "Cluster 6, #4 Elements \n",
      "\t domaine de données données\n",
      "\t recherche de données\n",
      "\t évolution des données de manière\n",
      "\t produits de connaissance\n",
      "\n",
      "Cluster 7, #4 Elements \n",
      "\t inscription décision\n",
      "\t prise de décision\n",
      "\t enfant décide\n",
      "\t médecin juge\n",
      "\n",
      "Cluster 8, #3 Elements \n",
      "\t amélioration continue de la qualité\n",
      "\t amélioration continue des pratiques\n",
      "\t services de qualité\n",
      "\n",
      "Cluster 9, #3 Elements \n",
      "\t ressource de type familial\n",
      "\t médecins de famille\n",
      "\t membre de la famille\n",
      "\n",
      "Cluster 10, #2 Elements \n",
      "\t louiseville centre multiservices\n",
      "\t louiseville centre multiservices de santé\n",
      "\n",
      "Cluster 11, #2 Elements \n",
      "\t programmes et interventions documentation\n",
      "\t interventions outils documentation chaleur\n",
      "\n",
      "Cluster 12, #2 Elements \n",
      "\t promotion recherche\n",
      "\t promotion recherche soins\n",
      "\n",
      "Cluster 13, #2 Elements \n",
      "\t risques psychosociaux du travail\n",
      "\t santé publique en santé au travail\n",
      "\n",
      "Cluster 14, #2 Elements \n",
      "\t durée du programme\n",
      "\t mesure programme\n",
      "\n",
      "Cluster 15, #2 Elements \n",
      "\t services hospitalisation à venir\n",
      "\t sortie de l'hôpital\n",
      "\n",
      "Cluster 16, #2 Elements \n",
      "\t contrôle de l'environnement et à la communication\n",
      "\t ministère de l'environnement et de la lutte\n",
      "\n",
      "Cluster 17, #2 Elements \n",
      "\t aide-mémoire pour la planification d'une consultation citoyenne\n",
      "\t conditions critiques de la participation citoyenne\n",
      "\n",
      "Cluster 18, #2 Elements \n",
      "\t présentation indications contre-indications précautions\n",
      "\t indications contre-indications précautions\n",
      "\n",
      "Cluster 19, #2 Elements \n",
      "\t phmscience inscription -avec\n",
      "\t sivem inscription\n",
      "\n",
      "Cluster 20, #2 Elements \n",
      "\t danger information générale statistiques programmes\n",
      "\t communautés locales information générale statistiques\n",
      "\n",
      "Cluster 21, #2 Elements \n",
      "\t conférence canadienne des soins\n",
      "\t conférence canadienne des soins de collaboration en santé\n",
      "\n",
      "Cluster 22, #2 Elements \n",
      "\t congés de maladie\n",
      "\t congé de maladie\n",
      "Total Unclustered Keywords:  350\n"
     ]
    },
    {
     "name": "stderr",
     "output_type": "stream",
     "text": [
      "Batches: 100%|██████████| 2/2 [00:13<00:00,  6.63s/it]"
     ]
    },
    {
     "name": "stdout",
     "output_type": "stream",
     "text": [
      "Total Unclustered Keywords:  350\n"
     ]
    },
    {
     "name": "stderr",
     "output_type": "stream",
     "text": [
      "\n"
     ]
    }
   ],
   "source": [
    "############################\n",
    "# Choix des paramètres\n",
    "\n",
    "cluster_accuracy = 50\n",
    "min_cluster_size = 2\n",
    "\n",
    "############################\n",
    "\n",
    "cluster_accuracy = cluster_accuracy / 100\n",
    "cluster = True\n",
    "while cluster:\n",
    "    corpus_sentences = list(corpus_set)\n",
    "    check_len = len(corpus_sentences)\n",
    "\n",
    "    corpus_embeddings = model.encode(corpus_sentences, batch_size=256, show_progress_bar=True, convert_to_tensor=True)\n",
    "    clusters = util.community_detection(corpus_embeddings, min_community_size= min_cluster_size, threshold=cluster_accuracy, init_max_size=len(corpus_embeddings))\n",
    "\n",
    "    for keyword, cluster in enumerate(clusters):\n",
    "        print(\"\\nCluster {}, #{} Elements \".format(keyword + 1, len(cluster)))\n",
    "\n",
    "        for sentence_id in cluster[0:]:\n",
    "            print(\"\\t\", corpus_sentences[sentence_id])\n",
    "            corpus_sentences_list.append(corpus_sentences[sentence_id])\n",
    "            cluster_name_list.append(\"Cluster {}, #{} Elements \".format(keyword + 1, len(cluster)))\n",
    "\n",
    "    df_new = pd.DataFrame(None)\n",
    "    df_new['Cluster Name'] = cluster_name_list\n",
    "    df_new[\"Terme\"] = corpus_sentences_list\n",
    "\n",
    "    df_all.append(df_new)\n",
    "    have = set(df_new[\"Terme\"])\n",
    "\n",
    "    corpus_set = corpus_set_all - have\n",
    "    remaining = len(corpus_set)\n",
    "    print(\"Total Unclustered Keywords: \", remaining)\n",
    "    if check_len == remaining:\n",
    "        break"
   ]
  },
  {
   "cell_type": "code",
   "execution_count": 10,
   "metadata": {},
   "outputs": [],
   "source": [
    "# make a new dataframe from the list of dataframe and merge back into the orginal df\n",
    "df_new = pd.concat(df_all)\n",
    "df = df.merge(df_new.drop_duplicates('Terme'), how='left', on=\"Terme\")\n",
    "\n",
    "df['Cluster Name'] = df['Cluster Name'].fillna(\"zzz_no_cluster\")"
   ]
  },
  {
   "cell_type": "code",
   "execution_count": 11,
   "metadata": {},
   "outputs": [],
   "source": [
    "# Attribuer un label significatif aux clusters \n",
    "# Deux options :\n",
    "#   1 - S'il y a un token en commun  entre les termes d'un même clusters, le clusters sera désigné par celui-ci\n",
    "#   2 - Sinon, on prend le terme dont la somme TF + DF est la plus élevée \n",
    "# rename the clusters to the shortest keyword in the cluster\n",
    "\n",
    "labels = set(df['Cluster Name'].tolist())\n",
    "desired_labels = {x : None for x in labels} # (on initialise à None)\n",
    "for label in labels:\n",
    "    d = df[df['Cluster Name'] == label]['tokens'].tolist()\n",
    "    new_label = list(set.intersection(*map(set,d)))\n",
    "    try:\n",
    "        desired_labels[label] = new_label[0]\n",
    "    except:\n",
    "            cluster = df[df[\"Cluster Name\"] == label]\n",
    "            max_freq = cluster['TF + DF'].max()\n",
    "            new_label = cluster[cluster['TF + DF'] == max_freq]['Terme'].values\n",
    "            desired_labels[label] = new_label[0]\n",
    "\n",
    "df['Cluster'] = df['Cluster Name'].map(desired_labels)"
   ]
  },
  {
   "cell_type": "code",
   "execution_count": 12,
   "metadata": {},
   "outputs": [],
   "source": [
    "# move the cluster and keyword columns to the front\n",
    "col = df.pop(\"Terme\")\n",
    "df.insert(0, col.name, col)\n",
    "\n",
    "col = df.pop('Cluster')\n",
    "df.insert(0, col.name, col)\n",
    "\n",
    "df.sort_values([\"Cluster\", \"Terme\"], ascending=[True, True], inplace=True)"
   ]
  },
  {
   "cell_type": "code",
   "execution_count": 13,
   "metadata": {},
   "outputs": [
    {
     "data": {
      "text/html": [
       "<div>\n",
       "<style scoped>\n",
       "    .dataframe tbody tr th:only-of-type {\n",
       "        vertical-align: middle;\n",
       "    }\n",
       "\n",
       "    .dataframe tbody tr th {\n",
       "        vertical-align: top;\n",
       "    }\n",
       "\n",
       "    .dataframe thead th {\n",
       "        text-align: right;\n",
       "    }\n",
       "</style>\n",
       "<table border=\"1\" class=\"dataframe\">\n",
       "  <thead>\n",
       "    <tr style=\"text-align: right;\">\n",
       "      <th></th>\n",
       "      <th>Cluster</th>\n",
       "      <th>Terme</th>\n",
       "      <th>Corpora</th>\n",
       "      <th>Structure syntaxique</th>\n",
       "      <th>Forme lemmatisée</th>\n",
       "      <th>isMeSHTerm</th>\n",
       "      <th>MeSHID</th>\n",
       "      <th>MesH_prefLabel_fr</th>\n",
       "      <th>MesH_prefLabel_en</th>\n",
       "      <th>isTaxoTerm</th>\n",
       "      <th>Log Likelihood</th>\n",
       "      <th>TF</th>\n",
       "      <th>DF</th>\n",
       "      <th>TF*IDF</th>\n",
       "      <th>OKapiBM25</th>\n",
       "      <th>TF + DF</th>\n",
       "      <th>tokens</th>\n",
       "      <th>Cluster Name</th>\n",
       "    </tr>\n",
       "  </thead>\n",
       "  <tbody>\n",
       "    <tr>\n",
       "      <th>973</th>\n",
       "      <td>accès</td>\n",
       "      <td>guichet d'accès di-tsa-dp</td>\n",
       "      <td>['ciusss_centresud', 'ciusss_ouestmtl', 'sante...</td>\n",
       "      <td>NOM PRP NOM NOM</td>\n",
       "      <td>guichet de accès di-tsa-dp</td>\n",
       "      <td>False</td>\n",
       "      <td>NaN</td>\n",
       "      <td>NaN</td>\n",
       "      <td>NaN</td>\n",
       "      <td>False</td>\n",
       "      <td>1368.003664</td>\n",
       "      <td>118</td>\n",
       "      <td>57</td>\n",
       "      <td>0.442942</td>\n",
       "      <td>10.176053</td>\n",
       "      <td>175</td>\n",
       "      <td>[accès, di-tsa-dp, guichet]</td>\n",
       "      <td>Cluster 59, #3 Elements</td>\n",
       "    </tr>\n",
       "    <tr>\n",
       "      <th>181</th>\n",
       "      <td>accès</td>\n",
       "      <td>langue anglaise guichet d'accès bilingue</td>\n",
       "      <td>['ciusss_cn']</td>\n",
       "      <td>NOM ADJ NOM PRP NOM ADJ</td>\n",
       "      <td>langue anglais guichet de accès bilingue</td>\n",
       "      <td>False</td>\n",
       "      <td>NaN</td>\n",
       "      <td>NaN</td>\n",
       "      <td>NaN</td>\n",
       "      <td>False</td>\n",
       "      <td>-inf</td>\n",
       "      <td>139</td>\n",
       "      <td>132</td>\n",
       "      <td>0.167088</td>\n",
       "      <td>7.715851</td>\n",
       "      <td>271</td>\n",
       "      <td>[accès, anglaise, bilingue, guichet, langue]</td>\n",
       "      <td>Cluster 59, #3 Elements</td>\n",
       "    </tr>\n",
       "    <tr>\n",
       "      <th>211</th>\n",
       "      <td>accès</td>\n",
       "      <td>services pour tous accès</td>\n",
       "      <td>['santeestrie']</td>\n",
       "      <td>NOM PRP PRO:IND NOM</td>\n",
       "      <td>service pour tout accès</td>\n",
       "      <td>False</td>\n",
       "      <td>NaN</td>\n",
       "      <td>NaN</td>\n",
       "      <td>NaN</td>\n",
       "      <td>False</td>\n",
       "      <td>-inf</td>\n",
       "      <td>142</td>\n",
       "      <td>142</td>\n",
       "      <td>0.086460</td>\n",
       "      <td>3.887422</td>\n",
       "      <td>284</td>\n",
       "      <td>[accès, services]</td>\n",
       "      <td>Cluster 59, #3 Elements</td>\n",
       "    </tr>\n",
       "    <tr>\n",
       "      <th>907</th>\n",
       "      <td>acétylcystéine</td>\n",
       "      <td>acétylcystéine acétylcystéine sandoz</td>\n",
       "      <td>['inesss']</td>\n",
       "      <td>NOM NOM VER:subi</td>\n",
       "      <td>acétylcystéine acétylcystéine sandoz</td>\n",
       "      <td>False</td>\n",
       "      <td>NaN</td>\n",
       "      <td>NaN</td>\n",
       "      <td>NaN</td>\n",
       "      <td>False</td>\n",
       "      <td>661.237731</td>\n",
       "      <td>39</td>\n",
       "      <td>39</td>\n",
       "      <td>0.008728</td>\n",
       "      <td>16.715233</td>\n",
       "      <td>78</td>\n",
       "      <td>[acétylcystéine, sandoz]</td>\n",
       "      <td>Cluster 80, #2 Elements</td>\n",
       "    </tr>\n",
       "    <tr>\n",
       "      <th>139</th>\n",
       "      <td>acétylcystéine</td>\n",
       "      <td>solution d'acétylcystéine acétylcystéine</td>\n",
       "      <td>['inesss']</td>\n",
       "      <td>NOM PRP NOM NOM</td>\n",
       "      <td>solution de acétylcystéine acétylcystéine</td>\n",
       "      <td>False</td>\n",
       "      <td>NaN</td>\n",
       "      <td>NaN</td>\n",
       "      <td>NaN</td>\n",
       "      <td>False</td>\n",
       "      <td>855.821992</td>\n",
       "      <td>42</td>\n",
       "      <td>42</td>\n",
       "      <td>0.008700</td>\n",
       "      <td>17.098753</td>\n",
       "      <td>84</td>\n",
       "      <td>[acétylcystéine, solution]</td>\n",
       "      <td>Cluster 80, #2 Elements</td>\n",
       "    </tr>\n",
       "    <tr>\n",
       "      <th>...</th>\n",
       "      <td>...</td>\n",
       "      <td>...</td>\n",
       "      <td>...</td>\n",
       "      <td>...</td>\n",
       "      <td>...</td>\n",
       "      <td>...</td>\n",
       "      <td>...</td>\n",
       "      <td>...</td>\n",
       "      <td>...</td>\n",
       "      <td>...</td>\n",
       "      <td>...</td>\n",
       "      <td>...</td>\n",
       "      <td>...</td>\n",
       "      <td>...</td>\n",
       "      <td>...</td>\n",
       "      <td>...</td>\n",
       "      <td>...</td>\n",
       "      <td>...</td>\n",
       "    </tr>\n",
       "    <tr>\n",
       "      <th>541</th>\n",
       "      <td>évaluation cablivi caplacizumab</td>\n",
       "      <td>évaluation cablivi caplacizumab</td>\n",
       "      <td>['inesss']</td>\n",
       "      <td>NOM ADJ NOM</td>\n",
       "      <td>évaluation cablivi caplacizumab</td>\n",
       "      <td>False</td>\n",
       "      <td>NaN</td>\n",
       "      <td>NaN</td>\n",
       "      <td>NaN</td>\n",
       "      <td>False</td>\n",
       "      <td>1468.190986</td>\n",
       "      <td>66</td>\n",
       "      <td>66</td>\n",
       "      <td>0.007977</td>\n",
       "      <td>16.567989</td>\n",
       "      <td>132</td>\n",
       "      <td>[cablivi, caplacizumab, évaluation]</td>\n",
       "      <td>Cluster 26, #5 Elements</td>\n",
       "    </tr>\n",
       "    <tr>\n",
       "      <th>904</th>\n",
       "      <td>évaluation du réseau</td>\n",
       "      <td>mesure conférences</td>\n",
       "      <td>['ciusss_cn']</td>\n",
       "      <td>NOM NOM</td>\n",
       "      <td>mesure conférence</td>\n",
       "      <td>False</td>\n",
       "      <td>NaN</td>\n",
       "      <td>NaN</td>\n",
       "      <td>NaN</td>\n",
       "      <td>False</td>\n",
       "      <td>1041.571671</td>\n",
       "      <td>94</td>\n",
       "      <td>94</td>\n",
       "      <td>0.243417</td>\n",
       "      <td>11.820003</td>\n",
       "      <td>188</td>\n",
       "      <td>[conférences, mesure]</td>\n",
       "      <td>Cluster 40, #4 Elements</td>\n",
       "    </tr>\n",
       "    <tr>\n",
       "      <th>266</th>\n",
       "      <td>évaluation du réseau</td>\n",
       "      <td>mesure conférences formation</td>\n",
       "      <td>['ciusss_cn']</td>\n",
       "      <td>NOM NOM NOM</td>\n",
       "      <td>mesure conférence formation</td>\n",
       "      <td>False</td>\n",
       "      <td>NaN</td>\n",
       "      <td>NaN</td>\n",
       "      <td>NaN</td>\n",
       "      <td>False</td>\n",
       "      <td>1137.889996</td>\n",
       "      <td>82</td>\n",
       "      <td>82</td>\n",
       "      <td>0.250510</td>\n",
       "      <td>18.824362</td>\n",
       "      <td>164</td>\n",
       "      <td>[conférences, formation, mesure]</td>\n",
       "      <td>Cluster 40, #4 Elements</td>\n",
       "    </tr>\n",
       "    <tr>\n",
       "      <th>194</th>\n",
       "      <td>évaluation du réseau</td>\n",
       "      <td>mesure conférences formation réseau</td>\n",
       "      <td>['ciusss_cn']</td>\n",
       "      <td>NOM NOM NOM NOM</td>\n",
       "      <td>mesure conférence formation réseau</td>\n",
       "      <td>False</td>\n",
       "      <td>NaN</td>\n",
       "      <td>NaN</td>\n",
       "      <td>NaN</td>\n",
       "      <td>False</td>\n",
       "      <td>1237.009574</td>\n",
       "      <td>82</td>\n",
       "      <td>82</td>\n",
       "      <td>0.250510</td>\n",
       "      <td>22.784374</td>\n",
       "      <td>164</td>\n",
       "      <td>[conférences, formation, mesure, réseau]</td>\n",
       "      <td>Cluster 40, #4 Elements</td>\n",
       "    </tr>\n",
       "    <tr>\n",
       "      <th>538</th>\n",
       "      <td>évaluation du réseau</td>\n",
       "      <td>évaluation du réseau</td>\n",
       "      <td>['inesss']</td>\n",
       "      <td>NOM PRP:det NOM</td>\n",
       "      <td>évaluation du réseau</td>\n",
       "      <td>False</td>\n",
       "      <td>NaN</td>\n",
       "      <td>NaN</td>\n",
       "      <td>NaN</td>\n",
       "      <td>False</td>\n",
       "      <td>1111.033400</td>\n",
       "      <td>95</td>\n",
       "      <td>95</td>\n",
       "      <td>0.189403</td>\n",
       "      <td>19.755324</td>\n",
       "      <td>190</td>\n",
       "      <td>[réseau, évaluation]</td>\n",
       "      <td>Cluster 40, #4 Elements</td>\n",
       "    </tr>\n",
       "  </tbody>\n",
       "</table>\n",
       "<p>1000 rows × 18 columns</p>\n",
       "</div>"
      ],
      "text/plain": [
       "                             Cluster  \\\n",
       "973                            accès   \n",
       "181                            accès   \n",
       "211                            accès   \n",
       "907                   acétylcystéine   \n",
       "139                   acétylcystéine   \n",
       "..                               ...   \n",
       "541  évaluation cablivi caplacizumab   \n",
       "904             évaluation du réseau   \n",
       "266             évaluation du réseau   \n",
       "194             évaluation du réseau   \n",
       "538             évaluation du réseau   \n",
       "\n",
       "                                        Terme  \\\n",
       "973                 guichet d'accès di-tsa-dp   \n",
       "181  langue anglaise guichet d'accès bilingue   \n",
       "211                  services pour tous accès   \n",
       "907      acétylcystéine acétylcystéine sandoz   \n",
       "139  solution d'acétylcystéine acétylcystéine   \n",
       "..                                        ...   \n",
       "541           évaluation cablivi caplacizumab   \n",
       "904                        mesure conférences   \n",
       "266              mesure conférences formation   \n",
       "194       mesure conférences formation réseau   \n",
       "538                      évaluation du réseau   \n",
       "\n",
       "                                               Corpora  \\\n",
       "973  ['ciusss_centresud', 'ciusss_ouestmtl', 'sante...   \n",
       "181                                      ['ciusss_cn']   \n",
       "211                                    ['santeestrie']   \n",
       "907                                         ['inesss']   \n",
       "139                                         ['inesss']   \n",
       "..                                                 ...   \n",
       "541                                         ['inesss']   \n",
       "904                                      ['ciusss_cn']   \n",
       "266                                      ['ciusss_cn']   \n",
       "194                                      ['ciusss_cn']   \n",
       "538                                         ['inesss']   \n",
       "\n",
       "        Structure syntaxique                           Forme lemmatisée  \\\n",
       "973          NOM PRP NOM NOM                 guichet de accès di-tsa-dp   \n",
       "181  NOM ADJ NOM PRP NOM ADJ   langue anglais guichet de accès bilingue   \n",
       "211      NOM PRP PRO:IND NOM                    service pour tout accès   \n",
       "907         NOM NOM VER:subi       acétylcystéine acétylcystéine sandoz   \n",
       "139          NOM PRP NOM NOM  solution de acétylcystéine acétylcystéine   \n",
       "..                       ...                                        ...   \n",
       "541              NOM ADJ NOM            évaluation cablivi caplacizumab   \n",
       "904                  NOM NOM                          mesure conférence   \n",
       "266              NOM NOM NOM                mesure conférence formation   \n",
       "194          NOM NOM NOM NOM         mesure conférence formation réseau   \n",
       "538          NOM PRP:det NOM                       évaluation du réseau   \n",
       "\n",
       "     isMeSHTerm MeSHID MesH_prefLabel_fr MesH_prefLabel_en  isTaxoTerm  \\\n",
       "973       False    NaN               NaN               NaN       False   \n",
       "181       False    NaN               NaN               NaN       False   \n",
       "211       False    NaN               NaN               NaN       False   \n",
       "907       False    NaN               NaN               NaN       False   \n",
       "139       False    NaN               NaN               NaN       False   \n",
       "..          ...    ...               ...               ...         ...   \n",
       "541       False    NaN               NaN               NaN       False   \n",
       "904       False    NaN               NaN               NaN       False   \n",
       "266       False    NaN               NaN               NaN       False   \n",
       "194       False    NaN               NaN               NaN       False   \n",
       "538       False    NaN               NaN               NaN       False   \n",
       "\n",
       "     Log Likelihood   TF   DF    TF*IDF  OKapiBM25  TF + DF  \\\n",
       "973     1368.003664  118   57  0.442942  10.176053      175   \n",
       "181            -inf  139  132  0.167088   7.715851      271   \n",
       "211            -inf  142  142  0.086460   3.887422      284   \n",
       "907      661.237731   39   39  0.008728  16.715233       78   \n",
       "139      855.821992   42   42  0.008700  17.098753       84   \n",
       "..              ...  ...  ...       ...        ...      ...   \n",
       "541     1468.190986   66   66  0.007977  16.567989      132   \n",
       "904     1041.571671   94   94  0.243417  11.820003      188   \n",
       "266     1137.889996   82   82  0.250510  18.824362      164   \n",
       "194     1237.009574   82   82  0.250510  22.784374      164   \n",
       "538     1111.033400   95   95  0.189403  19.755324      190   \n",
       "\n",
       "                                           tokens              Cluster Name  \n",
       "973                   [accès, di-tsa-dp, guichet]  Cluster 59, #3 Elements   \n",
       "181  [accès, anglaise, bilingue, guichet, langue]  Cluster 59, #3 Elements   \n",
       "211                             [accès, services]  Cluster 59, #3 Elements   \n",
       "907                      [acétylcystéine, sandoz]  Cluster 80, #2 Elements   \n",
       "139                    [acétylcystéine, solution]  Cluster 80, #2 Elements   \n",
       "..                                            ...                       ...  \n",
       "541           [cablivi, caplacizumab, évaluation]  Cluster 26, #5 Elements   \n",
       "904                         [conférences, mesure]  Cluster 40, #4 Elements   \n",
       "266              [conférences, formation, mesure]  Cluster 40, #4 Elements   \n",
       "194      [conférences, formation, mesure, réseau]  Cluster 40, #4 Elements   \n",
       "538                          [réseau, évaluation]  Cluster 40, #4 Elements   \n",
       "\n",
       "[1000 rows x 18 columns]"
      ]
     },
     "execution_count": 13,
     "metadata": {},
     "output_type": "execute_result"
    }
   ],
   "source": [
    "df"
   ]
  },
  {
   "cell_type": "code",
   "execution_count": 14,
   "metadata": {},
   "outputs": [],
   "source": [
    "file_path = '../06-clustering/clusters_BERT_communityDetection_sample.csv'\n",
    "df.drop(columns=['Cluster Name', 'tokens']).to_csv(file_path, index=False)"
   ]
  },
  {
   "cell_type": "code",
   "execution_count": 15,
   "metadata": {},
   "outputs": [
    {
     "name": "stdout",
     "output_type": "stream",
     "text": [
      "65.0 % of rows clustered successfully!\n"
     ]
    }
   ],
   "source": [
    "uncluster_percent = (remaining / len(df)) * 100\n",
    "clustered_percent = 100 - uncluster_percent\n",
    "print(clustered_percent,\"% of rows clustered successfully!\")"
   ]
  },
  {
   "cell_type": "markdown",
   "metadata": {},
   "source": [
    "## **Visualisation**"
   ]
  },
  {
   "cell_type": "code",
   "execution_count": 16,
   "metadata": {},
   "outputs": [],
   "source": [
    "# On va d'abord choisir les clusters qu'on veut visualiser (ajouter une colonne = Visualize Y/N)\n",
    "clusters = pd.DataFrame(set(df['Cluster'].tolist()), columns=['Cluster'])\n",
    "\n",
    "file_path = '../06-clustering/clusters_to_visualize.csv'\n",
    "clusters.to_csv(file_path)"
   ]
  },
  {
   "cell_type": "markdown",
   "metadata": {},
   "source": [
    "__________________________________________________________________________________________\n",
    "Étape d'indexation manuelle\n",
    "__________________________________________________________________________________________"
   ]
  },
  {
   "cell_type": "code",
   "execution_count": 18,
   "metadata": {},
   "outputs": [
    {
     "data": {
      "text/plain": [
       "['covid-19',\n",
       " 'influenza',\n",
       " 'surdoses',\n",
       " 'cancer',\n",
       " 'institut national de santé',\n",
       " 'imagerie',\n",
       " 'santé mentale et dépendance',\n",
       " 'centre intégré de santé et de services sociaux',\n",
       " 'rétention urinaire',\n",
       " 'gouvernement ministères',\n",
       " 'imagerie médicale',\n",
       " 'prévention des infections transmissibles',\n",
       " 'institut universitaire',\n",
       " \"virus de l'immunodéficience humaine\",\n",
       " 'consommation de substances psychoactives',\n",
       " 'réadaptation en déficience physique',\n",
       " 'échographie cardiaque']"
      ]
     },
     "execution_count": 18,
     "metadata": {},
     "output_type": "execute_result"
    }
   ],
   "source": [
    "with open(file_path, encoding = 'utf-8') as f:\n",
    "    clusters = pd.read_csv(f, sep=';')\n",
    "    clusters = clusters[clusters['Visualize (Y/N)'] == 'Y']['Cluster'].tolist()\n",
    "\n",
    "clusters"
   ]
  },
  {
   "cell_type": "markdown",
   "metadata": {},
   "source": [
    "https://inside-machinelearning.com/en/efficient-sentences-embedding-visualization-tsne/"
   ]
  },
  {
   "cell_type": "code",
   "execution_count": 19,
   "metadata": {},
   "outputs": [
    {
     "data": {
      "text/html": [
       "<div>\n",
       "<style scoped>\n",
       "    .dataframe tbody tr th:only-of-type {\n",
       "        vertical-align: middle;\n",
       "    }\n",
       "\n",
       "    .dataframe tbody tr th {\n",
       "        vertical-align: top;\n",
       "    }\n",
       "\n",
       "    .dataframe thead th {\n",
       "        text-align: right;\n",
       "    }\n",
       "</style>\n",
       "<table border=\"1\" class=\"dataframe\">\n",
       "  <thead>\n",
       "    <tr style=\"text-align: right;\">\n",
       "      <th></th>\n",
       "      <th>Cluster</th>\n",
       "      <th>Terme</th>\n",
       "      <th>Corpora</th>\n",
       "      <th>Structure syntaxique</th>\n",
       "      <th>Forme lemmatisée</th>\n",
       "      <th>isMeSHTerm</th>\n",
       "      <th>MeSHID</th>\n",
       "      <th>MesH_prefLabel_fr</th>\n",
       "      <th>MesH_prefLabel_en</th>\n",
       "      <th>isTaxoTerm</th>\n",
       "      <th>Log Likelihood</th>\n",
       "      <th>TF</th>\n",
       "      <th>DF</th>\n",
       "      <th>TF*IDF</th>\n",
       "      <th>OKapiBM25</th>\n",
       "      <th>TF + DF</th>\n",
       "      <th>tokens</th>\n",
       "      <th>Cluster Name</th>\n",
       "    </tr>\n",
       "  </thead>\n",
       "  <tbody>\n",
       "    <tr>\n",
       "      <th>727</th>\n",
       "      <td>cancer</td>\n",
       "      <td>chum axe de recherche cancer professeur</td>\n",
       "      <td>['chum']</td>\n",
       "      <td>NOM NOM PRP NOM NOM NOM</td>\n",
       "      <td>chum axe de recherche cancer professeur</td>\n",
       "      <td>False</td>\n",
       "      <td>NaN</td>\n",
       "      <td>NaN</td>\n",
       "      <td>NaN</td>\n",
       "      <td>False</td>\n",
       "      <td>531.793003</td>\n",
       "      <td>52</td>\n",
       "      <td>52</td>\n",
       "      <td>0.301786</td>\n",
       "      <td>22.113436</td>\n",
       "      <td>104</td>\n",
       "      <td>[cancer, chum, professeur, recherche]</td>\n",
       "      <td>Cluster 21, #6 Elements</td>\n",
       "    </tr>\n",
       "    <tr>\n",
       "      <th>797</th>\n",
       "      <td>cancer</td>\n",
       "      <td>diagnostic de cancer</td>\n",
       "      <td>['chum', 'chuqc', 'iucpq']</td>\n",
       "      <td>NOM PRP NOM</td>\n",
       "      <td>diagnostic de cancer</td>\n",
       "      <td>False</td>\n",
       "      <td>NaN</td>\n",
       "      <td>NaN</td>\n",
       "      <td>NaN</td>\n",
       "      <td>False</td>\n",
       "      <td>545.674438</td>\n",
       "      <td>119</td>\n",
       "      <td>81</td>\n",
       "      <td>0.929090</td>\n",
       "      <td>21.761057</td>\n",
       "      <td>200</td>\n",
       "      <td>[cancer, diagnostic]</td>\n",
       "      <td>Cluster 21, #6 Elements</td>\n",
       "    </tr>\n",
       "    <tr>\n",
       "      <th>270</th>\n",
       "      <td>cancer</td>\n",
       "      <td>emd serono traitement du cancer</td>\n",
       "      <td>['inesss']</td>\n",
       "      <td>NOM ADJ NOM PRP:det NOM</td>\n",
       "      <td>emd serono traitement du cancer</td>\n",
       "      <td>False</td>\n",
       "      <td>NaN</td>\n",
       "      <td>NaN</td>\n",
       "      <td>NaN</td>\n",
       "      <td>False</td>\n",
       "      <td>820.528144</td>\n",
       "      <td>66</td>\n",
       "      <td>66</td>\n",
       "      <td>0.007977</td>\n",
       "      <td>6.002793</td>\n",
       "      <td>132</td>\n",
       "      <td>[cancer, serono, traitement]</td>\n",
       "      <td>Cluster 21, #6 Elements</td>\n",
       "    </tr>\n",
       "    <tr>\n",
       "      <th>506</th>\n",
       "      <td>cancer</td>\n",
       "      <td>recherche cancer professeur</td>\n",
       "      <td>['chum']</td>\n",
       "      <td>NOM NOM NOM</td>\n",
       "      <td>recherche cancer professeur</td>\n",
       "      <td>False</td>\n",
       "      <td>NaN</td>\n",
       "      <td>NaN</td>\n",
       "      <td>NaN</td>\n",
       "      <td>False</td>\n",
       "      <td>519.926359</td>\n",
       "      <td>52</td>\n",
       "      <td>52</td>\n",
       "      <td>0.301786</td>\n",
       "      <td>20.333618</td>\n",
       "      <td>104</td>\n",
       "      <td>[cancer, professeur, recherche]</td>\n",
       "      <td>Cluster 21, #6 Elements</td>\n",
       "    </tr>\n",
       "    <tr>\n",
       "      <th>86</th>\n",
       "      <td>cancer</td>\n",
       "      <td>société canadienne du cancer</td>\n",
       "      <td>['chuqc', 'ciusss_mcq', 'iucpq', 'laval_sante']</td>\n",
       "      <td>NOM ADJ PRP:det NOM</td>\n",
       "      <td>société canadien du cancer</td>\n",
       "      <td>False</td>\n",
       "      <td>NaN</td>\n",
       "      <td>NaN</td>\n",
       "      <td>NaN</td>\n",
       "      <td>False</td>\n",
       "      <td>1131.563786</td>\n",
       "      <td>206</td>\n",
       "      <td>138</td>\n",
       "      <td>0.644412</td>\n",
       "      <td>12.277896</td>\n",
       "      <td>344</td>\n",
       "      <td>[canadienne, cancer, société]</td>\n",
       "      <td>Cluster 21, #6 Elements</td>\n",
       "    </tr>\n",
       "    <tr>\n",
       "      <th>...</th>\n",
       "      <td>...</td>\n",
       "      <td>...</td>\n",
       "      <td>...</td>\n",
       "      <td>...</td>\n",
       "      <td>...</td>\n",
       "      <td>...</td>\n",
       "      <td>...</td>\n",
       "      <td>...</td>\n",
       "      <td>...</td>\n",
       "      <td>...</td>\n",
       "      <td>...</td>\n",
       "      <td>...</td>\n",
       "      <td>...</td>\n",
       "      <td>...</td>\n",
       "      <td>...</td>\n",
       "      <td>...</td>\n",
       "      <td>...</td>\n",
       "      <td>...</td>\n",
       "    </tr>\n",
       "    <tr>\n",
       "      <th>205</th>\n",
       "      <td>échographie cardiaque</td>\n",
       "      <td>transplantation cardiaque</td>\n",
       "      <td>['icm', 'iucpq']</td>\n",
       "      <td>NOM ADJ</td>\n",
       "      <td>transplantation cardiaque</td>\n",
       "      <td>True</td>\n",
       "      <td>D016027</td>\n",
       "      <td>Transplantation cardiaque</td>\n",
       "      <td>Heart Transplantation</td>\n",
       "      <td>True</td>\n",
       "      <td>1226.776302</td>\n",
       "      <td>139</td>\n",
       "      <td>54</td>\n",
       "      <td>0.589470</td>\n",
       "      <td>15.005617</td>\n",
       "      <td>193</td>\n",
       "      <td>[cardiaque, transplantation]</td>\n",
       "      <td>Cluster 7, #12 Elements</td>\n",
       "    </tr>\n",
       "    <tr>\n",
       "      <th>377</th>\n",
       "      <td>échographie cardiaque</td>\n",
       "      <td>échocardiographie de stress</td>\n",
       "      <td>['icm']</td>\n",
       "      <td>NOM PRP NOM</td>\n",
       "      <td>échocardiographie de stress</td>\n",
       "      <td>True</td>\n",
       "      <td>D025401</td>\n",
       "      <td>Échocardiographie de stress</td>\n",
       "      <td>Echocardiography, Stress</td>\n",
       "      <td>True</td>\n",
       "      <td>149.379796</td>\n",
       "      <td>11</td>\n",
       "      <td>11</td>\n",
       "      <td>0.251353</td>\n",
       "      <td>15.879348</td>\n",
       "      <td>22</td>\n",
       "      <td>[stress, échocardiographie]</td>\n",
       "      <td>Cluster 7, #12 Elements</td>\n",
       "    </tr>\n",
       "    <tr>\n",
       "      <th>965</th>\n",
       "      <td>échographie cardiaque</td>\n",
       "      <td>échographie cardiaque</td>\n",
       "      <td>['ciusss_cn', 'ciusss_nordmtl', 'icm', 'iucpq']</td>\n",
       "      <td>NOM ADJ</td>\n",
       "      <td>échographie cardiaque</td>\n",
       "      <td>True</td>\n",
       "      <td>D004452</td>\n",
       "      <td>Échocardiographie</td>\n",
       "      <td>Echocardiography</td>\n",
       "      <td>True</td>\n",
       "      <td>960.497129</td>\n",
       "      <td>237</td>\n",
       "      <td>158</td>\n",
       "      <td>0.720645</td>\n",
       "      <td>10.051189</td>\n",
       "      <td>395</td>\n",
       "      <td>[cardiaque, échographie]</td>\n",
       "      <td>Cluster 7, #12 Elements</td>\n",
       "    </tr>\n",
       "    <tr>\n",
       "      <th>790</th>\n",
       "      <td>échographie cardiaque</td>\n",
       "      <td>échographie pelvienne échographie rénale échog...</td>\n",
       "      <td>['ciusss_cn']</td>\n",
       "      <td>NOM ADJ NOM ADJ NOM</td>\n",
       "      <td>échographie pelvienne échographie rénal échogr...</td>\n",
       "      <td>False</td>\n",
       "      <td>NaN</td>\n",
       "      <td>NaN</td>\n",
       "      <td>NaN</td>\n",
       "      <td>False</td>\n",
       "      <td>1024.051191</td>\n",
       "      <td>68</td>\n",
       "      <td>68</td>\n",
       "      <td>0.103535</td>\n",
       "      <td>19.911964</td>\n",
       "      <td>136</td>\n",
       "      <td>[pelvienne, rénale, échographie]</td>\n",
       "      <td>Cluster 7, #12 Elements</td>\n",
       "    </tr>\n",
       "    <tr>\n",
       "      <th>630</th>\n",
       "      <td>échographie cardiaque</td>\n",
       "      <td>échographie rénale échographie testiculaire éc...</td>\n",
       "      <td>['ciusss_cn']</td>\n",
       "      <td>NOM ADJ NOM ADJ NOM ADJ</td>\n",
       "      <td>échographie rénal échographie testiculaire éch...</td>\n",
       "      <td>False</td>\n",
       "      <td>NaN</td>\n",
       "      <td>NaN</td>\n",
       "      <td>NaN</td>\n",
       "      <td>False</td>\n",
       "      <td>1464.154070</td>\n",
       "      <td>68</td>\n",
       "      <td>68</td>\n",
       "      <td>0.103535</td>\n",
       "      <td>8.605494</td>\n",
       "      <td>136</td>\n",
       "      <td>[rénale, testiculaire, thyroïde, échographie]</td>\n",
       "      <td>Cluster 7, #12 Elements</td>\n",
       "    </tr>\n",
       "  </tbody>\n",
       "</table>\n",
       "<p>128 rows × 18 columns</p>\n",
       "</div>"
      ],
      "text/plain": [
       "                   Cluster                                              Terme  \\\n",
       "727                 cancer            chum axe de recherche cancer professeur   \n",
       "797                 cancer                               diagnostic de cancer   \n",
       "270                 cancer                    emd serono traitement du cancer   \n",
       "506                 cancer                        recherche cancer professeur   \n",
       "86                  cancer                       société canadienne du cancer   \n",
       "..                     ...                                                ...   \n",
       "205  échographie cardiaque                          transplantation cardiaque   \n",
       "377  échographie cardiaque                        échocardiographie de stress   \n",
       "965  échographie cardiaque                              échographie cardiaque   \n",
       "790  échographie cardiaque  échographie pelvienne échographie rénale échog...   \n",
       "630  échographie cardiaque  échographie rénale échographie testiculaire éc...   \n",
       "\n",
       "                                             Corpora     Structure syntaxique  \\\n",
       "727                                         ['chum']  NOM NOM PRP NOM NOM NOM   \n",
       "797                       ['chum', 'chuqc', 'iucpq']              NOM PRP NOM   \n",
       "270                                       ['inesss']  NOM ADJ NOM PRP:det NOM   \n",
       "506                                         ['chum']              NOM NOM NOM   \n",
       "86   ['chuqc', 'ciusss_mcq', 'iucpq', 'laval_sante']      NOM ADJ PRP:det NOM   \n",
       "..                                               ...                      ...   \n",
       "205                                 ['icm', 'iucpq']                  NOM ADJ   \n",
       "377                                          ['icm']              NOM PRP NOM   \n",
       "965  ['ciusss_cn', 'ciusss_nordmtl', 'icm', 'iucpq']                  NOM ADJ   \n",
       "790                                    ['ciusss_cn']      NOM ADJ NOM ADJ NOM   \n",
       "630                                    ['ciusss_cn']  NOM ADJ NOM ADJ NOM ADJ   \n",
       "\n",
       "                                      Forme lemmatisée  isMeSHTerm   MeSHID  \\\n",
       "727            chum axe de recherche cancer professeur       False      NaN   \n",
       "797                               diagnostic de cancer       False      NaN   \n",
       "270                    emd serono traitement du cancer       False      NaN   \n",
       "506                        recherche cancer professeur       False      NaN   \n",
       "86                          société canadien du cancer       False      NaN   \n",
       "..                                                 ...         ...      ...   \n",
       "205                          transplantation cardiaque        True  D016027   \n",
       "377                        échocardiographie de stress        True  D025401   \n",
       "965                              échographie cardiaque        True  D004452   \n",
       "790  échographie pelvienne échographie rénal échogr...       False      NaN   \n",
       "630  échographie rénal échographie testiculaire éch...       False      NaN   \n",
       "\n",
       "               MesH_prefLabel_fr         MesH_prefLabel_en  isTaxoTerm  \\\n",
       "727                          NaN                       NaN       False   \n",
       "797                          NaN                       NaN       False   \n",
       "270                          NaN                       NaN       False   \n",
       "506                          NaN                       NaN       False   \n",
       "86                           NaN                       NaN       False   \n",
       "..                           ...                       ...         ...   \n",
       "205    Transplantation cardiaque     Heart Transplantation        True   \n",
       "377  Échocardiographie de stress  Echocardiography, Stress        True   \n",
       "965            Échocardiographie          Echocardiography        True   \n",
       "790                          NaN                       NaN       False   \n",
       "630                          NaN                       NaN       False   \n",
       "\n",
       "     Log Likelihood   TF   DF    TF*IDF  OKapiBM25  TF + DF  \\\n",
       "727      531.793003   52   52  0.301786  22.113436      104   \n",
       "797      545.674438  119   81  0.929090  21.761057      200   \n",
       "270      820.528144   66   66  0.007977   6.002793      132   \n",
       "506      519.926359   52   52  0.301786  20.333618      104   \n",
       "86      1131.563786  206  138  0.644412  12.277896      344   \n",
       "..              ...  ...  ...       ...        ...      ...   \n",
       "205     1226.776302  139   54  0.589470  15.005617      193   \n",
       "377      149.379796   11   11  0.251353  15.879348       22   \n",
       "965      960.497129  237  158  0.720645  10.051189      395   \n",
       "790     1024.051191   68   68  0.103535  19.911964      136   \n",
       "630     1464.154070   68   68  0.103535   8.605494      136   \n",
       "\n",
       "                                            tokens              Cluster Name  \n",
       "727          [cancer, chum, professeur, recherche]  Cluster 21, #6 Elements   \n",
       "797                           [cancer, diagnostic]  Cluster 21, #6 Elements   \n",
       "270                   [cancer, serono, traitement]  Cluster 21, #6 Elements   \n",
       "506                [cancer, professeur, recherche]  Cluster 21, #6 Elements   \n",
       "86                   [canadienne, cancer, société]  Cluster 21, #6 Elements   \n",
       "..                                             ...                       ...  \n",
       "205                   [cardiaque, transplantation]  Cluster 7, #12 Elements   \n",
       "377                    [stress, échocardiographie]  Cluster 7, #12 Elements   \n",
       "965                       [cardiaque, échographie]  Cluster 7, #12 Elements   \n",
       "790               [pelvienne, rénale, échographie]  Cluster 7, #12 Elements   \n",
       "630  [rénale, testiculaire, thyroïde, échographie]  Cluster 7, #12 Elements   \n",
       "\n",
       "[128 rows x 18 columns]"
      ]
     },
     "execution_count": 19,
     "metadata": {},
     "output_type": "execute_result"
    }
   ],
   "source": [
    "# To speed up the learning process, I suggest to reduce the amount of data. \n",
    "to_visualize = df.query('Cluster in @clusters')\n",
    "to_visualize"
   ]
  },
  {
   "cell_type": "code",
   "execution_count": 20,
   "metadata": {},
   "outputs": [
    {
     "name": "stderr",
     "output_type": "stream",
     "text": [
      "c:\\Users\\p1115145\\AppData\\Local\\Programs\\Python\\Python310\\lib\\site-packages\\sklearn\\manifold\\_t_sne.py:795: FutureWarning: The default initialization in TSNE will change from 'random' to 'pca' in 1.2.\n",
      "  warnings.warn(\n",
      "c:\\Users\\p1115145\\AppData\\Local\\Programs\\Python\\Python310\\lib\\site-packages\\sklearn\\manifold\\_t_sne.py:805: FutureWarning: The default learning rate in TSNE will change from 200.0 to 'auto' in 1.2.\n",
      "  warnings.warn(\n"
     ]
    }
   ],
   "source": [
    "import numpy as np\n",
    "from sklearn.manifold import TSNE\n",
    "\n",
    "sentences = to_visualize['Terme'].tolist()\n",
    "X = list(model.encode(sentences))\n",
    "\n",
    "X_embedded = TSNE(n_components=2).fit_transform(X)"
   ]
  },
  {
   "cell_type": "code",
   "execution_count": 21,
   "metadata": {},
   "outputs": [],
   "source": [
    "df_embeddings = pd.DataFrame(X_embedded)\n",
    "df_embeddings = df_embeddings.rename(columns={0:'x',1:'y'})\n",
    "df_embeddings = df_embeddings.assign(label=to_visualize.Cluster.values)"
   ]
  },
  {
   "cell_type": "code",
   "execution_count": 22,
   "metadata": {},
   "outputs": [],
   "source": [
    "df_embeddings = df_embeddings.assign(text=to_visualize.Terme.values)"
   ]
  },
  {
   "cell_type": "code",
   "execution_count": 26,
   "metadata": {},
   "outputs": [
    {
     "data": {
      "application/vnd.plotly.v1+json": {
       "config": {
        "plotlyServerURL": "https://plot.ly"
       },
       "data": [
        {
         "customdata": [
          [
           "chum axe de recherche cancer professeur"
          ],
          [
           "diagnostic de cancer"
          ],
          [
           "emd serono traitement du cancer"
          ],
          [
           "recherche cancer professeur"
          ],
          [
           "société canadienne du cancer"
          ],
          [
           "traitement du cancer du sein métastatique"
          ]
         ],
         "hovertemplate": "label=cancer<br>x=%{x}<br>y=%{y}<br>text=%{customdata[0]}<extra></extra>",
         "legendgroup": "cancer",
         "marker": {
          "color": "#636efa",
          "symbol": "circle"
         },
         "mode": "markers",
         "name": "cancer",
         "orientation": "v",
         "showlegend": true,
         "type": "scatter",
         "x": [
          9.520546913146973,
          10.555787086486816,
          10.99863338470459,
          9.707058906555176,
          10.29958724975586,
          11.047367095947266
         ],
         "xaxis": "x",
         "y": [
          -6.890738487243652,
          -6.278233051300049,
          -5.876796722412109,
          -6.800023078918457,
          -5.79647159576416,
          -6.850630760192871
         ],
         "yaxis": "y"
        },
        {
         "customdata": [
          [
           "centre intégré de santé et de services sociaux"
          ],
          [
           "centre local de services"
          ],
          [
           "clsc et centre de services"
          ],
          [
           "gamme de services"
          ],
          [
           "orientations des services"
          ],
          [
           "pierreville centre d'hébergement et clsc"
          ],
          [
           "plan de services"
          ],
          [
           "santé publique du cisss"
          ],
          [
           "traitements services et cliniques"
          ],
          [
           "tuque centre multiservices"
          ]
         ],
         "hovertemplate": "label=centre intégré de santé et de services sociaux<br>x=%{x}<br>y=%{y}<br>text=%{customdata[0]}<extra></extra>",
         "legendgroup": "centre intégré de santé et de services sociaux",
         "marker": {
          "color": "#EF553B",
          "symbol": "circle"
         },
         "mode": "markers",
         "name": "centre intégré de santé et de services sociaux",
         "orientation": "v",
         "showlegend": true,
         "type": "scatter",
         "x": [
          0.3978257477283478,
          -3.42995023727417,
          -2.731920003890991,
          -2.5939550399780273,
          -2.5451102256774902,
          -3.6826865673065186,
          -2.5776467323303223,
          -2.021294116973877,
          -1.1854716539382935,
          -3.4748589992523193
         ],
         "xaxis": "x",
         "y": [
          -3.3028347492218018,
          -3.0111584663391113,
          -4.764988422393799,
          -2.7863030433654785,
          -3.2031877040863037,
          -5.588478088378906,
          -2.8352901935577393,
          -5.225498199462891,
          -3.374267101287842,
          -3.9844470024108887
         ],
         "yaxis": "y"
        },
        {
         "customdata": [
          [
           "consommation d'alcool consommation"
          ],
          [
           "consommation d'alcool consommation de drogues"
          ],
          [
           "consommation de substances psychoactives"
          ],
          [
           "services alcool"
          ],
          [
           "surdoses liées aux drogues vigie"
          ]
         ],
         "hovertemplate": "label=consommation de substances psychoactives<br>x=%{x}<br>y=%{y}<br>text=%{customdata[0]}<extra></extra>",
         "legendgroup": "consommation de substances psychoactives",
         "marker": {
          "color": "#00cc96",
          "symbol": "circle"
         },
         "mode": "markers",
         "name": "consommation de substances psychoactives",
         "orientation": "v",
         "showlegend": true,
         "type": "scatter",
         "x": [
          8.920770645141602,
          9.275550842285156,
          9.934948921203613,
          -0.6991480588912964,
          10.592605590820312
         ],
         "xaxis": "x",
         "y": [
          2.4236650466918945,
          2.3037405014038086,
          1.5576534271240234,
          -0.3520793914794922,
          2.4004063606262207
         ],
         "yaxis": "y"
        },
        {
         "customdata": [
          [
           "autoévaluation des symptômes de la covid-19"
          ],
          [
           "clsc de l'est covid-19 local update"
          ],
          [
           "découverture au clsc de l'est covid-19 local"
          ],
          [
           "décès liés à la covid-19 selon le milieu"
          ],
          [
           "dépistage pour la covid-19"
          ],
          [
           "emplois covid-19 événements de recrutement"
          ],
          [
           "prévention de la covid-19"
          ],
          [
           "réseau pour la covid-19"
          ]
         ],
         "hovertemplate": "label=covid-19<br>x=%{x}<br>y=%{y}<br>text=%{customdata[0]}<extra></extra>",
         "legendgroup": "covid-19",
         "marker": {
          "color": "#ab63fa",
          "symbol": "circle"
         },
         "mode": "markers",
         "name": "covid-19",
         "orientation": "v",
         "showlegend": true,
         "type": "scatter",
         "x": [
          -8.418129920959473,
          -6.57943058013916,
          -6.501722812652588,
          -8.502851486206055,
          -7.578629016876221,
          -8.071856498718262,
          -7.65266227722168,
          -7.6834211349487305
         ],
         "xaxis": "x",
         "y": [
          -7.346050262451172,
          -6.236165523529053,
          -6.270227909088135,
          -6.703110694885254,
          -7.544523239135742,
          -6.131060600280762,
          -6.975364685058594,
          -7.555381774902344
         ],
         "yaxis": "y"
        },
        {
         "customdata": [
          [
           "banque de données du ministre"
          ],
          [
           "demande du ministère"
          ],
          [
           "données du ministre"
          ],
          [
           "gouvernement ministères"
          ],
          [
           "initiative ministérielle sur la maladie"
          ],
          [
           "inscription avis au ministre"
          ]
         ],
         "hovertemplate": "label=gouvernement ministères<br>x=%{x}<br>y=%{y}<br>text=%{customdata[0]}<extra></extra>",
         "legendgroup": "gouvernement ministères",
         "marker": {
          "color": "#FFA15A",
          "symbol": "circle"
         },
         "mode": "markers",
         "name": "gouvernement ministères",
         "orientation": "v",
         "showlegend": true,
         "type": "scatter",
         "x": [
          5.609213829040527,
          5.864268779754639,
          5.409725666046143,
          6.091641426086426,
          5.884552478790283,
          4.936587333679199
         ],
         "xaxis": "x",
         "y": [
          5.9239182472229,
          4.853549003601074,
          5.08780574798584,
          4.720632076263428,
          3.364558219909668,
          4.84719181060791
         ],
         "yaxis": "y"
        },
        {
         "customdata": [
          [
           "chirurgies imagerie"
          ],
          [
           "hôpital horaire imagerie"
          ],
          [
           "services services médicaux imagerie"
          ]
         ],
         "hovertemplate": "label=imagerie<br>x=%{x}<br>y=%{y}<br>text=%{customdata[0]}<extra></extra>",
         "legendgroup": "imagerie",
         "marker": {
          "color": "#19d3f3",
          "symbol": "circle"
         },
         "mode": "markers",
         "name": "imagerie",
         "orientation": "v",
         "showlegend": true,
         "type": "scatter",
         "x": [
          -0.7891091108322144,
          -1.034772515296936,
          -0.42093193531036377
         ],
         "xaxis": "x",
         "y": [
          2.5162224769592285,
          1.8898870944976807,
          2.54213547706604
         ],
         "yaxis": "y"
        },
        {
         "customdata": [
          [
           "espace médecin"
          ],
          [
           "fonction de la priorité"
          ],
          [
           "fonction de la priorité médicale"
          ],
          [
           "imagerie médicale"
          ],
          [
           "référence d'un médecin"
          ]
         ],
         "hovertemplate": "label=imagerie médicale<br>x=%{x}<br>y=%{y}<br>text=%{customdata[0]}<extra></extra>",
         "legendgroup": "imagerie médicale",
         "marker": {
          "color": "#FF6692",
          "symbol": "circle"
         },
         "mode": "markers",
         "name": "imagerie médicale",
         "orientation": "v",
         "showlegend": true,
         "type": "scatter",
         "x": [
          1.6345274448394775,
          0.42149293422698975,
          0.6024071574211121,
          0.7182259559631348,
          1.6742101907730103
         ],
         "xaxis": "x",
         "y": [
          1.5676631927490234,
          -6.185534477233887,
          -6.053041458129883,
          2.13106369972229,
          1.3890258073806763
         ],
         "yaxis": "y"
        },
        {
         "customdata": [
          [
           "vaccination contre l'influenza"
          ],
          [
           "vaccination contre l'influenza et le pneumocoque"
          ]
         ],
         "hovertemplate": "label=influenza<br>x=%{x}<br>y=%{y}<br>text=%{customdata[0]}<extra></extra>",
         "legendgroup": "influenza",
         "marker": {
          "color": "#B6E880",
          "symbol": "circle"
         },
         "mode": "markers",
         "name": "influenza",
         "orientation": "v",
         "showlegend": true,
         "type": "scatter",
         "x": [
          -3.3324663639068604,
          -3.3293702602386475
         ],
         "xaxis": "x",
         "y": [
          -9.438410758972168,
          -9.428678512573242
         ],
         "yaxis": "y"
        },
        {
         "customdata": [
          [
           "accès aux services de santé"
          ],
          [
           "collaboration en santé mentale"
          ],
          [
           "consommation promotion de la santé"
          ],
          [
           "drogues pour les professionnels de la santé"
          ],
          [
           "enjeu de santé"
          ],
          [
           "enjeux de santé"
          ],
          [
           "enquêtes de santé"
          ],
          [
           "excellence du réseau de la santé"
          ],
          [
           "gestion en santé et services sociaux"
          ],
          [
           "institut national de santé"
          ],
          [
           "inégalités sociales de santé sécurité"
          ],
          [
           "maison maladie"
          ],
          [
           "maladies chroniques traité santé"
          ],
          [
           "mémoires avis de santé publique mémoires"
          ],
          [
           "partenaires du réseau de la santé"
          ],
          [
           "personnel du réseau de la santé"
          ],
          [
           "priorité santé"
          ],
          [
           "problèmes de santé liés à l'environnement"
          ],
          [
           "programme de santé mieux-être"
          ],
          [
           "programme national de santé publique"
          ],
          [
           "prévention clinique information générale statistiques"
          ],
          [
           "prévention risque pour la santé"
          ],
          [
           "pti en santé mentale constats"
          ],
          [
           "santé publique à l'institut national de santé"
          ],
          [
           "services médicaux"
          ],
          [
           "spécialiste en santé publique"
          ],
          [
           "système de prévention clinique"
          ],
          [
           "travailleurs de la santé atteints"
          ],
          [
           "vaccination conseils santé habitudes"
          ],
          [
           "vie et maladies"
          ],
          [
           "éthique de santé publique"
          ],
          [
           "éthique en santé et services"
          ],
          [
           "évaluation en santé"
          ]
         ],
         "hovertemplate": "label=institut national de santé<br>x=%{x}<br>y=%{y}<br>text=%{customdata[0]}<extra></extra>",
         "legendgroup": "institut national de santé",
         "marker": {
          "color": "#FF97FF",
          "symbol": "circle"
         },
         "mode": "markers",
         "name": "institut national de santé",
         "orientation": "v",
         "showlegend": true,
         "type": "scatter",
         "x": [
          1.9748649597167969,
          8.269484519958496,
          5.239724636077881,
          2.984956741333008,
          3.999849557876587,
          4.147173881530762,
          4.398276329040527,
          1.3319623470306396,
          1.0086606740951538,
          3.419419050216675,
          1.9777854681015015,
          3.8719170093536377,
          4.777271747589111,
          5.030168533325195,
          1.4482651948928833,
          1.4850890636444092,
          4.394289970397949,
          6.449309825897217,
          5.490235328674316,
          3.7799699306488037,
          3.7576091289520264,
          5.882219314575195,
          7.893712043762207,
          3.3520803451538086,
          1.634444236755371,
          4.625700950622559,
          4.649704933166504,
          3.518716812133789,
          6.0333757400512695,
          3.8868558406829834,
          4.540993690490723,
          1.6355053186416626,
          3.890482187271118
         ],
         "xaxis": "x",
         "y": [
          -3.9635934829711914,
          -1.4746960401535034,
          -2.886385679244995,
          -3.4376471042633057,
          -3.0078697204589844,
          -3.13376522064209,
          -3.2770490646362305,
          -1.5020397901535034,
          -3.413579225540161,
          -1.8493236303329468,
          -2.824073553085327,
          -6.62298583984375,
          -5.279921054840088,
          -0.727927029132843,
          -1.4322760105133057,
          -1.5636706352233887,
          -4.104806423187256,
          -3.6816694736480713,
          -4.194182872772217,
          -1.3493154048919678,
          0.7076504230499268,
          -2.0479938983917236,
          -1.744700312614441,
          -0.7775548100471497,
          2.4505860805511475,
          -1.6430020332336426,
          0.5084986686706543,
          -4.875238418579102,
          -4.840543270111084,
          -6.360112190246582,
          -1.604025959968567,
          -3.7029199600219727,
          -3.869805335998535
         ],
         "yaxis": "y"
        },
        {
         "customdata": [
          [
           "connaissances théoriques"
          ],
          [
           "institut universitaire"
          ],
          [
           "recherche de l'institut universitaire"
          ]
         ],
         "hovertemplate": "label=institut universitaire<br>x=%{x}<br>y=%{y}<br>text=%{customdata[0]}<extra></extra>",
         "legendgroup": "institut universitaire",
         "marker": {
          "color": "#FECB52",
          "symbol": "circle"
         },
         "mode": "markers",
         "name": "institut universitaire",
         "orientation": "v",
         "showlegend": true,
         "type": "scatter",
         "x": [
          1.323058009147644,
          0.9486789703369141,
          0.7839340567588806
         ],
         "xaxis": "x",
         "y": [
          6.566190242767334,
          5.930464267730713,
          5.638845443725586
         ],
         "yaxis": "y"
        },
        {
         "customdata": [
          [
           "documentation infections"
          ],
          [
           "méningite bactérienne"
          ],
          [
           "prévention des infections transmissibles"
          ],
          [
           "sévérité infection"
          ]
         ],
         "hovertemplate": "label=prévention des infections transmissibles<br>x=%{x}<br>y=%{y}<br>text=%{customdata[0]}<extra></extra>",
         "legendgroup": "prévention des infections transmissibles",
         "marker": {
          "color": "#636efa",
          "symbol": "circle"
         },
         "mode": "markers",
         "name": "prévention des infections transmissibles",
         "orientation": "v",
         "showlegend": true,
         "type": "scatter",
         "x": [
          0.5973935723304749,
          -0.15637025237083435,
          0.6760223507881165,
          0.48163339495658875
         ],
         "xaxis": "x",
         "y": [
          -9.179830551147461,
          -8.915946960449219,
          -9.769944190979004,
          -9.202197074890137
         ],
         "yaxis": "y"
        },
        {
         "customdata": [
          [
           "déficience intellectuelle trouble"
          ],
          [
           "déficience physique déficience motrice déficience"
          ],
          [
           "handicap déficience auditive langue"
          ],
          [
           "institut de réadaptation en déficience"
          ],
          [
           "institut de réadaptation en déficience physique"
          ],
          [
           "programme en déficience"
          ],
          [
           "programme québécois pour les troubles"
          ],
          [
           "réadaptation en déficience intellectuelle"
          ],
          [
           "réadaptation en déficience physique"
          ],
          [
           "réadaptation pour les personnes amputées"
          ],
          [
           "sang- traitement du déficit congénital"
          ]
         ],
         "hovertemplate": "label=réadaptation en déficience physique<br>x=%{x}<br>y=%{y}<br>text=%{customdata[0]}<extra></extra>",
         "legendgroup": "réadaptation en déficience physique",
         "marker": {
          "color": "#EF553B",
          "symbol": "circle"
         },
         "mode": "markers",
         "name": "réadaptation en déficience physique",
         "orientation": "v",
         "showlegend": true,
         "type": "scatter",
         "x": [
          4.625933647155762,
          4.086429595947266,
          3.843191146850586,
          4.972580909729004,
          5.006570816040039,
          4.341357231140137,
          5.68401575088501,
          4.765960693359375,
          4.942086219787598,
          5.822085380554199,
          2.9216647148132324
         ],
         "xaxis": "x",
         "y": [
          -13.401520729064941,
          -12.099448204040527,
          -13.087302207946777,
          -10.34753131866455,
          -10.312826156616211,
          -12.095077514648438,
          -13.285940170288086,
          -12.44563102722168,
          -11.4733304977417,
          -11.792530059814453,
          -12.261157989501953
         ],
         "yaxis": "y"
        },
        {
         "customdata": [
          [
           "eampoc écoulement urétral élimination"
          ],
          [
           "flow water"
          ],
          [
           "infection urinaire"
          ],
          [
           "premarin rétention urinaire"
          ],
          [
           "premarin rétention urinaire aigüe sédation"
          ],
          [
           "premarin rétention urinaire aigüe sédation palliative"
          ],
          [
           "rétention urinaire"
          ],
          [
           "rétention urinaire aigüe sédation"
          ]
         ],
         "hovertemplate": "label=rétention urinaire<br>x=%{x}<br>y=%{y}<br>text=%{customdata[0]}<extra></extra>",
         "legendgroup": "rétention urinaire",
         "marker": {
          "color": "#00cc96",
          "symbol": "circle"
         },
         "mode": "markers",
         "name": "rétention urinaire",
         "orientation": "v",
         "showlegend": true,
         "type": "scatter",
         "x": [
          -8.275421142578125,
          -8.565359115600586,
          -7.367797374725342,
          -7.318348407745361,
          -6.515763759613037,
          -6.453612804412842,
          -7.449021816253662,
          -6.113875389099121
         ],
         "xaxis": "x",
         "y": [
          0.28762516379356384,
          -0.6319109797477722,
          -1.0219918489456177,
          -0.17520266771316528,
          0.42518022656440735,
          0.5664180517196655,
          -0.9304834604263306,
          0.4239272475242615
         ],
         "yaxis": "y"
        },
        {
         "customdata": [
          [
           "institut national de psychiatrie"
          ],
          [
           "prélèvements santé mentale"
          ],
          [
           "santé mentale et dépendance"
          ],
          [
           "santé mentale et psychiatrie"
          ],
          [
           "soins de collaboration en santé mentale"
          ],
          [
           "soins infirmiers en santé mentale"
          ]
         ],
         "hovertemplate": "label=santé mentale et dépendance<br>x=%{x}<br>y=%{y}<br>text=%{customdata[0]}<extra></extra>",
         "legendgroup": "santé mentale et dépendance",
         "marker": {
          "color": "#ab63fa",
          "symbol": "circle"
         },
         "mode": "markers",
         "name": "santé mentale et dépendance",
         "orientation": "v",
         "showlegend": true,
         "type": "scatter",
         "x": [
          7.719825267791748,
          8.623271942138672,
          9.78004264831543,
          8.883782386779785,
          9.217924118041992,
          8.542346000671387
         ],
         "xaxis": "x",
         "y": [
          -0.20713189244270325,
          -1.2105616331100464,
          0.33378592133522034,
          -0.6174120306968689,
          -1.7015453577041626,
          -2.4640893936157227
         ],
         "yaxis": "y"
        },
        {
         "customdata": [
          [
           "interventions documentation surdoses"
          ],
          [
           "surdoses prévention des surdoses"
          ]
         ],
         "hovertemplate": "label=surdoses<br>x=%{x}<br>y=%{y}<br>text=%{customdata[0]}<extra></extra>",
         "legendgroup": "surdoses",
         "marker": {
          "color": "#FFA15A",
          "symbol": "circle"
         },
         "mode": "markers",
         "name": "surdoses",
         "orientation": "v",
         "showlegend": true,
         "type": "scatter",
         "x": [
          11.56866455078125,
          11.3251371383667
         ],
         "xaxis": "x",
         "y": [
          2.236806869506836,
          2.253488779067993
         ],
         "yaxis": "y"
        },
        {
         "customdata": [
          [
           "cytomégalovirus réfractaire"
          ],
          [
           "hôte immunosupprimé"
          ],
          [
           "usage optimal des immunoglobulines"
          ],
          [
           "virus de l'immunodéficience humaine"
          ]
         ],
         "hovertemplate": "label=virus de l'immunodéficience humaine<br>x=%{x}<br>y=%{y}<br>text=%{customdata[0]}<extra></extra>",
         "legendgroup": "virus de l'immunodéficience humaine",
         "marker": {
          "color": "#19d3f3",
          "symbol": "circle"
         },
         "mode": "markers",
         "name": "virus de l'immunodéficience humaine",
         "orientation": "v",
         "showlegend": true,
         "type": "scatter",
         "x": [
          -1.9232374429702759,
          -2.5473053455352783,
          -2.85140323638916,
          -2.014949083328247
         ],
         "xaxis": "x",
         "y": [
          -11.600558280944824,
          -11.599257469177246,
          -11.721139907836914,
          -11.225110054016113
         ],
         "yaxis": "y"
        },
        {
         "customdata": [
          [
           "imagerie médicale échographie abdominale échographie"
          ],
          [
           "insuffisance cardiaque pré-ac"
          ],
          [
           "irm cardiaque"
          ],
          [
           "recherche de l'institut de cardiologie"
          ],
          [
           "résonance magnétique cardiaque"
          ],
          [
           "service de radiographie"
          ],
          [
           "tachycardie ventriculaire"
          ],
          [
           "transplantation cardiaque"
          ],
          [
           "échocardiographie de stress"
          ],
          [
           "échographie cardiaque"
          ],
          [
           "échographie pelvienne échographie rénale échographie"
          ],
          [
           "échographie rénale échographie testiculaire échographie thyroïde"
          ]
         ],
         "hovertemplate": "label=échographie cardiaque<br>x=%{x}<br>y=%{y}<br>text=%{customdata[0]}<extra></extra>",
         "legendgroup": "échographie cardiaque",
         "marker": {
          "color": "#FF6692",
          "symbol": "circle"
         },
         "mode": "markers",
         "name": "échographie cardiaque",
         "orientation": "v",
         "showlegend": true,
         "type": "scatter",
         "x": [
          -2.4012391567230225,
          -5.747858047485352,
          -5.298795700073242,
          -4.543352127075195,
          -5.056565761566162,
          -1.2820491790771484,
          -4.215723991394043,
          -5.037407398223877,
          -3.2351417541503906,
          -4.279762268066406,
          -2.899266481399536,
          -3.185194492340088
         ],
         "xaxis": "x",
         "y": [
          2.2287333011627197,
          4.868700981140137,
          5.664087295532227,
          4.434809684753418,
          6.189244747161865,
          3.209024667739868,
          5.735520839691162,
          5.283540725708008,
          4.696584701538086,
          4.885646820068359,
          2.196660041809082,
          2.256065607070923
         ],
         "yaxis": "y"
        }
       ],
       "layout": {
        "legend": {
         "title": {
          "text": "label"
         },
         "tracegroupgap": 0
        },
        "template": {
         "data": {
          "bar": [
           {
            "error_x": {
             "color": "#2a3f5f"
            },
            "error_y": {
             "color": "#2a3f5f"
            },
            "marker": {
             "line": {
              "color": "#E5ECF6",
              "width": 0.5
             },
             "pattern": {
              "fillmode": "overlay",
              "size": 10,
              "solidity": 0.2
             }
            },
            "type": "bar"
           }
          ],
          "barpolar": [
           {
            "marker": {
             "line": {
              "color": "#E5ECF6",
              "width": 0.5
             },
             "pattern": {
              "fillmode": "overlay",
              "size": 10,
              "solidity": 0.2
             }
            },
            "type": "barpolar"
           }
          ],
          "carpet": [
           {
            "aaxis": {
             "endlinecolor": "#2a3f5f",
             "gridcolor": "white",
             "linecolor": "white",
             "minorgridcolor": "white",
             "startlinecolor": "#2a3f5f"
            },
            "baxis": {
             "endlinecolor": "#2a3f5f",
             "gridcolor": "white",
             "linecolor": "white",
             "minorgridcolor": "white",
             "startlinecolor": "#2a3f5f"
            },
            "type": "carpet"
           }
          ],
          "choropleth": [
           {
            "colorbar": {
             "outlinewidth": 0,
             "ticks": ""
            },
            "type": "choropleth"
           }
          ],
          "contour": [
           {
            "colorbar": {
             "outlinewidth": 0,
             "ticks": ""
            },
            "colorscale": [
             [
              0,
              "#0d0887"
             ],
             [
              0.1111111111111111,
              "#46039f"
             ],
             [
              0.2222222222222222,
              "#7201a8"
             ],
             [
              0.3333333333333333,
              "#9c179e"
             ],
             [
              0.4444444444444444,
              "#bd3786"
             ],
             [
              0.5555555555555556,
              "#d8576b"
             ],
             [
              0.6666666666666666,
              "#ed7953"
             ],
             [
              0.7777777777777778,
              "#fb9f3a"
             ],
             [
              0.8888888888888888,
              "#fdca26"
             ],
             [
              1,
              "#f0f921"
             ]
            ],
            "type": "contour"
           }
          ],
          "contourcarpet": [
           {
            "colorbar": {
             "outlinewidth": 0,
             "ticks": ""
            },
            "type": "contourcarpet"
           }
          ],
          "heatmap": [
           {
            "colorbar": {
             "outlinewidth": 0,
             "ticks": ""
            },
            "colorscale": [
             [
              0,
              "#0d0887"
             ],
             [
              0.1111111111111111,
              "#46039f"
             ],
             [
              0.2222222222222222,
              "#7201a8"
             ],
             [
              0.3333333333333333,
              "#9c179e"
             ],
             [
              0.4444444444444444,
              "#bd3786"
             ],
             [
              0.5555555555555556,
              "#d8576b"
             ],
             [
              0.6666666666666666,
              "#ed7953"
             ],
             [
              0.7777777777777778,
              "#fb9f3a"
             ],
             [
              0.8888888888888888,
              "#fdca26"
             ],
             [
              1,
              "#f0f921"
             ]
            ],
            "type": "heatmap"
           }
          ],
          "heatmapgl": [
           {
            "colorbar": {
             "outlinewidth": 0,
             "ticks": ""
            },
            "colorscale": [
             [
              0,
              "#0d0887"
             ],
             [
              0.1111111111111111,
              "#46039f"
             ],
             [
              0.2222222222222222,
              "#7201a8"
             ],
             [
              0.3333333333333333,
              "#9c179e"
             ],
             [
              0.4444444444444444,
              "#bd3786"
             ],
             [
              0.5555555555555556,
              "#d8576b"
             ],
             [
              0.6666666666666666,
              "#ed7953"
             ],
             [
              0.7777777777777778,
              "#fb9f3a"
             ],
             [
              0.8888888888888888,
              "#fdca26"
             ],
             [
              1,
              "#f0f921"
             ]
            ],
            "type": "heatmapgl"
           }
          ],
          "histogram": [
           {
            "marker": {
             "pattern": {
              "fillmode": "overlay",
              "size": 10,
              "solidity": 0.2
             }
            },
            "type": "histogram"
           }
          ],
          "histogram2d": [
           {
            "colorbar": {
             "outlinewidth": 0,
             "ticks": ""
            },
            "colorscale": [
             [
              0,
              "#0d0887"
             ],
             [
              0.1111111111111111,
              "#46039f"
             ],
             [
              0.2222222222222222,
              "#7201a8"
             ],
             [
              0.3333333333333333,
              "#9c179e"
             ],
             [
              0.4444444444444444,
              "#bd3786"
             ],
             [
              0.5555555555555556,
              "#d8576b"
             ],
             [
              0.6666666666666666,
              "#ed7953"
             ],
             [
              0.7777777777777778,
              "#fb9f3a"
             ],
             [
              0.8888888888888888,
              "#fdca26"
             ],
             [
              1,
              "#f0f921"
             ]
            ],
            "type": "histogram2d"
           }
          ],
          "histogram2dcontour": [
           {
            "colorbar": {
             "outlinewidth": 0,
             "ticks": ""
            },
            "colorscale": [
             [
              0,
              "#0d0887"
             ],
             [
              0.1111111111111111,
              "#46039f"
             ],
             [
              0.2222222222222222,
              "#7201a8"
             ],
             [
              0.3333333333333333,
              "#9c179e"
             ],
             [
              0.4444444444444444,
              "#bd3786"
             ],
             [
              0.5555555555555556,
              "#d8576b"
             ],
             [
              0.6666666666666666,
              "#ed7953"
             ],
             [
              0.7777777777777778,
              "#fb9f3a"
             ],
             [
              0.8888888888888888,
              "#fdca26"
             ],
             [
              1,
              "#f0f921"
             ]
            ],
            "type": "histogram2dcontour"
           }
          ],
          "mesh3d": [
           {
            "colorbar": {
             "outlinewidth": 0,
             "ticks": ""
            },
            "type": "mesh3d"
           }
          ],
          "parcoords": [
           {
            "line": {
             "colorbar": {
              "outlinewidth": 0,
              "ticks": ""
             }
            },
            "type": "parcoords"
           }
          ],
          "pie": [
           {
            "automargin": true,
            "type": "pie"
           }
          ],
          "scatter": [
           {
            "fillpattern": {
             "fillmode": "overlay",
             "size": 10,
             "solidity": 0.2
            },
            "type": "scatter"
           }
          ],
          "scatter3d": [
           {
            "line": {
             "colorbar": {
              "outlinewidth": 0,
              "ticks": ""
             }
            },
            "marker": {
             "colorbar": {
              "outlinewidth": 0,
              "ticks": ""
             }
            },
            "type": "scatter3d"
           }
          ],
          "scattercarpet": [
           {
            "marker": {
             "colorbar": {
              "outlinewidth": 0,
              "ticks": ""
             }
            },
            "type": "scattercarpet"
           }
          ],
          "scattergeo": [
           {
            "marker": {
             "colorbar": {
              "outlinewidth": 0,
              "ticks": ""
             }
            },
            "type": "scattergeo"
           }
          ],
          "scattergl": [
           {
            "marker": {
             "colorbar": {
              "outlinewidth": 0,
              "ticks": ""
             }
            },
            "type": "scattergl"
           }
          ],
          "scattermapbox": [
           {
            "marker": {
             "colorbar": {
              "outlinewidth": 0,
              "ticks": ""
             }
            },
            "type": "scattermapbox"
           }
          ],
          "scatterpolar": [
           {
            "marker": {
             "colorbar": {
              "outlinewidth": 0,
              "ticks": ""
             }
            },
            "type": "scatterpolar"
           }
          ],
          "scatterpolargl": [
           {
            "marker": {
             "colorbar": {
              "outlinewidth": 0,
              "ticks": ""
             }
            },
            "type": "scatterpolargl"
           }
          ],
          "scatterternary": [
           {
            "marker": {
             "colorbar": {
              "outlinewidth": 0,
              "ticks": ""
             }
            },
            "type": "scatterternary"
           }
          ],
          "surface": [
           {
            "colorbar": {
             "outlinewidth": 0,
             "ticks": ""
            },
            "colorscale": [
             [
              0,
              "#0d0887"
             ],
             [
              0.1111111111111111,
              "#46039f"
             ],
             [
              0.2222222222222222,
              "#7201a8"
             ],
             [
              0.3333333333333333,
              "#9c179e"
             ],
             [
              0.4444444444444444,
              "#bd3786"
             ],
             [
              0.5555555555555556,
              "#d8576b"
             ],
             [
              0.6666666666666666,
              "#ed7953"
             ],
             [
              0.7777777777777778,
              "#fb9f3a"
             ],
             [
              0.8888888888888888,
              "#fdca26"
             ],
             [
              1,
              "#f0f921"
             ]
            ],
            "type": "surface"
           }
          ],
          "table": [
           {
            "cells": {
             "fill": {
              "color": "#EBF0F8"
             },
             "line": {
              "color": "white"
             }
            },
            "header": {
             "fill": {
              "color": "#C8D4E3"
             },
             "line": {
              "color": "white"
             }
            },
            "type": "table"
           }
          ]
         },
         "layout": {
          "annotationdefaults": {
           "arrowcolor": "#2a3f5f",
           "arrowhead": 0,
           "arrowwidth": 1
          },
          "autotypenumbers": "strict",
          "coloraxis": {
           "colorbar": {
            "outlinewidth": 0,
            "ticks": ""
           }
          },
          "colorscale": {
           "diverging": [
            [
             0,
             "#8e0152"
            ],
            [
             0.1,
             "#c51b7d"
            ],
            [
             0.2,
             "#de77ae"
            ],
            [
             0.3,
             "#f1b6da"
            ],
            [
             0.4,
             "#fde0ef"
            ],
            [
             0.5,
             "#f7f7f7"
            ],
            [
             0.6,
             "#e6f5d0"
            ],
            [
             0.7,
             "#b8e186"
            ],
            [
             0.8,
             "#7fbc41"
            ],
            [
             0.9,
             "#4d9221"
            ],
            [
             1,
             "#276419"
            ]
           ],
           "sequential": [
            [
             0,
             "#0d0887"
            ],
            [
             0.1111111111111111,
             "#46039f"
            ],
            [
             0.2222222222222222,
             "#7201a8"
            ],
            [
             0.3333333333333333,
             "#9c179e"
            ],
            [
             0.4444444444444444,
             "#bd3786"
            ],
            [
             0.5555555555555556,
             "#d8576b"
            ],
            [
             0.6666666666666666,
             "#ed7953"
            ],
            [
             0.7777777777777778,
             "#fb9f3a"
            ],
            [
             0.8888888888888888,
             "#fdca26"
            ],
            [
             1,
             "#f0f921"
            ]
           ],
           "sequentialminus": [
            [
             0,
             "#0d0887"
            ],
            [
             0.1111111111111111,
             "#46039f"
            ],
            [
             0.2222222222222222,
             "#7201a8"
            ],
            [
             0.3333333333333333,
             "#9c179e"
            ],
            [
             0.4444444444444444,
             "#bd3786"
            ],
            [
             0.5555555555555556,
             "#d8576b"
            ],
            [
             0.6666666666666666,
             "#ed7953"
            ],
            [
             0.7777777777777778,
             "#fb9f3a"
            ],
            [
             0.8888888888888888,
             "#fdca26"
            ],
            [
             1,
             "#f0f921"
            ]
           ]
          },
          "colorway": [
           "#636efa",
           "#EF553B",
           "#00cc96",
           "#ab63fa",
           "#FFA15A",
           "#19d3f3",
           "#FF6692",
           "#B6E880",
           "#FF97FF",
           "#FECB52"
          ],
          "font": {
           "color": "#2a3f5f"
          },
          "geo": {
           "bgcolor": "white",
           "lakecolor": "white",
           "landcolor": "#E5ECF6",
           "showlakes": true,
           "showland": true,
           "subunitcolor": "white"
          },
          "hoverlabel": {
           "align": "left"
          },
          "hovermode": "closest",
          "mapbox": {
           "style": "light"
          },
          "paper_bgcolor": "white",
          "plot_bgcolor": "#E5ECF6",
          "polar": {
           "angularaxis": {
            "gridcolor": "white",
            "linecolor": "white",
            "ticks": ""
           },
           "bgcolor": "#E5ECF6",
           "radialaxis": {
            "gridcolor": "white",
            "linecolor": "white",
            "ticks": ""
           }
          },
          "scene": {
           "xaxis": {
            "backgroundcolor": "#E5ECF6",
            "gridcolor": "white",
            "gridwidth": 2,
            "linecolor": "white",
            "showbackground": true,
            "ticks": "",
            "zerolinecolor": "white"
           },
           "yaxis": {
            "backgroundcolor": "#E5ECF6",
            "gridcolor": "white",
            "gridwidth": 2,
            "linecolor": "white",
            "showbackground": true,
            "ticks": "",
            "zerolinecolor": "white"
           },
           "zaxis": {
            "backgroundcolor": "#E5ECF6",
            "gridcolor": "white",
            "gridwidth": 2,
            "linecolor": "white",
            "showbackground": true,
            "ticks": "",
            "zerolinecolor": "white"
           }
          },
          "shapedefaults": {
           "line": {
            "color": "#2a3f5f"
           }
          },
          "ternary": {
           "aaxis": {
            "gridcolor": "white",
            "linecolor": "white",
            "ticks": ""
           },
           "baxis": {
            "gridcolor": "white",
            "linecolor": "white",
            "ticks": ""
           },
           "bgcolor": "#E5ECF6",
           "caxis": {
            "gridcolor": "white",
            "linecolor": "white",
            "ticks": ""
           }
          },
          "title": {
           "x": 0.05
          },
          "xaxis": {
           "automargin": true,
           "gridcolor": "white",
           "linecolor": "white",
           "ticks": "",
           "title": {
            "standoff": 15
           },
           "zerolinecolor": "white",
           "zerolinewidth": 2
          },
          "yaxis": {
           "automargin": true,
           "gridcolor": "white",
           "linecolor": "white",
           "ticks": "",
           "title": {
            "standoff": 15
           },
           "zerolinecolor": "white",
           "zerolinewidth": 2
          }
         }
        },
        "title": {
         "text": "Quebec Health Care System Terminology Embedding Visualization"
        },
        "xaxis": {
         "anchor": "y",
         "domain": [
          0,
          1
         ],
         "title": {
          "text": "x"
         }
        },
        "yaxis": {
         "anchor": "x",
         "domain": [
          0,
          1
         ],
         "title": {
          "text": "y"
         }
        }
       }
      }
     },
     "metadata": {},
     "output_type": "display_data"
    },
    {
     "data": {
      "text/plain": [
       "'../06-clustering/BERT_communityDetection_visualization_sample.html'"
      ]
     },
     "execution_count": 26,
     "metadata": {},
     "output_type": "execute_result"
    }
   ],
   "source": [
    "import plotly.express as px\n",
    "import plotly\n",
    "\n",
    "fig = px.scatter(df_embeddings, x='x', y='y', color='label', labels={'color': 'label'}, \n",
    "hover_data=['text'], title = 'Quebec Health Care System Terminology Embedding Visualization')\n",
    "fig.show()\n",
    "\n",
    "# html file\n",
    "file_path = '../06-clustering/BERT_communityDetection_visualization_sample.html'\n",
    "plotly.offline.plot(fig, filename=file_path)\n"
   ]
  }
 ],
 "metadata": {
  "kernelspec": {
   "display_name": "Python 3.10.5 64-bit",
   "language": "python",
   "name": "python3"
  },
  "language_info": {
   "codemirror_mode": {
    "name": "ipython",
    "version": 3
   },
   "file_extension": ".py",
   "mimetype": "text/x-python",
   "name": "python",
   "nbconvert_exporter": "python",
   "pygments_lexer": "ipython3",
   "version": "3.10.5"
  },
  "orig_nbformat": 4,
  "vscode": {
   "interpreter": {
    "hash": "79bb76bbc4f9ba1f8df5efe8db67aae07079a51dc7b5004f49990e90f5993a15"
   }
  }
 },
 "nbformat": 4,
 "nbformat_minor": 2
}
