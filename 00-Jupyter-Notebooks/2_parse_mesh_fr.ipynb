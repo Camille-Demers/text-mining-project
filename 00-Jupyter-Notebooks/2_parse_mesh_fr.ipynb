{
 "cells": [
  {
   "cell_type": "markdown",
   "metadata": {},
   "source": [
    "### **Parse MeSH XML** "
   ]
  },
  {
   "cell_type": "markdown",
   "metadata": {},
   "source": [
    "Le MeSH 2019 comprend 29 351 descripteurs  \n",
    "https://mesh.inserm.fr/FrenchMesh/presentation.htm"
   ]
  },
  {
   "cell_type": "code",
   "execution_count": 2,
   "metadata": {},
   "outputs": [],
   "source": [
    "import xml.etree.ElementTree as ET\n",
    "import re\n",
    "import pandas as pd"
   ]
  },
  {
   "cell_type": "code",
   "execution_count": 3,
   "metadata": {},
   "outputs": [],
   "source": [
    "tree = ET.parse('../fredesc2019.xml')\n",
    "root = tree.getroot()"
   ]
  },
  {
   "cell_type": "code",
   "execution_count": 106,
   "metadata": {},
   "outputs": [],
   "source": [
    "def flatten(l):\n",
    "    return [item for sublist in l for item in sublist]"
   ]
  },
  {
   "cell_type": "code",
   "execution_count": 110,
   "metadata": {},
   "outputs": [],
   "source": [
    "base_path = '../04-filtrage/MeSH/'\n",
    "file_path = 'mesh_ids_fr-en.csv'"
   ]
  },
  {
   "cell_type": "code",
   "execution_count": 111,
   "metadata": {},
   "outputs": [
    {
     "data": {
      "text/html": [
       "<div>\n",
       "<style scoped>\n",
       "    .dataframe tbody tr th:only-of-type {\n",
       "        vertical-align: middle;\n",
       "    }\n",
       "\n",
       "    .dataframe tbody tr th {\n",
       "        vertical-align: top;\n",
       "    }\n",
       "\n",
       "    .dataframe thead th {\n",
       "        text-align: right;\n",
       "    }\n",
       "</style>\n",
       "<table border=\"1\" class=\"dataframe\">\n",
       "  <thead>\n",
       "    <tr style=\"text-align: right;\">\n",
       "      <th></th>\n",
       "      <th>mesh_id</th>\n",
       "      <th>label_fr</th>\n",
       "      <th>label_en</th>\n",
       "      <th>synonymes (en/fr)</th>\n",
       "    </tr>\n",
       "  </thead>\n",
       "  <tbody>\n",
       "    <tr>\n",
       "      <th>0</th>\n",
       "      <td>D000001</td>\n",
       "      <td>A-23187</td>\n",
       "      <td>Calcimycin</td>\n",
       "      <td>[Calcimycin, A-23187, A-23187, A 23187, A23187...</td>\n",
       "    </tr>\n",
       "    <tr>\n",
       "      <th>1</th>\n",
       "      <td>D000002</td>\n",
       "      <td>Téméfos</td>\n",
       "      <td>Temefos</td>\n",
       "      <td>[Temefos, Temephos, Téméfos, Abate, Difos]</td>\n",
       "    </tr>\n",
       "    <tr>\n",
       "      <th>2</th>\n",
       "      <td>D000003</td>\n",
       "      <td>Abattoirs</td>\n",
       "      <td>Abattoirs</td>\n",
       "      <td>[Abattoirs, Abattoir, Slaughter Houses, House,...</td>\n",
       "    </tr>\n",
       "    <tr>\n",
       "      <th>3</th>\n",
       "      <td>D000004</td>\n",
       "      <td>Abréviations comme sujet</td>\n",
       "      <td>Abbreviations as Topic</td>\n",
       "      <td>[Abbreviations as Topic, Abréviations comme su...</td>\n",
       "    </tr>\n",
       "    <tr>\n",
       "      <th>4</th>\n",
       "      <td>D000005</td>\n",
       "      <td>Abdomen</td>\n",
       "      <td>Abdomen</td>\n",
       "      <td>[Abdomen, Abdomens, Abdomen, Ventre]</td>\n",
       "    </tr>\n",
       "    <tr>\n",
       "      <th>...</th>\n",
       "      <td>...</td>\n",
       "      <td>...</td>\n",
       "      <td>...</td>\n",
       "      <td>...</td>\n",
       "    </tr>\n",
       "    <tr>\n",
       "      <th>29346</th>\n",
       "      <td>D066310</td>\n",
       "      <td>Fracture numérique</td>\n",
       "      <td>Digital Divide</td>\n",
       "      <td>[Digital Divide, Divide, Digital, Fracture num...</td>\n",
       "    </tr>\n",
       "    <tr>\n",
       "      <th>29347</th>\n",
       "      <td>D066328</td>\n",
       "      <td>Striatum ventral</td>\n",
       "      <td>Ventral Striatum</td>\n",
       "      <td>[Ventral Striatum, Striatum, Ventral, Striatum...</td>\n",
       "    </tr>\n",
       "    <tr>\n",
       "      <th>29348</th>\n",
       "      <td>D066329</td>\n",
       "      <td>Agrégats de protéines</td>\n",
       "      <td>Protein Aggregates</td>\n",
       "      <td>[Protein Aggregates, Aggregates, Protein, Agré...</td>\n",
       "    </tr>\n",
       "    <tr>\n",
       "      <th>29349</th>\n",
       "      <td>D066330</td>\n",
       "      <td>Impression tridimensionnelle</td>\n",
       "      <td>Printing, Three-Dimensional</td>\n",
       "      <td>[Printing, Three-Dimensional, Printing, Three ...</td>\n",
       "    </tr>\n",
       "    <tr>\n",
       "      <th>29350</th>\n",
       "      <td>D066331</td>\n",
       "      <td>Potentiels évoqués par laser</td>\n",
       "      <td>Laser-Evoked Potentials</td>\n",
       "      <td>[Laser-Evoked Potentials, Laser Evoked Potenti...</td>\n",
       "    </tr>\n",
       "  </tbody>\n",
       "</table>\n",
       "<p>29351 rows × 4 columns</p>\n",
       "</div>"
      ],
      "text/plain": [
       "       mesh_id                      label_fr                     label_en  \\\n",
       "0      D000001                       A-23187                   Calcimycin   \n",
       "1      D000002                       Téméfos                      Temefos   \n",
       "2      D000003                     Abattoirs                    Abattoirs   \n",
       "3      D000004      Abréviations comme sujet       Abbreviations as Topic   \n",
       "4      D000005                       Abdomen                      Abdomen   \n",
       "...        ...                           ...                          ...   \n",
       "29346  D066310            Fracture numérique               Digital Divide   \n",
       "29347  D066328              Striatum ventral             Ventral Striatum   \n",
       "29348  D066329         Agrégats de protéines           Protein Aggregates   \n",
       "29349  D066330  Impression tridimensionnelle  Printing, Three-Dimensional   \n",
       "29350  D066331  Potentiels évoqués par laser      Laser-Evoked Potentials   \n",
       "\n",
       "                                       synonymes (en/fr)  \n",
       "0      [Calcimycin, A-23187, A-23187, A 23187, A23187...  \n",
       "1             [Temefos, Temephos, Téméfos, Abate, Difos]  \n",
       "2      [Abattoirs, Abattoir, Slaughter Houses, House,...  \n",
       "3      [Abbreviations as Topic, Abréviations comme su...  \n",
       "4                   [Abdomen, Abdomens, Abdomen, Ventre]  \n",
       "...                                                  ...  \n",
       "29346  [Digital Divide, Divide, Digital, Fracture num...  \n",
       "29347  [Ventral Striatum, Striatum, Ventral, Striatum...  \n",
       "29348  [Protein Aggregates, Aggregates, Protein, Agré...  \n",
       "29349  [Printing, Three-Dimensional, Printing, Three ...  \n",
       "29350  [Laser-Evoked Potentials, Laser Evoked Potenti...  \n",
       "\n",
       "[29351 rows x 4 columns]"
      ]
     },
     "execution_count": 111,
     "metadata": {},
     "output_type": "execute_result"
    }
   ],
   "source": [
    "data = [{'mesh_id' : x.find('DescriptorUI').text.strip('\\n'), \\\n",
    "         'label_fr' : x.find('DescriptorName').find('String').text.split('[')[0], \\\n",
    "         'label_en' : x.find('DescriptorName').find('String').text.split('[')[1].strip(']'), \\\n",
    "         'synonymes (en/fr)' : flatten([[term.find('String').text for term in concept.find('TermList').findall('Term')] for concept in x.find('ConceptList').findall('Concept')]) \\\n",
    "         } for x in root.findall('DescriptorRecord')]\n",
    "\n",
    "pd.DataFrame(data).to_csv(file_path)\n",
    "pd.DataFrame(data)"
   ]
  },
  {
   "cell_type": "code",
   "execution_count": 109,
   "metadata": {},
   "outputs": [
    {
     "name": "stdout",
     "output_type": "stream",
     "text": [
      "Calcimycin\n",
      "A-23187\n",
      "A-23187\n",
      "A 23187\n",
      "A23187\n",
      "Antibiotic A23187\n",
      "A23187, Antibiotic\n",
      "Temefos\n",
      "Temephos\n",
      "Téméfos\n",
      "Abate\n",
      "Difos\n",
      "Abattoirs\n",
      "Abattoir\n",
      "Slaughter Houses\n",
      "House, Slaughter\n",
      "Houses, Slaughter\n",
      "Slaughter House\n",
      "Slaughterhouses\n",
      "Slaughterhouse\n",
      "Abattoirs\n",
      "Abattoir\n",
      "Abbreviations as Topic\n",
      "Abréviations comme sujet\n",
      "Acronyms as Topic\n",
      "Acronymes comme sujet\n",
      "Abdomen\n",
      "Abdomens\n",
      "Abdomen\n",
      "Ventre\n"
     ]
    }
   ],
   "source": [
    "for desc in root.findall('DescriptorRecord')[:5]:\n",
    "    for concept in desc.find('ConceptList'):\n",
    "        for term in concept.find('TermList').findall('Term'):\n",
    "            print(term.find('String').text)"
   ]
  },
  {
   "cell_type": "code",
   "execution_count": 80,
   "metadata": {},
   "outputs": [],
   "source": [
    "strings = [x for x in root.findall('.//String')]"
   ]
  },
  {
   "cell_type": "code",
   "execution_count": 76,
   "metadata": {},
   "outputs": [],
   "source": [
    "regex = '.+\\[.*\\]'\n",
    "labels = pd.DataFrame([{'label_fr' : x.text.split('[')[0], 'label_en': x.text.split('[')[1].strip(']'), 'MeSHID' : None} for x in strings if re.match(regex, x.text)]).drop_duplicates()"
   ]
  },
  {
   "cell_type": "markdown",
   "metadata": {},
   "source": [
    "Avec les synonymes, on a 47 176 termes "
   ]
  },
  {
   "cell_type": "code",
   "execution_count": 77,
   "metadata": {},
   "outputs": [
    {
     "data": {
      "text/html": [
       "<div>\n",
       "<style scoped>\n",
       "    .dataframe tbody tr th:only-of-type {\n",
       "        vertical-align: middle;\n",
       "    }\n",
       "\n",
       "    .dataframe tbody tr th {\n",
       "        vertical-align: top;\n",
       "    }\n",
       "\n",
       "    .dataframe thead th {\n",
       "        text-align: right;\n",
       "    }\n",
       "</style>\n",
       "<table border=\"1\" class=\"dataframe\">\n",
       "  <thead>\n",
       "    <tr style=\"text-align: right;\">\n",
       "      <th></th>\n",
       "      <th>label_fr</th>\n",
       "      <th>label_en</th>\n",
       "      <th>MeSHID</th>\n",
       "    </tr>\n",
       "  </thead>\n",
       "  <tbody>\n",
       "    <tr>\n",
       "      <th>0</th>\n",
       "      <td>A-23187</td>\n",
       "      <td>Calcimycin</td>\n",
       "      <td>None</td>\n",
       "    </tr>\n",
       "    <tr>\n",
       "      <th>2</th>\n",
       "      <td>Téméfos</td>\n",
       "      <td>Temefos</td>\n",
       "      <td>None</td>\n",
       "    </tr>\n",
       "    <tr>\n",
       "      <th>4</th>\n",
       "      <td>Abattoirs</td>\n",
       "      <td>Abattoirs</td>\n",
       "      <td>None</td>\n",
       "    </tr>\n",
       "    <tr>\n",
       "      <th>6</th>\n",
       "      <td>Abréviations comme sujet</td>\n",
       "      <td>Abbreviations as Topic</td>\n",
       "      <td>None</td>\n",
       "    </tr>\n",
       "    <tr>\n",
       "      <th>8</th>\n",
       "      <td>Acronymes comme sujet</td>\n",
       "      <td>Acronyms as Topic</td>\n",
       "      <td>None</td>\n",
       "    </tr>\n",
       "    <tr>\n",
       "      <th>...</th>\n",
       "      <td>...</td>\n",
       "      <td>...</td>\n",
       "      <td>...</td>\n",
       "    </tr>\n",
       "    <tr>\n",
       "      <th>76539</th>\n",
       "      <td>Fracture numérique</td>\n",
       "      <td>Digital Divide</td>\n",
       "      <td>None</td>\n",
       "    </tr>\n",
       "    <tr>\n",
       "      <th>76541</th>\n",
       "      <td>Striatum ventral</td>\n",
       "      <td>Ventral Striatum</td>\n",
       "      <td>None</td>\n",
       "    </tr>\n",
       "    <tr>\n",
       "      <th>76543</th>\n",
       "      <td>Agrégats de protéines</td>\n",
       "      <td>Protein Aggregates</td>\n",
       "      <td>None</td>\n",
       "    </tr>\n",
       "    <tr>\n",
       "      <th>76545</th>\n",
       "      <td>Impression tridimensionnelle</td>\n",
       "      <td>Printing, Three-Dimensional</td>\n",
       "      <td>None</td>\n",
       "    </tr>\n",
       "    <tr>\n",
       "      <th>76547</th>\n",
       "      <td>Potentiels évoqués par laser</td>\n",
       "      <td>Laser-Evoked Potentials</td>\n",
       "      <td>None</td>\n",
       "    </tr>\n",
       "  </tbody>\n",
       "</table>\n",
       "<p>47176 rows × 3 columns</p>\n",
       "</div>"
      ],
      "text/plain": [
       "                           label_fr                     label_en MeSHID\n",
       "0                           A-23187                   Calcimycin   None\n",
       "2                           Téméfos                      Temefos   None\n",
       "4                         Abattoirs                    Abattoirs   None\n",
       "6          Abréviations comme sujet       Abbreviations as Topic   None\n",
       "8             Acronymes comme sujet            Acronyms as Topic   None\n",
       "...                             ...                          ...    ...\n",
       "76539            Fracture numérique               Digital Divide   None\n",
       "76541              Striatum ventral             Ventral Striatum   None\n",
       "76543         Agrégats de protéines           Protein Aggregates   None\n",
       "76545  Impression tridimensionnelle  Printing, Three-Dimensional   None\n",
       "76547  Potentiels évoqués par laser      Laser-Evoked Potentials   None\n",
       "\n",
       "[47176 rows x 3 columns]"
      ]
     },
     "execution_count": 77,
     "metadata": {},
     "output_type": "execute_result"
    }
   ],
   "source": [
    "labels"
   ]
  }
 ],
 "metadata": {
  "kernelspec": {
   "display_name": "Python 3.10.5 64-bit",
   "language": "python",
   "name": "python3"
  },
  "language_info": {
   "codemirror_mode": {
    "name": "ipython",
    "version": 3
   },
   "file_extension": ".py",
   "mimetype": "text/x-python",
   "name": "python",
   "nbconvert_exporter": "python",
   "pygments_lexer": "ipython3",
   "version": "3.10.5"
  },
  "orig_nbformat": 4,
  "vscode": {
   "interpreter": {
    "hash": "79bb76bbc4f9ba1f8df5efe8db67aae07079a51dc7b5004f49990e90f5993a15"
   }
  }
 },
 "nbformat": 4,
 "nbformat_minor": 2
}
