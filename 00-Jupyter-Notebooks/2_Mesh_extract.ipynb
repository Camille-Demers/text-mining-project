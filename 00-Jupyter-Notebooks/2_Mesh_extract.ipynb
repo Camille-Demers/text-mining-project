{
 "cells": [
  {
   "cell_type": "markdown",
   "metadata": {},
   "source": [
    "# **MeSH - Extract Most Frequent Syntactic Structures**"
   ]
  },
  {
   "cell_type": "markdown",
   "id": "c2f7aee2",
   "metadata": {},
   "source": [
    "Extraire les structures syntaxiques les plus courantes dans les MeSH pour filtrer notre corpus selon celles-ci (inspiré de la méthodologie de l'article ci-dessous).\n",
    "\n",
    "Lossio-Ventura, J. A., Jonquet, C., Roche, M., & Teisseire, M. (2014). Biomedical Terminology Extraction : A new combination of Statistical and Web Mining Approaches. 421. https://hal-lirmm.ccsd.cnrs.fr/lirmm-01056598"
   ]
  },
  {
   "cell_type": "code",
   "execution_count": null,
   "id": "665b9c43",
   "metadata": {},
   "outputs": [],
   "source": [
    "import pandas\n",
    "path = '../Documents/04-filtrage/MeSH/'\n",
    "\n",
    "with open(path + \"mesh-fr.txt\", 'r', encoding = \"UTF-8\") as f:\n",
    "    mesh = f.read().split(\"\\n\")"
   ]
  },
  {
   "cell_type": "markdown",
   "id": "c5108f9d",
   "metadata": {},
   "source": [
    "### POS tagging\n",
    "TreeTagger"
   ]
  },
  {
   "cell_type": "code",
   "execution_count": null,
   "id": "62ea2341",
   "metadata": {},
   "outputs": [],
   "source": [
    "import treetaggerwrapper\n",
    "tagger = treetaggerwrapper.TreeTagger(TAGLANG='fr')"
   ]
  },
  {
   "cell_type": "code",
   "execution_count": null,
   "metadata": {},
   "outputs": [],
   "source": [
    "path = '../04-filtrage/mapping_treeTagger_lefff.csv'\n",
    "\n",
    "with open(path) as f:\n",
    "    csv = read_csv(f)\n",
    "\n",
    "treeTag = [term for term in csv['TreeTagger'].tolist()] \n",
    "lefff = [term for term in csv['Lefff'].tolist()]\n",
    "\n",
    "mapping = {term : lefff[treeTag.index(term)] for term in treeTag}\n",
    "mapping"
   ]
  },
  {
   "cell_type": "code",
   "execution_count": null,
   "id": "3f9676b0",
   "metadata": {},
   "outputs": [],
   "source": [
    "mesh_txt = [tagger.tag_text(term) for term in mesh]"
   ]
  },
  {
   "cell_type": "code",
   "execution_count": null,
   "id": "46ea4124",
   "metadata": {},
   "outputs": [],
   "source": [
    "\"\"\"\n",
    "0 - Token\n",
    "1 - POS\n",
    "2 - Lemme\n",
    "\"\"\"\n",
    "\n",
    "structures = []\n",
    "tuples = []\n",
    "for terme in mesh_txt:\n",
    "    exp = \" \".join([(t.split(\"\\t\")[0]) for t in terme])\n",
    "    chunk = \" \".join([mapping[t.split('\\t')[1]] for t in terme if not '-' in mapping[t.split('\\t')[1]]])\n",
    "    tuples.append((exp, chunk))\n",
    "    structures.append(chunk)"
   ]
  },
  {
   "cell_type": "code",
   "execution_count": null,
   "id": "dce2da1b",
   "metadata": {},
   "outputs": [],
   "source": [
    "tuples"
   ]
  },
  {
   "cell_type": "markdown",
   "metadata": {},
   "source": [
    "### Frequency distribution\n",
    "To CSV"
   ]
  },
  {
   "cell_type": "code",
   "execution_count": null,
   "id": "3e60093f",
   "metadata": {},
   "outputs": [],
   "source": [
    "from nltk.probability import FreqDist\n",
    "freq = FreqDist(structures)\n",
    "tab = pandas.DataFrame(list(freq.items()), columns= [\"Structure\", \"Fréquence\"])\n",
    "tab.sort_values([\"Fréquence\"], \n",
    "                    axis=0,\n",
    "                    ascending=[False], \n",
    "                    inplace=True)\n",
    "tab.to_csv(path+'mesh_patterns-fr.csv')\n",
    "tab"
   ]
  }
 ],
 "metadata": {
  "interpreter": {
   "hash": "a33210152f7d2bd255fb16656f372b633dbf298ed202bbbac20290b0375cadb7"
  },
  "kernelspec": {
   "display_name": "Python 3.9.12 ('base')",
   "language": "python",
   "name": "python3"
  },
  "language_info": {
   "codemirror_mode": {
    "name": "ipython",
    "version": 3
   },
   "file_extension": ".py",
   "mimetype": "text/x-python",
   "name": "python",
   "nbconvert_exporter": "python",
   "pygments_lexer": "ipython3",
   "version": "3.9.12"
  },
  "orig_nbformat": 4
 },
 "nbformat": 4,
 "nbformat_minor": 2
}
