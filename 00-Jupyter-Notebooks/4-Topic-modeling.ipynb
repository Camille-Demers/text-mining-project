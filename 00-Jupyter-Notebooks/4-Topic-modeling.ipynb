{
  "cells": [
    {
      "cell_type": "markdown",
      "metadata": {},
      "source": [
        "## **4. Clustering** (sentence_transformers)  "
      ]
    },
    {
      "cell_type": "markdown",
      "metadata": {
        "id": "MXHRpn-EYrbv"
      },
      "source": [
        "#Semantic Keyword Cluster Tool V1\n",
        "by [LeeFootSEO](https://twitter.com/LeeFootSEO) February 2022\n",
        "\n",
        "https://colab.research.google.com/github/searchsolved/search-solved-public-seo/blob/main/search_engine_journal/SEJ_Semantic_Clustering_Tool_by_LeeFootSEO.ipynb#scrollTo=X4p40j7Xng5O  \n",
        "\n",
        "https://huggingface.co/Sahajtomar/french_semantic"
      ]
    },
    {
      "cell_type": "code",
      "execution_count": 173,
      "metadata": {},
      "outputs": [],
      "source": [
        "path = '../05-transformation/'\n",
        "acteur = 'msss'\n",
        "tag = 'dependances'\n",
        "\n",
        "if tag:\n",
        "    csv_file = acteur + '_' + tag + '_weighting_OKapiBM25.csv'\n",
        "\n",
        "else:\n",
        "    csv_file = acteur + '_weighting_OKapiBM25.csv'"
      ]
    },
    {
      "cell_type": "code",
      "execution_count": 174,
      "metadata": {
        "id": "X4p40j7Xng5O"
      },
      "outputs": [],
      "source": [
        "# %pip install sentence_transformers==2.2.0\n",
        "# %pip install chardet\n",
        "# %pip install detect_delimiter"
      ]
    },
    {
      "cell_type": "code",
      "execution_count": 175,
      "metadata": {
        "id": "uzalzYeXntsz"
      },
      "outputs": [],
      "source": [
        "import sys\n",
        "import time\n",
        "import sys\n",
        "import pandas as pd\n",
        "import chardet\n",
        "import codecs\n",
        "from detect_delimiter import detect\n",
        "\n",
        "from sentence_transformers import SentenceTransformer, util"
      ]
    },
    {
      "cell_type": "markdown",
      "metadata": {
        "id": "GWR_3mfP2mNK"
      },
      "source": [
        "# File Types\n",
        "\n",
        "*   Script expects a column called 'Keyword'\n",
        "*   Recommend No More Than 50K Rows"
      ]
    },
    {
      "cell_type": "markdown",
      "metadata": {
        "id": "OkIJ-m9lmn_9"
      },
      "source": [
        "#Set Cluster Accuracy & Minimum Cluster Size"
      ]
    },
    {
      "cell_type": "code",
      "execution_count": 176,
      "metadata": {
        "id": "7uleqF6fTVMv"
      },
      "outputs": [],
      "source": [
        "cluster_accuracy = 25  # 0-100 (100 = very tight clusters, but higher percentage of no_cluster groups)\n",
        "min_cluster_size = 5  # set the minimum size of cluster groups. (Lower number = tighter groups)"
      ]
    },
    {
      "cell_type": "markdown",
      "metadata": {
        "id": "VYacg07-m82j"
      },
      "source": [
        "# Choose a Sentence Transformer\n",
        "Download Pre-Trained Models: https://www.sbert.net/docs/pretrained_models.html"
      ]
    },
    {
      "cell_type": "code",
      "execution_count": 177,
      "metadata": {},
      "outputs": [],
      "source": [
        "transformer = 'all-mpnet-base-v2'  # provides the best quality - pas trop donées ça va\n",
        "#transformer = 'all-MiniLM-L6-v2'  # 5 times faster and still offers good quality"
      ]
    },
    {
      "cell_type": "code",
      "execution_count": 178,
      "metadata": {},
      "outputs": [
        {
          "data": {
            "text/html": [
              "<div>\n",
              "<style scoped>\n",
              "    .dataframe tbody tr th:only-of-type {\n",
              "        vertical-align: middle;\n",
              "    }\n",
              "\n",
              "    .dataframe tbody tr th {\n",
              "        vertical-align: top;\n",
              "    }\n",
              "\n",
              "    .dataframe thead th {\n",
              "        text-align: right;\n",
              "    }\n",
              "</style>\n",
              "<table border=\"1\" class=\"dataframe\">\n",
              "  <thead>\n",
              "    <tr style=\"text-align: right;\">\n",
              "      <th></th>\n",
              "      <th>Keyword</th>\n",
              "    </tr>\n",
              "  </thead>\n",
              "  <tbody>\n",
              "    <tr>\n",
              "      <th>0</th>\n",
              "      <td>indicateurs de gestion utilisés par le ministè...</td>\n",
              "    </tr>\n",
              "    <tr>\n",
              "      <th>1</th>\n",
              "      <td>règlement sur la certification des ressources ...</td>\n",
              "    </tr>\n",
              "    <tr>\n",
              "      <th>2</th>\n",
              "      <td>indicateurs de gestion utilisés par le ministère</td>\n",
              "    </tr>\n",
              "    <tr>\n",
              "      <th>3</th>\n",
              "      <td>répertoire des indicateurs de gestion en santé</td>\n",
              "    </tr>\n",
              "    <tr>\n",
              "      <th>4</th>\n",
              "      <td>indicateurs de gestion en santé et services</td>\n",
              "    </tr>\n",
              "    <tr>\n",
              "      <th>...</th>\n",
              "      <td>...</td>\n",
              "    </tr>\n",
              "    <tr>\n",
              "      <th>259</th>\n",
              "      <td>jours ouvrables</td>\n",
              "    </tr>\n",
              "    <tr>\n",
              "      <th>260</th>\n",
              "      <td>réinsertion sociale</td>\n",
              "    </tr>\n",
              "    <tr>\n",
              "      <th>261</th>\n",
              "      <td>ressource certifiée</td>\n",
              "    </tr>\n",
              "    <tr>\n",
              "      <th>262</th>\n",
              "      <td>jours approche</td>\n",
              "    </tr>\n",
              "    <tr>\n",
              "      <th>263</th>\n",
              "      <td>thérapie individuelle</td>\n",
              "    </tr>\n",
              "  </tbody>\n",
              "</table>\n",
              "<p>264 rows × 1 columns</p>\n",
              "</div>"
            ],
            "text/plain": [
              "                                               Keyword\n",
              "0    indicateurs de gestion utilisés par le ministè...\n",
              "1    règlement sur la certification des ressources ...\n",
              "2     indicateurs de gestion utilisés par le ministère\n",
              "3       répertoire des indicateurs de gestion en santé\n",
              "4          indicateurs de gestion en santé et services\n",
              "..                                                 ...\n",
              "259                                    jours ouvrables\n",
              "260                                réinsertion sociale\n",
              "261                                ressource certifiée\n",
              "262                                     jours approche\n",
              "263                              thérapie individuelle\n",
              "\n",
              "[264 rows x 1 columns]"
            ]
          },
          "execution_count": 178,
          "metadata": {},
          "output_type": "execute_result"
        }
      ],
      "source": [
        "with open(path + csv_file, encoding='utf-8') as f:\n",
        "    df = pd.DataFrame(pd.read_csv(f)['Collocation'])\n",
        "    df.columns = ['Keyword']\n",
        "\n",
        "df"
      ]
    },
    {
      "cell_type": "code",
      "execution_count": 179,
      "metadata": {
        "id": "5YPJV-9eoY5i"
      },
      "outputs": [
        {
          "name": "stdout",
          "output_type": "stream",
          "text": [
            "Uploaded Keyword CSV File Successfully!\n"
          ]
        },
        {
          "data": {
            "text/html": [
              "<div>\n",
              "<style scoped>\n",
              "    .dataframe tbody tr th:only-of-type {\n",
              "        vertical-align: middle;\n",
              "    }\n",
              "\n",
              "    .dataframe tbody tr th {\n",
              "        vertical-align: top;\n",
              "    }\n",
              "\n",
              "    .dataframe thead th {\n",
              "        text-align: right;\n",
              "    }\n",
              "</style>\n",
              "<table border=\"1\" class=\"dataframe\">\n",
              "  <thead>\n",
              "    <tr style=\"text-align: right;\">\n",
              "      <th></th>\n",
              "      <th>Keyword</th>\n",
              "    </tr>\n",
              "  </thead>\n",
              "  <tbody>\n",
              "    <tr>\n",
              "      <th>0</th>\n",
              "      <td>indicateurs de gestion utilisés par le ministè...</td>\n",
              "    </tr>\n",
              "    <tr>\n",
              "      <th>1</th>\n",
              "      <td>règlement sur la certification des ressources ...</td>\n",
              "    </tr>\n",
              "    <tr>\n",
              "      <th>2</th>\n",
              "      <td>indicateurs de gestion utilisés par le ministère</td>\n",
              "    </tr>\n",
              "    <tr>\n",
              "      <th>3</th>\n",
              "      <td>répertoire des indicateurs de gestion en santé</td>\n",
              "    </tr>\n",
              "    <tr>\n",
              "      <th>4</th>\n",
              "      <td>indicateurs de gestion en santé et services</td>\n",
              "    </tr>\n",
              "    <tr>\n",
              "      <th>...</th>\n",
              "      <td>...</td>\n",
              "    </tr>\n",
              "    <tr>\n",
              "      <th>259</th>\n",
              "      <td>jours ouvrables</td>\n",
              "    </tr>\n",
              "    <tr>\n",
              "      <th>260</th>\n",
              "      <td>réinsertion sociale</td>\n",
              "    </tr>\n",
              "    <tr>\n",
              "      <th>261</th>\n",
              "      <td>ressource certifiée</td>\n",
              "    </tr>\n",
              "    <tr>\n",
              "      <th>262</th>\n",
              "      <td>jours approche</td>\n",
              "    </tr>\n",
              "    <tr>\n",
              "      <th>263</th>\n",
              "      <td>thérapie individuelle</td>\n",
              "    </tr>\n",
              "  </tbody>\n",
              "</table>\n",
              "<p>264 rows × 1 columns</p>\n",
              "</div>"
            ],
            "text/plain": [
              "                                               Keyword\n",
              "0    indicateurs de gestion utilisés par le ministè...\n",
              "1    règlement sur la certification des ressources ...\n",
              "2     indicateurs de gestion utilisés par le ministère\n",
              "3       répertoire des indicateurs de gestion en santé\n",
              "4          indicateurs de gestion en santé et services\n",
              "..                                                 ...\n",
              "259                                    jours ouvrables\n",
              "260                                réinsertion sociale\n",
              "261                                ressource certifiée\n",
              "262                                     jours approche\n",
              "263                              thérapie individuelle\n",
              "\n",
              "[264 rows x 1 columns]"
            ]
          },
          "execution_count": 179,
          "metadata": {},
          "output_type": "execute_result"
        }
      ],
      "source": [
        "count_rows = len(df)\n",
        "if count_rows > 50_000:\n",
        "  print(\"WARNING: You May Experience Crashes When Processing Over 50,000 Keywords at Once. Please consider smaller batches!\")\n",
        "print(\"Uploaded Keyword CSV File Successfully!\")\n",
        "df"
      ]
    },
    {
      "cell_type": "code",
      "execution_count": 180,
      "metadata": {
        "id": "KhzhF3Rk_llo"
      },
      "outputs": [],
      "source": [
        "# store the data\n",
        "cluster_name_list = []\n",
        "corpus_sentences_list = []\n",
        "df_all = []\n",
        "\n",
        "corpus_set = set(df['Keyword'])\n",
        "corpus_set_all = corpus_set\n",
        "cluster = True\n"
      ]
    },
    {
      "cell_type": "markdown",
      "metadata": {
        "id": "8yHMcc5FGZnx"
      },
      "source": [
        "#Clustering Keywords - This can take a while!"
      ]
    },
    {
      "cell_type": "code",
      "execution_count": 181,
      "metadata": {
        "id": "ivDBFFPipZMk"
      },
      "outputs": [
        {
          "name": "stderr",
          "output_type": "stream",
          "text": [
            "c:\\Users\\p1115145\\AppData\\Local\\Programs\\Python\\Python310\\lib\\site-packages\\huggingface_hub\\file_download.py:560: FutureWarning: `cached_download` is the legacy way to download files from the HF hub, please consider upgrading to `hf_hub_download`\n",
            "  warnings.warn(\n",
            "Batches: 100%|██████████| 2/2 [00:05<00:00,  2.74s/it]\n"
          ]
        },
        {
          "name": "stdout",
          "output_type": "stream",
          "text": [
            "\n",
            "Cluster 1, #246 Elements \n",
            "\t services sociaux ciusss\n",
            "\t services sociaux ententes\n",
            "\t services sociaux\n",
            "\t services sociaux cisss\n",
            "\t santé et services sociaux\n",
            "\t services sociaux ententes de gestion\n",
            "\t services sociaux pour les personnes en situation\n",
            "\t réseau de la santé et des services sociaux\n",
            "\t santé et services\n",
            "\t gestion en santé et services sociaux\n",
            "\t accès aux services\n",
            "\t services sociaux msss\n",
            "\t service de soutien\n",
            "\t accès aux services de santé\n",
            "\t services de santé\n",
            "\t service en clsc dans les délais\n",
            "\t service en clsc dans les délais établis\n",
            "\t établissements du réseau de la santé et des services sociaux\n",
            "\t ministère de la santé et des services sociaux\n",
            "\t réseau de la santé et des services\n",
            "\t gestion en santé et services\n",
            "\t service en clsc\n",
            "\t indicateurs de gestion en santé et services\n",
            "\t ressource publique services\n",
            "\t services en dépendance\n",
            "\t établissements du réseau de la santé et des services\n",
            "\t services sociaux rassemble\n",
            "\t services de réadaptation\n",
            "\t ressource publique services de réadaptation\n",
            "\t cisss et ciusss\n",
            "\t ministère de la santé et des services\n",
            "\t centre de santé\n",
            "\t communauté thérapeutique\n",
            "\t suivi de programmes\n",
            "\t certification des ressources communautaires\n",
            "\t conseil de la fédération\n",
            "\t certification des ressources communautaires ou privées\n",
            "\t msss et santé\n",
            "\t ressource publique\n",
            "\t organisation gagnante\n",
            "\t services de réadaptation en externe\n",
            "\t services de réadaptation en externe et avec hébergement\n",
            "\t conseil de la fédération cdf\n",
            "\t critère de consultation\n",
            "\t msss collabore avec le ministère\n",
            "\t soins de santé\n",
            "\t mauricie et centre\n",
            "\t federation pour innovation en matiere sante\n",
            "\t règlement sur la certification des ressources communautaires\n",
            "\t estrie fiche de la ressource\n",
            "\t federation pour innovation\n",
            "\t matière de santé\n",
            "\t indicateurs de gestion en santé\n",
            "\t mauricie et centre du québec\n",
            "\t territoire concerné\n",
            "\t centre de traitement\n",
            "\t clientèle jeunes et adultes\n",
            "\t clientèle jeunes\n",
            "\t gestion utilisés par le ministère de la santé\n",
            "\t établissements du réseau de la santé\n",
            "\t clsc dans les délais établis\n",
            "\t aide et soutien\n",
            "\t services offerts\n",
            "\t ressource certifiée en dépendances\n",
            "\t réseau de la santé\n",
            "\t campagne médiatique la spd\n",
            "\t centre de réadaptation\n",
            "\t clsc dans les délais\n",
            "\t régions ressources publiques\n",
            "\t campagne médiatique\n",
            "\t cognitivo comportementale\n",
            "\t réinsertion sociale\n",
            "\t indicateurs de gestion utilisés par le ministère de la santé\n",
            "\t semaine de prévention\n",
            "\t québec fiche de la ressource\n",
            "\t centre du québec\n",
            "\t federation pour innovation en matiere\n",
            "\t risques associés\n",
            "\t jeunes et semaine\n",
            "\t innovation en matiere sante\n",
            "\t communauté thérapeutique dernière\n",
            "\t soins de santé mentale\n",
            "\t établissements du réseau\n",
            "\t centre du québec fiche\n",
            "\t règlement sur la certification\n",
            "\t fiche de la ressource\n",
            "\t lanaudière fiche de la ressource\n",
            "\t montérégie fiche de la ressource\n",
            "\t clsc dans les délais établis selon la priorisation\n",
            "\t gestion en santé\n",
            "\t pratiques reconnues\n",
            "\t usagers en attente\n",
            "\t jeunes et semaine de prévention\n",
            "\t facteurs de protection\n",
            "\t certificat de conformité\n",
            "\t économies de coûts\n",
            "\t jours approche\n",
            "\t centre de traitement des dépendances\n",
            "\t problèmes de jeu\n",
            "\t centre de réadaptation en dépendance\n",
            "\t matière de santé mentale\n",
            "\t initiative le projet\n",
            "\t saaq dernière\n",
            "\t délais établis\n",
            "\t innovation en matière de santé\n",
            "\t pratique des jeux\n",
            "\t ententes de gestion\n",
            "\t évaluation des conducteurs\n",
            "\t choix éclairés\n",
            "\t formation des intervenants\n",
            "\t réinsertion sociale thérapie individuelle\n",
            "\t indicateurs de gestion\n",
            "\t semaine de prévention des dépendances\n",
            "\t initiative du projet\n",
            "\t ministère de la santé\n",
            "\t quiz vrai ou faux activité\n",
            "\t évaluation des avantages\n",
            "\t gestion utilisés par le ministère\n",
            "\t dépendance en centre de réadaptation\n",
            "\t innovation en matière\n",
            "\t innovation en matiere\n",
            "\t nombre de personnes ayant reçu\n",
            "\t ans anglais quiz vrai\n",
            "\t jeu pathologique\n",
            "\t désintoxication en externe réinsertion sociale\n",
            "\t ressource certifiée\n",
            "\t indicateurs associés aux egi\n",
            "\t msss collabore\n",
            "\t pratique des jeux de hasard\n",
            "\t cognitivo comportementale entretien\n",
            "\t délais établis selon la priorisation\n",
            "\t provinces et territoires\n",
            "\t matière de consommation\n",
            "\t cognitivo comportementale dernière\n",
            "\t résidents de la province ou du territoire\n",
            "\t jeux de hasard\n",
            "\t indicateurs de gestion utilisés\n",
            "\t indicateurs complémentaires utilisés pour le suivi de programmes\n",
            "\t implantation de la stratégie\n",
            "\t province du québec\n",
            "\t estrie fiche\n",
            "\t efficacité des économies\n",
            "\t dépendance en centre\n",
            "\t humaniste dernière\n",
            "\t gouvernement fédéral\n",
            "\t jeunes les risques\n",
            "\t jeunes et semaine de prévention des dépendances\n",
            "\t capitale nationale québec\n",
            "\t abitibi témiscamingue\n",
            "\t prévention des dépendances\n",
            "\t chaudière appalaches fiche\n",
            "\t indicateurs de gestion utilisés par le ministère\n",
            "\t secrétariat du cdf\n",
            "\t jours ouvrables\n",
            "\t indicateurs complémentaires utilisés pour le suivi\n",
            "\t réinsertion sociale thérapie\n",
            "\t québec centre\n",
            "\t matière de consommation et de pratique\n",
            "\t âge pour découvrir\n",
            "\t efficacité des économies de coûts\n",
            "\t quiz pour les jeunes\n",
            "\t capitale nationale\n",
            "\t partenaires pour diffuser\n",
            "\t montérégie fiche\n",
            "\t nord du québec\n",
            "\t quiz vrai ou faux\n",
            "\t hommes et femmes\n",
            "\t service de détection\n",
            "\t imputabilité egi\n",
            "\t risque de le devenir\n",
            "\t laurentides fiche de la ressource\n",
            "\t résidents de la province\n",
            "\t rencontre estivale\n",
            "\t traitement des dépendances\n",
            "\t répertoire des indicateurs de gestion en santé\n",
            "\t toxicomanie pour les problèmes\n",
            "\t répertoire des ressources en dépendances\n",
            "\t évaluation des conducteurs saaq\n",
            "\t centres intégrés\n",
            "\t prévention de la rechute\n",
            "\t indicateurs complémentaires\n",
            "\t gestion le répertoire\n",
            "\t thérapie individuelle ou de groupe\n",
            "\t lanaudière fiche\n",
            "\t durée du programme\n",
            "\t dépendance le virage\n",
            "\t indicateurs complémentaires utilisés\n",
            "\t québec fiche\n",
            "\t innovation en matiere sante mentale\n",
            "\t programme ont atteint\n",
            "\t pratique des jha\n",
            "\t côte nord\n",
            "\t centre de réadaptation dans un délai\n",
            "\t ans anglais quiz\n",
            "\t gestion utilisés\n",
            "\t matière de santé mentale et de traitement\n",
            "\t intervention précoce en dépendance\n",
            "\t numéro sans frais\n",
            "\t santé mentale et de traitement\n",
            "\t sante mentale et de traitement\n",
            "\t santé mentale\n",
            "\t sante mentale\n",
            "\t québec québec\n",
            "\t évaluation de la candidature\n",
            "\t argent chez les jeunes\n",
            "\t matériel de sensibilisation\n",
            "\t toxicomanie pour les problèmes de jeu\n",
            "\t indicateurs associés\n",
            "\t innovation en matière de santé mentale\n",
            "\t ministres des provinces\n",
            "\t réadaptation en externe et avec hébergement\n",
            "\t problèmes de jeu pathologique\n",
            "\t hébergement en dépendance\n",
            "\t chaudière appalaches\n",
            "\t désintoxication avec hébergement\n",
            "\t réinsertion sociale clientèle\n",
            "\t gains en efficacité obtenus\n",
            "\t évaluation des conducteurs saaq dernière\n",
            "\t entretien motivationnel\n",
            "\t dépendance en centre de réadaptation dans un délai\n",
            "\t laurentides fiche\n",
            "\t attestation temporaire\n",
            "\t indicateurs de gestion le répertoire\n",
            "\t alcool les drogues\n",
            "\t partenaires pour diffuser du matériel\n",
            "\t sensibilisation visant\n",
            "\t semaine de prévention des dépendances spd\n",
            "\t succès anticipé\n",
            "\t désintoxication en externe\n",
            "\t organisation admissible\n",
            "\t réadaptation dans un délai\n",
            "\t ministre délégué\n",
            "\t sherbrooke québec\n",
            "\t ministres des provinces et territoires\n",
            "\t cognitivo comportementale entretien motivationnel\n",
            "\t réadaptation en dépendance le virage\n",
            "\t efficacité obtenus\n",
            "\t traitements de substitution\n",
            "\t choix éclairés dans différentes situations\n",
            "\t dépendances aux substances\n",
            "\t production originale\n",
            "\t prévention des dépendances spd\n",
            "\t alcool drogues jeu\n",
            "\t répertoire des indicateurs de gestion\n",
            "\t gains en efficacité\n",
            "\t engagement social\n",
            "Total Unclustered Keywords:  18\n"
          ]
        },
        {
          "name": "stderr",
          "output_type": "stream",
          "text": [
            "Batches: 100%|██████████| 1/1 [00:00<00:00,  3.08it/s]\n"
          ]
        },
        {
          "name": "stdout",
          "output_type": "stream",
          "text": [
            "\n",
            "Cluster 1, #6 Elements \n",
            "\t thérapie individuelle\n",
            "\t intervention précoce\n",
            "\t désintoxication en externe réinsertion\n",
            "\t matière de consommation et de pratique des jha\n",
            "\t alcool de cannabis\n",
            "\t toxicomanie pour les problèmes de jeu pathologique\n",
            "Total Unclustered Keywords:  12\n"
          ]
        },
        {
          "name": "stderr",
          "output_type": "stream",
          "text": [
            "Batches: 100%|██████████| 1/1 [00:00<00:00,  7.06it/s]"
          ]
        },
        {
          "name": "stdout",
          "output_type": "stream",
          "text": [
            "Total Unclustered Keywords:  12\n"
          ]
        },
        {
          "name": "stderr",
          "output_type": "stream",
          "text": [
            "\n"
          ]
        }
      ],
      "source": [
        "# keep looping through until no more clusters are created\n",
        "\n",
        "cluster_accuracy = cluster_accuracy / 100\n",
        "model = SentenceTransformer(transformer)\n",
        "\n",
        "while cluster:\n",
        "\n",
        "    corpus_sentences = list(corpus_set)\n",
        "    check_len = len(corpus_sentences)\n",
        "\n",
        "    corpus_embeddings = model.encode(corpus_sentences, batch_size=256, show_progress_bar=True, convert_to_tensor=True)\n",
        "    clusters = util.community_detection(corpus_embeddings, min_community_size=min_cluster_size, threshold=cluster_accuracy, init_max_size=len(corpus_embeddings))\n",
        "\n",
        "    for keyword, cluster in enumerate(clusters):\n",
        "        print(\"\\nCluster {}, #{} Elements \".format(keyword + 1, len(cluster)))\n",
        "\n",
        "        for sentence_id in cluster[0:]:\n",
        "            print(\"\\t\", corpus_sentences[sentence_id])\n",
        "            corpus_sentences_list.append(corpus_sentences[sentence_id])\n",
        "            cluster_name_list.append(\"Cluster {}, #{} Elements \".format(keyword + 1, len(cluster)))\n",
        "\n",
        "    df_new = pd.DataFrame(None)\n",
        "    df_new['Cluster Name'] = cluster_name_list\n",
        "    df_new[\"Keyword\"] = corpus_sentences_list\n",
        "\n",
        "    df_all.append(df_new)\n",
        "    have = set(df_new[\"Keyword\"])\n",
        "\n",
        "    corpus_set = corpus_set_all - have\n",
        "    remaining = len(corpus_set)\n",
        "    print(\"Total Unclustered Keywords: \", remaining)\n",
        "    if check_len == remaining:\n",
        "        break"
      ]
    },
    {
      "cell_type": "code",
      "execution_count": 182,
      "metadata": {
        "id": "BbUja0QjqZok"
      },
      "outputs": [],
      "source": [
        "# make a new dataframe from the list of dataframe and merge back into the orginal df\n",
        "df_new = pd.concat(df_all)\n",
        "df = df.merge(df_new.drop_duplicates('Keyword'), how='left', on=\"Keyword\")"
      ]
    },
    {
      "cell_type": "code",
      "execution_count": 183,
      "metadata": {
        "id": "NL2w0FH_qvEs"
      },
      "outputs": [],
      "source": [
        "# rename the clusters to the shortest keyword in the cluster\n",
        "# Est-ce qu'on pourrait plutôt le renommer par le keyword le plus fréquent ?\n",
        "\n",
        "df['Length'] = df['Keyword'].astype(str).map(len)\n",
        "df = df.sort_values(by=\"Length\", ascending=True)\n",
        "\n",
        "df['Cluster Name'] = df.groupby('Cluster Name')['Keyword'].transform('first')\n",
        "df.sort_values(['Cluster Name', \"Keyword\"], ascending=[True, True], inplace=True)\n",
        "\n",
        "df['Cluster Name'] = df['Cluster Name'].fillna(\"zzz_no_cluster\")\n",
        "\n",
        "del df['Length']"
      ]
    },
    {
      "cell_type": "code",
      "execution_count": 184,
      "metadata": {
        "id": "VqIoJb-Nq2qL"
      },
      "outputs": [],
      "source": [
        "# move the cluster and keyword columns to the front\n",
        "col = df.pop(\"Keyword\")\n",
        "df.insert(0, col.name, col)\n",
        "\n",
        "col = df.pop('Cluster Name')\n",
        "df.insert(0, col.name, col)\n",
        "\n",
        "df.sort_values([\"Cluster Name\", \"Keyword\"], ascending=[True, True], inplace=True)"
      ]
    },
    {
      "cell_type": "code",
      "execution_count": 185,
      "metadata": {
        "id": "6AluvS4eUuwG"
      },
      "outputs": [
        {
          "name": "stdout",
          "output_type": "stream",
          "text": [
            "95.45454545454545 % of rows clustered successfully!\n"
          ]
        }
      ],
      "source": [
        "uncluster_percent = (remaining / count_rows) * 100\n",
        "clustered_percent = 100 - uncluster_percent\n",
        "print(clustered_percent,\"% of rows clustered successfully!\")"
      ]
    },
    {
      "cell_type": "code",
      "execution_count": 186,
      "metadata": {
        "id": "dDZQNzMPonaa"
      },
      "outputs": [],
      "source": [
        "if tag:\n",
        "    file_output = acteur + '_' + tag + '_clusters.csv'\n",
        "else: \n",
        "    file_output = acteur + '_clusters.csv'\n",
        "df.to_csv('../06-clustering/' + file_output , index=False)"
      ]
    },
    {
      "cell_type": "code",
      "execution_count": null,
      "metadata": {},
      "outputs": [],
      "source": []
    }
  ],
  "metadata": {
    "accelerator": "GPU",
    "colab": {
      "collapsed_sections": [],
      "name": "SEJ - Semantic Clustering Tool by @LeeFootSEO.ipynb",
      "private_outputs": true,
      "provenance": []
    },
    "kernelspec": {
      "display_name": "Python 3.10.4 64-bit",
      "language": "python",
      "name": "python3"
    },
    "language_info": {
      "codemirror_mode": {
        "name": "ipython",
        "version": 3
      },
      "file_extension": ".py",
      "mimetype": "text/x-python",
      "name": "python",
      "nbconvert_exporter": "python",
      "pygments_lexer": "ipython3",
      "version": "3.10.4"
    },
    "vscode": {
      "interpreter": {
        "hash": "aee8b7b246df8f9039afb4144a1f6fd8d2ca17a180786b69acc140d282b71a49"
      }
    }
  },
  "nbformat": 4,
  "nbformat_minor": 0
}
