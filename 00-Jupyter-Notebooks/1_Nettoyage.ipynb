{
 "cells": [
  {
   "cell_type": "markdown",
   "metadata": {},
   "source": [
    "## **1. Nettoyage**\n",
    "- Renommer les fichiers contenant des données en anglais pour les séparer dans un corpus distinct\n",
    "- Supprimer les fichiers PDF (binaires) qui ont été involontairement lus par BeautifulSoup (pour scrapper les PDFs, un autre script est utilisé)\n",
    "- Supprimer les fichiers qui ne contiennent qu'un message d'erreur envoyé par le serveur (ex. 404 not found)\n"
   ]
  },
  {
   "cell_type": "code",
   "execution_count": null,
   "metadata": {},
   "outputs": [],
   "source": [
    "path = '../03-corpus/2-data/1-fr/'\n",
    "acteur = \"chuqc\""
   ]
  },
  {
   "cell_type": "code",
   "execution_count": null,
   "metadata": {},
   "outputs": [],
   "source": [
    "for file in os.listdir(path + acteur):     \n",
    "    with open(file, 'r', encoding = \"UTF-8\") as f:\n",
    "        try:\n",
    "            data = f.readlines()\n",
    "            #if \"/en/\" in data[0]:\n",
    "            #    print(file)\n",
    "            #    os.rename(file, file[:-4]+\"_en.txt\")\n",
    "            \n",
    "            if('.xlsx' in data[0] or '.doc' in data[0]):\n",
    "                os.remove(file)\n",
    "\n",
    "            if (data[1].startswith('%PDF') or 'page non trouvée' in data[1] or 'not found 404' in data[1] or 'page not found' in data[1].lower() or 'Error 404' in data[1] or 'HTTP Status: 404' in data[1]):\n",
    "                os.remove(file)\n",
    "\n",
    "        except Exception as e:\n",
    "            print(file + \" - \" + str(e))\n",
    "            if(str(e) == 'list index out of range'):\n",
    "                os.remove(file)"
   ]
  },
  {
   "cell_type": "code",
   "execution_count": null,
   "metadata": {},
   "outputs": [],
   "source": [
    "'''\n",
    "Problèmes possibles d'encodages de caractères (ne sont plus là après avoir rescrappé en spécifiant l'encodage avec la valeur crawlée par XENU)  \n",
    "â - '  \n",
    "Ã© - é  \n",
    "Ã¨ - è  \n",
    "Ãª - ê  \n",
    "Ã® - î  \n",
    "Ã  - à  \n",
    "Ã¹ — û  \n",
    "Ã§ — ç  \n",
    "Ãª - ê  \n",
    "Â» - »  \n",
    "û§ - ç  \n",
    "\n",
    "\n",
    "Problèmes d'encodage PDF :   \n",
    "%PDF.+\\r?$  \n",
    "^.*endstream.+\\r?$  \n",
    "'''"
   ]
  }
 ],
 "metadata": {
  "kernelspec": {
   "display_name": "Python 3.10.5 64-bit",
   "language": "python",
   "name": "python3"
  },
  "language_info": {
   "codemirror_mode": {
    "name": "ipython",
    "version": 3
   },
   "file_extension": ".py",
   "mimetype": "text/x-python",
   "name": "python",
   "nbconvert_exporter": "python",
   "pygments_lexer": "ipython3",
   "version": "3.10.5"
  },
  "orig_nbformat": 4,
  "vscode": {
   "interpreter": {
    "hash": "79bb76bbc4f9ba1f8df5efe8db67aae07079a51dc7b5004f49990e90f5993a15"
   }
  }
 },
 "nbformat": 4,
 "nbformat_minor": 2
}
