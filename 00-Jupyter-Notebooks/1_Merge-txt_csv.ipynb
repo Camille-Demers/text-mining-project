{
 "cells": [
  {
   "cell_type": "code",
   "execution_count": 7,
   "metadata": {},
   "outputs": [
    {
     "name": "stdout",
     "output_type": "stream",
     "text": [
      "DONE : chum\n",
      "DONE : chu\n",
      "DONE : inspq\n",
      "DONE : ophq\n",
      "DONE : mf\n",
      "DONE : msss\n",
      "DONE : cisss_ciusss\n",
      "DONE : gmf\n",
      "DONE : quebec_sante\n",
      "DONE : inesss\n",
      "DONE : csbe\n",
      "DONE : ramq\n",
      "DONE : sante_mtl\n",
      "DONE : asso_ordres\n"
     ]
    }
   ],
   "source": [
    "#Importer les données (fichiers .txt)\n",
    "import os, pandas as pd, re, string\n",
    "from os import listdir, chdir, path\n",
    "\n",
    "base_path = '/Users/camilledemers/Documents/text-mining-project/03-corpus/2-data/1-en'\n",
    "#base_path = '../03-corpus/2-data/1-en/'\n",
    "corpus = []\n",
    "#Change the directory\n",
    "\n",
    "\n",
    "chdir(base_path)\n",
    "dossiers = [x for x in listdir(base_path) if os.path.isdir(path.join(base_path, x))]\n",
    "\n",
    "for folder in dossiers:\n",
    "    folder_path = path.join(base_path, folder)\n",
    "\n",
    "    output = [] # Liste de Dictionnaires - {url : 'url', text : 'texte'}\n",
    "    for subfile in listdir(folder_path):\n",
    "        try:\n",
    "            if subfile.endswith('txt') and not 'corpus' in subfile: # Pour pas traiter le fichier _.DS-store\n",
    "                file_path = path.join(folder_path, subfile)\n",
    "\n",
    "                with open(file_path, 'r', encoding='utf-8') as f:\n",
    "                    data = f.readlines()\n",
    "                    if not '���' in data[1]:\n",
    "                        output.append({'url': data[0], 'text': data[1]})  #\n",
    "\n",
    "        except Exception as e:\n",
    "            print(subfile + ' - ' + str(e))\n",
    "\n",
    "    df = pd.DataFrame(output)\n",
    "    output_path = '/Users/camilledemers/Documents/text-mining-project/03-corpus/2-data/1-en'\n",
    "\n",
    "    df.to_csv(path.join(output_path, folder + '.csv'))\n",
    "    print('DONE : ' + folder)"
   ]
  },
  {
   "cell_type": "code",
   "execution_count": 4,
   "metadata": {},
   "outputs": [
    {
     "data": {
      "text/plain": [
       "[]"
      ]
     },
     "execution_count": 4,
     "metadata": {},
     "output_type": "execute_result"
    }
   ],
   "source": [
    "dossiers"
   ]
  },
  {
   "cell_type": "code",
   "execution_count": null,
   "metadata": {},
   "outputs": [],
   "source": []
  }
 ],
 "metadata": {
  "kernelspec": {
   "display_name": "Python 3.10.4 64-bit",
   "language": "python",
   "name": "python3"
  },
  "language_info": {
   "codemirror_mode": {
    "name": "ipython",
    "version": 3
   },
   "file_extension": ".py",
   "mimetype": "text/x-python",
   "name": "python",
   "nbconvert_exporter": "python",
   "pygments_lexer": "ipython3",
   "version": "3.10.4"
  },
  "orig_nbformat": 4,
  "vscode": {
   "interpreter": {
    "hash": "aee8b7b246df8f9039afb4144a1f6fd8d2ca17a180786b69acc140d282b71a49"
   }
  }
 },
 "nbformat": 4,
 "nbformat_minor": 2
}
