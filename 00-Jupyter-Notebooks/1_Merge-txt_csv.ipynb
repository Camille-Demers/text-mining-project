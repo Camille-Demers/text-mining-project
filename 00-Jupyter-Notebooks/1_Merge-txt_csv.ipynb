{
 "cells": [
  {
   "cell_type": "code",
   "execution_count": null,
   "metadata": {},
   "outputs": [],
   "source": [
    "#Importer les données (fichiers .txt)\n",
    "import os, pandas as pd, re, string\n",
    "from os import listdir, chdir, path\n",
    "\n",
    "base_path = '../03-corpus/2-data/data_txt'\n",
    "corpus = []\n",
    "#Change the directory\n",
    "\n",
    "\n",
    "chdir(base_path)\n",
    "dossiers = [x for x in listdir() if os.path.isdir(path.join(base_path, x))]\n",
    "\n",
    "for folder in dossiers:\n",
    "    folder_path = path.join(base_path, folder)\n",
    "\n",
    "    output = [] # Liste de Dictionnaires - {url : 'url', text : 'texte'}\n",
    "    for subfile in listdir(folder_path):\n",
    "        try:\n",
    "            if subfile.endswith('txt') and not 'corpus' in subfile: # Pour pas traiter le fichier _.DS-store\n",
    "                file_path = path.join(folder_path, subfile)\n",
    "\n",
    "                with open(file_path, 'r', encoding='utf-8') as f:\n",
    "                    data = f.readlines()\n",
    "                    if not '���' in data[1]:\n",
    "                        output.append({'url': data[0], 'text': data[1]})  #\n",
    "\n",
    "        except Exception as e:\n",
    "            print(subfile + ' - ' + str(e))\n",
    "\n",
    "    df = pd.DataFrame(output)\n",
    "    output_path = '../Documents/03-corpus/2-data/1-fr/'\n",
    "\n",
    "    df.to_csv(path.join(output_path, folder + '.csv'))\n",
    "    print('DONE : ' + folder)"
   ]
  }
 ],
 "metadata": {
  "kernelspec": {
   "display_name": "Python 3.9.12 ('base')",
   "language": "python",
   "name": "python3"
  },
  "language_info": {
   "codemirror_mode": {
    "name": "ipython",
    "version": 3
   },
   "file_extension": ".py",
   "mimetype": "text/x-python",
   "name": "python",
   "nbconvert_exporter": "python",
   "pygments_lexer": "ipython3",
   "version": "3.9.12"
  },
  "orig_nbformat": 4,
  "vscode": {
   "interpreter": {
    "hash": "a33210152f7d2bd255fb16656f372b633dbf298ed202bbbac20290b0375cadb7"
   }
  }
 },
 "nbformat": 4,
 "nbformat_minor": 2
}
