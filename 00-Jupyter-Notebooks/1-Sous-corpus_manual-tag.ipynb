{
 "cells": [
  {
   "cell_type": "markdown",
   "metadata": {},
   "source": [
    "## **1. Regroupement en sous-corpus**\n",
    "\n",
    "*Associations et ordres professionnels*  \n",
    "Traverser la liste d'URLs:\n",
    "- Extraire le tag associé à chaque URL ; Créer un ensemble de sous-dossiers pour les regrouper / copier les fichiers .txt correspondant dans le bon sous-dossier\n",
    "- La première fois qu'un tag est rencontré, le dossier est créé ; les fois suivantes, le .txt est copié dedans"
   ]
  },
  {
   "cell_type": "code",
   "execution_count": null,
   "metadata": {},
   "outputs": [],
   "source": [
    "file_path = '../03-corpus/2-data/1-fr/asso_ordres.csv'\n",
    "\n",
    "from pandas import *\n",
    "\n",
    "# encoding= 'ISO-8859-1' \"utf-8\"\n",
    "with open(file_path, encoding='utf-8') as f:\n",
    "    csv = read_csv(f, sep=\";\")\n",
    "\n",
    "csv"
   ]
  },
  {
   "cell_type": "code",
   "execution_count": null,
   "metadata": {},
   "outputs": [],
   "source": [
    "tags = set([tag for tag in csv['D1'].tolist() if not (str(tag) == 'nan')])"
   ]
  },
  {
   "cell_type": "code",
   "execution_count": null,
   "metadata": {},
   "outputs": [],
   "source": [
    "regroupements = {tag : [] for tag in tags}"
   ]
  },
  {
   "cell_type": "code",
   "execution_count": null,
   "metadata": {},
   "outputs": [],
   "source": [
    "for tag in tags:\n",
    "        tuples = csv[csv['D1'] == tag]\n",
    "        liste = [t.strip('\\n') for t in tuples['url'].tolist()]\n",
    "        regroupements[tag] = liste"
   ]
  },
  {
   "cell_type": "code",
   "execution_count": null,
   "metadata": {},
   "outputs": [],
   "source": [
    "regroupements"
   ]
  },
  {
   "cell_type": "code",
   "execution_count": null,
   "metadata": {},
   "outputs": [],
   "source": [
    "tags = list(tags)"
   ]
  },
  {
   "cell_type": "code",
   "execution_count": null,
   "metadata": {},
   "outputs": [],
   "source": [
    "import os, shutil\n",
    "from pathlib import Path\n",
    "\n",
    "# Créer de nouveaux CSV contenant les données regroupées selon le tag qui leur est associé\n",
    "acteur = 'asso_ordres'\n",
    "path='../03-corpus/2-sous-corpus/' \n",
    "\n",
    "for tag in tags:\n",
    "\n",
    "    # Aller chercher les éléments correspondant au sous-corpus dans le csv principal et les copier dans un nouveau CSV \n",
    "    subcorpus = csv[csv['D1'] == tag]\n",
    "    file_path = path + 'asso_ordres_' + tag + '.csv'\n",
    "\n",
    "    subcorpus.to_csv(file_path)"
   ]
  },
  {
   "cell_type": "markdown",
   "metadata": {},
   "source": [
    "À partir d'ici, on peut aller analyser les sous-corpus constitués en changeant le path et le 'tag' dans le Notebook *Prétraitement.ipynb*  (où 'tag' indique le critère/thème de regroupement de manière générale ; ça peut être un tag comme ici, une sous-section d'un site extraite à partir de l'URL ou l'acteur désigné du milieu de la santé)"
   ]
  }
 ],
 "metadata": {
  "kernelspec": {
   "display_name": "Python 3.10.5 64-bit",
   "language": "python",
   "name": "python3"
  },
  "language_info": {
   "codemirror_mode": {
    "name": "ipython",
    "version": 3
   },
   "file_extension": ".py",
   "mimetype": "text/x-python",
   "name": "python",
   "nbconvert_exporter": "python",
   "pygments_lexer": "ipython3",
   "version": "3.10.5"
  },
  "orig_nbformat": 4,
  "vscode": {
   "interpreter": {
    "hash": "79bb76bbc4f9ba1f8df5efe8db67aae07079a51dc7b5004f49990e90f5993a15"
   }
  }
 },
 "nbformat": 4,
 "nbformat_minor": 2
}
