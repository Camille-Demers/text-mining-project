{
 "cells": [
  {
   "cell_type": "markdown",
   "metadata": {},
   "source": [
    "## **1. Regroupement en sous-corpus**\n",
    "\n",
    "*Associations et ordres professionnels*  \n",
    "Traverser la liste d'URLs:\n",
    "- Extraire le tag associé à chaque URL ; Créer un ensemble de sous-dossiers pour les regrouper / copier les fichiers .txt correspondant dans le bon sous-dossier\n",
    "- La première fois qu'un tag est rencontré, le dossier est créé ; les fois suivantes, le .txt est copié dedans"
   ]
  },
  {
   "cell_type": "code",
   "execution_count": null,
   "metadata": {},
   "outputs": [],
   "source": [
    "file_path = '../03-corpus/0-listes_sites/assos_ordres/asso_ordres_manual_tag.csv'\n",
    "\n",
    "from pandas import *\n",
    "\n",
    "# encoding= 'ISO-8859-1' \"utf-8\"\n",
    "with open(file_path, encoding='utf-8') as f:\n",
    "    col_list = [\"Address\", \"D1\"]\n",
    "    csv = read_csv(f, usecols=col_list)\n",
    "\n",
    "csv"
   ]
  },
  {
   "cell_type": "code",
   "execution_count": null,
   "metadata": {},
   "outputs": [],
   "source": [
    "tags = set([tag for tag in csv['D1'].tolist() if not (str(tag) == 'nan')])"
   ]
  },
  {
   "cell_type": "code",
   "execution_count": null,
   "metadata": {},
   "outputs": [],
   "source": [
    "regroupements = {tag : [] for tag in tags}"
   ]
  },
  {
   "cell_type": "code",
   "execution_count": null,
   "metadata": {},
   "outputs": [],
   "source": [
    "for tag in tags:\n",
    "        tuples = csv[csv['D1'] == tag]\n",
    "        liste = tuples['Address'].tolist()\n",
    "        regroupements[tag] = liste"
   ]
  },
  {
   "cell_type": "code",
   "execution_count": null,
   "metadata": {},
   "outputs": [],
   "source": [
    "import os, shutil\n",
    "from pathlib import Path\n",
    "\n",
    "# Créer un sous-dossier où on va aller copier les fichiers .txt correspondant au sous-corpus\n",
    "acteur = 'asso_ordres'\n",
    "path='../03-corpus/2-sous-corpus/' + acteur + '/'\n",
    "\n",
    "Path(path).mkdir(parents=True, exist_ok=True)\n",
    "\n",
    "for tag in regroupements:\n",
    "    subfolder = tag + '/' #le nom du tag\n",
    "\n",
    "    Path(path+subfolder).mkdir(parents=True, exist_ok=True)\n",
    "\n",
    "    # Aller chercher les fichiers .txt correspondant au sous-corpus dans le corpus principal et les copier dans le sous-dossier qu'on vient de créer\n",
    "    src = '/Users/camilledemers/Documents/03-corpus/2-data/1-fr/asso_ordres/'\n",
    "    os.chdir(src)\n",
    "    dst = path + subfolder\n",
    "\n",
    "    for file in os.listdir():\n",
    "        if (file.endswith(\".txt\") and not \"corpus\" in file):\n",
    "            file_path = src + file\n",
    "            \n",
    "            with open(file_path, 'r', encoding = \"UTF-8\") as f:\n",
    "                data = f.readlines()\n",
    "                try: \n",
    "                    url = data[0].strip('\\n')\n",
    "                    if(url in regroupements[tag]):\n",
    "                        shutil.copy(src + file, dst)\n",
    "                except:\n",
    "                    True"
   ]
  },
  {
   "cell_type": "markdown",
   "metadata": {},
   "source": [
    "À partir d'ici, on peut aller analyser les sous-corpus constitués en changeant le path et le 'tag' dans le Notebook *Prétraitement.ipynb*  (où 'tag' indique le critère/thème de regroupement de manière générale ; ça peut être un tag comme ici, une sous-section d'un site extraite à partir de l'URL ou l'acteur désigné du milieu de la santé)"
   ]
  }
 ],
 "metadata": {
  "kernelspec": {
   "display_name": "Python 3.10.5 64-bit",
   "language": "python",
   "name": "python3"
  },
  "language_info": {
   "codemirror_mode": {
    "name": "ipython",
    "version": 3
   },
   "file_extension": ".py",
   "mimetype": "text/x-python",
   "name": "python",
   "nbconvert_exporter": "python",
   "pygments_lexer": "ipython3",
   "version": "3.10.5"
  },
  "orig_nbformat": 4,
  "vscode": {
   "interpreter": {
    "hash": "79bb76bbc4f9ba1f8df5efe8db67aae07079a51dc7b5004f49990e90f5993a15"
   }
  }
 },
 "nbformat": 4,
 "nbformat_minor": 2
}
