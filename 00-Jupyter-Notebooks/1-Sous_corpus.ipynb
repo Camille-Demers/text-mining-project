{
 "cells": [
  {
   "cell_type": "markdown",
   "metadata": {},
   "source": [
    "## **1. Regroupement en sous-corpus**\n",
    "Plutôt que de récupérer un tag qui aurait été assigné manuellement pour chaque lien, on va le créer en déconstruisant les URLs et en créant des sous-dossiers correspondant à différents sous-niveaux dans l'arborescence du site.  \n",
    "\n",
    "À décider : jusqu'à quel niveau on regroupe (ça peut être un peu du cas par cas selon l'organisation du site)\n",
    "\n",
    "Créer des sous-dossiers à l'intérieur"
   ]
  },
  {
   "cell_type": "code",
   "execution_count": null,
   "metadata": {},
   "outputs": [],
   "source": [
    "path = '../03-corpus/0-listes_sites_html_pdf/'\n",
    "acteur = \"chu_iu\"\n",
    "sous_acteur = 'chu_qc'\n",
    "\n",
    "from pandas import *\n",
    "\n",
    "# encoding= 'ISO-8859-1' \"utf-8\"\n",
    "with open(path + acteur  + '.csv', encoding='ISO-8859-1') as f:\n",
    "    csv = read_csv(f, sep=';')"
   ]
  },
  {
   "cell_type": "code",
   "execution_count": null,
   "metadata": {},
   "outputs": [],
   "source": [
    "csv"
   ]
  },
  {
   "cell_type": "code",
   "execution_count": null,
   "metadata": {},
   "outputs": [],
   "source": [
    "liste = [lien for lien in csv['Address'].tolist() if not 'actualites' in lien and not 'propos' in lien and not 'joindre' in lien and not 'communiques' in lien and not 'about' in lien]\n",
    "liste = [lien for lien in liste if 'chudequebec.ca' in lien]"
   ]
  },
  {
   "cell_type": "code",
   "execution_count": null,
   "metadata": {},
   "outputs": [],
   "source": [
    "\"\"\"\n",
    "0 = http/s\n",
    "1 = //\n",
    "2 = domaine principal (ex. INSPQ)\n",
    "3 = 1e sous-niveau\n",
    "4 = 2e sous-niveau\n",
    "5 = 3e sous-niveau\n",
    "etc.\n",
    "\"\"\"\n",
    "\n",
    "liens_2N = [lien for lien in liste if len(lien.split('/')) >= 3]\n",
    "liens_3N = [lien for lien in liste if len(lien.split('/')) >= 4]\n",
    "liens_4N = [lien for lien in liste if len(lien.split('/')) >= 5]"
   ]
  },
  {
   "cell_type": "code",
   "execution_count": null,
   "metadata": {},
   "outputs": [],
   "source": [
    "lien = liste[20]\n",
    "lien.split('/')"
   ]
  },
  {
   "cell_type": "code",
   "execution_count": null,
   "metadata": {},
   "outputs": [],
   "source": [
    "regroupements = {}\n",
    "\n",
    "for lien in liens_2N:\n",
    "    tag = lien.split('/')[3]\n",
    "    if tag in regroupements:\n",
    "        regroupements[tag].append(lien)\n",
    "        \n",
    "    else:\n",
    "        if len(tag)>1:\n",
    "            regroupements[tag] = []\n",
    "\n",
    "tags = list(regroupements.keys())"
   ]
  },
  {
   "cell_type": "code",
   "execution_count": null,
   "metadata": {},
   "outputs": [],
   "source": [
    "# On garde seulement les sections qui contiennent plus de 15 sous-pages\n",
    "tags_retenus = [tag for tag in tags if len(regroupements[tag]) >10]"
   ]
  },
  {
   "cell_type": "code",
   "execution_count": null,
   "metadata": {},
   "outputs": [],
   "source": [
    "print('Ça nous donne {} tags.'.format(len(tags_retenus)))\n",
    "tags_retenus"
   ]
  },
  {
   "cell_type": "code",
   "execution_count": null,
   "metadata": {},
   "outputs": [],
   "source": [
    "import os, shutil\n",
    "from pathlib import Path\n",
    "\n",
    "# Créer un sous-dossier où on va aller copier les fichiers .txt correspondant au sous-corpus\n",
    "path='../03-corpus/2-sous-corpus/' + acteur + '/'\n",
    "\n",
    "Path(path).mkdir(parents=True, exist_ok=True)\n",
    "\n",
    "\n",
    "for tag in tags_retenus:\n",
    "    subfolder =  tag + '/' #le nom du tag\n",
    "\n",
    "    Path(path+subfolder).mkdir(parents=True, exist_ok=True)\n",
    "\n",
    "    # Aller chercher les fichiers .txt correspondant au sous-corpus dans le corpus principal et les copier dans le sous-dossier qu'on vient de créer\n",
    "    src = '../03-corpus/2-data/1-fr/' + acteur + '/' \n",
    "    dst = path + subfolder\n",
    "\n",
    "    for file in os.listdir(src):\n",
    "        if (file.endswith(\".txt\") and not \"corpus\" in file):\n",
    "            file_path = src + file\n",
    "            \n",
    "            with open(file_path, 'r', encoding = \"UTF-8\") as f:\n",
    "                data = f.readlines()\n",
    "                try: \n",
    "                    url = data[0]\n",
    "                    if(tag in url):\n",
    "                        shutil.copy(src + file, dst)\n",
    "                except:\n",
    "                    True\n",
    "                    "
   ]
  },
  {
   "cell_type": "code",
   "execution_count": null,
   "metadata": {},
   "outputs": [],
   "source": [
    "path='../03-corpus/2-sous-corpus/' + acteur + '/'\n",
    "liste_total = sum([len(files) for r, d, files in os.walk(path)])"
   ]
  },
  {
   "cell_type": "code",
   "execution_count": null,
   "metadata": {},
   "outputs": [],
   "source": [
    "path='../03-corpus/2-sous-corpus/' + acteur + '/'\n",
    "\n",
    "liste_fichiers = []\n",
    "for subfolder in os.listdir(path):\n",
    "    liste_fichiers += os.listdir(path + subfolder)\n",
    "\n",
    "liste_fichiers = set(liste_fichiers)"
   ]
  },
  {
   "cell_type": "code",
   "execution_count": null,
   "metadata": {},
   "outputs": [],
   "source": [
    "len_corpus_global = len(os.listdir(src))\n",
    "print('Pages dans le corpus global : ' + str(len_corpus_global))\n",
    "\n",
    "os.chdir('/Users/camilledemers/Documents/03-corpus/2-sous-corpus/' + acteur + '/')\n",
    "print('Pages (total) dans les sous-corpus : ' + str(liste_total) + ' (certaines pages peuvent avoir plus d\\'un tag et donc apparaître deux fois).')\n",
    "print('Pages (uniques) dans les sous-corpus : ' + str(len(liste_fichiers)))\n",
    "print('\\nIl y a donc {} pages de notre corpus global qui ne se retrouvent pas dans le sous-corpus'.format(str(len_corpus_global - len(liste_fichiers))))\n"
   ]
  },
  {
   "cell_type": "markdown",
   "metadata": {},
   "source": [
    "À partir d'ici, on peut aller analyser les sous-corpus constitués en changeant le path et le 'acteur' dans le Notebook *Prétraitement.ipynb*  (on pourrait d'ailleurs changer le nom de la variable 'acteur' pour indiquer plutôt le critère/thème de regroupement de manière générale)"
   ]
  }
 ],
 "metadata": {
  "kernelspec": {
   "display_name": "Python 3.9.12 ('base')",
   "language": "python",
   "name": "python3"
  },
  "language_info": {
   "codemirror_mode": {
    "name": "ipython",
    "version": 3
   },
   "file_extension": ".py",
   "mimetype": "text/x-python",
   "name": "python",
   "nbconvert_exporter": "python",
   "pygments_lexer": "ipython3",
   "version": "3.9.12"
  },
  "orig_nbformat": 4,
  "vscode": {
   "interpreter": {
    "hash": "a33210152f7d2bd255fb16656f372b633dbf298ed202bbbac20290b0375cadb7"
   }
  }
 },
 "nbformat": 4,
 "nbformat_minor": 2
}
