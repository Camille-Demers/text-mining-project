{
 "cells": [
  {
   "cell_type": "markdown",
   "metadata": {},
   "source": [
    "## **Description du corpus**\n",
    "- Nombre de sites distincts qui ont été aspirés\n",
    "- Nombre de documents aspirés / Nombre moyen de documents par site, minimum, maximum\n",
    "- Nombre de types/tokens / Nombre moyen de types/tokens par site, minimum, maximum"
   ]
  },
  {
   "cell_type": "markdown",
   "metadata": {},
   "source": [
    "*Nombre de sites distincts*  \n",
    "Pour chaque acteur, ouvrir les CSV contenanant la liste des URLs et compter les noms de domaines distincts;  \n",
    "Pour ce faire, splitter l'URL et retenir le nom de domaine "
   ]
  },
  {
   "cell_type": "markdown",
   "metadata": {},
   "source": [
    "#### **Acteurs du système de santé dont les sites Web nous intéressent pour la constitution du corpus**"
   ]
  },
  {
   "cell_type": "code",
   "execution_count": null,
   "metadata": {},
   "outputs": [],
   "source": [
    "from pandas import *\n",
    "from pathlib import Path\n",
    "import os, re, shutil, nltk\n",
    "\n",
    "path = '../03-corpus/2-data/1-fr/'\n",
    "\n",
    "\n",
    "nb = len([file for file in os.listdir() if file.endswith('csv') and not 'chum' in file]) # (le chum se trouve déjà dans chu_iu)\n",
    "print('Les sites Web de {} acteurs ont été aspirés pour constituer notre corpus :'.format(nb))\n",
    "for file in os.listdir(path):\n",
    "    if file.endswith('csv') and not 'chum' in file:\n",
    "        print(file[:-4])"
   ]
  },
  {
   "cell_type": "markdown",
   "metadata": {},
   "source": [
    "#### **Nombre de sites aspirés**"
   ]
  },
  {
   "cell_type": "code",
   "execution_count": null,
   "metadata": {},
   "outputs": [],
   "source": [
    "nb_domaines = 0\n",
    "domaines = []\n",
    "\n",
    "for file in os.listdir(path):\n",
    "    if file.endswith('csv') and not 'chum' in file:\n",
    "        # encoding= 'ISO-8859-1' \"utf-8\"\n",
    "        # sep = ';' ','\n",
    "        try:\n",
    "            with open(path + file, encoding = 'ISO-8859-1') as f:\n",
    "                csv = read_csv(f, sep=';')\n",
    "\n",
    "        except: \n",
    "            try: \n",
    "                with open(path + file, encoding = 'ISO-8859-1') as f:\n",
    "                    csv = read_csv(f, sep=',')\n",
    "            \n",
    "            except: \n",
    "                try:\n",
    "                    with open(path + file, encoding = 'utf-8') as f:\n",
    "                        csv = read_csv(f, sep= ',')\n",
    "\n",
    "                except: \n",
    "                    try:\n",
    "                        with open(path + file, encoding = 'utf-8') as f:\n",
    "                            csv = read_csv(f, sep= ';')\n",
    "\n",
    "                    except Exception as e:\n",
    "                        print(file + '-' + str(e))\n",
    "\n",
    "        urls = csv['url'].tolist()\n",
    "        regex = 'https?://(www)?1?\\.?(\\w+)'\n",
    "        try:\n",
    "            domaines += [re.match(regex, url).group(2) for url in urls]\n",
    "        except Exception as e:\n",
    "            True\n",
    "            #print(file + '-' + str(e))"
   ]
  },
  {
   "cell_type": "code",
   "execution_count": null,
   "metadata": {},
   "outputs": [],
   "source": [
    "domaines += ['ramq', 'sante_mtl', 'urgence_sante']\n",
    "domaines = set(domaines)\n",
    "nb_domaines = len(domaines) + 22 # (cisss/ciusss)"
   ]
  },
  {
   "cell_type": "code",
   "execution_count": null,
   "metadata": {},
   "outputs": [],
   "source": [
    "print('{} sites distincts ont été aspirés au total'.format(nb_domaines))"
   ]
  },
  {
   "cell_type": "markdown",
   "metadata": {},
   "source": [
    "#### **Nombre de documents** (fr)\n",
    "#### **Nombre de types / tokens** (fr)"
   ]
  },
  {
   "cell_type": "code",
   "execution_count": null,
   "metadata": {},
   "outputs": [],
   "source": [
    "from nltk.tokenize import RegexpTokenizer\n",
    "# Seulement les caractères alphabétiques\n",
    "tokenizer_re = RegexpTokenizer(r\"\\w\\'|\\w+\")\n",
    "\n",
    "nb_docs_fr = 0\n",
    "corpus = []\n",
    "fichiers = [f for f in os.listdir(path) if f.endswith('.csv') and not (f == 'mf.csv') and not (f == 'chum.csv')]\n",
    "print('Voici le nombre de documents (HTML ou PDF) aspirés pour chacun des ' + str(len(fichiers)) + ' acteurs considérés.\\n(Noter que le chum devrait se trouver sous CHU_IU)')\n",
    "\n",
    "for file in fichiers:\n",
    "    nb_tokens = 0\n",
    "    nb_types = set()\n",
    "    with open(path + file, encoding = 'ISO-8859-1') as f:\n",
    "        data = read_csv(f)['text'].tolist()\n",
    "        nb_doc = len(data)\n",
    "        subcorpus = [re.sub('\\d', '', t.strip('\\n').lower().replace('’', '\\'').replace('  ', ' ')) for t in data]\n",
    "        corpus.append(subcorpus)\n",
    "        tokens = nltk.flatten([tokenizer_re.tokenize(doc) for doc in subcorpus])\n",
    "        types = set(tokens)\n",
    "\n",
    "        print(file + '\\t' + str(nb_doc) + ' documents\\t' + str(len(tokens)) + ' tokens\\t' + str(len(types)) +' formes uniques')\n",
    "\n",
    "        nb_docs_fr += nb_doc\n",
    "\n",
    "print('\\nAu total, notre corpus francophone compte donc un total de {} documents.'.format(nb_docs_fr)+'\\nOn a donc un une moyenne d\\'environ {} documents par site (mais ça varie considérablement d\\'un site à l\\'autre).'.format(round(nb_docs_fr/157)))\n"
   ]
  },
  {
   "cell_type": "markdown",
   "metadata": {},
   "source": [
    "#### **Déterminer la taille d'échantillon à retenir**"
   ]
  },
  {
   "cell_type": "code",
   "execution_count": null,
   "metadata": {},
   "outputs": [],
   "source": [
    "x = []\n",
    "for i in range(12): # On va aller jusqu'à max 115 000 documents (on en a 115 080)\n",
    "    a = 10000\n",
    "    x.append(a * i)"
   ]
  },
  {
   "cell_type": "code",
   "execution_count": null,
   "metadata": {},
   "outputs": [],
   "source": [
    "corpus = nltk.flatten(corpus)"
   ]
  },
  {
   "cell_type": "code",
   "execution_count": null,
   "metadata": {},
   "outputs": [],
   "source": [
    "len(corpus)"
   ]
  },
  {
   "cell_type": "code",
   "execution_count": null,
   "metadata": {},
   "outputs": [],
   "source": [
    "import random\n",
    "random.shuffle(corpus)\n",
    "\n",
    "y = []\n",
    "types = set()\n",
    "\n",
    "for valeur in x:\n",
    "    if (len(corpus) > valeur):\n",
    "        tokens = nltk.flatten([tokenizer_re.tokenize(doc) for doc in corpus[:valeur]])\n",
    "        tokens =  set(tokens)\n",
    "        types.update(tokens)\n",
    "        y.append(len(types))\n",
    "        print(\"Nombre de documents considérés : \" + str(valeur) + \" - \" + str(len(types)) + \" formes uniques.\")"
   ]
  },
  {
   "cell_type": "code",
   "execution_count": null,
   "metadata": {},
   "outputs": [],
   "source": [
    "y"
   ]
  },
  {
   "cell_type": "code",
   "execution_count": null,
   "metadata": {},
   "outputs": [],
   "source": [
    "x = x[:-1]"
   ]
  },
  {
   "cell_type": "code",
   "execution_count": null,
   "metadata": {},
   "outputs": [],
   "source": [
    "# Refaire en randomisant l'ordre des documents\n",
    "\n",
    "import matplotlib.pyplot as plt\n",
    "plt.plot(x, y)\n",
    "plt.xlabel('Nombre de documents')\n",
    "plt.ylabel('Nombre de formes uniques')\n",
    "plt.show()"
   ]
  }
 ],
 "metadata": {
  "kernelspec": {
   "display_name": "Python 3.10.4 64-bit (windows store)",
   "language": "python",
   "name": "python3"
  },
  "language_info": {
   "codemirror_mode": {
    "name": "ipython",
    "version": 3
   },
   "file_extension": ".py",
   "mimetype": "text/x-python",
   "name": "python",
   "nbconvert_exporter": "python",
   "pygments_lexer": "ipython3",
   "version": "3.10.5"
  },
  "orig_nbformat": 4,
  "vscode": {
   "interpreter": {
    "hash": "cd79c175202a10e07e86987b35b7667c91eb3d8da888be1f1a109120b939fda2"
   }
  }
 },
 "nbformat": 4,
 "nbformat_minor": 2
}
