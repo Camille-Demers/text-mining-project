{
 "cells": [
  {
   "cell_type": "markdown",
   "metadata": {},
   "source": [
    "## **Description du corpus**\n",
    "- Nombre de sites distincts qui ont été aspirés\n",
    "- Nombre de documents aspirés / Nombre moyen de documents par site, minimum, maximum\n",
    "- Nombre de types/tokens / Nombre moyen de types/tokens par site, minimum, maximum"
   ]
  },
  {
   "cell_type": "markdown",
   "metadata": {},
   "source": [
    "*Nombre de sites distincts*  \n",
    "Pour chaque acteur, ouvrir les CSV contenanant la liste des URLs et compter le unique de noms de domaines;  \n",
    "Pour ce faire, splitter l'URL et retenir le nom de domaine "
   ]
  },
  {
   "cell_type": "markdown",
   "metadata": {},
   "source": [
    "#### **Acteurs du système de santé dont les sites Web nous intéressent pour la constitution du corpus**"
   ]
  },
  {
   "cell_type": "code",
   "execution_count": 1,
   "metadata": {},
   "outputs": [
    {
     "name": "stdout",
     "output_type": "stream",
     "text": [
      "Les sites Web de 16 acteurs ont été aspirés pour constituer notre corpus :\n",
      "cliniques_medicales\n",
      "msss\n",
      "gmf\n",
      "inesss\n",
      "quebec_sante\n",
      "ramq\n",
      "chsld\n",
      "urgence_sante\n",
      "chu_iu\n",
      "asso_ordres\n",
      "inspq\n",
      "mf\n",
      "cisss_ciusss\n",
      "csbe\n",
      "sante_mtl\n",
      "ophq\n"
     ]
    }
   ],
   "source": [
    "from pandas import *\n",
    "from pathlib import Path\n",
    "import os, re, shutil, nltk\n",
    "\n",
    "path = '/Users/camilledemers/Documents/03-corpus/2-data/1-fr/'\n",
    "\n",
    "os.chdir(path)\n",
    "\n",
    "nb = len([file for file in os.listdir() if file.endswith('csv') and not 'chum' in file]) # (le chum se trouve déjà dans chu_iu)\n",
    "print('Les sites Web de {} acteurs ont été aspirés pour constituer notre corpus :'.format(nb))\n",
    "for file in os.listdir():\n",
    "    if file.endswith('csv') and not 'chum' in file:\n",
    "        print(file[:-4])"
   ]
  },
  {
   "cell_type": "markdown",
   "metadata": {},
   "source": [
    "#### **Nombre de sites aspirés**"
   ]
  },
  {
   "cell_type": "code",
   "execution_count": 3,
   "metadata": {},
   "outputs": [],
   "source": [
    "nb_domaines = 0\n",
    "domaines = []\n",
    "\n",
    "for file in os.listdir():\n",
    "    if file.endswith('csv') and not 'chum' in file:\n",
    "        # encoding= 'ISO-8859-1' \"utf-8\"\n",
    "        # sep = ';' ','\n",
    "        try:\n",
    "            with open(path + file, encoding = 'ISO-8859-1') as f:\n",
    "                csv = read_csv(f, sep=';')\n",
    "\n",
    "        except: \n",
    "            try: \n",
    "                with open(path + file, encoding = 'ISO-8859-1') as f:\n",
    "                    csv = read_csv(f, sep=',')\n",
    "            \n",
    "            except: \n",
    "                try:\n",
    "                    with open(path + file, encoding = 'utf-8') as f:\n",
    "                        csv = read_csv(f, sep= ',')\n",
    "\n",
    "                except: \n",
    "                    try:\n",
    "                        with open(path + file, encoding = 'utf-8') as f:\n",
    "                            csv = read_csv(f, sep= ';')\n",
    "\n",
    "                    except Exception as e:\n",
    "                        print(file + '-' + str(e))\n",
    "\n",
    "        urls = csv['url'].tolist()\n",
    "        regex = 'https?://(www)?1?\\.?(\\w+)'\n",
    "        try:\n",
    "            domaines += [re.match(regex, url).group(2) for url in urls]\n",
    "        except Exception as e:\n",
    "            True\n",
    "            #print(file + '-' + str(e))"
   ]
  },
  {
   "cell_type": "code",
   "execution_count": 4,
   "metadata": {},
   "outputs": [],
   "source": [
    "domaines += ['ramq', 'sante_mtl', 'urgence_sante']\n",
    "domaines = set(domaines)\n",
    "nb_domaines = len(domaines) + 22 # (cisss/ciusss)"
   ]
  },
  {
   "cell_type": "code",
   "execution_count": 5,
   "metadata": {},
   "outputs": [
    {
     "name": "stdout",
     "output_type": "stream",
     "text": [
      "182 sites distincts ont été aspirés au total\n"
     ]
    }
   ],
   "source": [
    "print('{} sites distincts ont été aspirés au total'.format(nb_domaines))"
   ]
  },
  {
   "cell_type": "markdown",
   "metadata": {},
   "source": [
    "#### **Nombre de documents** (fr)\n",
    "#### **Nombre de types / tokens** (fr)"
   ]
  },
  {
   "cell_type": "code",
   "execution_count": 60,
   "metadata": {},
   "outputs": [
    {
     "name": "stdout",
     "output_type": "stream",
     "text": [
      "Voici le nombre de documents (HTML ou PDF) aspirés pour chacun des 15 acteurs considérés.\n",
      "(Noter que le chum devrait se trouver sous CHU_IU)\n",
      "cliniques_medicales.csv\t529 documents\t777886 tokens\t8779 formes uniques\n",
      "msss.csv\t9745 documents\t15896790 tokens\t209692 formes uniques\n",
      "gmf.csv\t1912 documents\t951162 tokens\t15769 formes uniques\n",
      "inesss.csv\t1817 documents\t3235449 tokens\t19713 formes uniques\n",
      "quebec_sante.csv\t240 documents\t215186 tokens\t8982 formes uniques\n",
      "ramq.csv\t4633 documents\t92903404 tokens\t26414 formes uniques\n",
      "chsld.csv\t1001 documents\t1249922 tokens\t34491 formes uniques\n",
      "urgence_sante.csv\t342 documents\t225202 tokens\t7384 formes uniques\n",
      "chu_iu.csv\t6697 documents\t8942356 tokens\t124214 formes uniques\n",
      "asso_ordres.csv\t34592 documents\t36261968 tokens\t87953 formes uniques\n",
      "inspq.csv\t4339 documents\t38692872 tokens\t56891 formes uniques\n",
      "cisss_ciusss.csv\t35374 documents\t63638410 tokens\t532295 formes uniques\n",
      "csbe.csv\t421 documents\t134536 tokens\t4476 formes uniques\n",
      "sante_mtl.csv\t5256 documents\t3702920 tokens\t19331 formes uniques\n",
      "ophq.csv\t3071 documents\t4921210 tokens\t33087 formes uniques\n",
      "\n",
      "Au total, notre corpus francophone compte donc un total de 109969 documents.\n",
      "On a donc un une moyenne d'environ 700 documents par site (mais ça varie considérablement d'un site à l'autre).\n"
     ]
    }
   ],
   "source": [
    "from nltk.tokenize import RegexpTokenizer\n",
    "# Seulement les caractères alphabétiques\n",
    "tokenizer_re = RegexpTokenizer(r\"\\w\\'|\\w+\")\n",
    "\n",
    "# En français \n",
    "path = '/Users/camilledemers/Documents/03-corpus/2-data/1-fr/'\n",
    "\n",
    "os.chdir(path)\n",
    "\n",
    "nb_docs_fr = 0\n",
    "corpus = []\n",
    "fichiers = [f for f in os.listdir() if f.endswith('.csv') and not (f == 'mf.csv') and not (f == 'chum.csv')]\n",
    "print('Voici le nombre de documents (HTML ou PDF) aspirés pour chacun des ' + str(len(fichiers)) + ' acteurs considérés.\\n(Noter que le chum devrait se trouver sous CHU_IU)')\n",
    "\n",
    "for file in fichiers:\n",
    "    nb_tokens = 0\n",
    "    nb_types = set()\n",
    "    with open(path + file) as f:\n",
    "        data = read_csv(f)['text'].tolist()\n",
    "        nb_doc = len(data)\n",
    "        subcorpus = [re.sub('\\d', '', t.strip('\\n').lower().replace('’', '\\'').replace('  ', ' ')) for t in data]\n",
    "        corpus.append(subcorpus)\n",
    "        tokens = nltk.flatten([tokenizer_re.tokenize(doc) for doc in subcorpus])\n",
    "        types = set(tokens)\n",
    "\n",
    "        print(file + '\\t' + str(nb_doc) + ' documents\\t' + str(len(tokens)) + ' tokens\\t' + str(len(types)) +' formes uniques')\n",
    "\n",
    "        nb_docs_fr += nb_doc\n",
    "\n",
    "print('\\nAu total, notre corpus francophone compte donc un total de {} documents.'.format(nb_docs_fr)+'\\nOn a donc un une moyenne d\\'environ {} documents par site (mais ça varie considérablement d\\'un site à l\\'autre).'.format(round(nb_docs_fr/157)))\n"
   ]
  },
  {
   "cell_type": "markdown",
   "metadata": {},
   "source": [
    "#### **Déterminer la taille d'échantillon à retenir**"
   ]
  },
  {
   "cell_type": "code",
   "execution_count": 61,
   "metadata": {},
   "outputs": [],
   "source": [
    "x = []\n",
    "for i in range(12): # On va aller jusqu'à max 115 000 documents (on en a 115 080)\n",
    "    a = 10000\n",
    "    x.append(a * i)"
   ]
  },
  {
   "cell_type": "code",
   "execution_count": 62,
   "metadata": {},
   "outputs": [],
   "source": [
    "corpus = nltk.flatten(corpus)"
   ]
  },
  {
   "cell_type": "code",
   "execution_count": 63,
   "metadata": {},
   "outputs": [
    {
     "data": {
      "text/plain": [
       "109969"
      ]
     },
     "execution_count": 63,
     "metadata": {},
     "output_type": "execute_result"
    }
   ],
   "source": [
    "len(corpus)"
   ]
  },
  {
   "cell_type": "code",
   "execution_count": 64,
   "metadata": {},
   "outputs": [
    {
     "name": "stdout",
     "output_type": "stream",
     "text": [
      "Nombre de documents considérés : 0 - 0 formes uniques.\n",
      "Nombre de documents considérés : 10000 - 165469 formes uniques.\n",
      "Nombre de documents considérés : 20000 - 251668 formes uniques.\n",
      "Nombre de documents considérés : 30000 - 323033 formes uniques.\n",
      "Nombre de documents considérés : 40000 - 396804 formes uniques.\n",
      "Nombre de documents considérés : 50000 - 460527 formes uniques.\n",
      "Nombre de documents considérés : 60000 - 512514 formes uniques.\n",
      "Nombre de documents considérés : 70000 - 566624 formes uniques.\n",
      "Nombre de documents considérés : 80000 - 618328 formes uniques.\n",
      "Nombre de documents considérés : 90000 - 672823 formes uniques.\n",
      "Nombre de documents considérés : 100000 - 717838 formes uniques.\n"
     ]
    }
   ],
   "source": [
    "import random\n",
    "random.shuffle(corpus)\n",
    "\n",
    "y = []\n",
    "types = set()\n",
    "\n",
    "for valeur in x:\n",
    "    if (len(corpus) > valeur):\n",
    "        tokens = nltk.flatten([tokenizer_re.tokenize(doc) for doc in corpus[:valeur]])\n",
    "        tokens =  set(tokens)\n",
    "        types.update(tokens)\n",
    "        y.append(len(types))\n",
    "        print(\"Nombre de documents considérés : \" + str(valeur) + \" - \" + str(len(types)) + \" formes uniques.\")"
   ]
  },
  {
   "cell_type": "code",
   "execution_count": 65,
   "metadata": {},
   "outputs": [
    {
     "data": {
      "text/plain": [
       "[0,\n",
       " 165469,\n",
       " 251668,\n",
       " 323033,\n",
       " 396804,\n",
       " 460527,\n",
       " 512514,\n",
       " 566624,\n",
       " 618328,\n",
       " 672823,\n",
       " 717838]"
      ]
     },
     "execution_count": 65,
     "metadata": {},
     "output_type": "execute_result"
    }
   ],
   "source": [
    "y"
   ]
  },
  {
   "cell_type": "code",
   "execution_count": 66,
   "metadata": {},
   "outputs": [],
   "source": [
    "x = x[:-1]"
   ]
  },
  {
   "cell_type": "code",
   "execution_count": 67,
   "metadata": {},
   "outputs": [
    {
     "data": {
      "image/png": "[encoded data removed]",
      "text/plain": [
       "<Figure size 432x288 with 1 Axes>"
      ]
     },
     "metadata": {
      "needs_background": "light"
     },
     "output_type": "display_data"
    }
   ],
   "source": [
    "# Refaire en randomisant l'ordre des documents\n",
    "\n",
    "import matplotlib.pyplot as plt\n",
    "plt.plot(x, y)\n",
    "plt.xlabel('Nombre de documents')\n",
    "plt.ylabel('Nombre de formes uniques')\n",
    "plt.show()"
   ]
  },
  {
   "cell_type": "code",
   "execution_count": null,
   "metadata": {},
   "outputs": [],
   "source": []
  }
 ],
 "metadata": {
  "kernelspec": {
   "display_name": "Python 3.9.12 ('base')",
   "language": "python",
   "name": "python3"
  },
  "language_info": {
   "codemirror_mode": {
    "name": "ipython",
    "version": 3
   },
   "file_extension": ".py",
   "mimetype": "text/x-python",
   "name": "python",
   "nbconvert_exporter": "python",
   "pygments_lexer": "ipython3",
   "version": "3.9.12"
  },
  "orig_nbformat": 4,
  "vscode": {
   "interpreter": {
    "hash": "a33210152f7d2bd255fb16656f372b633dbf298ed202bbbac20290b0375cadb7"
   }
  }
 },
 "nbformat": 4,
 "nbformat_minor": 2
}
