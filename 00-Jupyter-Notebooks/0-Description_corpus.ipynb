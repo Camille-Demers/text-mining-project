{
 "cells": [
  {
   "cell_type": "markdown",
   "metadata": {},
   "source": [
    "## **Description du corpus**\n",
    "- Nombre de sites distincts qui ont été aspirés\n",
    "- Nombre de documents aspirés / Nombre moyen de documents par site, minimum, maximum\n",
    "- Nombre de types/tokens / Nombre moyen de types/tokens par site, minimum, maximum"
   ]
  },
  {
   "cell_type": "markdown",
   "metadata": {},
   "source": [
    "*Nombre de sites distincts*  \n",
    "Pour chaque acteur, ouvrir les CSV contenanant la liste des URLs et compter le unique de noms de domaines;  \n",
    "Pour ce faire, splitter l'URL et retenir le nom de domaine "
   ]
  },
  {
   "cell_type": "markdown",
   "metadata": {},
   "source": [
    "#### **Acteurs du système de santé dont les sites Web nous intéressent pour la constitution du corpus**"
   ]
  },
  {
   "cell_type": "code",
   "execution_count": 2,
   "metadata": {},
   "outputs": [
    {
     "name": "stdout",
     "output_type": "stream",
     "text": [
      "Les sites Web de 15 acteurs ont été aspirés pour constituer notre corpus :\n",
      "msss\n",
      "gmf\n",
      "inesss\n",
      "quebec_sante\n",
      "ramq\n",
      "chsld\n",
      "urgence_sante\n",
      "chu_iu\n",
      "asso_ordres\n",
      "inspq\n",
      "cisss_ciusss\n",
      "csbe\n",
      "sante_mtl\n",
      "ophq\n",
      "cliniques_medicales\n"
     ]
    }
   ],
   "source": [
    "from pandas import *\n",
    "from pathlib import Path\n",
    "import os, re, shutil, nltk\n",
    "\n",
    "path = '/Users/camilledemers/Documents/03-corpus/0-listes_sites_html_pdf/'\n",
    "\n",
    "os.chdir(path)\n",
    "\n",
    "nb = len([file for file in os.listdir() if file.endswith('csv')])  # (le chum se trouve déjà dans chu_iu (=-1), mais les cliniques médicales été oubliés pour le scraping des PDFs (à corriger) (+1)\n",
    "print('Les sites Web de {} acteurs ont été aspirés pour constituer notre corpus :'.format(nb))\n",
    "for file in os.listdir():\n",
    "    if file.endswith('csv') and not 'chum' in file:\n",
    "        print(file[:-4])\n",
    "print('cliniques_medicales')"
   ]
  },
  {
   "cell_type": "markdown",
   "metadata": {},
   "source": [
    "#### **Nombre de sites aspirés**"
   ]
  },
  {
   "cell_type": "code",
   "execution_count": 3,
   "metadata": {},
   "outputs": [],
   "source": [
    "nb_domaines = 0\n",
    "domaines = []\n",
    "\n",
    "for file in os.listdir():\n",
    "    if file.endswith('csv') and not 'chum' in file:\n",
    "        # encoding= 'ISO-8859-1' \"utf-8\"\n",
    "        # sep = ';' ','\n",
    "        try:\n",
    "            with open(path + file, encoding = 'ISO-8859-1') as f:\n",
    "                csv = read_csv(f, sep=';')\n",
    "\n",
    "        except: \n",
    "            try: \n",
    "                with open(path + file, encoding = 'ISO-8859-1') as f:\n",
    "                    csv = read_csv(f, sep=',')\n",
    "            \n",
    "            except: \n",
    "                try:\n",
    "                    with open(path + file, encoding = 'utf-8') as f:\n",
    "                        csv = read_csv(f, sep= ',')\n",
    "\n",
    "                except: \n",
    "                    try:\n",
    "                        with open(path + file, encoding = 'utf-8') as f:\n",
    "                            csv = read_csv(f, sep= ';')\n",
    "\n",
    "                    except Exception as e:\n",
    "                        print(file + '-' + str(e))\n",
    "\n",
    "        urls = csv['Address'].tolist()\n",
    "        regex = 'https?://(www)?1?\\.?(\\w+)'\n",
    "        try:\n",
    "            domaines += [re.match(regex, url).group(2) for url in urls]\n",
    "        except Exception as e:\n",
    "            True\n",
    "            #print(file + '-' + str(e))"
   ]
  },
  {
   "cell_type": "code",
   "execution_count": 4,
   "metadata": {},
   "outputs": [],
   "source": [
    "domaines += ['ramq', 'sante_mtl', 'urgence_sante']\n",
    "domaines = set(domaines)\n",
    "nb_domaines = len(domaines) + 22 # (cisss/ciusss)\n"
   ]
  },
  {
   "cell_type": "code",
   "execution_count": 5,
   "metadata": {},
   "outputs": [
    {
     "name": "stdout",
     "output_type": "stream",
     "text": [
      "197 sites distincts ont été aspirés au total\n"
     ]
    }
   ],
   "source": [
    "print('{} sites distincts ont été aspirés au total'.format(nb_domaines))"
   ]
  },
  {
   "cell_type": "markdown",
   "metadata": {},
   "source": [
    "#### **Nombre de documents** (fr)"
   ]
  },
  {
   "cell_type": "code",
   "execution_count": 6,
   "metadata": {},
   "outputs": [
    {
     "name": "stdout",
     "output_type": "stream",
     "text": [
      "Voici le nombre de documents (HTML ou PDF) aspirés pour chacun des 15 acteurs considérés.\n",
      "(Noter que le chum devrait se trouver sous CHU_IU)\n",
      "chum : 2298 documents.\n",
      "inspq : 4341 documents.\n",
      "ophq : 3071 documents.\n",
      "urgence_sante : 342 documents.\n",
      "msss : 9745 documents.\n",
      "cliniques_medicales : 529 documents.\n",
      "chsld : 1009 documents.\n",
      "chu_iu : 7351 documents.\n",
      "cisss_ciusss : 35951 documents.\n",
      "gmf : 1912 documents.\n",
      "quebec_sante : 240 documents.\n",
      "inesss : 1817 documents.\n",
      "csbe : 421 documents.\n",
      "ramq : 4633 documents.\n",
      "sante_mtl : 5256 documents.\n",
      "asso_ordres : 36164 documents.\n",
      "\n",
      "Au total, notre corpus francophone compte donc un total de 115080 documents.\n",
      "On a donc un une moyenne d'environ 733 documents par site (mais ça varie considérablement d'un site à l'autre).\n"
     ]
    }
   ],
   "source": [
    "# En français \n",
    "path = '/Users/camilledemers/Documents/03-corpus/2-data/1-fr/'\n",
    "\n",
    "os.chdir(path)\n",
    "\n",
    "nb_docs_fr = 0\n",
    "dossiers = [f for f in os.listdir() if os.path.isdir(path + f) and not (f == 'mf')]\n",
    "print('Voici le nombre de documents (HTML ou PDF) aspirés pour chacun des ' + str(len(dossiers)-1) + ' acteurs considérés.\\n(Noter que le chum devrait se trouver sous CHU_IU)')\n",
    "for folder in dossiers:\n",
    "    os.chdir(path + folder)\n",
    "    nb_doc = [file for file in os.listdir() if file.endswith('.txt') and not '_en' in file and not 'corpus' in file]\n",
    "    print(folder + ' : ' + str(len(nb_doc)) + ' documents.')\n",
    "    nb_docs_fr += len(nb_doc)\n",
    "\n",
    "print('\\nAu total, notre corpus francophone compte donc un total de {} documents.'.format(nb_docs_fr)+'\\nOn a donc un une moyenne d\\'environ {} documents par site (mais ça varie considérablement d\\'un site à l\\'autre).'.format(round(nb_docs_fr/157)))"
   ]
  },
  {
   "cell_type": "markdown",
   "metadata": {},
   "source": [
    "#### **Nombre de tokens** (fr)"
   ]
  },
  {
   "cell_type": "code",
   "execution_count": 8,
   "metadata": {},
   "outputs": [
    {
     "name": "stdout",
     "output_type": "stream",
     "text": [
      "Voici le nombre de tokens et de formes uniques pour chacun des 15 acteurs considérés.\n",
      "chum : 878876 tokens (26725 formes uniques).\n",
      "inspq : 39223816 tokens (103369 formes uniques).\n",
      "ophq : 4077518 tokens (15221 formes uniques).\n",
      "urgence_sante : 226228 tokens (7384 formes uniques).\n",
      "msss : 5281333 tokens (28758 formes uniques).\n",
      "cliniques_medicales : 783564 tokens (8779 formes uniques).\n",
      "chsld : 284351 tokens (7566 formes uniques).\n",
      "chu_iu : 23874137 tokens (741312 formes uniques).\n",
      "cisss_ciusss : 17816953 tokens (68434 formes uniques).\n",
      "gmf : 951284 tokens (15769 formes uniques).\n",
      "quebec_sante : 217212 tokens (8982 formes uniques).\n",
      "inesss : 3235449 tokens (19713 formes uniques).\n",
      "csbe : 135010 tokens (4476 formes uniques).\n",
      "ramq : 92903404 tokens (26414 formes uniques).\n",
      "sante_mtl : 3703612 tokens (19331 formes uniques).\n",
      "asso_ordres : 94152273 tokens (1902010 formes uniques).\n"
     ]
    }
   ],
   "source": [
    "from nltk.tokenize import RegexpTokenizer\n",
    "# Seulement les caractères alphabétiques\n",
    "tokenizer_re = RegexpTokenizer(r\"\\w\\'|\\w+\")\n",
    "\n",
    "# En français \n",
    "base_path = '/Users/camilledemers/Documents/03-corpus/2-data/1-fr/'\n",
    "\n",
    "os.chdir(path)\n",
    "\n",
    "nb_tokens_fr = 0\n",
    "nb_types = set()\n",
    "\n",
    "dossiers = [f for f in os.listdir() if os.path.isdir(path + f) and not (f == 'mf')]\n",
    "print('Voici le nombre de tokens et de formes uniques pour chacun des ' + str(len(dossiers)-1) + ' acteurs considérés.')\n",
    "for folder in dossiers:\n",
    "    os.chdir(path + folder)\n",
    "    corpus = []\n",
    "    for file in os.listdir():\n",
    "        if file.endswith(\".txt\") and not file.endswith('-corpus_FR.txt') and not 'PDF' in file:\n",
    "            file_path = path + folder + '/' + file\n",
    "            \n",
    "            with open(file_path, 'r', encoding = \"UTF-8\") as f:\n",
    "                data = f.readlines()\n",
    "                text = re.sub('\\d', '', data[1].strip('\\n').lower().replace('’', '\\''))\n",
    "                text = text.replace('  ', ' ')\n",
    "            corpus.append(text)\n",
    "\n",
    "    tokens = nltk.flatten([tokenizer_re.tokenize(doc) for doc in corpus])\n",
    "    types = set()\n",
    "    for t in set(tokens):\n",
    "        types.add(t)\n",
    "    len_corpus = len(tokens)\n",
    "\n",
    "    print(folder + ' : ' + str(len_corpus) + ' tokens (' + str(len(types)) +' formes uniques).')\n",
    "    nb_tokens_fr += len_corpus\n",
    "    for t in types:\n",
    "        nb_types.add(t)\n"
   ]
  },
  {
   "cell_type": "code",
   "execution_count": 12,
   "metadata": {},
   "outputs": [
    {
     "data": {
      "text/plain": [
       "[30000,\n",
       " 32000,\n",
       " 34000,\n",
       " 36000,\n",
       " 38000,\n",
       " 40000,\n",
       " 42000,\n",
       " 44000,\n",
       " 46000,\n",
       " 48000,\n",
       " 50000,\n",
       " 52000,\n",
       " 54000,\n",
       " 56000,\n",
       " 58000,\n",
       " 60000]"
      ]
     },
     "execution_count": 12,
     "metadata": {},
     "output_type": "execute_result"
    }
   ],
   "source": [
    "# CHUM\n",
    "\n",
    "# x = nombre de nouvelles formes\n",
    "# y = nombre de documents considérés \n",
    "\n",
    "x = []\n",
    "\n",
    "for i in range(16): # On va aller jusqu'à max 115 000 documents (on en a 115 080)\n",
    "    a = 2000\n",
    "    x.append(30000 + (a * i))\n",
    "\n",
    "x"
   ]
  },
  {
   "cell_type": "code",
   "execution_count": 13,
   "metadata": {},
   "outputs": [
    {
     "name": "stdout",
     "output_type": "stream",
     "text": [
      "cliniques_medicales.csv\n",
      "msss.csv\n",
      "gmf.csv\n",
      "inesss.csv\n",
      "quebec_sante.csv\n",
      "ramq.csv\n",
      "chsld.csv\n",
      "urgence_sante.csv\n",
      "chu_iu.csv\n",
      "asso_ordres.csv\n",
      "inspq.csv\n",
      "chum.csv\n",
      "cisss_ciusss.csv\n",
      "csbe.csv\n",
      "sante_mtl.csv\n",
      "ophq.csv\n"
     ]
    }
   ],
   "source": [
    "import nltk\n",
    "from nltk.tokenize import RegexpTokenizer\n",
    "# Seulement les caractères alphabétiques\n",
    "tokenizer_re = RegexpTokenizer(r\"\\w\\'|\\w+\")\n",
    "\n",
    "from pandas import *\n",
    "import re \n",
    "base_path = '/Users/camilledemers/Documents/03-corpus/2-data/1-fr/'\n",
    "\n",
    "y = []\n",
    "corpus = []\n",
    "os.chdir(base_path)\n",
    "for file in os.listdir():\n",
    "    if file.endswith('.csv'):  \n",
    "        print(file)\n",
    "        with open(file, 'r', encoding = \"UTF-8\") as f:\n",
    "            data = read_csv(f)\n",
    "            text = data['text'].tolist()\n",
    "            corpus += [(re.sub('\\d', '', str(t).strip('\\n').lower().replace('’', '\\'').replace('  ', ' '))) for t in text]\n"
   ]
  },
  {
   "cell_type": "code",
   "execution_count": 14,
   "metadata": {},
   "outputs": [
    {
     "data": {
      "text/plain": [
       "114518"
      ]
     },
     "execution_count": 14,
     "metadata": {},
     "output_type": "execute_result"
    }
   ],
   "source": [
    "len(corpus)"
   ]
  },
  {
   "cell_type": "code",
   "execution_count": 17,
   "metadata": {},
   "outputs": [
    {
     "name": "stdout",
     "output_type": "stream",
     "text": [
      "Nombre de documents considérés : 30000 - 311416 formes uniques.\n",
      "Nombre de documents considérés : 32000 - 314201 formes uniques.\n",
      "Nombre de documents considérés : 34000 - 316995 formes uniques.\n",
      "Nombre de documents considérés : 36000 - 318828 formes uniques.\n",
      "Nombre de documents considérés : 38000 - 320438 formes uniques.\n",
      "Nombre de documents considérés : 40000 - 322425 formes uniques.\n"
     ]
    }
   ],
   "source": [
    "types = set()\n",
    "\n",
    "for valeur in x:\n",
    "    if (len(corpus) > valeur):\n",
    "        tokens = nltk.flatten([tokenizer_re.tokenize(doc) for doc in corpus[:valeur]])\n",
    "        for t in set(tokens):\n",
    "            types.add(t)\n",
    "        y.append(len(types))\n",
    "        print(\"Nombre de documents considérés : \" + str(valeur) + \" - \" + str(len(types)) + \" formes uniques.\")"
   ]
  },
  {
   "cell_type": "code",
   "execution_count": 7,
   "metadata": {},
   "outputs": [],
   "source": [
    "x = [0, 61979, 104195, 143904, 181763, 208832, 213273, 217819, 224751, 225012, 237063, 257106, 275844, 294976, 307781, 311416]"
   ]
  },
  {
   "cell_type": "code",
   "execution_count": 9,
   "metadata": {},
   "outputs": [
    {
     "data": {
      "image/png": "[encoded data removed]",
      "text/plain": [
       "<Figure size 432x288 with 1 Axes>"
      ]
     },
     "metadata": {
      "needs_background": "light"
     },
     "output_type": "display_data"
    }
   ],
   "source": [
    "import matplotlib.pyplot as plt\n",
    "plt.plot(y, x)\n",
    "plt.ylabel('Nombre de formes uniques')\n",
    "plt.xlabel('Nombre de documents')\n",
    "plt.show()"
   ]
  },
  {
   "cell_type": "code",
   "execution_count": 9,
   "metadata": {},
   "outputs": [
    {
     "name": "stdout",
     "output_type": "stream",
     "text": [
      "\n",
      "Au total, notre corpus francophone compte donc un total de 287745020 tokens (et 2433589 formes uniques).\n"
     ]
    }
   ],
   "source": [
    "print('\\nAu total, notre corpus francophone compte donc un total de {} tokens'.format(nb_tokens_fr)+' (et {} formes uniques).'.format(len(nb_types)))"
   ]
  }
 ],
 "metadata": {
  "kernelspec": {
   "display_name": "Python 3.9.12 ('base')",
   "language": "python",
   "name": "python3"
  },
  "language_info": {
   "codemirror_mode": {
    "name": "ipython",
    "version": 3
   },
   "file_extension": ".py",
   "mimetype": "text/x-python",
   "name": "python",
   "nbconvert_exporter": "python",
   "pygments_lexer": "ipython3",
   "version": "3.9.12"
  },
  "orig_nbformat": 4,
  "vscode": {
   "interpreter": {
    "hash": "a33210152f7d2bd255fb16656f372b633dbf298ed202bbbac20290b0375cadb7"
   }
  }
 },
 "nbformat": 4,
 "nbformat_minor": 2
}
