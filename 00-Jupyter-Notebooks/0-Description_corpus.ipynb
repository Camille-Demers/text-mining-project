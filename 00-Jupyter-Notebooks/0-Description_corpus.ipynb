{
 "cells": [
  {
   "cell_type": "markdown",
   "metadata": {},
   "source": [
    "## **Description du corpus**\n",
    "- Nombre de sites distincts qui ont été aspirés\n",
    "- Nombre de documents aspirés / Nombre moyen de documents par site, minimum, maximum\n",
    "- Nombre de types/tokens / Nombre moyen de types/tokens par site, minimum, maximum"
   ]
  },
  {
   "cell_type": "markdown",
   "metadata": {},
   "source": [
    "*Nombre de sites distincts*  \n",
    "Pour chaque acteur, ouvrir les CSV contenanant la liste des URLs et compter les noms de domaines distincts;  \n",
    "Pour ce faire, splitter l'URL et retenir le nom de domaine "
   ]
  },
  {
   "cell_type": "markdown",
   "metadata": {},
   "source": [
    "#### **Acteurs du système de santé dont les sites Web nous intéressent pour la constitution du corpus**"
   ]
  },
  {
   "cell_type": "code",
   "execution_count": 3,
   "metadata": {},
   "outputs": [
    {
     "name": "stdout",
     "output_type": "stream",
     "text": [
      "Les sites Web de 0 acteurs ont été aspirés pour constituer notre corpus :\n",
      "chusj\n",
      "ciusss_centresud\n",
      "cusm\n",
      "inesss\n",
      "inspq\n",
      "laval_sante\n",
      "msss\n",
      "ramq\n",
      "sante_mtl\n"
     ]
    }
   ],
   "source": [
    "from pandas import *\n",
    "from pathlib import Path\n",
    "import os, re, shutil, nltk\n",
    "\n",
    "path = '../03-corpus/2-data/1-fr/'\n",
    "\n",
    "\n",
    "nb = len([file for file in os.listdir() if file.endswith('csv') and not 'chum' in file]) # (le chum se trouve déjà dans chu_iu)\n",
    "print('Les sites Web de {} acteurs ont été aspirés pour constituer notre corpus :'.format(nb))\n",
    "for file in os.listdir(path):\n",
    "    if file.endswith('csv') and not 'chum' in file:\n",
    "        print(file[:-4])"
   ]
  },
  {
   "cell_type": "markdown",
   "metadata": {},
   "source": [
    "#### **Nombre de sites aspirés**"
   ]
  },
  {
   "cell_type": "code",
   "execution_count": 4,
   "metadata": {},
   "outputs": [
    {
     "ename": "KeyError",
     "evalue": "'Address'",
     "output_type": "error",
     "traceback": [
      "\u001b[1;31m---------------------------------------------------------------------------\u001b[0m",
      "\u001b[1;31mKeyError\u001b[0m                                  Traceback (most recent call last)",
      "File \u001b[1;32mc:\\Users\\p1115145\\AppData\\Local\\Programs\\Python\\Python310\\lib\\site-packages\\pandas\\core\\indexes\\base.py:3621\u001b[0m, in \u001b[0;36mIndex.get_loc\u001b[1;34m(self, key, method, tolerance)\u001b[0m\n\u001b[0;32m   3620\u001b[0m \u001b[39mtry\u001b[39;00m:\n\u001b[1;32m-> 3621\u001b[0m     \u001b[39mreturn\u001b[39;00m \u001b[39mself\u001b[39;49m\u001b[39m.\u001b[39;49m_engine\u001b[39m.\u001b[39;49mget_loc(casted_key)\n\u001b[0;32m   3622\u001b[0m \u001b[39mexcept\u001b[39;00m \u001b[39mKeyError\u001b[39;00m \u001b[39mas\u001b[39;00m err:\n",
      "File \u001b[1;32mc:\\Users\\p1115145\\AppData\\Local\\Programs\\Python\\Python310\\lib\\site-packages\\pandas\\_libs\\index.pyx:136\u001b[0m, in \u001b[0;36mpandas._libs.index.IndexEngine.get_loc\u001b[1;34m()\u001b[0m\n",
      "File \u001b[1;32mc:\\Users\\p1115145\\AppData\\Local\\Programs\\Python\\Python310\\lib\\site-packages\\pandas\\_libs\\index.pyx:163\u001b[0m, in \u001b[0;36mpandas._libs.index.IndexEngine.get_loc\u001b[1;34m()\u001b[0m\n",
      "File \u001b[1;32mpandas\\_libs\\hashtable_class_helper.pxi:5198\u001b[0m, in \u001b[0;36mpandas._libs.hashtable.PyObjectHashTable.get_item\u001b[1;34m()\u001b[0m\n",
      "File \u001b[1;32mpandas\\_libs\\hashtable_class_helper.pxi:5206\u001b[0m, in \u001b[0;36mpandas._libs.hashtable.PyObjectHashTable.get_item\u001b[1;34m()\u001b[0m\n",
      "\u001b[1;31mKeyError\u001b[0m: 'Address'",
      "\nThe above exception was the direct cause of the following exception:\n",
      "\u001b[1;31mKeyError\u001b[0m                                  Traceback (most recent call last)",
      "\u001b[1;32mc:\\Users\\p1115145\\Documents\\text-mining-project\\00-Jupyter-Notebooks\\0-Description_corpus.ipynb Cellule 6\u001b[0m in \u001b[0;36m<cell line: 4>\u001b[1;34m()\u001b[0m\n\u001b[0;32m     <a href='vscode-notebook-cell:/c%3A/Users/p1115145/Documents/text-mining-project/00-Jupyter-Notebooks/0-Description_corpus.ipynb#ch0000005?line=26'>27</a>\u001b[0m             \u001b[39mexcept\u001b[39;00m \u001b[39mException\u001b[39;00m \u001b[39mas\u001b[39;00m e:\n\u001b[0;32m     <a href='vscode-notebook-cell:/c%3A/Users/p1115145/Documents/text-mining-project/00-Jupyter-Notebooks/0-Description_corpus.ipynb#ch0000005?line=27'>28</a>\u001b[0m                 \u001b[39mprint\u001b[39m(file \u001b[39m+\u001b[39m \u001b[39m'\u001b[39m\u001b[39m-\u001b[39m\u001b[39m'\u001b[39m \u001b[39m+\u001b[39m \u001b[39mstr\u001b[39m(e))\n\u001b[1;32m---> <a href='vscode-notebook-cell:/c%3A/Users/p1115145/Documents/text-mining-project/00-Jupyter-Notebooks/0-Description_corpus.ipynb#ch0000005?line=29'>30</a>\u001b[0m urls \u001b[39m=\u001b[39m csv[\u001b[39m'\u001b[39;49m\u001b[39mAddress\u001b[39;49m\u001b[39m'\u001b[39;49m]\u001b[39m.\u001b[39mtolist()\n\u001b[0;32m     <a href='vscode-notebook-cell:/c%3A/Users/p1115145/Documents/text-mining-project/00-Jupyter-Notebooks/0-Description_corpus.ipynb#ch0000005?line=30'>31</a>\u001b[0m regex \u001b[39m=\u001b[39m \u001b[39m'\u001b[39m\u001b[39mhttps?://(www)?1?\u001b[39m\u001b[39m\\\u001b[39m\u001b[39m.?(\u001b[39m\u001b[39m\\\u001b[39m\u001b[39mw+)\u001b[39m\u001b[39m'\u001b[39m\n\u001b[0;32m     <a href='vscode-notebook-cell:/c%3A/Users/p1115145/Documents/text-mining-project/00-Jupyter-Notebooks/0-Description_corpus.ipynb#ch0000005?line=31'>32</a>\u001b[0m \u001b[39mtry\u001b[39;00m:\n",
      "File \u001b[1;32mc:\\Users\\p1115145\\AppData\\Local\\Programs\\Python\\Python310\\lib\\site-packages\\pandas\\core\\frame.py:3505\u001b[0m, in \u001b[0;36mDataFrame.__getitem__\u001b[1;34m(self, key)\u001b[0m\n\u001b[0;32m   3503\u001b[0m \u001b[39mif\u001b[39;00m \u001b[39mself\u001b[39m\u001b[39m.\u001b[39mcolumns\u001b[39m.\u001b[39mnlevels \u001b[39m>\u001b[39m \u001b[39m1\u001b[39m:\n\u001b[0;32m   3504\u001b[0m     \u001b[39mreturn\u001b[39;00m \u001b[39mself\u001b[39m\u001b[39m.\u001b[39m_getitem_multilevel(key)\n\u001b[1;32m-> 3505\u001b[0m indexer \u001b[39m=\u001b[39m \u001b[39mself\u001b[39;49m\u001b[39m.\u001b[39;49mcolumns\u001b[39m.\u001b[39;49mget_loc(key)\n\u001b[0;32m   3506\u001b[0m \u001b[39mif\u001b[39;00m is_integer(indexer):\n\u001b[0;32m   3507\u001b[0m     indexer \u001b[39m=\u001b[39m [indexer]\n",
      "File \u001b[1;32mc:\\Users\\p1115145\\AppData\\Local\\Programs\\Python\\Python310\\lib\\site-packages\\pandas\\core\\indexes\\base.py:3623\u001b[0m, in \u001b[0;36mIndex.get_loc\u001b[1;34m(self, key, method, tolerance)\u001b[0m\n\u001b[0;32m   3621\u001b[0m     \u001b[39mreturn\u001b[39;00m \u001b[39mself\u001b[39m\u001b[39m.\u001b[39m_engine\u001b[39m.\u001b[39mget_loc(casted_key)\n\u001b[0;32m   3622\u001b[0m \u001b[39mexcept\u001b[39;00m \u001b[39mKeyError\u001b[39;00m \u001b[39mas\u001b[39;00m err:\n\u001b[1;32m-> 3623\u001b[0m     \u001b[39mraise\u001b[39;00m \u001b[39mKeyError\u001b[39;00m(key) \u001b[39mfrom\u001b[39;00m \u001b[39merr\u001b[39;00m\n\u001b[0;32m   3624\u001b[0m \u001b[39mexcept\u001b[39;00m \u001b[39mTypeError\u001b[39;00m:\n\u001b[0;32m   3625\u001b[0m     \u001b[39m# If we have a listlike key, _check_indexing_error will raise\u001b[39;00m\n\u001b[0;32m   3626\u001b[0m     \u001b[39m#  InvalidIndexError. Otherwise we fall through and re-raise\u001b[39;00m\n\u001b[0;32m   3627\u001b[0m     \u001b[39m#  the TypeError.\u001b[39;00m\n\u001b[0;32m   3628\u001b[0m     \u001b[39mself\u001b[39m\u001b[39m.\u001b[39m_check_indexing_error(key)\n",
      "\u001b[1;31mKeyError\u001b[0m: 'Address'"
     ]
    }
   ],
   "source": [
    "nb_domaines = 0\n",
    "domaines = []\n",
    "\n",
    "for file in os.listdir(path):\n",
    "    if file.endswith('csv') and not 'chum' in file:\n",
    "        # encoding= 'ISO-8859-1' \"utf-8\"\n",
    "        # sep = ';' ','\n",
    "        try:\n",
    "            with open(path + file, encoding = 'ISO-8859-1') as f:\n",
    "                csv = read_csv(f, sep=';')\n",
    "\n",
    "        except: \n",
    "            try: \n",
    "                with open(path + file, encoding = 'ISO-8859-1') as f:\n",
    "                    csv = read_csv(f, sep=',')\n",
    "            \n",
    "            except: \n",
    "                try:\n",
    "                    with open(path + file, encoding = 'utf-8') as f:\n",
    "                        csv = read_csv(f, sep= ',')\n",
    "\n",
    "                except: \n",
    "                    try:\n",
    "                        with open(path + file, encoding = 'utf-8') as f:\n",
    "                            csv = read_csv(f, sep= ';')\n",
    "\n",
    "                    except Exception as e:\n",
    "                        print(file + '-' + str(e))\n",
    "\n",
    "        urls = csv['Address'].tolist()\n",
    "        regex = 'https?://(www)?1?\\.?(\\w+)'\n",
    "        try:\n",
    "            domaines += [re.match(regex, url).group(2) for url in urls]\n",
    "        except Exception as e:\n",
    "            True\n",
    "            #print(file + '-' + str(e))"
   ]
  },
  {
   "cell_type": "code",
   "execution_count": null,
   "metadata": {},
   "outputs": [],
   "source": [
    "domaines += ['ramq', 'sante_mtl', 'urgence_sante']\n",
    "domaines = set(domaines)\n",
    "nb_domaines = len(domaines) + 22 # (cisss/ciusss)"
   ]
  },
  {
   "cell_type": "code",
   "execution_count": null,
   "metadata": {},
   "outputs": [],
   "source": [
    "print('{} sites distincts ont été aspirés au total'.format(nb_domaines))"
   ]
  },
  {
   "cell_type": "markdown",
   "metadata": {},
   "source": [
    "#### **Nombre de documents** (fr)\n",
    "#### **Nombre de types / tokens** (fr)"
   ]
  },
  {
   "cell_type": "code",
   "execution_count": null,
   "metadata": {},
   "outputs": [],
   "source": [
    "from nltk.tokenize import RegexpTokenizer\n",
    "# Seulement les caractères alphabétiques\n",
    "tokenizer_re = RegexpTokenizer(r\"\\w\\'|\\w+\")\n",
    "\n",
    "nb_docs_fr = 0\n",
    "corpus = []\n",
    "fichiers = [f for f in os.listdir(path) if f.endswith('.csv') and not (f == 'mf.csv') and not (f == 'chum.csv')]\n",
    "print('Voici le nombre de documents (HTML ou PDF) aspirés pour chacun des ' + str(len(fichiers)) + ' acteurs considérés.\\n(Noter que le chum devrait se trouver sous CHU_IU)')\n",
    "\n",
    "for file in fichiers:\n",
    "    nb_tokens = 0\n",
    "    nb_types = set()\n",
    "    with open(path + file, encoding = 'ISO-8859-1') as f:\n",
    "        data = read_csv(f)['text'].tolist()\n",
    "        nb_doc = len(data)\n",
    "        subcorpus = [re.sub('\\d', '', t.strip('\\n').lower().replace('’', '\\'').replace('  ', ' ')) for t in data]\n",
    "        corpus.append(subcorpus)\n",
    "        tokens = nltk.flatten([tokenizer_re.tokenize(doc) for doc in subcorpus])\n",
    "        types = set(tokens)\n",
    "\n",
    "        print(file + '\\t' + str(nb_doc) + ' documents\\t' + str(len(tokens)) + ' tokens\\t' + str(len(types)) +' formes uniques')\n",
    "\n",
    "        nb_docs_fr += nb_doc\n",
    "\n",
    "print('\\nAu total, notre corpus francophone compte donc un total de {} documents.'.format(nb_docs_fr)+'\\nOn a donc un une moyenne d\\'environ {} documents par site (mais ça varie considérablement d\\'un site à l\\'autre).'.format(round(nb_docs_fr/157)))\n"
   ]
  },
  {
   "cell_type": "markdown",
   "metadata": {},
   "source": [
    "#### **Déterminer la taille d'échantillon à retenir**"
   ]
  },
  {
   "cell_type": "code",
   "execution_count": null,
   "metadata": {},
   "outputs": [],
   "source": [
    "x = []\n",
    "for i in range(12): # On va aller jusqu'à max 115 000 documents (on en a 115 080)\n",
    "    a = 10000\n",
    "    x.append(a * i)"
   ]
  },
  {
   "cell_type": "code",
   "execution_count": null,
   "metadata": {},
   "outputs": [],
   "source": [
    "corpus = nltk.flatten(corpus)"
   ]
  },
  {
   "cell_type": "code",
   "execution_count": null,
   "metadata": {},
   "outputs": [],
   "source": [
    "len(corpus)"
   ]
  },
  {
   "cell_type": "code",
   "execution_count": null,
   "metadata": {},
   "outputs": [],
   "source": [
    "import random\n",
    "random.shuffle(corpus)\n",
    "\n",
    "y = []\n",
    "types = set()\n",
    "\n",
    "for valeur in x:\n",
    "    if (len(corpus) > valeur):\n",
    "        tokens = nltk.flatten([tokenizer_re.tokenize(doc) for doc in corpus[:valeur]])\n",
    "        tokens =  set(tokens)\n",
    "        types.update(tokens)\n",
    "        y.append(len(types))\n",
    "        print(\"Nombre de documents considérés : \" + str(valeur) + \" - \" + str(len(types)) + \" formes uniques.\")"
   ]
  },
  {
   "cell_type": "code",
   "execution_count": null,
   "metadata": {},
   "outputs": [],
   "source": [
    "y"
   ]
  },
  {
   "cell_type": "code",
   "execution_count": null,
   "metadata": {},
   "outputs": [],
   "source": [
    "x = x[:-1]"
   ]
  },
  {
   "cell_type": "code",
   "execution_count": null,
   "metadata": {},
   "outputs": [],
   "source": [
    "# Refaire en randomisant l'ordre des documents\n",
    "\n",
    "import matplotlib.pyplot as plt\n",
    "plt.plot(x, y)\n",
    "plt.xlabel('Nombre de documents')\n",
    "plt.ylabel('Nombre de formes uniques')\n",
    "plt.show()"
   ]
  }
 ],
 "metadata": {
  "kernelspec": {
   "display_name": "Python 3.10.5 64-bit",
   "language": "python",
   "name": "python3"
  },
  "language_info": {
   "codemirror_mode": {
    "name": "ipython",
    "version": 3
   },
   "file_extension": ".py",
   "mimetype": "text/x-python",
   "name": "python",
   "nbconvert_exporter": "python",
   "pygments_lexer": "ipython3",
   "version": "3.10.5"
  },
  "orig_nbformat": 4,
  "vscode": {
   "interpreter": {
    "hash": "79bb76bbc4f9ba1f8df5efe8db67aae07079a51dc7b5004f49990e90f5993a15"
   }
  }
 },
 "nbformat": 4,
 "nbformat_minor": 2
}
