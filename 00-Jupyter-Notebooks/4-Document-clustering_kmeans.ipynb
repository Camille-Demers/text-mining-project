{
 "cells": [
  {
   "cell_type": "markdown",
   "metadata": {},
   "source": [
    "## **4. Document Clustering** (K-means)  "
   ]
  },
  {
   "cell_type": "code",
   "execution_count": 48,
   "metadata": {},
   "outputs": [],
   "source": [
    "from sklearn.decomposition import TruncatedSVD\n",
    "from sklearn.feature_extraction.text import TfidfVectorizer\n",
    "from sklearn.feature_extraction.text import TfidfTransformer\n",
    "from sklearn import metrics\n",
    "from sklearn.cluster import KMeans\n",
    "from sklearn.preprocessing import Normalizer\n",
    "from sklearn.pipeline import make_pipeline\n",
    "from pandas import *\n",
    "import numpy as np\n",
    "import matplotlib.pyplot as plt\n",
    "\n",
    "import os, shutil, re\n",
    "from pathlib import Path\n",
    "from os import path"
   ]
  },
  {
   "cell_type": "markdown",
   "metadata": {},
   "source": [
    "Lire les candidats termes extraits à l'étape de prétraitement"
   ]
  },
  {
   "cell_type": "code",
   "execution_count": 49,
   "metadata": {},
   "outputs": [],
   "source": [
    "base_path = '../04-filtrage/output/'\n",
    "acteur = 'inesss'\n",
    "tag = ''\n",
    "\n",
    "if tag:\n",
    "    csv_file = acteur + '_' + tag + '_significant-collocations.csv'\n",
    "\n",
    "else:\n",
    "    csv_file = acteur + '_significant-collocations.csv'"
   ]
  },
  {
   "cell_type": "code",
   "execution_count": 50,
   "metadata": {},
   "outputs": [
    {
     "data": {
      "text/html": [
       "<div>\n",
       "<style scoped>\n",
       "    .dataframe tbody tr th:only-of-type {\n",
       "        vertical-align: middle;\n",
       "    }\n",
       "\n",
       "    .dataframe tbody tr th {\n",
       "        vertical-align: top;\n",
       "    }\n",
       "\n",
       "    .dataframe thead th {\n",
       "        text-align: right;\n",
       "    }\n",
       "</style>\n",
       "<table border=\"1\" class=\"dataframe\">\n",
       "  <thead>\n",
       "    <tr style=\"text-align: right;\">\n",
       "      <th></th>\n",
       "      <th>Terme</th>\n",
       "    </tr>\n",
       "  </thead>\n",
       "  <tbody>\n",
       "    <tr>\n",
       "      <th>0</th>\n",
       "      <td>traitement</td>\n",
       "    </tr>\n",
       "    <tr>\n",
       "      <th>1</th>\n",
       "      <td>évaluation</td>\n",
       "    </tr>\n",
       "    <tr>\n",
       "      <th>2</th>\n",
       "      <td>jamp</td>\n",
       "    </tr>\n",
       "    <tr>\n",
       "      <th>3</th>\n",
       "      <td>médicaments</td>\n",
       "    </tr>\n",
       "    <tr>\n",
       "      <th>4</th>\n",
       "      <td>inesss</td>\n",
       "    </tr>\n",
       "    <tr>\n",
       "      <th>...</th>\n",
       "      <td>...</td>\n",
       "    </tr>\n",
       "    <tr>\n",
       "      <th>17620</th>\n",
       "      <td>stabilisation des lits aux soins</td>\n",
       "    </tr>\n",
       "    <tr>\n",
       "      <th>17621</th>\n",
       "      <td>dario</td>\n",
       "    </tr>\n",
       "    <tr>\n",
       "      <th>17622</th>\n",
       "      <td>stabilisation des lits réguliers occupés</td>\n",
       "    </tr>\n",
       "    <tr>\n",
       "      <th>17623</th>\n",
       "      <td>stabilisation des lits réguliers</td>\n",
       "    </tr>\n",
       "    <tr>\n",
       "      <th>17624</th>\n",
       "      <td>eye</td>\n",
       "    </tr>\n",
       "  </tbody>\n",
       "</table>\n",
       "<p>17625 rows × 1 columns</p>\n",
       "</div>"
      ],
      "text/plain": [
       "                                          Terme\n",
       "0                                    traitement\n",
       "1                                    évaluation\n",
       "2                                          jamp\n",
       "3                                   médicaments\n",
       "4                                        inesss\n",
       "...                                         ...\n",
       "17620          stabilisation des lits aux soins\n",
       "17621                                     dario\n",
       "17622  stabilisation des lits réguliers occupés\n",
       "17623          stabilisation des lits réguliers\n",
       "17624                                       eye\n",
       "\n",
       "[17625 rows x 1 columns]"
      ]
     },
     "execution_count": 50,
     "metadata": {},
     "output_type": "execute_result"
    }
   ],
   "source": [
    "with open(base_path+csv_file, encoding='utf-8') as f:\n",
    "    csv = read_csv(f)[[\"Terme\"]]#, \"Structure syntaxique\", \"Fréquence\"]] # \"LLR\", \"p-value\"]]\n",
    "\n",
    "csv"
   ]
  },
  {
   "cell_type": "code",
   "execution_count": 51,
   "metadata": {},
   "outputs": [],
   "source": [
    "vocabulaire = [str(t).lower() for t in list(csv['Terme'])]"
   ]
  },
  {
   "cell_type": "markdown",
   "metadata": {},
   "source": [
    "Quand on lis le corpus, ajouter : \n",
    "- Lire le CSV du crawling contenant les URLs avec l'élément title pour join les documents avec leur titre (et essayer d'appliquer drop_duplicates() pour voir)"
   ]
  },
  {
   "cell_type": "code",
   "execution_count": 52,
   "metadata": {},
   "outputs": [],
   "source": [
    "base_path = '../03-corpus/2-data/1-fr/'\n",
    "if tag:\n",
    "    base_path = path.join(base_path, acteur, acteur + '_' + tag + '.csv')\n",
    "\n",
    "else:\n",
    "    base_path = path.join(base_path, acteur +  '.csv')\n",
    "        \n",
    "with open(base_path, \"r\", encoding = \"UTF-8\") as f:\n",
    "    data = read_csv(base_path, sep=',')\n",
    "    text = data['text'].drop_duplicates().dropna().tolist()\n",
    "\n",
    "nb_docs = len(text)"
   ]
  },
  {
   "cell_type": "code",
   "execution_count": 53,
   "metadata": {},
   "outputs": [],
   "source": [
    "corpus = [str(t).strip('\\n').lower().replace('’', '\\'') for t in text]\n",
    "    \n",
    "punct = '[!#$%&•►*+,;<=>?@[\\]^_{|}~©«»—“”–—]'\n",
    "spaces = '\\s+'\n",
    "postals = '([a-zA-Z]+\\d+|\\d+[a-zA-Z]+)+'\n",
    "phones = '\\d{3}\\s\\d{3}-\\d{4}' #très simple (trop)\n",
    "\n",
    "corpus = [str(t).strip('\\n').lower().replace('’', '\\'') for t in corpus]\n",
    "corpus = [re.sub(spaces, ' ', t) for t in corpus]\n",
    "corpus = [re.sub(punct, ' ', t).replace(\"' \", \"'\" ).replace(\"'\", \"'\") for t in corpus]\n",
    "corpus = [re.sub(phones, ' STOP ', t) for t in corpus]\n",
    "corpus = [re.sub(postals, ' STOP ', t) for t in corpus]\n",
    "corpus = [t.replace(\"  \", \" \" ) for t in corpus]"
   ]
  },
  {
   "cell_type": "markdown",
   "metadata": {},
   "source": [
    "### K-means avec *sklearn*"
   ]
  },
  {
   "cell_type": "code",
   "execution_count": 54,
   "metadata": {},
   "outputs": [
    {
     "data": {
      "image/png": "[encoded data removed]",
      "text/plain": [
       "<Figure size 432x288 with 1 Axes>"
      ]
     },
     "metadata": {
      "needs_background": "light"
     },
     "output_type": "display_data"
    },
    {
     "name": "stdout",
     "output_type": "stream",
     "text": [
      "Number of clusters used (K) = 3\n",
      "                                               Document  cluster\n",
      "1189  MediSure Empower (mesure de la glycémie) Dénom...        0\n",
      "818   Opdivo (oncologie) Dénomination commune // Suj...        0\n",
      "819   Sprycel (oncologie) Dénomination commune // Su...        0\n",
      "820   Yervoy (oncologie) Dénomination commune // Suj...        0\n",
      "821   Sprycel (leucémie lymphoblastique aigüe) Dénom...        0\n",
      "...                                                 ...      ...\n",
      "523   Risques d’hospitalisation et projections des b...        2\n",
      "525   Risques d’hospitalisation et projections des b...        2\n",
      "526   Risques d’hospitalisation et projections des b...        2\n",
      "518   Risques d’hospitalisation et projections des b...        2\n",
      "313   Risques d’hospitalisation et projections des b...        2\n",
      "\n",
      "[1190 rows x 2 columns]\n"
     ]
    }
   ],
   "source": [
    "K = range(2,15)\n",
    "Sum_of_squared_distances = []\n",
    "silhouette_scores = []\n",
    "\n",
    "for k in K:\n",
    "    vectorizer = TfidfVectorizer(vocabulary = set(vocabulaire),ngram_range=(1,12), lowercase=False)\n",
    "    X = vectorizer.fit_transform(corpus)\n",
    "    #true_k = int(input())\n",
    "    model = KMeans(n_clusters=k, init='k-means++', max_iter=200, n_init=1)\n",
    "    model.fit(X)\n",
    "    Sum_of_squared_distances.append(model.inertia_)\n",
    "\n",
    "    # Run LSA\n",
    "    # Since LSA/SVD results are not normalized,\n",
    "    # we redo the normalization to improve the k-means result.\n",
    "    svd = TruncatedSVD(n_components=k)\n",
    "    normalizer = Normalizer(copy=False)\n",
    "    lsa = make_pipeline(svd, normalizer)\n",
    "\n",
    "    X = lsa.fit_transform(X)\n",
    "    model.fit(X)\n",
    "\n",
    "    labels=model.labels_\n",
    "    clusters= DataFrame(list(zip(text,labels)),columns=['Document','cluster'])\n",
    "    #print(clusters.sort_values(by=['cluster']))\n",
    "\n",
    "    original_space_centroids = svd.inverse_transform(X)\n",
    "    order_centroids = original_space_centroids.argsort()[:, ::-1]\n",
    "    silhouette_scores.append([k, metrics.silhouette_score(X, labels)])\n",
    "\n",
    "df = DataFrame(silhouette_scores, columns=['Nombre de clusters (k)', 'Score Silhouette'])\n",
    "true_k = int(df[df['Score Silhouette'] == df['Score Silhouette'].max()]['Nombre de clusters (k)'])\n",
    "df\n",
    "\n",
    "plt.plot(K, Sum_of_squared_distances, 'bx-')\n",
    "plt.xlabel('k')\n",
    "plt.ylabel('Sum_of_squared_distances')\n",
    "plt.title('Elbow Method For Optimal k')\n",
    "plt.show()\n",
    "\n",
    "print('Number of clusters used (K) = ' + str(true_k))\n",
    "model = KMeans(n_clusters=true_k, init='k-means++', max_iter=200, n_init=1)\n",
    "\n",
    "# Run LSA\n",
    "# Since LSA/SVD results are not normalized,\n",
    "# we redo the normalization to improve the k-means result.\n",
    "svd = TruncatedSVD(n_components=true_k)\n",
    "normalizer = Normalizer(copy=False)\n",
    "lsa = make_pipeline(svd, normalizer)\n",
    "\n",
    "X = lsa.fit_transform(X)\n",
    "model.fit(X)\n",
    "\n",
    "labels=model.labels_\n",
    "clusters= DataFrame(list(zip(text,labels)),columns=['Document','cluster'])\n",
    "print(clusters.sort_values(by=['cluster']))\n",
    "\n",
    "# print(\"Top terms per cluster:\")\n",
    "# original_space_centroids = svd.inverse_transform(X)\n",
    "# order_centroids = original_space_centroids.argsort()[:, ::-1]\n",
    "\n",
    "# terms = vectorizer.get_feature_names_out()\n",
    "# for i in range(true_k):\n",
    "#     #clusters[clusters['cluster'] == i])\n",
    "#     print(\"Cluster %d:\" % i, end=\"\")\n",
    "#     for ind in order_centroids[i, :10]:\n",
    "#         print(\" %s\" % terms[ind], end=\"\")\n",
    "\n",
    "clusters.to_csv('../06-clustering/' + acteur + '_clusters-K-means.csv')"
   ]
  },
  {
   "cell_type": "markdown",
   "metadata": {},
   "source": [
    "#### Topic modeling sur nos clusters (*sklearn LDA, LSA, NMF*)"
   ]
  },
  {
   "cell_type": "code",
   "execution_count": 55,
   "metadata": {},
   "outputs": [],
   "source": [
    "cluster = 0\n",
    "corpus = clusters[clusters['cluster'] == cluster]['Document'].tolist()"
   ]
  },
  {
   "cell_type": "code",
   "execution_count": 56,
   "metadata": {},
   "outputs": [
    {
     "name": "stderr",
     "output_type": "stream",
     "text": [
      "c:\\Users\\p1115145\\AppData\\Local\\Programs\\Python\\Python310\\lib\\site-packages\\sklearn\\decomposition\\_nmf.py:1477: FutureWarning: `alpha` was deprecated in version 1.0 and will be removed in 1.2. Use `alpha_W` and `alpha_H` instead\n",
      "  warnings.warn(\n"
     ]
    }
   ],
   "source": [
    "vectorizer = TfidfVectorizer(vocabulary = set(vocabulaire),ngram_range=(1,12), lowercase=False)\n",
    "X = vectorizer.fit_transform(corpus)\n",
    "tfidf_features_names = vectorizer.get_feature_names_out()\n",
    "\n",
    "from sklearn.decomposition import NMF, LatentDirichletAllocation, TruncatedSVD\n",
    "no_topics = 15\n",
    "\n",
    "# Run NMF\n",
    "nmf = NMF(n_components=no_topics, random_state=1, alpha=.1, l1_ratio=.5, init='nndsvd').fit(X)\n",
    "\n",
    "# # Run LDA\n",
    "# lda = LatentDirichletAllocation(n_components=no_topics, max_iter=5, learning_method='online', learning_offset=50.,random_state=0).fit(tf)\n",
    "\n",
    "# Run LSA\n",
    "lsa = TruncatedSVD(n_components=no_topics, algorithm='randomized', n_iter=100, random_state=122).fit(X)"
   ]
  },
  {
   "cell_type": "code",
   "execution_count": 57,
   "metadata": {},
   "outputs": [],
   "source": [
    "def display_topics(model, feature_names, no_top_words):\n",
    "    tab = []\n",
    "    for topic_idx, topic in enumerate(model.components_):\n",
    "        #print(\"Topic %d:\" % (topic_idx))\n",
    "        tab.append(\" - \".join([feature_names[i] for i in topic.argsort()[:-no_top_words - 1:-1]]))\n",
    "    \n",
    "    #tab = [\" \".join([feature_names[i] for i in topic.argsort()[:-no_top_words - 1:-1]]) for topic in enumerate(model.components_)]\n",
    "    df = DataFrame(tab, columns=['Topic']) # Éventuellement on voudrait remplacer l'index par un label plus significatif\n",
    "    \n",
    "    base_path = '../06-clustering/' + acteur + '/'\n",
    "    if tag:\n",
    "        output_file = acteur + '_' + tag + '_cluster_' + str(cluster) + '_' + (str(model).split('(')[0]) +'.csv'\n",
    "    else:\n",
    "        output_file = acteur + '_cluster_' + str(cluster) + '_' + (str(model).split('(')[0]) +'.csv'\n",
    "    df.to_csv(base_path + output_file)\n",
    "    return df\n",
    "\n",
    "\n",
    "no_top_words = 50"
   ]
  },
  {
   "cell_type": "code",
   "execution_count": 58,
   "metadata": {},
   "outputs": [
    {
     "name": "stdout",
     "output_type": "stream",
     "text": [
      "Topic Modeling avec LSA\n"
     ]
    },
    {
     "data": {
      "text/html": [
       "<div>\n",
       "<style scoped>\n",
       "    .dataframe tbody tr th:only-of-type {\n",
       "        vertical-align: middle;\n",
       "    }\n",
       "\n",
       "    .dataframe tbody tr th {\n",
       "        vertical-align: top;\n",
       "    }\n",
       "\n",
       "    .dataframe thead th {\n",
       "        text-align: right;\n",
       "    }\n",
       "</style>\n",
       "<table border=\"1\" class=\"dataframe\">\n",
       "  <thead>\n",
       "    <tr style=\"text-align: right;\">\n",
       "      <th></th>\n",
       "      <th>Topic</th>\n",
       "    </tr>\n",
       "  </thead>\n",
       "  <tbody>\n",
       "    <tr>\n",
       "      <th>0</th>\n",
       "      <td>ministre - sodium - médicaments - listes des m...</td>\n",
       "    </tr>\n",
       "    <tr>\n",
       "      <th>1</th>\n",
       "      <td>glycémie - glucose - glucose dans le sang - sa...</td>\n",
       "    </tr>\n",
       "    <tr>\n",
       "      <th>2</th>\n",
       "      <td>traitement - coût - efficacité - patients - as...</td>\n",
       "    </tr>\n",
       "    <tr>\n",
       "      <th>3</th>\n",
       "      <td>indication reconnue - indication - type - indi...</td>\n",
       "    </tr>\n",
       "    <tr>\n",
       "      <th>4</th>\n",
       "      <td>type - diabète type - diabète - metformine - r...</td>\n",
       "    </tr>\n",
       "    <tr>\n",
       "      <th>5</th>\n",
       "      <td>lymphome - nivolumab - védotine - mélanome - b...</td>\n",
       "    </tr>\n",
       "    <tr>\n",
       "      <th>6</th>\n",
       "      <td>plaques - indications - type - sclérose - sclé...</td>\n",
       "    </tr>\n",
       "    <tr>\n",
       "      <th>7</th>\n",
       "      <td>listes des médicaments - listes - inscription ...</td>\n",
       "    </tr>\n",
       "    <tr>\n",
       "      <th>8</th>\n",
       "      <td>recommandation - extrait - amyotrophie - amyot...</td>\n",
       "    </tr>\n",
       "    <tr>\n",
       "      <th>9</th>\n",
       "      <td>mcg - fluticasone - xinafoate - propionate - s...</td>\n",
       "    </tr>\n",
       "    <tr>\n",
       "      <th>10</th>\n",
       "      <td>lymphome - védotine - brentuximab - bandelette...</td>\n",
       "    </tr>\n",
       "    <tr>\n",
       "      <th>11</th>\n",
       "      <td>mélanome - nivolumab - ipilimumab - exception ...</td>\n",
       "    </tr>\n",
       "    <tr>\n",
       "      <th>12</th>\n",
       "      <td>hypertension - hypertension artérielle - excep...</td>\n",
       "    </tr>\n",
       "    <tr>\n",
       "      <th>13</th>\n",
       "      <td>hypertension - hypertension artérielle - hyper...</td>\n",
       "    </tr>\n",
       "    <tr>\n",
       "      <th>14</th>\n",
       "      <td>surface active - surface - active - plaies - p...</td>\n",
       "    </tr>\n",
       "  </tbody>\n",
       "</table>\n",
       "</div>"
      ],
      "text/plain": [
       "                                                Topic\n",
       "0   ministre - sodium - médicaments - listes des m...\n",
       "1   glycémie - glucose - glucose dans le sang - sa...\n",
       "2   traitement - coût - efficacité - patients - as...\n",
       "3   indication reconnue - indication - type - indi...\n",
       "4   type - diabète type - diabète - metformine - r...\n",
       "5   lymphome - nivolumab - védotine - mélanome - b...\n",
       "6   plaques - indications - type - sclérose - sclé...\n",
       "7   listes des médicaments - listes - inscription ...\n",
       "8   recommandation - extrait - amyotrophie - amyot...\n",
       "9   mcg - fluticasone - xinafoate - propionate - s...\n",
       "10  lymphome - védotine - brentuximab - bandelette...\n",
       "11  mélanome - nivolumab - ipilimumab - exception ...\n",
       "12  hypertension - hypertension artérielle - excep...\n",
       "13  hypertension - hypertension artérielle - hyper...\n",
       "14  surface active - surface - active - plaies - p..."
      ]
     },
     "execution_count": 58,
     "metadata": {},
     "output_type": "execute_result"
    }
   ],
   "source": [
    "print(\"Topic Modeling avec LSA\")\n",
    "display_topics(lsa, tfidf_features_names, no_top_words)"
   ]
  },
  {
   "cell_type": "markdown",
   "metadata": {},
   "source": [
    "#### Topic modeling avec nos clusters (*Hugging face sentence transformers*)"
   ]
  },
  {
   "cell_type": "code",
   "execution_count": 59,
   "metadata": {},
   "outputs": [],
   "source": [
    "path = '../05-transformation/'\n",
    "acteur = 'msss'\n",
    "tag = 'dependances'\n",
    "\n",
    "if tag:\n",
    "    csv_file = acteur + '_' + tag + '_weighting_OKapiBM25.csv'\n",
    "\n",
    "else:\n",
    "    csv_file = acteur + '_weighting_OKapiBM25.csv'"
   ]
  },
  {
   "cell_type": "code",
   "execution_count": 60,
   "metadata": {},
   "outputs": [
    {
     "data": {
      "text/html": [
       "<div>\n",
       "<style scoped>\n",
       "    .dataframe tbody tr th:only-of-type {\n",
       "        vertical-align: middle;\n",
       "    }\n",
       "\n",
       "    .dataframe tbody tr th {\n",
       "        vertical-align: top;\n",
       "    }\n",
       "\n",
       "    .dataframe thead th {\n",
       "        text-align: right;\n",
       "    }\n",
       "</style>\n",
       "<table border=\"1\" class=\"dataframe\">\n",
       "  <thead>\n",
       "    <tr style=\"text-align: right;\">\n",
       "      <th></th>\n",
       "      <th>Keyword</th>\n",
       "    </tr>\n",
       "  </thead>\n",
       "  <tbody>\n",
       "    <tr>\n",
       "      <th>0</th>\n",
       "      <td>indicateurs de gestion utilisés par le ministè...</td>\n",
       "    </tr>\n",
       "    <tr>\n",
       "      <th>1</th>\n",
       "      <td>concours pour le prix du conseil de la fédération</td>\n",
       "    </tr>\n",
       "    <tr>\n",
       "      <th>2</th>\n",
       "      <td>attestation temporaire de conformité en dépend...</td>\n",
       "    </tr>\n",
       "    <tr>\n",
       "      <th>3</th>\n",
       "      <td>délivrance d'une attestation temporaire de con...</td>\n",
       "    </tr>\n",
       "    <tr>\n",
       "      <th>4</th>\n",
       "      <td>changements apportés au puds par santé canada</td>\n",
       "    </tr>\n",
       "    <tr>\n",
       "      <th>...</th>\n",
       "      <td>...</td>\n",
       "    </tr>\n",
       "    <tr>\n",
       "      <th>1239</th>\n",
       "      <td>thérapie</td>\n",
       "    </tr>\n",
       "    <tr>\n",
       "      <th>1240</th>\n",
       "      <td>centre</td>\n",
       "    </tr>\n",
       "    <tr>\n",
       "      <th>1241</th>\n",
       "      <td>centre d'hébergement</td>\n",
       "    </tr>\n",
       "    <tr>\n",
       "      <th>1242</th>\n",
       "      <td>hommes</td>\n",
       "    </tr>\n",
       "    <tr>\n",
       "      <th>1243</th>\n",
       "      <td>jours</td>\n",
       "    </tr>\n",
       "  </tbody>\n",
       "</table>\n",
       "<p>1244 rows × 1 columns</p>\n",
       "</div>"
      ],
      "text/plain": [
       "                                                Keyword\n",
       "0     indicateurs de gestion utilisés par le ministè...\n",
       "1     concours pour le prix du conseil de la fédération\n",
       "2     attestation temporaire de conformité en dépend...\n",
       "3     délivrance d'une attestation temporaire de con...\n",
       "4         changements apportés au puds par santé canada\n",
       "...                                                 ...\n",
       "1239                                           thérapie\n",
       "1240                                             centre\n",
       "1241                               centre d'hébergement\n",
       "1242                                             hommes\n",
       "1243                                              jours\n",
       "\n",
       "[1244 rows x 1 columns]"
      ]
     },
     "execution_count": 60,
     "metadata": {},
     "output_type": "execute_result"
    }
   ],
   "source": [
    "with open(path + csv_file, encoding='utf-8') as f:\n",
    "    df = DataFrame(read_csv(f)['Terme'])\n",
    "    df.columns = ['Keyword']\n",
    "\n",
    "\n",
    "\n",
    "n_terms = len(df)\n",
    "df"
   ]
  },
  {
   "cell_type": "code",
   "execution_count": 61,
   "metadata": {},
   "outputs": [],
   "source": [
    "cluster_accuracy = 75  # 0-100 (100 = very tight clusters, but higher percentage of no_cluster groups)\n",
    "min_cluster_size = 10  # set the minimum size of cluster groups. (Lower number = tighter groups)\n",
    "\n",
    "from sentence_transformers import SentenceTransformer, util\n",
    "transformer = 'all-MiniLM-L6-v2'  # provides the best quality'"
   ]
  },
  {
   "cell_type": "code",
   "execution_count": 62,
   "metadata": {},
   "outputs": [],
   "source": [
    "# store the data\n",
    "cluster_name_list = []\n",
    "corpus_sentences_list = []\n",
    "df_all = []\n",
    "\n",
    "corpus_set = set(df['Keyword'])\n",
    "corpus_set_all = corpus_set\n",
    "cluster = True"
   ]
  },
  {
   "cell_type": "code",
   "execution_count": 63,
   "metadata": {},
   "outputs": [
    {
     "name": "stderr",
     "output_type": "stream",
     "text": [
      "c:\\Users\\p1115145\\AppData\\Local\\Programs\\Python\\Python310\\lib\\site-packages\\huggingface_hub\\file_download.py:560: FutureWarning: `cached_download` is the legacy way to download files from the HF hub, please consider upgrading to `hf_hub_download`\n",
      "  warnings.warn(\n",
      "Batches: 100%|██████████| 5/5 [00:03<00:00,  1.44it/s]\n"
     ]
    },
    {
     "name": "stdout",
     "output_type": "stream",
     "text": [
      "\n",
      "Cluster 1, #32 Elements \n",
      "\t services de santé\n",
      "\t réseau de la santé et des services\n",
      "\t santé et services\n",
      "\t partenaires du réseau de la santé et des services\n",
      "\t établissements du réseau de la santé et des services\n",
      "\t ministère de la santé et des services\n",
      "\t accès aux services de santé\n",
      "\t réseau de la santé et des services sociaux\n",
      "\t gestion en santé et services\n",
      "\t partenaires du réseau de la santé et des services sociaux\n",
      "\t vertu de la loi sur les services de santé\n",
      "\t établissements du réseau de la santé et des services sociaux\n",
      "\t ministre de la santé et des services\n",
      "\t santé et services sociaux\n",
      "\t centre intégré de santé et de services sociaux\n",
      "\t stratégie d'accès aux services de santé\n",
      "\t ministère de la santé et des services sociaux\n",
      "\t centre de santé\n",
      "\t indicateurs de gestion en santé et services\n",
      "\t gestion en santé et services sociaux\n",
      "\t problèmes de santé\n",
      "\t responsabilité de santé\n",
      "\t ministre de la santé et des services sociaux\n",
      "\t centres intégrés de santé et de services sociaux\n",
      "\t ministère de la santé\n",
      "\t centres intégrés de santé\n",
      "\t centre intégré de santé\n",
      "\t santé\n",
      "\t matière de santé\n",
      "\t soins de santé\n",
      "\t domaines de la santé\n",
      "\t réseau de la santé\n",
      "\n",
      "Cluster 2, #18 Elements \n",
      "\t récompenses en matière de santé mentale\n",
      "\t programme de récompenses en matière de santé mentale\n",
      "\t récompenses en matière de santé\n",
      "\t matière de santé mentale\n",
      "\t matière de santé mentale et de traitement\n",
      "\t problèmes de santé mentale\n",
      "\t pratiques innovantes dans les domaines de la santé mentale\n",
      "\t programme de récompenses en matière de santé\n",
      "\t domaines de la santé mentale\n",
      "\t santé mentale et de traitement\n",
      "\t innovation en matière de santé mentale\n",
      "\t problèmes de santé mentale et de dépendances\n",
      "\t soins de santé mentale et du traitement\n",
      "\t santé mentale et de dépendances\n",
      "\t connaissances entourant les soins de santé mentale\n",
      "\t soins de santé mentale\n",
      "\t milieu des soins de santé mentale\n",
      "\t santé mentale\n",
      "\n",
      "Cluster 3, #13 Elements \n",
      "\t hébergement service de soutien à la désintoxication\n",
      "\t soutien à la désintoxication avec hébergement service\n",
      "\t désintoxication avec hébergement service de soutien\n",
      "\t service de soutien à la désintoxication\n",
      "\t service d'aide et de soutien à la désintoxication\n",
      "\t hébergement service de soutien\n",
      "\t désintoxication avec hébergement service\n",
      "\t soutien à la désintoxication avec hébergement\n",
      "\t hébergement service d'aide et de soutien\n",
      "\t services thérapeutiques avec hébergement\n",
      "\t soutien à la désintoxication\n",
      "\t soutien à la désintoxication en externe\n",
      "\t aide et soutien à la désintoxication\n",
      "\n",
      "Cluster 4, #13 Elements \n",
      "\t dépendance en centre de réadaptation\n",
      "\t centre de réadaptation en dépendance\n",
      "\t centre de réadaptation en dépendances\n",
      "\t dépendance en centre de réadaptation dans un délai\n",
      "\t montérégie centre de réadaptation en dépendance\n",
      "\t centre de réadaptation\n",
      "\t centre de réadaptation dans un délai\n",
      "\t centre de réadaptation pour les personnes ayant une dépendance\n",
      "\t réadaptation en dépendance\n",
      "\t réadaptation en dépendance de lanaudière\n",
      "\t réadaptation en dépendance le virage\n",
      "\t réadaptation en externe services de réadaptation\n",
      "\t services de réadaptation en externe et avec hébergement\n",
      "\n",
      "Cluster 5, #13 Elements \n",
      "\t réinsertion sociale\n",
      "\t réinsertion sociale thérapie\n",
      "\t réinsertion sociale aide\n",
      "\t ressource à but lucratif réinsertion sociale\n",
      "\t réinsertion sociale programmes\n",
      "\t réinsertion sociale clientèle\n",
      "\t réadaptation en externe réinsertion sociale\n",
      "\t hébergement réinsertion sociale\n",
      "\t désintoxication en externe réinsertion sociale\n",
      "\t ressource publique réinsertion sociale\n",
      "\t hébergement réinsertion sociale aide\n",
      "\t réinsertion sociale programmes de formation\n",
      "\t dépendances réinsertion sociale clientèle\n",
      "\n",
      "Cluster 6, #11 Elements \n",
      "\t candidature\n",
      "\t candidatures\n",
      "\t candidature disponible\n",
      "\t candidature dûment\n",
      "\t candidatures reçues\n",
      "\t candidatures les candidatures\n",
      "\t candidats\n",
      "\t évaluation de la candidature\n",
      "\t candiac\n",
      "\t évaluation des candidatures\n",
      "\t candidature dûment complété\n",
      "Total Unclustered Keywords:  1144\n"
     ]
    },
    {
     "name": "stderr",
     "output_type": "stream",
     "text": [
      "Batches: 100%|██████████| 5/5 [00:03<00:00,  1.66it/s]\n"
     ]
    },
    {
     "name": "stdout",
     "output_type": "stream",
     "text": [
      "\n",
      "Cluster 1, #10 Elements \n",
      "\t services sociaux ententes\n",
      "\t services sociaux\n",
      "\t services sociaux ententes de gestion\n",
      "\t services sociaux concernés\n",
      "\t services sociaux (ciusss)\n",
      "\t services sociaux rassemble\n",
      "\t services sociaux (cisss)\n",
      "\t services sociaux pour les personnes en situation\n",
      "\t services entièrement\n",
      "\t services sociaux (msss)\n",
      "Total Unclustered Keywords:  1134\n"
     ]
    },
    {
     "name": "stderr",
     "output_type": "stream",
     "text": [
      "Batches: 100%|██████████| 5/5 [00:02<00:00,  1.70it/s]"
     ]
    },
    {
     "name": "stdout",
     "output_type": "stream",
     "text": [
      "Total Unclustered Keywords:  1134\n"
     ]
    },
    {
     "name": "stderr",
     "output_type": "stream",
     "text": [
      "\n"
     ]
    }
   ],
   "source": [
    "# keep looping through until no more clusters are created\n",
    "\n",
    "cluster_accuracy = cluster_accuracy / 100\n",
    "model = SentenceTransformer(transformer)\n",
    "\n",
    "while cluster:\n",
    "\n",
    "    corpus_sentences = list(corpus_set)\n",
    "    check_len = len(corpus_sentences)\n",
    "\n",
    "    corpus_embeddings = model.encode(corpus_sentences, batch_size=256, show_progress_bar=True, convert_to_tensor=True)\n",
    "    clusters = util.community_detection(corpus_embeddings, min_community_size=min_cluster_size, threshold=cluster_accuracy, init_max_size=len(corpus_embeddings))\n",
    "\n",
    "    for keyword, cluster in enumerate(clusters):\n",
    "        print(\"\\nCluster {}, #{} Elements \".format(keyword + 1, len(cluster)))\n",
    "\n",
    "        for sentence_id in cluster[0:]:\n",
    "            print(\"\\t\", corpus_sentences[sentence_id])\n",
    "            corpus_sentences_list.append(corpus_sentences[sentence_id])\n",
    "            cluster_name_list.append(\"Cluster {}, #{} Elements \".format(keyword + 1, len(cluster)))\n",
    "\n",
    "    df_new = DataFrame(None)\n",
    "    df_new['Cluster Name'] = cluster_name_list\n",
    "    df_new[\"Keyword\"] = corpus_sentences_list\n",
    "\n",
    "    df_all.append(df_new)\n",
    "    have = set(df_new[\"Keyword\"])\n",
    "\n",
    "    corpus_set = corpus_set_all - have\n",
    "    remaining = len(corpus_set)\n",
    "    print(\"Total Unclustered Keywords: \", remaining)\n",
    "    if check_len == remaining:\n",
    "        break"
   ]
  },
  {
   "cell_type": "code",
   "execution_count": 64,
   "metadata": {},
   "outputs": [],
   "source": [
    "# make a new dataframe from the list of dataframe and merge back into the orginal df\n",
    "df_new = concat(df_all)\n",
    "df = df.merge(df_new.drop_duplicates(\"Keyword\"), how='left', on=\"Keyword\")"
   ]
  },
  {
   "cell_type": "code",
   "execution_count": 65,
   "metadata": {},
   "outputs": [],
   "source": [
    "# rename the clusters to the shortest keyword in the cluster\n",
    "# Est-ce qu'on pourrait plutôt le renommer par le keyword le plus fréquent ?\n",
    "\n",
    "df['Length'] = df['Keyword'].astype(str).map(len)\n",
    "df = df.sort_values(by=\"Length\", ascending=True)\n",
    "\n",
    "df['Cluster Name'] = df.groupby('Cluster Name')['Keyword'].transform('first')\n",
    "df.sort_values(['Cluster Name', \"Keyword\"], ascending=[True, True], inplace=True)\n",
    "\n",
    "df['Cluster Name'] = df['Cluster Name'].fillna(\"zzz_no_cluster\")\n",
    "\n",
    "del df['Length']"
   ]
  },
  {
   "cell_type": "code",
   "execution_count": 66,
   "metadata": {},
   "outputs": [],
   "source": [
    "# move the cluster and keyword columns to the front\n",
    "col = df.pop(\"Keyword\")\n",
    "df.insert(0, col.name, col)\n",
    "\n",
    "col = df.pop('Cluster Name')\n",
    "df.insert(0, col.name, col)\n",
    "\n",
    "df.sort_values([\"Cluster Name\", \"Keyword\"], ascending=[True, True], inplace=True)"
   ]
  },
  {
   "cell_type": "code",
   "execution_count": 67,
   "metadata": {},
   "outputs": [
    {
     "name": "stdout",
     "output_type": "stream",
     "text": [
      "8.842443729903536 % of rows clustered successfully!\n"
     ]
    }
   ],
   "source": [
    "uncluster_percent = (remaining / n_terms) * 100\n",
    "clustered_percent = 100 - uncluster_percent\n",
    "print(clustered_percent,\"% of rows clustered successfully!\")"
   ]
  },
  {
   "cell_type": "code",
   "execution_count": 68,
   "metadata": {},
   "outputs": [],
   "source": [
    "if tag:\n",
    "    file_output = acteur + '_' + tag + '_topics_sentence-transformers.csv'\n",
    "else: \n",
    "    file_output = acteur + '_clusters_topics_sentence-transformers.csv'\n",
    "df.to_csv('../06-clustering/' + file_output , index=False)"
   ]
  },
  {
   "cell_type": "markdown",
   "metadata": {},
   "source": [
    "#### *NLTK* (à suivre)\n",
    "\n",
    "Regarder le fil de discussion ici pour voir comment avoir un dataframe avec les documents et leur cluster assigné\n",
    "https://stackoverflow.com/questions/59538701/how-do-i-obtain-individual-centroids-of-k-mean-cluster-using-nltk-python \n"
   ]
  },
  {
   "cell_type": "code",
   "execution_count": 69,
   "metadata": {},
   "outputs": [
    {
     "name": "stderr",
     "output_type": "stream",
     "text": [
      "c:\\Users\\p1115145\\AppData\\Local\\Programs\\Python\\Python310\\lib\\site-packages\\nltk\\cluster\\util.py:130: RuntimeWarning: invalid value encountered in double_scalars\n",
      "  return 1 - (numpy.dot(u, v) / (sqrt(numpy.dot(u, u)) * sqrt(numpy.dot(v, v))))\n"
     ]
    },
    {
     "data": {
      "text/plain": [
       "<bound method KMeansClusterer._centroid of <KMeansClusterer means=[array([0., 0., 0., ..., 0., 0., 0.]), array([0., 0., 0., ..., 0., 0., 0.]), array([0., 0., 0., ..., 0., 0., 0.]), array([0., 0., 0., ..., 0., 0., 0.]), array([0., 0., 0., ..., 0., 0., 0.]), array([0., 0., 0., ..., 0., 0., 0.])] repeats=1>>"
      ]
     },
     "execution_count": 69,
     "metadata": {},
     "output_type": "execute_result"
    }
   ],
   "source": [
    "import nltk\n",
    "from nltk.cluster import EMClusterer, KMeansClusterer\n",
    "\n",
    "vectorizer = TfidfVectorizer(vocabulary = set(vocabulaire),ngram_range=(1,10), lowercase=False)\n",
    "X = vectorizer.fit_transform(corpus).toarray()\n",
    "\n",
    "km = KMeansClusterer(6, distance = nltk.cluster.util.cosine_distance) \n",
    "\n",
    "clusters = km.cluster(X,assign_clusters = True)\n",
    "clusters\n",
    "\n",
    "centroids = km._centroid\n",
    "centroids"
   ]
  },
  {
   "cell_type": "code",
   "execution_count": 70,
   "metadata": {},
   "outputs": [],
   "source": [
    "clusters = km.cluster_vectorspace(X, trace=False)\n",
    "clusters"
   ]
  },
  {
   "cell_type": "code",
   "execution_count": null,
   "metadata": {},
   "outputs": [],
   "source": []
  }
 ],
 "metadata": {
  "kernelspec": {
   "display_name": "Python 3.10.5 64-bit",
   "language": "python",
   "name": "python3"
  },
  "language_info": {
   "codemirror_mode": {
    "name": "ipython",
    "version": 3
   },
   "file_extension": ".py",
   "mimetype": "text/x-python",
   "name": "python",
   "nbconvert_exporter": "python",
   "pygments_lexer": "ipython3",
   "version": "3.10.5"
  },
  "orig_nbformat": 4,
  "vscode": {
   "interpreter": {
    "hash": "79bb76bbc4f9ba1f8df5efe8db67aae07079a51dc7b5004f49990e90f5993a15"
   }
  }
 },
 "nbformat": 4,
 "nbformat_minor": 2
}
