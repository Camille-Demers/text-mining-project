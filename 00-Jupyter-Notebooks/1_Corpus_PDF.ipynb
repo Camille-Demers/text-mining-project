{
 "cells": [
  {
   "cell_type": "markdown",
   "metadata": {},
   "source": [
    "## **1. Corpus - PDF Scraping**"
   ]
  },
  {
   "cell_type": "code",
   "execution_count": 61,
   "metadata": {},
   "outputs": [],
   "source": [
    "import requests\n",
    "from bs4 import BeautifulSoup\n",
    "import io\n",
    "from PyPDF2 import PdfReader\n",
    "import re"
   ]
  },
  {
   "cell_type": "code",
   "execution_count": 62,
   "metadata": {},
   "outputs": [],
   "source": [
    "url = 'https://www.inesss.qc.ca/fileadmin/doc/INESSS/Rapports/Geriatrie/INESSS_GUO_Alzheimer.pdf' # Pour tester"
   ]
  },
  {
   "cell_type": "code",
   "execution_count": 63,
   "metadata": {},
   "outputs": [],
   "source": [
    "def scrape_pdf(url):\n",
    "    pdf_link = requests.get(url)\n",
    "    with io.BytesIO(pdf_link.content) as f:\n",
    "        reader = PdfReader(f)\n",
    "        number_of_pages = len(reader.pages)\n",
    "        text = ''\n",
    "        for i in range(number_of_pages):\n",
    "            page = reader.pages[i]\n",
    "            text += page.extract_text().lower().replace('\\n', '').replace('\\x84', '').replace('\\xa010', '').replace('\\xa0', '')\n",
    "\n",
    "        return text\n"
   ]
  },
  {
   "cell_type": "code",
   "execution_count": 64,
   "metadata": {},
   "outputs": [],
   "source": [
    "path = '/Users/camilledemers/Documents/03-corpus/0-listes_sites_html_pdf/'\n",
    "acteur = \"cisss_ciusss\""
   ]
  },
  {
   "cell_type": "code",
   "execution_count": 65,
   "metadata": {},
   "outputs": [],
   "source": [
    "import pandas as pd\n",
    "\n",
    "# encoding=\"utf-8\"\n",
    "# encoding = \"ISO-8859-1\"\n",
    "with open(path + acteur + '.csv', encoding = \"ISO-8859-1\") as f:\n",
    "    col_list = [\"Address\", \"Type\", \"Title\", \"Description\"]\n",
    "    csv = pd.read_csv(f, sep=\";\", usecols=col_list)"
   ]
  },
  {
   "cell_type": "code",
   "execution_count": 66,
   "metadata": {},
   "outputs": [],
   "source": [
    "pdf = csv[csv['Type']=='application/pdf']"
   ]
  },
  {
   "cell_type": "code",
   "execution_count": 67,
   "metadata": {},
   "outputs": [],
   "source": [
    "liste = list(pdf['Address'])"
   ]
  },
  {
   "cell_type": "code",
   "execution_count": 68,
   "metadata": {},
   "outputs": [
    {
     "name": "stdout",
     "output_type": "stream",
     "text": [
      "ERROR  - https://www.santelaurentides.gouv.qc.ca/fileadmin/internet/cisss_laurentides/Soins_et_services/Ressources_hebergement/Entente_collective_SRAA_CSD.pdf\n",
      "File has not been decrypted\n",
      "ERROR  - https://www.santelaurentides.gouv.qc.ca/fileadmin/internet/cisss_laurentides/Soins_et_services/Ressources_hebergement/FOR_Demande_de_remboursement__DRA__scolaire.pdf\n",
      "Stream has ended unexpectedly\n"
     ]
    },
    {
     "name": "stderr",
     "output_type": "stream",
     "text": [
      "/Users/camilledemers/opt/anaconda3/lib/python3.9/site-packages/PyPDF2/_reader.py:1060: PdfReadWarning: Object 113 0 not defined.\n",
      "  warnings.warn(\n",
      "/Users/camilledemers/opt/anaconda3/lib/python3.9/site-packages/PyPDF2/_page.py:1288: PdfReadWarning:  impossible to decode XFormObject /Fm1\n",
      "  warnings.warn(\n",
      "/Users/camilledemers/opt/anaconda3/lib/python3.9/site-packages/PyPDF2/_reader.py:1060: PdfReadWarning: Object 109 0 not defined.\n",
      "  warnings.warn(\n",
      "/Users/camilledemers/opt/anaconda3/lib/python3.9/site-packages/PyPDF2/_page.py:1288: PdfReadWarning:  impossible to decode XFormObject /Fm2\n",
      "  warnings.warn(\n",
      "/Users/camilledemers/opt/anaconda3/lib/python3.9/site-packages/PyPDF2/_reader.py:1060: PdfReadWarning: Object 117 0 not defined.\n",
      "  warnings.warn(\n",
      "/Users/camilledemers/opt/anaconda3/lib/python3.9/site-packages/PyPDF2/_page.py:1288: PdfReadWarning:  impossible to decode XFormObject /Fm3\n",
      "  warnings.warn(\n",
      "/Users/camilledemers/opt/anaconda3/lib/python3.9/site-packages/PyPDF2/_reader.py:1060: PdfReadWarning: Object 105 0 not defined.\n",
      "  warnings.warn(\n",
      "/Users/camilledemers/opt/anaconda3/lib/python3.9/site-packages/PyPDF2/_page.py:1288: PdfReadWarning:  impossible to decode XFormObject /Fm4\n",
      "  warnings.warn(\n",
      "/Users/camilledemers/opt/anaconda3/lib/python3.9/site-packages/PyPDF2/_reader.py:1060: PdfReadWarning: Object 101 0 not defined.\n",
      "  warnings.warn(\n",
      "/Users/camilledemers/opt/anaconda3/lib/python3.9/site-packages/PyPDF2/_page.py:1288: PdfReadWarning:  impossible to decode XFormObject /Fm5\n",
      "  warnings.warn(\n",
      "/Users/camilledemers/opt/anaconda3/lib/python3.9/site-packages/PyPDF2/_reader.py:1060: PdfReadWarning: Object 93 0 not defined.\n",
      "  warnings.warn(\n",
      "/Users/camilledemers/opt/anaconda3/lib/python3.9/site-packages/PyPDF2/_page.py:1288: PdfReadWarning:  impossible to decode XFormObject /Fm6\n",
      "  warnings.warn(\n",
      "/Users/camilledemers/opt/anaconda3/lib/python3.9/site-packages/PyPDF2/_reader.py:1060: PdfReadWarning: Object 89 0 not defined.\n",
      "  warnings.warn(\n",
      "/Users/camilledemers/opt/anaconda3/lib/python3.9/site-packages/PyPDF2/_page.py:1288: PdfReadWarning:  impossible to decode XFormObject /Fm7\n",
      "  warnings.warn(\n",
      "/Users/camilledemers/opt/anaconda3/lib/python3.9/site-packages/PyPDF2/_reader.py:1060: PdfReadWarning: Object 97 0 not defined.\n",
      "  warnings.warn(\n",
      "/Users/camilledemers/opt/anaconda3/lib/python3.9/site-packages/PyPDF2/_page.py:1288: PdfReadWarning:  impossible to decode XFormObject /Fm8\n",
      "  warnings.warn(\n",
      "/Users/camilledemers/opt/anaconda3/lib/python3.9/site-packages/PyPDF2/_reader.py:1060: PdfReadWarning: Object 83 0 not defined.\n",
      "  warnings.warn(\n",
      "/Users/camilledemers/opt/anaconda3/lib/python3.9/site-packages/PyPDF2/_page.py:1288: PdfReadWarning:  impossible to decode XFormObject /Fm9\n",
      "  warnings.warn(\n",
      "/Users/camilledemers/opt/anaconda3/lib/python3.9/site-packages/PyPDF2/_reader.py:1060: PdfReadWarning: Object 77 0 not defined.\n",
      "  warnings.warn(\n",
      "/Users/camilledemers/opt/anaconda3/lib/python3.9/site-packages/PyPDF2/_page.py:1288: PdfReadWarning:  impossible to decode XFormObject /Fm10\n",
      "  warnings.warn(\n",
      "/Users/camilledemers/opt/anaconda3/lib/python3.9/site-packages/PyPDF2/_reader.py:1060: PdfReadWarning: Object 183 0 not defined.\n",
      "  warnings.warn(\n",
      "/Users/camilledemers/opt/anaconda3/lib/python3.9/site-packages/PyPDF2/_page.py:1288: PdfReadWarning:  impossible to decode XFormObject /Fm11\n",
      "  warnings.warn(\n",
      "/Users/camilledemers/opt/anaconda3/lib/python3.9/site-packages/PyPDF2/_reader.py:1060: PdfReadWarning: Object 50 0 not defined.\n",
      "  warnings.warn(\n",
      "/Users/camilledemers/opt/anaconda3/lib/python3.9/site-packages/PyPDF2/_reader.py:1060: PdfReadWarning: Object 341 0 not defined.\n",
      "  warnings.warn(\n",
      "/Users/camilledemers/opt/anaconda3/lib/python3.9/site-packages/PyPDF2/_reader.py:1060: PdfReadWarning: Object 56 0 not defined.\n",
      "  warnings.warn(\n"
     ]
    },
    {
     "name": "stdout",
     "output_type": "stream",
     "text": [
      "ERROR  - https://www.santelaurentides.gouv.qc.ca/fileadmin/internet/cisss_laurentides/Sante_Publique/Maladies_infectieuses/Maladie_Lyme/Lyme_Feuille-de-suivi.pdf\n",
      "PyCryptodome is required for AES algorithm\n",
      "ERROR  - https://www.santelaurentides.gouv.qc.ca/fileadmin/internet/cisss_laurentides/A_propos_de_nous/comite_des_usagers/LDDM/CHSLD_saint-benoit_rapport_evaluation_cercle-conseil.pdf\n",
      "PyCryptodome is required for AES algorithm\n",
      "ERROR  - https://www.santelaurentides.gouv.qc.ca/fileadmin/internet/cisss_laurentides/Soins_et_services/ACV/CISSS_459-AVC_ischemique_final2-protege.pdf\n",
      "File has not been decrypted\n",
      "ERROR  - https://www.santelaurentides.gouv.qc.ca/fileadmin/internet/cisss_laurentides/Soins_et_services/ACV/CISSS_460-AVC_hemorragique_final-protege.pdf\n",
      "File has not been decrypted\n",
      "ERROR  - https://www.santelaurentides.gouv.qc.ca/fileadmin/internet/cisss_laurentides/Soins_et_services/ACV/CISSS_461-Thrombolyse_pour_traiter_final-protege.pdf\n",
      "File has not been decrypted\n",
      "ERROR  - https://www.santelaurentides.gouv.qc.ca/fileadmin/internet/cisss_laurentides/Soins_et_services/ACV/CISSS_450-AVC_Thrombectomie_endovas_final-protege.pdf\n",
      "File has not been decrypted\n",
      "ERROR  - https://www.santelaurentides.gouv.qc.ca/fileadmin/internet/cisss_laurentides/A_propos_de_nous/Documentation/Rapports_annuels/Rapport_annuel_plaintes/Rapport_annuel_CPQS_2019-2020.pdf\n",
      "PyCryptodome is required for AES algorithm\n"
     ]
    },
    {
     "name": "stderr",
     "output_type": "stream",
     "text": [
      "/Users/camilledemers/opt/anaconda3/lib/python3.9/site-packages/PyPDF2/_page.py:1288: PdfReadWarning:  impossible to decode XFormObject /Meta79\n",
      "  warnings.warn(\n",
      "/Users/camilledemers/opt/anaconda3/lib/python3.9/site-packages/PyPDF2/_page.py:1288: PdfReadWarning:  impossible to decode XFormObject /Meta73\n",
      "  warnings.warn(\n",
      "/Users/camilledemers/opt/anaconda3/lib/python3.9/site-packages/PyPDF2/_page.py:1288: PdfReadWarning:  impossible to decode XFormObject /Meta77\n",
      "  warnings.warn(\n",
      "/Users/camilledemers/opt/anaconda3/lib/python3.9/site-packages/PyPDF2/_page.py:1288: PdfReadWarning:  impossible to decode XFormObject /Meta60\n",
      "  warnings.warn(\n",
      "/Users/camilledemers/opt/anaconda3/lib/python3.9/site-packages/PyPDF2/_page.py:1288: PdfReadWarning:  impossible to decode XFormObject /Meta76\n",
      "  warnings.warn(\n",
      "/Users/camilledemers/opt/anaconda3/lib/python3.9/site-packages/PyPDF2/_page.py:1288: PdfReadWarning:  impossible to decode XFormObject /Meta101\n",
      "  warnings.warn(\n",
      "/Users/camilledemers/opt/anaconda3/lib/python3.9/site-packages/PyPDF2/_page.py:1288: PdfReadWarning:  impossible to decode XFormObject /Meta70\n",
      "  warnings.warn(\n",
      "/Users/camilledemers/opt/anaconda3/lib/python3.9/site-packages/PyPDF2/_page.py:1288: PdfReadWarning:  impossible to decode XFormObject /Meta80\n",
      "  warnings.warn(\n"
     ]
    },
    {
     "name": "stdout",
     "output_type": "stream",
     "text": [
      "ERROR  - https://www.santelaurentides.gouv.qc.ca/fileadmin/internet/cisss_laurentides/Espace_partenaires/CRDSI/2020-12-09_AH-787_DT9481__2019-04__D_Re__sonance_magne__tique__1_.pdf\n",
      "PyCryptodome is required for AES algorithm\n",
      "ERROR  - https://www.santelaurentides.gouv.qc.ca/fileadmin/internet/cisss_laurentides/Espace_partenaires/CRDSI/2020-12-17_AH-788_DT9483__2020-02__D_Questionnaire_IRM__1_.pdf\n",
      "PyCryptodome is required for AES algorithm\n",
      "ERROR  - https://www.santelaurentides.gouv.qc.ca/fileadmin/internet/cisss_laurentides/Espace_partenaires/CRDSI/2020-12-18_AH-789_DT9485__2019-04__D_Tomodensitome__trie__1_.pdf\n",
      "PyCryptodome is required for AES algorithm\n",
      "ERROR  - https://www.santelaurentides.gouv.qc.ca/fileadmin/internet/cisss_laurentides/Espace_partenaires/CRDSI/2020-12-15_AH-785_DT9477__2019-04__D__E__chographie_ge__ne__rale__1_.pdf\n",
      "PyCryptodome is required for AES algorithm\n",
      "ERROR  - https://www.santelaurentides.gouv.qc.ca/fileadmin/internet/cisss_laurentides/Espace_partenaires/CRDSI/2020-12-07_AH-786_DT9479__2020-02__D_E__chographie_mammaire__1___1_.pdf\n",
      "PyCryptodome is required for AES algorithm\n",
      "ERROR  - https://www.santelaurentides.gouv.qc.ca/fileadmin/internet/cisss_laurentides/Sante_Publique/Maladies_infectieuses/ITSS/NO_2020-11-16_-_Appel_vigilance_Gonorrhoeae.pdf\n",
      "PyCryptodome is required for AES algorithm\n"
     ]
    },
    {
     "name": "stderr",
     "output_type": "stream",
     "text": [
      "/Users/camilledemers/opt/anaconda3/lib/python3.9/site-packages/PyPDF2/_page.py:1288: PdfReadWarning:  impossible to decode XFormObject /Meta16\n",
      "  warnings.warn(\n",
      "/Users/camilledemers/opt/anaconda3/lib/python3.9/site-packages/PyPDF2/_page.py:1288: PdfReadWarning:  impossible to decode XFormObject /Meta20\n",
      "  warnings.warn(\n"
     ]
    },
    {
     "name": "stdout",
     "output_type": "stream",
     "text": [
      "ERROR  - https://www.santelaurentides.gouv.qc.ca/fileadmin/internet/cisss_laurentides/Soins_et_services/Endoscopie/PUB_CHUM_CISSS-Retour_maison_sedation_final_protege.pdf\n",
      "File has not been decrypted\n"
     ]
    },
    {
     "name": "stderr",
     "output_type": "stream",
     "text": [
      "/Users/camilledemers/opt/anaconda3/lib/python3.9/site-packages/PyPDF2/_page.py:1288: PdfReadWarning:  impossible to decode XFormObject /Meta22\n",
      "  warnings.warn(\n",
      "/Users/camilledemers/opt/anaconda3/lib/python3.9/site-packages/PyPDF2/_page.py:1288: PdfReadWarning:  impossible to decode XFormObject /Meta24\n",
      "  warnings.warn(\n",
      "/Users/camilledemers/opt/anaconda3/lib/python3.9/site-packages/PyPDF2/_page.py:1288: PdfReadWarning:  impossible to decode XFormObject /Meta25\n",
      "  warnings.warn(\n",
      "/Users/camilledemers/opt/anaconda3/lib/python3.9/site-packages/PyPDF2/_page.py:1288: PdfReadWarning:  impossible to decode XFormObject /Meta26\n",
      "  warnings.warn(\n",
      "/Users/camilledemers/opt/anaconda3/lib/python3.9/site-packages/PyPDF2/_page.py:1288: PdfReadWarning:  impossible to decode XFormObject /Meta27\n",
      "  warnings.warn(\n",
      "/Users/camilledemers/opt/anaconda3/lib/python3.9/site-packages/PyPDF2/_page.py:1288: PdfReadWarning:  impossible to decode XFormObject /Meta85\n",
      "  warnings.warn(\n"
     ]
    },
    {
     "name": "stdout",
     "output_type": "stream",
     "text": [
      "ERROR  - https://www.santelaurentides.gouv.qc.ca/fileadmin/internet/cisss_laurentides/Espace_employe/Branches_Sante/01_FT-CS-ES_Certificat_base_2020_FR_58945-1-02.pdf\n",
      "PyCryptodome is required for AES algorithm\n",
      "ERROR  - https://www.santelaurentides.gouv.qc.ca/fileadmin/internet/cisss_laurentides/Soins_et_services/Ressources_hebergement/REF_Declaration_et_engagement_du_POSTULANT.pdf\n",
      "PyCryptodome is required for AES algorithm\n",
      "ERROR  - https://www.santelaurentides.gouv.qc.ca/fileadmin/internet/cisss_laurentides/Soins_et_services/Ressources_hebergement/REF_2020_Declaration_relative_aux_antecedents_judiciaires.pdf\n",
      "PyCryptodome is required for AES algorithm\n"
     ]
    }
   ],
   "source": [
    "import io\n",
    "path = '/Users/camilledemers/Documents/03-corpus/2-data/1-fr/'\n",
    "for site in liste: \n",
    "    try: \n",
    "        text = scrape_pdf(site)\n",
    "\n",
    "        # encoding = liste[1][liste[0].index(site)] - pour prendre l'encodage qui a été extrait par le crawleur\n",
    "        file_path = path + acteur + \"/\" + acteur + \"-\" + str(liste.index(site)) + \"_PDF.txt\"\n",
    "        with open(file_path, 'w', encoding = \"utf-8\") as f:\n",
    "            f.write(site + \"\\n\")\n",
    "            f.write(text)\n",
    "        \n",
    "    except Exception as e:\n",
    "        print(\"ERROR \" + \" - \" + site)\n",
    "        print(e)"
   ]
  },
  {
   "cell_type": "code",
   "execution_count": null,
   "metadata": {},
   "outputs": [],
   "source": []
  }
 ],
 "metadata": {
  "kernelspec": {
   "display_name": "Python 3.9.12 ('base')",
   "language": "python",
   "name": "python3"
  },
  "language_info": {
   "codemirror_mode": {
    "name": "ipython",
    "version": 3
   },
   "file_extension": ".py",
   "mimetype": "text/x-python",
   "name": "python",
   "nbconvert_exporter": "python",
   "pygments_lexer": "ipython3",
   "version": "3.9.12"
  },
  "orig_nbformat": 4,
  "vscode": {
   "interpreter": {
    "hash": "a33210152f7d2bd255fb16656f372b633dbf298ed202bbbac20290b0375cadb7"
   }
  }
 },
 "nbformat": 4,
 "nbformat_minor": 2
}
