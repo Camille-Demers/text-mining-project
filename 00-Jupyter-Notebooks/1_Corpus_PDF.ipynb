{
 "cells": [
  {
   "cell_type": "markdown",
   "metadata": {},
   "source": [
    "## **1. Corpus - PDF Scraping**"
   ]
  },
  {
   "cell_type": "code",
   "execution_count": null,
   "metadata": {},
   "outputs": [],
   "source": [
    "import requests\n",
    "from bs4 import BeautifulSoup\n",
    "import io\n",
    "from PyPDF2 import PdfReader\n",
    "import re"
   ]
  },
  {
   "cell_type": "code",
   "execution_count": null,
   "metadata": {},
   "outputs": [],
   "source": [
    "url = 'https://www.inesss.qc.ca/fileadmin/doc/INESSS/Rapports/Geriatrie/INESSS_GUO_Alzheimer.pdf' # Pour tester"
   ]
  },
  {
   "cell_type": "code",
   "execution_count": null,
   "metadata": {},
   "outputs": [],
   "source": [
    "def scrape_pdf(url):\n",
    "    pdf_link = requests.get(url)\n",
    "    with io.BytesIO(pdf_link.content) as f:\n",
    "        reader = PdfReader(f)\n",
    "        number_of_pages = len(reader.pages)\n",
    "        text = ''\n",
    "        for i in range(number_of_pages):\n",
    "            page = reader.pages[i]\n",
    "            text += page.extract_text().lower().replace('\\n', '').replace('\\x84', '').replace('\\xa010', '').replace('\\xa0', '')\n",
    "\n",
    "        return text"
   ]
  },
  {
   "cell_type": "code",
   "execution_count": null,
   "metadata": {},
   "outputs": [],
   "source": [
    "path = '../03-corpus/0-listes_sites_html_pdf/'\n",
    "acteur = \"cisss_ciusss\""
   ]
  },
  {
   "cell_type": "code",
   "execution_count": null,
   "metadata": {},
   "outputs": [],
   "source": [
    "import pandas as pd\n",
    "\n",
    "# encoding=\"utf-8\"\n",
    "# encoding = \"ISO-8859-1\"\n",
    "with open(path + acteur + '.csv', encoding = \"ISO-8859-1\") as f:\n",
    "    col_list = [\"Address\", \"Type\", \"Title\", \"Description\"]\n",
    "    csv = pd.read_csv(f, sep=\";\", usecols=col_list)"
   ]
  },
  {
   "cell_type": "code",
   "execution_count": null,
   "metadata": {},
   "outputs": [],
   "source": [
    "pdf = csv[csv['Type']=='application/pdf']"
   ]
  },
  {
   "cell_type": "code",
   "execution_count": null,
   "metadata": {},
   "outputs": [],
   "source": [
    "liste = list(pdf['Address'])"
   ]
  },
  {
   "cell_type": "code",
   "execution_count": null,
   "metadata": {},
   "outputs": [],
   "source": [
    "import io\n",
    "path = '../03-corpus/2-data/1-fr/'\n",
    "for site in liste: \n",
    "    try: \n",
    "        text = scrape_pdf(site)\n",
    "\n",
    "        # encoding = liste[1][liste[0].index(site)] - pour prendre l'encodage qui a été extrait par le crawleur\n",
    "        file_path = path + acteur + \"/\" + acteur + \"-\" + str(liste.index(site)) + \"_PDF.txt\"\n",
    "        with open(file_path, 'w', encoding = \"utf-8\") as f:\n",
    "            f.write(site + \"\\n\")\n",
    "            f.write(text)\n",
    "        \n",
    "    except Exception as e:\n",
    "        print(\"ERROR \" + \" - \" + site)\n",
    "        print(e)"
   ]
  }
 ],
 "metadata": {
  "kernelspec": {
   "display_name": "Python 3.9.12 ('base')",
   "language": "python",
   "name": "python3"
  },
  "language_info": {
   "codemirror_mode": {
    "name": "ipython",
    "version": 3
   },
   "file_extension": ".py",
   "mimetype": "text/x-python",
   "name": "python",
   "nbconvert_exporter": "python",
   "pygments_lexer": "ipython3",
   "version": "3.9.12"
  },
  "orig_nbformat": 4,
  "vscode": {
   "interpreter": {
    "hash": "a33210152f7d2bd255fb16656f372b633dbf298ed202bbbac20290b0375cadb7"
   }
  }
 },
 "nbformat": 4,
 "nbformat_minor": 2
}
