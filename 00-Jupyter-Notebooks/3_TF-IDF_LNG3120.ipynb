{
 "cells": [
  {
   "cell_type": "markdown",
   "metadata": {},
   "source": [
    "# **LNG3120 - Classification de documents**\n",
    "Catégorisation de textes basée sur des vecteurs de scores TF-IDF\n",
    "\n",
    "Lareau, F. (2017). « Classification de documents », *LNG3120 - Traitement automatique du langage*. Département\n",
    "de linguistique et de traduction, Université de Montréal."
   ]
  },
  {
   "cell_type": "code",
   "execution_count": 125,
   "metadata": {},
   "outputs": [],
   "source": [
    "import nltk, re, random\n",
    "from math import log\n",
    "from matplotlib import pyplot as plt\n",
    "import numpy as np\n",
    "from nltk.tokenize import RegexpTokenizer\n",
    "\n",
    "# token: str, document: [str] -> float\n",
    "def tf(token, document):\n",
    "    return nltk.FreqDist(document)[token]/ (len(document))\n",
    "\n",
    "# token: str, corpus: [[str]] -> float\n",
    "def idf(token, corpus):\n",
    "    return log((len(corpus) / ( 1 + (len([d[1] for d in corpus if token in d])))))\n",
    "\n",
    "# token: str, document: [str], corpus: [[str]] -> float\n",
    "def tf_idf(token, document, idfs):\n",
    "    return tf(token, document) * idfs[token]\n",
    "\n",
    "tokenizer = RegexpTokenizer(r\"\\w+\")"
   ]
  },
  {
   "cell_type": "markdown",
   "metadata": {},
   "source": [
    "Importer les données"
   ]
  },
  {
   "cell_type": "code",
   "execution_count": 112,
   "metadata": {},
   "outputs": [],
   "source": [
    "# Importer les données (fichiers .txt)\n",
    "import os\n",
    "\n",
    "acteur = 'ophq'\n",
    "def lire_corpus(acteur):\n",
    "    path = '/Users/camilledemers/Documents/03-corpus/2-data/1-fr/'\n",
    "\n",
    "    corpus =  [] \n",
    "\n",
    "    # Change the directory\n",
    "    os.chdir(path)\n",
    "\n",
    "    for file in os.listdir()[:75]: # les 75 premières pages seulement \n",
    "        if file.endswith(\".txt\"):\n",
    "          file_path = path + file\n",
    "        \n",
    "        with open(file_path, 'r', encoding = \"UTF-8\") as f:\n",
    "            data = f.readlines()\n",
    "            corpus.append(data[1].lower().strip('\\n'))\n",
    "\n",
    "    return corpus"
   ]
  },
  {
   "cell_type": "markdown",
   "metadata": {},
   "source": [
    "Prétraitement"
   ]
  },
  {
   "cell_type": "code",
   "execution_count": 113,
   "metadata": {},
   "outputs": [],
   "source": [
    "corpus = [tokenizer.tokenize(t) for t in lire_corpus(acteur)]"
   ]
  },
  {
   "cell_type": "code",
   "execution_count": 114,
   "metadata": {},
   "outputs": [
    {
     "name": "stdout",
     "output_type": "stream",
     "text": [
      "FreqDist d'une page du site du site (30 tokens les plus fréquents):\n"
     ]
    },
    {
     "data": {
      "image/png": "[encoded data removed]",
      "text/plain": [
       "<Figure size 432x288 with 1 Axes>"
      ]
     },
     "metadata": {
      "needs_background": "light"
     },
     "output_type": "display_data"
    },
    {
     "data": {
      "text/plain": [
       "<AxesSubplot:xlabel='Samples', ylabel='Counts'>"
      ]
     },
     "execution_count": 114,
     "metadata": {},
     "output_type": "execute_result"
    }
   ],
   "source": [
    "fd_acteur = [nltk.FreqDist(d) for d in corpus]\n",
    "\n",
    "print(\"FreqDist d'une page du site du site (30 tokens les plus fréquents):\")\n",
    "random.choice(fd_acteur).plot(30)"
   ]
  },
  {
   "cell_type": "markdown",
   "metadata": {},
   "source": [
    "On extrait ensuite le vocabulaire de tout le corpus (MF et MSSS combinés)."
   ]
  },
  {
   "cell_type": "code",
   "execution_count": 115,
   "metadata": {},
   "outputs": [
    {
     "name": "stdout",
     "output_type": "stream",
     "text": [
      "129542 tokens dans le corpus.\n",
      "Vocabulaire de 6018 formes uniques.\n"
     ]
    }
   ],
   "source": [
    "fd = nltk.FreqDist()\n",
    "for f in fd_acteur:\n",
    "    fd.update(f)\n",
    "\n",
    "vocabulaire = fd.keys()\n",
    "N = fd.N()\n",
    "print(N, 'tokens dans le corpus.')\n",
    "print('Vocabulaire de', len(vocabulaire), 'formes uniques.')"
   ]
  },
  {
   "cell_type": "code",
   "execution_count": 116,
   "metadata": {},
   "outputs": [],
   "source": [
    "# Importer l'antidictionnaire pour filtrer les données\n",
    "from pandas import *\n",
    "\n",
    "# Stopwords fréquents en français\n",
    "path = \"/Users/camilledemers/Documents/04-filtrage/stopwords.csv\"\n",
    "with open(path, 'r', encoding=\"utf-8\") as f:\n",
    "    stopwords = read_csv(f)\n",
    "    stopwords = [t.lower() for t in stopwords['Stopwords'].tolist()]\n",
    "\n",
    "\n",
    "# Stopwords fréquents en anglais\n",
    "path = '/Users/camilledemers/Documents/04-filtrage/stop_words_english.txt'\n",
    "with open(path, 'r', encoding=\"utf-8\") as f:\n",
    "    sw = [w.strip('\\n').lower() for w in f.readlines()]\n",
    "\n",
    "stopwords += sw\n",
    "\n",
    "# Signes de ponctuation\n",
    "import string \n",
    "punct = [s for s in string.punctuation] \n",
    "punct += ['»' ,'©', '']\n",
    "\n",
    "stopwords += punct"
   ]
  },
  {
   "cell_type": "code",
   "execution_count": 117,
   "metadata": {},
   "outputs": [],
   "source": [
    "# token: str, fd: FreqDist -> boolean\n",
    "def utile(token, fd):\n",
    "    minlen = 2\n",
    "    minfreq = 3\n",
    "    return token not in stopwords and len(token)>=minlen and not re.search('^\\d+$', token) and fd[token]>=minfreq\n",
    "\n",
    "\n",
    "# vocabulaire: [str], fd: FreqDist -> [str]\n",
    "def utiles(vocabulaire, fd):\n",
    "    return [t for t in vocabulaire if utile(t, fd)]"
   ]
  },
  {
   "cell_type": "code",
   "execution_count": 118,
   "metadata": {},
   "outputs": [
    {
     "name": "stdout",
     "output_type": "stream",
     "text": [
      "Nous allons construire des vecteurs à 2317 dimensions\n",
      "Voici les 200 premières dimensions (selon leur ordre d'apparition dans le corpus) : \n",
      "['lancement', 'plan', 'action', 'interministériel', 'politique', 'gouvernementale', 'prévention', 'santé', 'office', 'handicapées', 'québec', 'besoin', 'aide', 'aller', 'express', 'principal', 'champ', 'recherche', 'ouvrir', 'joindre', 'services', 'directs', 'population', 'programmes', 'mesures', 'partenariat', 'subventions', 'soutien', 'organismes', 'promotion', 'expérimentation', 'études', 'analyses', 'rapports', 'financés', 'guides', 'cyberbulletins', 'active', 'outil', 'statistiques', 'actualités', 'politiques', 'assurant', 'exercice', 'droits', 'entière', 'accès', 'documents', 'plans', 'introduction', 'ministères', 'publics', 'assujettis', 'municipalités', 'assujetties', 'formations', 'ateliers', 'référence', 'rôle', 'événements', 'semaine', 'québécoise', 'journée', 'internationale', 'embauche', 'travailleuses', 'travailleurs', 'handicapés', 'réussite', 'éducative', 'élèves', 'cours', 'passerelle', 'approvisionnement', 'accessible', 'abonnement', 'bulletins', 'cyberbulletin', 'officiel', 'volume', 'numéro', 'printemps', 'directrice', 'générale', 'prometteuses', 'faits', 'saillants', 'budget', 'gouvernement', 'revenu', 'base', 'appui', 'fort', 'projet', 'travaux', 'simplification', 'dévoilement', 'finalistes', 'édition', 'mieux', 'comprendre', 'geste', 'nécessaire', 'permettra', 'améliorer', 'situation', 'financière', 'rappel', 'commandez', 'matériel', 'gratuit', 'rappelons', 'agir', 'facteurs', 'déterminants', 'qualité', 'vie', 'vise', 'également', 'réduire', 'impact', 'sociales', 'globale', 'contient', 'inscrivant', 'orientations', 'développement', 'capacités', 'jeune', 'âge', 'aménagement', 'communautés', 'territoires', 'sécuritaires', 'amélioration', 'conditions', 'renforcement', 'actions', 'système', 'sociaux', 'mise', 'œuvre', 'vue', 'identifier', 'chapitre', 'investissements', 'millions', 'dollars', 'ans', 'assurer', 'retombées', 'raison', 'potentiel', 'participation', 'sociale', 'contribué', 'activement', 'visant', 'élaboration', 'inscrit', 'cohérence', 'intégration', 'scolaire', 'professionnelle', 'résultats', 'attendus', 'véritable', 'droit', 'égalité', 'susceptibles', 'incidence', 'famille', 'mentionnons', 'offert', 'parents', 'enfants', 'présentent', 'besoins', 'particuliers', 'précoce', 'incapacités', 'bâtiments', 'lieux', 'logements', 'physiques', 'loisirs', 'adaptés', 'contribution', 'soutenue', 'titre', 'collaborateur', 'réalisation', 'partenaire', 'suivi', 'auprès', 'responsables', 'chantier', 'mesure', 'favoriser', 'éducatifs']\n"
     ]
    }
   ],
   "source": [
    "dimensions = utiles(vocabulaire, fd)\n",
    "print('Nous allons construire des vecteurs à', len(dimensions), 'dimensions')\n",
    "\n",
    "print('Voici les 200 premières dimensions (selon leur ordre d\\'apparition dans le corpus) : ')\n",
    "print(dimensions[:200])"
   ]
  },
  {
   "cell_type": "markdown",
   "metadata": {},
   "source": [
    "On recommence et on choisit plutôt les termes extraits de notre prétraitement"
   ]
  },
  {
   "cell_type": "code",
   "execution_count": 123,
   "metadata": {},
   "outputs": [],
   "source": [
    "import pandas as pd \n",
    "\n",
    "path = '/Users/camilledemers/Documents/05-transformation/'\n",
    "file_path = path + acteur + '/' + acteur + '_terms.csv'\n",
    "with open(file_path) as f:\n",
    "    csv = pd.read_csv(f)\n",
    "\n",
    "dimensions = list(csv['Terme'])"
   ]
  },
  {
   "cell_type": "markdown",
   "metadata": {},
   "source": [
    "### **Pondération statistique (TF-IDF)**"
   ]
  },
  {
   "cell_type": "markdown",
   "metadata": {},
   "source": [
    "Calcul des scores TF-IDF pour les tokens retenus comme traits discriminants (features) "
   ]
  },
  {
   "cell_type": "code",
   "execution_count": 126,
   "metadata": {},
   "outputs": [
    {
     "name": "stdout",
     "output_type": "stream",
     "text": [
      "On a 4700 clés dans le dictionnaire idfs\n"
     ]
    }
   ],
   "source": [
    "idfs = {t:idf(t, corpus) for t in dimensions}\n",
    "\n",
    "print(\"On a {} clés dans le dictionnaire idfs\".format(len(idfs)))"
   ]
  },
  {
   "cell_type": "code",
   "execution_count": 127,
   "metadata": {},
   "outputs": [],
   "source": [
    "idfs = {token:idf(token, corpus) for token in dimensions} # IDFS : tout le corpus\n",
    "\n",
    "tfs = [{token: tf(token, doc) for token in dimensions} for doc in corpus] # TFS : spécifique à chaque document"
   ]
  },
  {
   "cell_type": "code",
   "execution_count": 128,
   "metadata": {},
   "outputs": [],
   "source": [
    "tfs_idfs = []\n",
    "tf_idf = {token : 0 for token in dimensions}\n",
    "\n",
    "for i in range(len(corpus)):\n",
    "    for token in dimensions: \n",
    "        tf_idf[token] = idfs[token] * tfs[i][token]\n",
    "        tfs_idfs.append(tf_idf)"
   ]
  },
  {
   "cell_type": "code",
   "execution_count": 129,
   "metadata": {},
   "outputs": [],
   "source": [
    "tab = nltk.flatten(tfs_idfs)"
   ]
  },
  {
   "cell_type": "code",
   "execution_count": 130,
   "metadata": {},
   "outputs": [],
   "source": [
    "tab = tab[0]"
   ]
  },
  {
   "cell_type": "code",
   "execution_count": 131,
   "metadata": {},
   "outputs": [],
   "source": [
    "df = [[token, tab[token]] for token in tab]"
   ]
  },
  {
   "cell_type": "code",
   "execution_count": 1,
   "metadata": {},
   "outputs": [
    {
     "ename": "NameError",
     "evalue": "name 'acteur' is not defined",
     "output_type": "error",
     "traceback": [
      "\u001b[0;31m---------------------------------------------------------------------------\u001b[0m",
      "\u001b[0;31mNameError\u001b[0m                                 Traceback (most recent call last)",
      "\u001b[1;32m/Users/camilledemers/Documents/00-Jupyter-Notebooks/3_TF-IDF_LNG3120.ipynb Cell 23'\u001b[0m in \u001b[0;36m<cell line: 2>\u001b[0;34m()\u001b[0m\n\u001b[1;32m      <a href='vscode-notebook-cell:/Users/camilledemers/Documents/00-Jupyter-Notebooks/3_TF-IDF_LNG3120.ipynb#ch0000022?line=0'>1</a>\u001b[0m \u001b[39mimport\u001b[39;00m \u001b[39mpandas\u001b[39;00m \u001b[39mas\u001b[39;00m \u001b[39mpd\u001b[39;00m\n\u001b[0;32m----> <a href='vscode-notebook-cell:/Users/camilledemers/Documents/00-Jupyter-Notebooks/3_TF-IDF_LNG3120.ipynb#ch0000022?line=1'>2</a>\u001b[0m path \u001b[39m=\u001b[39m \u001b[39m'\u001b[39m\u001b[39m/Users/camilledemers/Documents/04-filtrage/\u001b[39m\u001b[39m'\u001b[39m \u001b[39m+\u001b[39m acteur \u001b[39m+\u001b[39m \u001b[39m'\u001b[39m\u001b[39m/\u001b[39m\u001b[39m'\u001b[39m\n\u001b[1;32m      <a href='vscode-notebook-cell:/Users/camilledemers/Documents/00-Jupyter-Notebooks/3_TF-IDF_LNG3120.ipynb#ch0000022?line=3'>4</a>\u001b[0m tab \u001b[39m=\u001b[39m pd\u001b[39m.\u001b[39mDataFrame(df, columns\u001b[39m=\u001b[39m [\u001b[39m\"\u001b[39m\u001b[39mTerme\u001b[39m\u001b[39m\"\u001b[39m, \u001b[39m\"\u001b[39m\u001b[39mTF-IDF\u001b[39m\u001b[39m\"\u001b[39m])\n",
      "\u001b[0;31mNameError\u001b[0m: name 'acteur' is not defined"
     ]
    }
   ],
   "source": [
    "import pandas as pd\n",
    "path = '/Users/camilledemers/Documents/04-filtrage/' + acteur + '/'\n",
    "\n",
    "tab = pd.DataFrame(df, columns= [\"Terme\", \"TF-IDF\"])"
   ]
  },
  {
   "cell_type": "code",
   "execution_count": 134,
   "metadata": {},
   "outputs": [],
   "source": [
    "tab.sort_values([\"TF-IDF\"], \n",
    "                    axis=0,\n",
    "                    ascending=[False], \n",
    "                    inplace=True)"
   ]
  },
  {
   "cell_type": "code",
   "execution_count": 135,
   "metadata": {},
   "outputs": [],
   "source": [
    "tab.to_csv(path + acteur + '-LNG3120_TF-IDF.csv')"
   ]
  },
  {
   "cell_type": "code",
   "execution_count": null,
   "metadata": {},
   "outputs": [],
   "source": []
  }
 ],
 "metadata": {
  "interpreter": {
   "hash": "a33210152f7d2bd255fb16656f372b633dbf298ed202bbbac20290b0375cadb7"
  },
  "kernelspec": {
   "display_name": "Python 3.9.12 ('base')",
   "language": "python",
   "name": "python3"
  },
  "language_info": {
   "codemirror_mode": {
    "name": "ipython",
    "version": 3
   },
   "file_extension": ".py",
   "mimetype": "text/x-python",
   "name": "python",
   "nbconvert_exporter": "python",
   "pygments_lexer": "ipython3",
   "version": "3.9.12"
  },
  "orig_nbformat": 4
 },
 "nbformat": 4,
 "nbformat_minor": 2
}
