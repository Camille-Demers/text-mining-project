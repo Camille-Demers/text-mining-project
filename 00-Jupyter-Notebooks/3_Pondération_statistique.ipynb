{
 "cells": [
  {
   "cell_type": "markdown",
   "metadata": {},
   "source": [
    "## **3. Pondération statistique** (TF-IDF)  \n",
    "\n",
    "https://stackoverflow.com/questions/46580932/calculate-tf-idf-using-sklearn-for-n-grams-in-python  \n",
    "http://scikit-learn.sourceforge.net/stable/modules/generated/sklearn.feature_extraction.text.TfidfVectorizer.html#sklearn-feature-extraction-text-tfidfvectorizer  \n",
    "https://scikit-learn.org/stable/modules/feature_extraction.html#text-feature-extraction\n"
   ]
  },
  {
   "cell_type": "code",
   "execution_count": 83,
   "metadata": {},
   "outputs": [],
   "source": [
    "path = '/Users/camilledemers/Documents/05-transformation/'\n",
    "acteur = 'inesss'"
   ]
  },
  {
   "cell_type": "code",
   "execution_count": 84,
   "metadata": {},
   "outputs": [],
   "source": [
    "import pandas as pd \n",
    "\n",
    "file_path = path + acteur + '/' + acteur + '_terms.csv'\n",
    "with open(file_path) as f:\n",
    "    csv = pd.read_csv(f)"
   ]
  },
  {
   "cell_type": "code",
   "execution_count": 85,
   "metadata": {},
   "outputs": [],
   "source": [
    "vocabulaire = list(csv['Terme'])"
   ]
  },
  {
   "cell_type": "code",
   "execution_count": 86,
   "metadata": {},
   "outputs": [
    {
     "name": "stdout",
     "output_type": "stream",
     "text": [
      "On a un corpus de 75 documents\n"
     ]
    }
   ],
   "source": [
    "# Importer les données (fichiers .txt)\n",
    "import os\n",
    "\n",
    "def lire_corpus(acteur):\n",
    "    path = '/Users/camilledemers/Documents/03-corpus/2-data/1-fr/' + acteur + '/'\n",
    "\n",
    "    corpus =  [] \n",
    "    corpus_index = []\n",
    "\n",
    "    # Change the directory\n",
    "    os.chdir(path)\n",
    "\n",
    "    for file in os.listdir()[:75]: # les 75 premières pages seulement \n",
    "        if file.endswith(\".txt\"):\n",
    "          file_path = path + file\n",
    "        \n",
    "        with open(file_path, 'r', encoding = \"UTF-8\") as f:\n",
    "            try:\n",
    "                data = f.readlines()\n",
    "                corpus.append(data[1].lower().strip('\\n'))\n",
    "            \n",
    "            except:\n",
    "                True\n",
    "\n",
    "    return corpus\n",
    "\n",
    "corpus = lire_corpus(acteur)\n",
    "\n",
    "print(\"On a un corpus de {} documents\".format(len(corpus)))"
   ]
  },
  {
   "cell_type": "code",
   "execution_count": 87,
   "metadata": {},
   "outputs": [],
   "source": [
    "from sklearn.feature_extraction.text import TfidfVectorizer\n",
    "\n",
    "tfidf = TfidfVectorizer(vocabulary = vocabulaire, stop_words=None, ngram_range=(2,8))\n",
    "tfs = tfidf.fit_transform(corpus)"
   ]
  },
  {
   "cell_type": "code",
   "execution_count": 88,
   "metadata": {},
   "outputs": [],
   "source": [
    "features_names = tfidf.get_feature_names_out()\n",
    "corpus_index = [corpus.index(n) for n in corpus]\n",
    "\n",
    "import pandas as pd\n",
    "df = pd.DataFrame(tfs.T.todense(), index=features_names, columns=corpus_index)"
   ]
  },
  {
   "cell_type": "code",
   "execution_count": 89,
   "metadata": {},
   "outputs": [],
   "source": [
    "path = '/Users/camilledemers/Documents/04-filtrage/' + acteur + '/'\n",
    "file_path = path + acteur + '_matrice-TFIDF.csv'\n",
    "df.to_csv(file_path)"
   ]
  },
  {
   "cell_type": "code",
   "execution_count": 90,
   "metadata": {},
   "outputs": [],
   "source": [
    "terms_weighted = []\n",
    "rows, cols = tfs.nonzero()\n",
    "for row, col in zip(rows,cols):\n",
    "    terms_weighted.append([features_names[col], tfs[row,col]])"
   ]
  },
  {
   "cell_type": "code",
   "execution_count": 91,
   "metadata": {},
   "outputs": [],
   "source": [
    "terms_weighted = pd.DataFrame(terms_weighted, columns=['Terme', 'TF-IDF'])\n",
    "terms_weighted.sort_values([\"TF-IDF\"], \n",
    "                    axis=0,\n",
    "                    ascending=[False], \n",
    "                    inplace=True)\n",
    "terms_weighted.to_csv(path + acteur + '_weighting_TF-IDF.csv')"
   ]
  },
  {
   "cell_type": "code",
   "execution_count": 92,
   "metadata": {},
   "outputs": [
    {
     "data": {
      "text/html": [
       "<div>\n",
       "<style scoped>\n",
       "    .dataframe tbody tr th:only-of-type {\n",
       "        vertical-align: middle;\n",
       "    }\n",
       "\n",
       "    .dataframe tbody tr th {\n",
       "        vertical-align: top;\n",
       "    }\n",
       "\n",
       "    .dataframe thead th {\n",
       "        text-align: right;\n",
       "    }\n",
       "</style>\n",
       "<table border=\"1\" class=\"dataframe\">\n",
       "  <thead>\n",
       "    <tr style=\"text-align: right;\">\n",
       "      <th></th>\n",
       "      <th>Terme</th>\n",
       "      <th>TF-IDF</th>\n",
       "    </tr>\n",
       "  </thead>\n",
       "  <tbody>\n",
       "    <tr>\n",
       "      <th>2265</th>\n",
       "      <td>rencontre statutaire</td>\n",
       "      <td>0.836008</td>\n",
       "    </tr>\n",
       "    <tr>\n",
       "      <th>23323</th>\n",
       "      <td>couvre feu</td>\n",
       "      <td>0.787861</td>\n",
       "    </tr>\n",
       "    <tr>\n",
       "      <th>20715</th>\n",
       "      <td>sras cov</td>\n",
       "      <td>0.735389</td>\n",
       "    </tr>\n",
       "    <tr>\n",
       "      <th>10882</th>\n",
       "      <td>médicament biosimilaire</td>\n",
       "      <td>0.728743</td>\n",
       "    </tr>\n",
       "    <tr>\n",
       "      <th>6768</th>\n",
       "      <td>scientifique santé</td>\n",
       "      <td>0.693650</td>\n",
       "    </tr>\n",
       "    <tr>\n",
       "      <th>...</th>\n",
       "      <td>...</td>\n",
       "      <td>...</td>\n",
       "    </tr>\n",
       "    <tr>\n",
       "      <th>5016</th>\n",
       "      <td>usage optimal protocoles</td>\n",
       "      <td>0.001529</td>\n",
       "    </tr>\n",
       "    <tr>\n",
       "      <th>5015</th>\n",
       "      <td>usage optimal protocoles médicaux</td>\n",
       "      <td>0.001529</td>\n",
       "    </tr>\n",
       "    <tr>\n",
       "      <th>5014</th>\n",
       "      <td>usage optimal protocoles médicaux nationaux</td>\n",
       "      <td>0.001529</td>\n",
       "    </tr>\n",
       "    <tr>\n",
       "      <th>5013</th>\n",
       "      <td>optimal protocoles</td>\n",
       "      <td>0.001529</td>\n",
       "    </tr>\n",
       "    <tr>\n",
       "      <th>5019</th>\n",
       "      <td>publication évaluation</td>\n",
       "      <td>0.001529</td>\n",
       "    </tr>\n",
       "  </tbody>\n",
       "</table>\n",
       "<p>29174 rows × 2 columns</p>\n",
       "</div>"
      ],
      "text/plain": [
       "                                             Terme    TF-IDF\n",
       "2265                          rencontre statutaire  0.836008\n",
       "23323                                   couvre feu  0.787861\n",
       "20715                                     sras cov  0.735389\n",
       "10882                      médicament biosimilaire  0.728743\n",
       "6768                            scientifique santé  0.693650\n",
       "...                                            ...       ...\n",
       "5016                      usage optimal protocoles  0.001529\n",
       "5015             usage optimal protocoles médicaux  0.001529\n",
       "5014   usage optimal protocoles médicaux nationaux  0.001529\n",
       "5013                            optimal protocoles  0.001529\n",
       "5019                        publication évaluation  0.001529\n",
       "\n",
       "[29174 rows x 2 columns]"
      ]
     },
     "execution_count": 92,
     "metadata": {},
     "output_type": "execute_result"
    }
   ],
   "source": [
    "terms_weighted"
   ]
  }
 ],
 "metadata": {
  "kernelspec": {
   "display_name": "Python 3.9.12 ('base')",
   "language": "python",
   "name": "python3"
  },
  "language_info": {
   "codemirror_mode": {
    "name": "ipython",
    "version": 3
   },
   "file_extension": ".py",
   "mimetype": "text/x-python",
   "name": "python",
   "nbconvert_exporter": "python",
   "pygments_lexer": "ipython3",
   "version": "3.9.12"
  },
  "orig_nbformat": 4,
  "vscode": {
   "interpreter": {
    "hash": "a33210152f7d2bd255fb16656f372b633dbf298ed202bbbac20290b0375cadb7"
   }
  }
 },
 "nbformat": 4,
 "nbformat_minor": 2
}
