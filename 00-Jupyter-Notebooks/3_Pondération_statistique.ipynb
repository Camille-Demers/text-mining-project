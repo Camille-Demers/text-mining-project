{
 "cells": [
  {
   "cell_type": "markdown",
   "metadata": {},
   "source": [
    "## **3. Pondération statistique** (TF-IDF)  \n",
    "\n",
    "https://stackoverflow.com/questions/46580932/calculate-tf-idf-using-sklearn-for-n-grams-in-python  \n",
    "http://scikit-learn.sourceforge.net/stable/modules/generated/sklearn.feature_extraction.text.TfidfVectorizer.html#sklearn-feature-extraction-text-tfidfvectorizer  \n",
    "https://scikit-learn.org/stable/modules/feature_extraction.html#text-feature-extraction\n"
   ]
  },
  {
   "cell_type": "code",
   "execution_count": 1,
   "metadata": {},
   "outputs": [],
   "source": [
    "path = '/Users/camilledemers/Documents/05-transformation/'\n",
    "acteur = 'inspq'\n",
    "tag = 'agression-sexuelle'"
   ]
  },
  {
   "cell_type": "code",
   "execution_count": 3,
   "metadata": {},
   "outputs": [],
   "source": [
    "import pandas as pd \n",
    "\n",
    "file_path = path + tag + '/' + tag + '_terms.csv'\n",
    "with open(file_path) as f:\n",
    "    csv = pd.read_csv(f)"
   ]
  },
  {
   "cell_type": "code",
   "execution_count": 4,
   "metadata": {},
   "outputs": [],
   "source": [
    "vocabulaire = list(csv['Terme'])"
   ]
  },
  {
   "cell_type": "code",
   "execution_count": 5,
   "metadata": {},
   "outputs": [
    {
     "name": "stdout",
     "output_type": "stream",
     "text": [
      "On a un corpus de 44 documents\n"
     ]
    }
   ],
   "source": [
    "# Importer les données (fichiers .txt)\n",
    "import os\n",
    "\n",
    "def lire_corpus(acteur, tag):\n",
    "    path = '//Users/camilledemers/Documents/03-corpus/2-sous-corpus/' + acteur + '/' + tag + '/'\n",
    "\n",
    "    corpus =  [] \n",
    "    corpus_index = []\n",
    "\n",
    "    # Change the directory\n",
    "    os.chdir(path)\n",
    "\n",
    "    for file in os.listdir()[:300]: # les 300 premiers documents seulement \n",
    "        if file.endswith(\".txt\"):\n",
    "          file_path = path + file\n",
    "        \n",
    "        with open(file_path, 'r', encoding = \"UTF-8\") as f:\n",
    "            try:\n",
    "                data = f.readlines()\n",
    "                corpus.append(data[1].lower().strip('\\n'))\n",
    "            \n",
    "            except:\n",
    "                True\n",
    "\n",
    "    return corpus\n",
    "\n",
    "corpus = lire_corpus(acteur, tag)\n",
    "\n",
    "print(\"On a un corpus de {} documents\".format(len(corpus)))"
   ]
  },
  {
   "cell_type": "code",
   "execution_count": 6,
   "metadata": {},
   "outputs": [],
   "source": [
    "from sklearn.feature_extraction.text import TfidfVectorizer\n",
    "\n",
    "tfidf = TfidfVectorizer(vocabulary = vocabulaire, stop_words=None, ngram_range=(2,8))\n",
    "tfs = tfidf.fit_transform(corpus)"
   ]
  },
  {
   "cell_type": "code",
   "execution_count": 7,
   "metadata": {},
   "outputs": [],
   "source": [
    "features_names = tfidf.get_feature_names_out()\n",
    "corpus_index = [corpus.index(n) for n in corpus]\n",
    "\n",
    "import pandas as pd\n",
    "df = pd.DataFrame(tfs.T.todense(), index=features_names, columns=corpus_index)"
   ]
  },
  {
   "cell_type": "code",
   "execution_count": 11,
   "metadata": {},
   "outputs": [],
   "source": [
    "path = '/Users/camilledemers/Documents/04-filtrage/' + acteur + '/'\n",
    "file_path = path + tag + '/' +  tag + '_matrice-TFIDF.csv'\n",
    "df.to_csv(file_path)"
   ]
  },
  {
   "cell_type": "code",
   "execution_count": 13,
   "metadata": {},
   "outputs": [],
   "source": [
    "terms_weighted = []\n",
    "rows, cols = tfs.nonzero()\n",
    "for row, col in zip(rows,cols):\n",
    "    terms_weighted.append([features_names[col], tfs[row,col]])"
   ]
  },
  {
   "cell_type": "code",
   "execution_count": 15,
   "metadata": {},
   "outputs": [],
   "source": [
    "terms_weighted = pd.DataFrame(terms_weighted, columns=['Terme', 'TF-IDF'])\n",
    "terms_weighted.sort_values([\"TF-IDF\"], \n",
    "                    axis=0,\n",
    "                    ascending=[False], \n",
    "                    inplace=True)\n",
    "terms_weighted.to_csv(path + '/' + tag + '/' + tag + '_weighting_TF-IDF.csv')"
   ]
  },
  {
   "cell_type": "code",
   "execution_count": 142,
   "metadata": {},
   "outputs": [
    {
     "data": {
      "text/html": [
       "<div>\n",
       "<style scoped>\n",
       "    .dataframe tbody tr th:only-of-type {\n",
       "        vertical-align: middle;\n",
       "    }\n",
       "\n",
       "    .dataframe tbody tr th {\n",
       "        vertical-align: top;\n",
       "    }\n",
       "\n",
       "    .dataframe thead th {\n",
       "        text-align: right;\n",
       "    }\n",
       "</style>\n",
       "<table border=\"1\" class=\"dataframe\">\n",
       "  <thead>\n",
       "    <tr style=\"text-align: right;\">\n",
       "      <th></th>\n",
       "      <th>Terme</th>\n",
       "      <th>TF-IDF</th>\n",
       "    </tr>\n",
       "  </thead>\n",
       "  <tbody>\n",
       "    <tr>\n",
       "      <th>343490</th>\n",
       "      <td>violence conjugale</td>\n",
       "      <td>0.981352</td>\n",
       "    </tr>\n",
       "    <tr>\n",
       "      <th>430781</th>\n",
       "      <td>inspq qc</td>\n",
       "      <td>0.723175</td>\n",
       "    </tr>\n",
       "    <tr>\n",
       "      <th>783743</th>\n",
       "      <td>inspq qc</td>\n",
       "      <td>0.658864</td>\n",
       "    </tr>\n",
       "    <tr>\n",
       "      <th>430869</th>\n",
       "      <td>assurance qualité</td>\n",
       "      <td>0.644915</td>\n",
       "    </tr>\n",
       "    <tr>\n",
       "      <th>783742</th>\n",
       "      <td>qc ca publications auteurs</td>\n",
       "      <td>0.520918</td>\n",
       "    </tr>\n",
       "    <tr>\n",
       "      <th>...</th>\n",
       "      <td>...</td>\n",
       "      <td>...</td>\n",
       "    </tr>\n",
       "    <tr>\n",
       "      <th>247062</th>\n",
       "      <td>institut abonnez</td>\n",
       "      <td>0.003698</td>\n",
       "    </tr>\n",
       "    <tr>\n",
       "      <th>247061</th>\n",
       "      <td>derniers numéros</td>\n",
       "      <td>0.003698</td>\n",
       "    </tr>\n",
       "    <tr>\n",
       "      <th>447306</th>\n",
       "      <td>derniers numéros</td>\n",
       "      <td>0.003652</td>\n",
       "    </tr>\n",
       "    <tr>\n",
       "      <th>447353</th>\n",
       "      <td>répertoire des analyses</td>\n",
       "      <td>0.003652</td>\n",
       "    </tr>\n",
       "    <tr>\n",
       "      <th>447307</th>\n",
       "      <td>institut abonnez</td>\n",
       "      <td>0.003652</td>\n",
       "    </tr>\n",
       "  </tbody>\n",
       "</table>\n",
       "<p>882328 rows × 2 columns</p>\n",
       "</div>"
      ],
      "text/plain": [
       "                             Terme    TF-IDF\n",
       "343490          violence conjugale  0.981352\n",
       "430781                    inspq qc  0.723175\n",
       "783743                    inspq qc  0.658864\n",
       "430869           assurance qualité  0.644915\n",
       "783742  qc ca publications auteurs  0.520918\n",
       "...                            ...       ...\n",
       "247062            institut abonnez  0.003698\n",
       "247061            derniers numéros  0.003698\n",
       "447306            derniers numéros  0.003652\n",
       "447353     répertoire des analyses  0.003652\n",
       "447307            institut abonnez  0.003652\n",
       "\n",
       "[882328 rows x 2 columns]"
      ]
     },
     "execution_count": 142,
     "metadata": {},
     "output_type": "execute_result"
    }
   ],
   "source": [
    "terms_weighted"
   ]
  }
 ],
 "metadata": {
  "kernelspec": {
   "display_name": "Python 3.9.12 ('base')",
   "language": "python",
   "name": "python3"
  },
  "language_info": {
   "codemirror_mode": {
    "name": "ipython",
    "version": 3
   },
   "file_extension": ".py",
   "mimetype": "text/x-python",
   "name": "python",
   "nbconvert_exporter": "python",
   "pygments_lexer": "ipython3",
   "version": "3.9.12"
  },
  "orig_nbformat": 4,
  "vscode": {
   "interpreter": {
    "hash": "a33210152f7d2bd255fb16656f372b633dbf298ed202bbbac20290b0375cadb7"
   }
  }
 },
 "nbformat": 4,
 "nbformat_minor": 2
}
